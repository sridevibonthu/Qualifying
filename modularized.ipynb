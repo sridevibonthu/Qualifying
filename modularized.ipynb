{
  "nbformat": 4,
  "nbformat_minor": 0,
  "metadata": {
    "colab": {
      "name": "modularized.ipynb",
      "provenance": [],
      "collapsed_sections": [],
      "include_colab_link": true
    },
    "kernelspec": {
      "name": "python3",
      "display_name": "Python 3"
    },
    "accelerator": "GPU"
  },
  "cells": [
    {
      "cell_type": "markdown",
      "metadata": {
        "id": "view-in-github",
        "colab_type": "text"
      },
      "source": [
        "<a href=\"https://colab.research.google.com/github/sridevibonthu/Qualifying/blob/master/modularized.ipynb\" target=\"_parent\"><img src=\"https://colab.research.google.com/assets/colab-badge.svg\" alt=\"Open In Colab\"/></a>"
      ]
    },
    {
      "cell_type": "code",
      "metadata": {
        "id": "p-UcT-3kE_f2",
        "colab_type": "code",
        "outputId": "ebfba6c9-db8f-4ed0-c2c7-eb73efe276ec",
        "colab": {
          "base_uri": "https://localhost:8080/",
          "height": 122
        }
      },
      "source": [
        "# mount gdrive and unzip data\n",
        "from google.colab import drive\n",
        "drive.mount('/content/gdrive')"
      ],
      "execution_count": 0,
      "outputs": [
        {
          "output_type": "stream",
          "text": [
            "Go to this URL in a browser: https://accounts.google.com/o/oauth2/auth?client_id=947318989803-6bn6qk8qdgf4n4g3pfee6491hc0brc4i.apps.googleusercontent.com&redirect_uri=urn%3aietf%3awg%3aoauth%3a2.0%3aoob&response_type=code&scope=email%20https%3a%2f%2fwww.googleapis.com%2fauth%2fdocs.test%20https%3a%2f%2fwww.googleapis.com%2fauth%2fdrive%20https%3a%2f%2fwww.googleapis.com%2fauth%2fdrive.photos.readonly%20https%3a%2f%2fwww.googleapis.com%2fauth%2fpeopleapi.readonly\n",
            "\n",
            "Enter your authorization code:\n",
            "··········\n",
            "Mounted at /content/gdrive\n"
          ],
          "name": "stdout"
        }
      ]
    },
    {
      "cell_type": "code",
      "metadata": {
        "id": "j_nuxVCVFai0",
        "colab_type": "code",
        "outputId": "fc981573-0d80-4f2c-d8e9-9817912f7241",
        "colab": {
          "base_uri": "https://localhost:8080/",
          "height": 34
        }
      },
      "source": [
        "!unzip -q \"/content/gdrive/My Drive/Assignment5/hvc_data.zip\"\n",
        "# look for `hvc_annotations.csv` file and `resized` dir\n",
        "%ls "
      ],
      "execution_count": 0,
      "outputs": [
        {
          "output_type": "stream",
          "text": [
            "\u001b[0m\u001b[01;34mgdrive\u001b[0m/  hvc_annotations.csv  \u001b[01;34mresized\u001b[0m/  \u001b[01;34msample_data\u001b[0m/\n"
          ],
          "name": "stdout"
        }
      ]
    },
    {
      "cell_type": "code",
      "metadata": {
        "id": "REPbALoiFkHr",
        "colab_type": "code",
        "colab": {}
      },
      "source": [
        "%tensorflow_version 1.x\n",
        "\n",
        "import cv2\n",
        "import json\n",
        "\n",
        "import numpy as np\n",
        "import pandas as pd\n",
        "\n",
        "from functools import partial\n",
        "from pathlib import Path \n",
        "from tqdm import tqdm\n",
        "\n",
        "from google.colab.patches import cv2_imshow\n",
        "\n",
        "from sklearn.model_selection import train_test_split\n",
        "from sklearn.preprocessing import LabelEncoder, OneHotEncoder\n",
        "\n",
        "\n",
        "from keras.layers.core import Dropout\n",
        "from keras.layers.core import Flatten\n",
        "from keras.layers.core import Dense\n",
        "from keras.layers import Input\n",
        "from keras.models import Model\n",
        "from keras.optimizers import SGD\n",
        "from keras.preprocessing.image import ImageDataGenerator"
      ],
      "execution_count": 0,
      "outputs": []
    },
    {
      "cell_type": "code",
      "metadata": {
        "id": "ATWk1R96GDUJ",
        "colab_type": "code",
        "outputId": "a70e9b56-b17e-4e97-8bb1-2eb7fad629e8",
        "colab": {
          "base_uri": "https://localhost:8080/",
          "height": 54
        }
      },
      "source": [
        "!ls /content/gdrive/My\\ Drive/Assignment5/*.py"
      ],
      "execution_count": 0,
      "outputs": [
        {
          "output_type": "stream",
          "text": [
            "'/content/gdrive/My Drive/Assignment5/clr.py'\n",
            "'/content/gdrive/My Drive/Assignment5/cutout.py'\n"
          ],
          "name": "stdout"
        }
      ]
    },
    {
      "cell_type": "code",
      "metadata": {
        "id": "JgKIIbOVIAY-",
        "colab_type": "code",
        "colab": {}
      },
      "source": [
        "import sys\n",
        "sys.path.append('/content/gdrive/My Drive/Assignment5')"
      ],
      "execution_count": 0,
      "outputs": []
    },
    {
      "cell_type": "code",
      "metadata": {
        "id": "ZmYnVINvIXO-",
        "colab_type": "code",
        "colab": {}
      },
      "source": [
        "import clr\n",
        "import cutout"
      ],
      "execution_count": 0,
      "outputs": []
    },
    {
      "cell_type": "code",
      "metadata": {
        "id": "xOTsYGgHIjjO",
        "colab_type": "code",
        "outputId": "b335018e-6144-489d-d86a-41cea9240403",
        "colab": {
          "base_uri": "https://localhost:8080/",
          "height": 204
        }
      },
      "source": [
        "# load annotations\n",
        "df = pd.read_csv(\"hvc_annotations.csv\")\n",
        "del df[\"filename\"] # remove unwanted column\n",
        "df.head()"
      ],
      "execution_count": 0,
      "outputs": [
        {
          "output_type": "execute_result",
          "data": {
            "text/html": [
              "<div>\n",
              "<style scoped>\n",
              "    .dataframe tbody tr th:only-of-type {\n",
              "        vertical-align: middle;\n",
              "    }\n",
              "\n",
              "    .dataframe tbody tr th {\n",
              "        vertical-align: top;\n",
              "    }\n",
              "\n",
              "    .dataframe thead th {\n",
              "        text-align: right;\n",
              "    }\n",
              "</style>\n",
              "<table border=\"1\" class=\"dataframe\">\n",
              "  <thead>\n",
              "    <tr style=\"text-align: right;\">\n",
              "      <th></th>\n",
              "      <th>gender</th>\n",
              "      <th>imagequality</th>\n",
              "      <th>age</th>\n",
              "      <th>weight</th>\n",
              "      <th>carryingbag</th>\n",
              "      <th>footwear</th>\n",
              "      <th>emotion</th>\n",
              "      <th>bodypose</th>\n",
              "      <th>image_path</th>\n",
              "    </tr>\n",
              "  </thead>\n",
              "  <tbody>\n",
              "    <tr>\n",
              "      <th>0</th>\n",
              "      <td>male</td>\n",
              "      <td>Average</td>\n",
              "      <td>35-45</td>\n",
              "      <td>normal-healthy</td>\n",
              "      <td>Grocery/Home/Plastic Bag</td>\n",
              "      <td>Normal</td>\n",
              "      <td>Neutral</td>\n",
              "      <td>Front-Frontish</td>\n",
              "      <td>resized/1.jpg</td>\n",
              "    </tr>\n",
              "    <tr>\n",
              "      <th>1</th>\n",
              "      <td>female</td>\n",
              "      <td>Average</td>\n",
              "      <td>35-45</td>\n",
              "      <td>over-weight</td>\n",
              "      <td>None</td>\n",
              "      <td>Normal</td>\n",
              "      <td>Angry/Serious</td>\n",
              "      <td>Front-Frontish</td>\n",
              "      <td>resized/2.jpg</td>\n",
              "    </tr>\n",
              "    <tr>\n",
              "      <th>2</th>\n",
              "      <td>male</td>\n",
              "      <td>Good</td>\n",
              "      <td>45-55</td>\n",
              "      <td>normal-healthy</td>\n",
              "      <td>Grocery/Home/Plastic Bag</td>\n",
              "      <td>CantSee</td>\n",
              "      <td>Neutral</td>\n",
              "      <td>Front-Frontish</td>\n",
              "      <td>resized/3.jpg</td>\n",
              "    </tr>\n",
              "    <tr>\n",
              "      <th>3</th>\n",
              "      <td>male</td>\n",
              "      <td>Good</td>\n",
              "      <td>45-55</td>\n",
              "      <td>normal-healthy</td>\n",
              "      <td>Daily/Office/Work Bag</td>\n",
              "      <td>Normal</td>\n",
              "      <td>Neutral</td>\n",
              "      <td>Front-Frontish</td>\n",
              "      <td>resized/4.jpg</td>\n",
              "    </tr>\n",
              "    <tr>\n",
              "      <th>4</th>\n",
              "      <td>female</td>\n",
              "      <td>Good</td>\n",
              "      <td>35-45</td>\n",
              "      <td>slightly-overweight</td>\n",
              "      <td>None</td>\n",
              "      <td>CantSee</td>\n",
              "      <td>Neutral</td>\n",
              "      <td>Front-Frontish</td>\n",
              "      <td>resized/5.jpg</td>\n",
              "    </tr>\n",
              "  </tbody>\n",
              "</table>\n",
              "</div>"
            ],
            "text/plain": [
              "   gender imagequality    age  ...        emotion        bodypose     image_path\n",
              "0    male      Average  35-45  ...        Neutral  Front-Frontish  resized/1.jpg\n",
              "1  female      Average  35-45  ...  Angry/Serious  Front-Frontish  resized/2.jpg\n",
              "2    male         Good  45-55  ...        Neutral  Front-Frontish  resized/3.jpg\n",
              "3    male         Good  45-55  ...        Neutral  Front-Frontish  resized/4.jpg\n",
              "4  female         Good  35-45  ...        Neutral  Front-Frontish  resized/5.jpg\n",
              "\n",
              "[5 rows x 9 columns]"
            ]
          },
          "metadata": {
            "tags": []
          },
          "execution_count": 7
        }
      ]
    },
    {
      "cell_type": "code",
      "metadata": {
        "id": "6swqFYDuIpmU",
        "colab_type": "code",
        "outputId": "1fc9aa6a-22cb-4ca2-bef7-57f870406be8",
        "colab": {
          "base_uri": "https://localhost:8080/",
          "height": 917
        }
      },
      "source": [
        "# one hot encoding of labels\n",
        "\n",
        "one_hot_df = pd.concat([\n",
        "    df[[\"image_path\"]],\n",
        "    pd.get_dummies(df.gender, prefix=\"gender\"),\n",
        "    pd.get_dummies(df.imagequality, prefix=\"imagequality\"),\n",
        "    pd.get_dummies(df.age, prefix=\"age\"),\n",
        "    pd.get_dummies(df.weight, prefix=\"weight\"),\n",
        "    pd.get_dummies(df.carryingbag, prefix=\"carryingbag\"),\n",
        "    pd.get_dummies(df.footwear, prefix=\"footwear\"),\n",
        "    pd.get_dummies(df.emotion, prefix=\"emotion\"),\n",
        "    pd.get_dummies(df.bodypose, prefix=\"bodypose\"),\n",
        "], axis = 1)\n",
        "\n",
        "one_hot_df.head().T"
      ],
      "execution_count": 0,
      "outputs": [
        {
          "output_type": "execute_result",
          "data": {
            "text/html": [
              "<div>\n",
              "<style scoped>\n",
              "    .dataframe tbody tr th:only-of-type {\n",
              "        vertical-align: middle;\n",
              "    }\n",
              "\n",
              "    .dataframe tbody tr th {\n",
              "        vertical-align: top;\n",
              "    }\n",
              "\n",
              "    .dataframe thead th {\n",
              "        text-align: right;\n",
              "    }\n",
              "</style>\n",
              "<table border=\"1\" class=\"dataframe\">\n",
              "  <thead>\n",
              "    <tr style=\"text-align: right;\">\n",
              "      <th></th>\n",
              "      <th>0</th>\n",
              "      <th>1</th>\n",
              "      <th>2</th>\n",
              "      <th>3</th>\n",
              "      <th>4</th>\n",
              "    </tr>\n",
              "  </thead>\n",
              "  <tbody>\n",
              "    <tr>\n",
              "      <th>image_path</th>\n",
              "      <td>resized/1.jpg</td>\n",
              "      <td>resized/2.jpg</td>\n",
              "      <td>resized/3.jpg</td>\n",
              "      <td>resized/4.jpg</td>\n",
              "      <td>resized/5.jpg</td>\n",
              "    </tr>\n",
              "    <tr>\n",
              "      <th>gender_female</th>\n",
              "      <td>0</td>\n",
              "      <td>1</td>\n",
              "      <td>0</td>\n",
              "      <td>0</td>\n",
              "      <td>1</td>\n",
              "    </tr>\n",
              "    <tr>\n",
              "      <th>gender_male</th>\n",
              "      <td>1</td>\n",
              "      <td>0</td>\n",
              "      <td>1</td>\n",
              "      <td>1</td>\n",
              "      <td>0</td>\n",
              "    </tr>\n",
              "    <tr>\n",
              "      <th>imagequality_Average</th>\n",
              "      <td>1</td>\n",
              "      <td>1</td>\n",
              "      <td>0</td>\n",
              "      <td>0</td>\n",
              "      <td>0</td>\n",
              "    </tr>\n",
              "    <tr>\n",
              "      <th>imagequality_Bad</th>\n",
              "      <td>0</td>\n",
              "      <td>0</td>\n",
              "      <td>0</td>\n",
              "      <td>0</td>\n",
              "      <td>0</td>\n",
              "    </tr>\n",
              "    <tr>\n",
              "      <th>imagequality_Good</th>\n",
              "      <td>0</td>\n",
              "      <td>0</td>\n",
              "      <td>1</td>\n",
              "      <td>1</td>\n",
              "      <td>1</td>\n",
              "    </tr>\n",
              "    <tr>\n",
              "      <th>age_15-25</th>\n",
              "      <td>0</td>\n",
              "      <td>0</td>\n",
              "      <td>0</td>\n",
              "      <td>0</td>\n",
              "      <td>0</td>\n",
              "    </tr>\n",
              "    <tr>\n",
              "      <th>age_25-35</th>\n",
              "      <td>0</td>\n",
              "      <td>0</td>\n",
              "      <td>0</td>\n",
              "      <td>0</td>\n",
              "      <td>0</td>\n",
              "    </tr>\n",
              "    <tr>\n",
              "      <th>age_35-45</th>\n",
              "      <td>1</td>\n",
              "      <td>1</td>\n",
              "      <td>0</td>\n",
              "      <td>0</td>\n",
              "      <td>1</td>\n",
              "    </tr>\n",
              "    <tr>\n",
              "      <th>age_45-55</th>\n",
              "      <td>0</td>\n",
              "      <td>0</td>\n",
              "      <td>1</td>\n",
              "      <td>1</td>\n",
              "      <td>0</td>\n",
              "    </tr>\n",
              "    <tr>\n",
              "      <th>age_55+</th>\n",
              "      <td>0</td>\n",
              "      <td>0</td>\n",
              "      <td>0</td>\n",
              "      <td>0</td>\n",
              "      <td>0</td>\n",
              "    </tr>\n",
              "    <tr>\n",
              "      <th>weight_normal-healthy</th>\n",
              "      <td>1</td>\n",
              "      <td>0</td>\n",
              "      <td>1</td>\n",
              "      <td>1</td>\n",
              "      <td>0</td>\n",
              "    </tr>\n",
              "    <tr>\n",
              "      <th>weight_over-weight</th>\n",
              "      <td>0</td>\n",
              "      <td>1</td>\n",
              "      <td>0</td>\n",
              "      <td>0</td>\n",
              "      <td>0</td>\n",
              "    </tr>\n",
              "    <tr>\n",
              "      <th>weight_slightly-overweight</th>\n",
              "      <td>0</td>\n",
              "      <td>0</td>\n",
              "      <td>0</td>\n",
              "      <td>0</td>\n",
              "      <td>1</td>\n",
              "    </tr>\n",
              "    <tr>\n",
              "      <th>weight_underweight</th>\n",
              "      <td>0</td>\n",
              "      <td>0</td>\n",
              "      <td>0</td>\n",
              "      <td>0</td>\n",
              "      <td>0</td>\n",
              "    </tr>\n",
              "    <tr>\n",
              "      <th>carryingbag_Daily/Office/Work Bag</th>\n",
              "      <td>0</td>\n",
              "      <td>0</td>\n",
              "      <td>0</td>\n",
              "      <td>1</td>\n",
              "      <td>0</td>\n",
              "    </tr>\n",
              "    <tr>\n",
              "      <th>carryingbag_Grocery/Home/Plastic Bag</th>\n",
              "      <td>1</td>\n",
              "      <td>0</td>\n",
              "      <td>1</td>\n",
              "      <td>0</td>\n",
              "      <td>0</td>\n",
              "    </tr>\n",
              "    <tr>\n",
              "      <th>carryingbag_None</th>\n",
              "      <td>0</td>\n",
              "      <td>1</td>\n",
              "      <td>0</td>\n",
              "      <td>0</td>\n",
              "      <td>1</td>\n",
              "    </tr>\n",
              "    <tr>\n",
              "      <th>footwear_CantSee</th>\n",
              "      <td>0</td>\n",
              "      <td>0</td>\n",
              "      <td>1</td>\n",
              "      <td>0</td>\n",
              "      <td>1</td>\n",
              "    </tr>\n",
              "    <tr>\n",
              "      <th>footwear_Fancy</th>\n",
              "      <td>0</td>\n",
              "      <td>0</td>\n",
              "      <td>0</td>\n",
              "      <td>0</td>\n",
              "      <td>0</td>\n",
              "    </tr>\n",
              "    <tr>\n",
              "      <th>footwear_Normal</th>\n",
              "      <td>1</td>\n",
              "      <td>1</td>\n",
              "      <td>0</td>\n",
              "      <td>1</td>\n",
              "      <td>0</td>\n",
              "    </tr>\n",
              "    <tr>\n",
              "      <th>emotion_Angry/Serious</th>\n",
              "      <td>0</td>\n",
              "      <td>1</td>\n",
              "      <td>0</td>\n",
              "      <td>0</td>\n",
              "      <td>0</td>\n",
              "    </tr>\n",
              "    <tr>\n",
              "      <th>emotion_Happy</th>\n",
              "      <td>0</td>\n",
              "      <td>0</td>\n",
              "      <td>0</td>\n",
              "      <td>0</td>\n",
              "      <td>0</td>\n",
              "    </tr>\n",
              "    <tr>\n",
              "      <th>emotion_Neutral</th>\n",
              "      <td>1</td>\n",
              "      <td>0</td>\n",
              "      <td>1</td>\n",
              "      <td>1</td>\n",
              "      <td>1</td>\n",
              "    </tr>\n",
              "    <tr>\n",
              "      <th>emotion_Sad</th>\n",
              "      <td>0</td>\n",
              "      <td>0</td>\n",
              "      <td>0</td>\n",
              "      <td>0</td>\n",
              "      <td>0</td>\n",
              "    </tr>\n",
              "    <tr>\n",
              "      <th>bodypose_Back</th>\n",
              "      <td>0</td>\n",
              "      <td>0</td>\n",
              "      <td>0</td>\n",
              "      <td>0</td>\n",
              "      <td>0</td>\n",
              "    </tr>\n",
              "    <tr>\n",
              "      <th>bodypose_Front-Frontish</th>\n",
              "      <td>1</td>\n",
              "      <td>1</td>\n",
              "      <td>1</td>\n",
              "      <td>1</td>\n",
              "      <td>1</td>\n",
              "    </tr>\n",
              "    <tr>\n",
              "      <th>bodypose_Side</th>\n",
              "      <td>0</td>\n",
              "      <td>0</td>\n",
              "      <td>0</td>\n",
              "      <td>0</td>\n",
              "      <td>0</td>\n",
              "    </tr>\n",
              "  </tbody>\n",
              "</table>\n",
              "</div>"
            ],
            "text/plain": [
              "                                                  0  ...              4\n",
              "image_path                            resized/1.jpg  ...  resized/5.jpg\n",
              "gender_female                                     0  ...              1\n",
              "gender_male                                       1  ...              0\n",
              "imagequality_Average                              1  ...              0\n",
              "imagequality_Bad                                  0  ...              0\n",
              "imagequality_Good                                 0  ...              1\n",
              "age_15-25                                         0  ...              0\n",
              "age_25-35                                         0  ...              0\n",
              "age_35-45                                         1  ...              1\n",
              "age_45-55                                         0  ...              0\n",
              "age_55+                                           0  ...              0\n",
              "weight_normal-healthy                             1  ...              0\n",
              "weight_over-weight                                0  ...              0\n",
              "weight_slightly-overweight                        0  ...              1\n",
              "weight_underweight                                0  ...              0\n",
              "carryingbag_Daily/Office/Work Bag                 0  ...              0\n",
              "carryingbag_Grocery/Home/Plastic Bag              1  ...              0\n",
              "carryingbag_None                                  0  ...              1\n",
              "footwear_CantSee                                  0  ...              1\n",
              "footwear_Fancy                                    0  ...              0\n",
              "footwear_Normal                                   1  ...              0\n",
              "emotion_Angry/Serious                             0  ...              0\n",
              "emotion_Happy                                     0  ...              0\n",
              "emotion_Neutral                                   1  ...              1\n",
              "emotion_Sad                                       0  ...              0\n",
              "bodypose_Back                                     0  ...              0\n",
              "bodypose_Front-Frontish                           1  ...              1\n",
              "bodypose_Side                                     0  ...              0\n",
              "\n",
              "[28 rows x 5 columns]"
            ]
          },
          "metadata": {
            "tags": []
          },
          "execution_count": 8
        }
      ]
    },
    {
      "cell_type": "code",
      "metadata": {
        "id": "20WNxzccIwQ4",
        "colab_type": "code",
        "colab": {}
      },
      "source": [
        "import keras\n",
        "import numpy as np\n",
        "\n",
        "# Label columns per attribute\n",
        "_gender_cols_ = [col for col in one_hot_df.columns if col.startswith(\"gender\")]\n",
        "_imagequality_cols_ = [col for col in one_hot_df.columns if col.startswith(\"imagequality\")]\n",
        "_age_cols_ = [col for col in one_hot_df.columns if col.startswith(\"age\")]\n",
        "_weight_cols_ = [col for col in one_hot_df.columns if col.startswith(\"weight\")]\n",
        "_carryingbag_cols_ = [col for col in one_hot_df.columns if col.startswith(\"carryingbag\")]\n",
        "_footwear_cols_ = [col for col in one_hot_df.columns if col.startswith(\"footwear\")]\n",
        "_emotion_cols_ = [col for col in one_hot_df.columns if col.startswith(\"emotion\")]\n",
        "_bodypose_cols_ = [col for col in one_hot_df.columns if col.startswith(\"bodypose\")]\n",
        "\n",
        "class PersonDataGenerator(keras.utils.Sequence):\n",
        "    \"\"\"Ground truth data generator\"\"\"\n",
        "\n",
        "    \n",
        "    def __init__(self, df, batch_size=32, shuffle=True, augmentation=None):\n",
        "        self.df = df\n",
        "        self.batch_size=batch_size\n",
        "        self.shuffle = shuffle\n",
        "        self.augmentation = augmentation\n",
        "        self.on_epoch_end()\n",
        "\n",
        "    def __len__(self):\n",
        "        return int(np.floor(self.df.shape[0] / self.batch_size))\n",
        "\n",
        "    def __getitem__(self, index):\n",
        "        \"\"\"fetch batched images and targets\"\"\"\n",
        "        batch_slice = slice(index * self.batch_size, (index + 1) * self.batch_size)\n",
        "        items = self.df.iloc[batch_slice]\n",
        "        if self.augmentation is None:\n",
        "          image=np.stack([cv2.imread(item[\"image_path\"]) for _, item in items.iterrows()])\n",
        "          target = {\n",
        "            \"gender_output\": items[_gender_cols_].values,\n",
        "            \"image_quality_output\": items[_imagequality_cols_].values,\n",
        "            \"age_output\": items[_age_cols_].values,\n",
        "            \"weight_output\": items[_weight_cols_].values,\n",
        "            \"bag_output\": items[_carryingbag_cols_].values,\n",
        "            \"pose_output\": items[_bodypose_cols_].values,\n",
        "            \"footwear_output\": items[_footwear_cols_].values,\n",
        "            \"emotion_output\": items[_emotion_cols_].values,        }\n",
        "        else: \n",
        "          #print(self.augmentation(image=cv2.imread(items[\"image_path\"])))\n",
        "          image= np.stack([self.augmentation(image=cv2.imread(item[\"image_path\"])) for _,item in items.iterrows()])\n",
        "          #image = np.stack(self.augmentation([cv2.imread(item[\"image_path\"]) for _, item in items.iterrows()]))  \n",
        "          target = {\n",
        "            \"gender_output\": items[_gender_cols_].values,\n",
        "            \"image_quality_output\": items[_imagequality_cols_].values,\n",
        "            \"age_output\": items[_age_cols_].values,\n",
        "            \"weight_output\": items[_weight_cols_].values,\n",
        "            \"bag_output\": items[_carryingbag_cols_].values,\n",
        "            \"pose_output\": items[_bodypose_cols_].values,\n",
        "            \"footwear_output\": items[_footwear_cols_].values,\n",
        "            \"emotion_output\": items[_emotion_cols_].values,\n",
        "        }\n",
        "        return image, target  #X, y\n",
        "\n",
        "    def on_epoch_end(self):\n",
        "        \"\"\"Updates indexes after each epoch\"\"\"\n",
        "        if self.shuffle == True:\n",
        "            self.df = self.df.sample(frac=1).reset_index(drop=True)"
      ],
      "execution_count": 0,
      "outputs": []
    },
    {
      "cell_type": "code",
      "metadata": {
        "id": "ByZe5t7rdmyu",
        "colab_type": "code",
        "outputId": "59f4e424-add1-40a2-cd06-478ef692ea3b",
        "colab": {
          "base_uri": "https://localhost:8080/",
          "height": 34
        }
      },
      "source": [
        "from sklearn.model_selection import train_test_split\n",
        "train_df, val_df = train_test_split(one_hot_df, test_size=0.15)\n",
        "train_df.shape, val_df.shape"
      ],
      "execution_count": 0,
      "outputs": [
        {
          "output_type": "execute_result",
          "data": {
            "text/plain": [
              "((11537, 28), (2036, 28))"
            ]
          },
          "metadata": {
            "tags": []
          },
          "execution_count": 11
        }
      ]
    },
    {
      "cell_type": "code",
      "metadata": {
        "id": "OrxyNDu1fyHk",
        "colab_type": "code",
        "colab": {}
      },
      "source": [
        "from albumentations import (\n",
        "    Compose, HorizontalFlip, CLAHE, HueSaturationValue,\n",
        "    RandomBrightness, RandomContrast, RandomGamma,\n",
        "    ToFloat, ShiftScaleRotate\n",
        ")\n",
        "\n",
        "AUGMENTATIONS_TRAIN = Compose([\n",
        "    HorizontalFlip(p=0.5),\n",
        "    #RandomContrast(limit=0.2, p=0.5),\n",
        "    #RandomGamma(gamma_limit=(80, 120), p=0.5),\n",
        "    #RandomBrightness(limit=0.2, p=0.5),\n",
        "    #HueSaturationValue(hue_shift_limit=5, sat_shift_limit=20,\n",
        "                      # val_shift_limit=10, p=.9),\n",
        "    # CLAHE(p=1.0, clip_limit=2.0),\n",
        "    \n",
        "])\n",
        "\n",
        "AUGMENTATIONS_TEST = Compose([\n",
        "    # CLAHE(p=1.0, clip_limit=2.0),\n",
        "    ToFloat(max_value=255)\n",
        "])"
      ],
      "execution_count": 0,
      "outputs": []
    },
    {
      "cell_type": "code",
      "metadata": {
        "id": "C9wEq2avqhG_",
        "colab_type": "code",
        "outputId": "0f92d1c6-373a-4ce3-c749-1f0b6eb4253f",
        "colab": {
          "base_uri": "https://localhost:8080/",
          "height": 35
        }
      },
      "source": [
        "print(train_df['image_path'][0])"
      ],
      "execution_count": 0,
      "outputs": [
        {
          "output_type": "stream",
          "text": [
            "resized/1.jpg\n"
          ],
          "name": "stdout"
        }
      ]
    },
    {
      "cell_type": "code",
      "metadata": {
        "id": "-agq3nZIrJ37",
        "colab_type": "code",
        "outputId": "9803aea6-03fe-492e-8d59-b940875f8453",
        "colab": {
          "base_uri": "https://localhost:8080/",
          "height": 171
        }
      },
      "source": [
        "AUGMENTATIONS_TRAIN([cv2.imread(train_df['image_path'][0])])"
      ],
      "execution_count": 0,
      "outputs": [
        {
          "output_type": "error",
          "ename": "TypeError",
          "evalue": "ignored",
          "traceback": [
            "\u001b[0;31m---------------------------------------------------------------------------\u001b[0m",
            "\u001b[0;31mTypeError\u001b[0m                                 Traceback (most recent call last)",
            "\u001b[0;32m<ipython-input-91-0473fad74ca3>\u001b[0m in \u001b[0;36m<module>\u001b[0;34m()\u001b[0m\n\u001b[0;32m----> 1\u001b[0;31m \u001b[0mAUGMENTATIONS_TRAIN\u001b[0m\u001b[0;34m(\u001b[0m\u001b[0;34m[\u001b[0m\u001b[0mcv2\u001b[0m\u001b[0;34m.\u001b[0m\u001b[0mimread\u001b[0m\u001b[0;34m(\u001b[0m\u001b[0mtrain_df\u001b[0m\u001b[0;34m[\u001b[0m\u001b[0;34m'image_path'\u001b[0m\u001b[0;34m]\u001b[0m\u001b[0;34m[\u001b[0m\u001b[0;36m0\u001b[0m\u001b[0;34m]\u001b[0m\u001b[0;34m)\u001b[0m\u001b[0;34m]\u001b[0m\u001b[0;34m)\u001b[0m\u001b[0;34m\u001b[0m\u001b[0;34m\u001b[0m\u001b[0m\n\u001b[0m",
            "\u001b[0;31mTypeError\u001b[0m: __call__() takes 1 positional argument but 2 were given"
          ]
        }
      ]
    },
    {
      "cell_type": "code",
      "metadata": {
        "id": "e_pTTXWAdp3S",
        "colab_type": "code",
        "colab": {}
      },
      "source": [
        "pixel_level=False\n",
        "# create train and validation data generators\n",
        "train_gen = PersonDataGenerator(train_df, batch_size=32)\n",
        "valid_gen = PersonDataGenerator(val_df, batch_size=32, shuffle=False)"
      ],
      "execution_count": 0,
      "outputs": []
    },
    {
      "cell_type": "code",
      "metadata": {
        "id": "9BMWyWTnd_3y",
        "colab_type": "code",
        "outputId": "2fd18952-78e5-46b2-c815-fcafe92a1c73",
        "colab": {
          "base_uri": "https://localhost:8080/",
          "height": 153
        }
      },
      "source": [
        "images, targets = next(iter(train_gen))\n",
        "num_units = { k.split(\"_output\")[0]:v.shape[1] for k, v in targets.items()}\n",
        "num_units"
      ],
      "execution_count": 0,
      "outputs": [
        {
          "output_type": "execute_result",
          "data": {
            "text/plain": [
              "{'age': 5,\n",
              " 'bag': 3,\n",
              " 'emotion': 4,\n",
              " 'footwear': 3,\n",
              " 'gender': 2,\n",
              " 'image_quality': 3,\n",
              " 'pose': 3,\n",
              " 'weight': 4}"
            ]
          },
          "metadata": {
            "tags": []
          },
          "execution_count": 26
        }
      ]
    },
    {
      "cell_type": "code",
      "metadata": {
        "id": "s1zXgEEckGgp",
        "colab_type": "code",
        "outputId": "cefc04e2-362f-4fd4-f81a-8a19f9d06e8c",
        "colab": {
          "base_uri": "https://localhost:8080/",
          "height": 71
        }
      },
      "source": [
        "from keras.applications import ResNet50\n",
        "backbone = ResNet50(\n",
        "    weights=\"imagenet\", \n",
        "    include_top=False, \n",
        "    input_tensor=Input(shape=(224, 224, 3))\n",
        ")"
      ],
      "execution_count": 0,
      "outputs": [
        {
          "output_type": "stream",
          "text": [
            "/usr/local/lib/python3.6/dist-packages/keras_applications/resnet50.py:265: UserWarning: The output shape of `ResNet50(include_top=False)` has been changed since Keras 2.2.0.\n",
            "  warnings.warn('The output shape of `ResNet50(include_top=False)` '\n"
          ],
          "name": "stderr"
        }
      ]
    },
    {
      "cell_type": "code",
      "metadata": {
        "id": "EkrbEZKWkPHC",
        "colab_type": "code",
        "colab": {}
      },
      "source": [
        "neck = backbone.output\n",
        "neck = Flatten(name=\"flatten\")(neck)\n",
        "neck = Dense(512, activation=\"relu\")(neck)"
      ],
      "execution_count": 0,
      "outputs": []
    },
    {
      "cell_type": "code",
      "metadata": {
        "id": "9TdIq5gPkTHW",
        "colab_type": "code",
        "colab": {}
      },
      "source": [
        "\n",
        "\n",
        "def build_tower(in_layer):\n",
        "    neck = Dropout(0.2)(in_layer)\n",
        "    neck = Dense(128, activation=\"relu\")(neck)\n",
        "    neck = Dropout(0.3)(in_layer)\n",
        "    neck = Dense(128, activation=\"relu\")(neck)\n",
        "    return neck\n",
        "\n",
        "\n",
        "def build_head(name, in_layer):\n",
        "    return Dense(\n",
        "        num_units[name], activation=\"softmax\", name=f\"{name}_output\"\n",
        "    )(in_layer)\n",
        "\n",
        "# heads\n",
        "gender = build_head(\"gender\", build_tower(neck))\n",
        "image_quality = build_head(\"image_quality\", build_tower(neck))\n",
        "age = build_head(\"age\", build_tower(neck))\n",
        "weight = build_head(\"weight\", build_tower(neck))\n",
        "bag = build_head(\"bag\", build_tower(neck))\n",
        "footwear = build_head(\"footwear\", build_tower(neck))\n",
        "emotion = build_head(\"emotion\", build_tower(neck))\n",
        "pose = build_head(\"pose\", build_tower(neck))\n",
        "\n",
        "\n",
        "model = Model(\n",
        "    inputs=backbone.input, \n",
        "    outputs=[gender, image_quality, age, weight, bag, footwear, pose, emotion]\n",
        ")"
      ],
      "execution_count": 0,
      "outputs": []
    },
    {
      "cell_type": "code",
      "metadata": {
        "id": "TKUevaKIkUb3",
        "colab_type": "code",
        "colab": {}
      },
      "source": [
        "# freeze backbone\n",
        "for layer in backbone.layers:\n",
        "\tlayer.trainable = False"
      ],
      "execution_count": 0,
      "outputs": []
    },
    {
      "cell_type": "code",
      "metadata": {
        "id": "LY21Qay8kXk4",
        "colab_type": "code",
        "colab": {}
      },
      "source": [
        "# Prepare model model saving directory.\n",
        "import os\n",
        "model_type = \"ResNet50\"\n",
        "save_dir = os.path.join(os.getcwd(), 'saved_models')\n",
        "model_name = 'personattributes_%s_model.{epoch:03d}.h5' % model_type\n",
        "if not os.path.isdir(save_dir):\n",
        "    os.makedirs(save_dir)\n",
        "filepath = os.path.join(save_dir, model_name)"
      ],
      "execution_count": 0,
      "outputs": []
    },
    {
      "cell_type": "code",
      "metadata": {
        "id": "mYN6H6DXkgWF",
        "colab_type": "code",
        "colab": {}
      },
      "source": [
        "# Prepare callbacks for model saving and for learning rate adjustment.\n",
        "from clr import CyclicLR\n",
        "from keras.callbacks import ModelCheckpoint\n",
        "checkpoint = ModelCheckpoint(filepath=filepath,\n",
        "                             monitor='val_acc',\n",
        "                             verbose=1,\n",
        "                             save_best_only=True)\n",
        "\n",
        "clr1 = CyclicLR(base_lr=0.001, max_lr=0.006,\n",
        "                        step_size=2000., mode='exp_range', gamma=0.99994)\n",
        "\n",
        "\n",
        "\n",
        "callbacks = [checkpoint, clr1]"
      ],
      "execution_count": 0,
      "outputs": []
    },
    {
      "cell_type": "code",
      "metadata": {
        "id": "LpiCTdDfkwN4",
        "colab_type": "code",
        "colab": {}
      },
      "source": [
        "# losses = {\n",
        "# \t\"gender_output\": \"binary_crossentropy\",\n",
        "# \t\"image_quality_output\": \"categorical_crossentropy\",\n",
        "# \t\"age_output\": \"categorical_crossentropy\",\n",
        "# \t\"weight_output\": \"categorical_crossentropy\",\n",
        "\n",
        "# }\n",
        "# loss_weights = {\"gender_output\": 1.0, \"image_quality_output\": 1.0, \"age_output\": 1.0}\n",
        "\n",
        "\n",
        "opt = SGD(lr=0.1, momentum=0.9)\n",
        "model.compile(\n",
        "    optimizer=opt,\n",
        "    loss=\"categorical_crossentropy\", \n",
        "    # loss_weights=loss_weights, \n",
        "    metrics=[\"accuracy\"]\n",
        ")"
      ],
      "execution_count": 0,
      "outputs": []
    },
    {
      "cell_type": "code",
      "metadata": {
        "id": "f-TDPjkAk2XG",
        "colab_type": "code",
        "outputId": "31bfa256-c86f-4fbd-a955-04f261c8e5d8",
        "colab": {
          "base_uri": "https://localhost:8080/",
          "height": 683
        }
      },
      "source": [
        "\n",
        "\n",
        "model.fit_generator(\n",
        "    generator=train_gen,\n",
        "    validation_data=valid_gen,\n",
        "    use_multiprocessing=True,\n",
        "    workers=6, \n",
        "    epochs=15,\n",
        "    verbose=1,\n",
        "    callbacks=callbacks\n",
        ")"
      ],
      "execution_count": 0,
      "outputs": [
        {
          "output_type": "stream",
          "text": [
            "Epoch 1/15\n",
            "359/360 [============================>.] - ETA: 0s - loss: 7.7192 - gender_output_loss: 0.5718 - image_quality_output_loss: 0.9989 - age_output_loss: 1.4821 - weight_output_loss: 1.0411 - bag_output_loss: 0.9447 - footwear_output_loss: 0.9217 - pose_output_loss: 0.7800 - emotion_output_loss: 0.9788 - gender_output_acc: 0.7030 - image_quality_output_acc: 0.5301 - age_output_acc: 0.3682 - weight_output_acc: 0.6204 - bag_output_acc: 0.5652 - footwear_output_acc: 0.5931 - pose_output_acc: 0.6772 - emotion_output_acc: 0.6963Epoch 1/15\n",
            "360/360 [==============================] - 113s 313ms/step - loss: 7.7192 - gender_output_loss: 0.5717 - image_quality_output_loss: 0.9984 - age_output_loss: 1.4825 - weight_output_loss: 1.0414 - bag_output_loss: 0.9450 - footwear_output_loss: 0.9213 - pose_output_loss: 0.7802 - emotion_output_loss: 0.9787 - gender_output_acc: 0.7031 - image_quality_output_acc: 0.5305 - age_output_acc: 0.3679 - weight_output_acc: 0.6202 - bag_output_acc: 0.5651 - footwear_output_acc: 0.5932 - pose_output_acc: 0.6772 - emotion_output_acc: 0.6964 - val_loss: 7.2069 - val_gender_output_loss: 0.4701 - val_image_quality_output_loss: 0.9726 - val_age_output_loss: 1.4369 - val_weight_output_loss: 1.0142 - val_bag_output_loss: 0.8833 - val_footwear_output_loss: 0.9160 - val_pose_output_loss: 0.6263 - val_emotion_output_loss: 0.8876 - val_gender_output_acc: 0.7803 - val_image_quality_output_acc: 0.5203 - val_age_output_acc: 0.3800 - val_weight_output_acc: 0.6270 - val_bag_output_acc: 0.5992 - val_footwear_output_acc: 0.5833 - val_pose_output_acc: 0.7713 - val_emotion_output_acc: 0.7192\n",
            "Epoch 2/15\n"
          ],
          "name": "stdout"
        },
        {
          "output_type": "stream",
          "text": [
            "/usr/local/lib/python3.6/dist-packages/keras/callbacks.py:707: RuntimeWarning: Can save best model only with val_acc available, skipping.\n",
            "  'skipping.' % (self.monitor), RuntimeWarning)\n"
          ],
          "name": "stderr"
        },
        {
          "output_type": "stream",
          "text": [
            "360/360 [==============================] - 96s 267ms/step - loss: 6.7128 - gender_output_loss: 0.3727 - image_quality_output_loss: 0.9241 - age_output_loss: 1.3923 - weight_output_loss: 0.9760 - bag_output_loss: 0.8591 - footwear_output_loss: 0.7843 - pose_output_loss: 0.5180 - emotion_output_loss: 0.8862 - gender_output_acc: 0.8340 - image_quality_output_acc: 0.5580 - age_output_acc: 0.3913 - weight_output_acc: 0.6347 - bag_output_acc: 0.6161 - footwear_output_acc: 0.6572 - pose_output_acc: 0.7995 - emotion_output_acc: 0.7090 - val_loss: 6.9182 - val_gender_output_loss: 0.4534 - val_image_quality_output_loss: 0.9695 - val_age_output_loss: 1.4123 - val_weight_output_loss: 1.0124 - val_bag_output_loss: 0.8278 - val_footwear_output_loss: 0.8269 - val_pose_output_loss: 0.5652 - val_emotion_output_loss: 0.8507 - val_gender_output_acc: 0.7902 - val_image_quality_output_acc: 0.5392 - val_age_output_acc: 0.3978 - val_weight_output_acc: 0.6270 - val_bag_output_acc: 0.6285 - val_footwear_output_acc: 0.6240 - val_pose_output_acc: 0.7723 - val_emotion_output_acc: 0.7212\n",
            "360/360 [==============================] - 113s 313ms/step - loss: 7.7192 - gender_output_loss: 0.5717 - image_quality_output_loss: 0.9984 - age_output_loss: 1.4825 - weight_output_loss: 1.0414 - bag_output_loss: 0.9450 - footwear_output_loss: 0.9213 - pose_output_loss: 0.7802 - emotion_output_loss: 0.9787 - gender_output_acc: 0.7031 - image_quality_output_acc: 0.5305 - age_output_acc: 0.3679 - weight_output_acc: 0.6202 - bag_output_acc: 0.5651 - footwear_output_acc: 0.5932 - pose_output_acc: 0.6772 - emotion_output_acc: 0.6964 - val_loss: 7.2069 - val_gender_output_loss: 0.4701 - val_image_quality_output_loss: 0.9726 - val_age_output_loss: 1.4369 - val_weight_output_loss: 1.0142 - val_bag_output_loss: 0.8833 - val_footwear_output_loss: 0.9160 - val_pose_output_loss: 0.6263 - val_emotion_output_loss: 0.8876 - val_gender_output_acc: 0.7803 - val_image_quality_output_acc: 0.5203 - val_age_output_acc: 0.3800 - val_weight_output_acc: 0.6270 - val_bag_output_acc: 0.5992 - val_footwear_output_acc: 0.5833 - val_pose_output_acc: 0.7713 - val_emotion_output_acc: 0.7192\n",
            "Epoch 3/15\n",
            "359/360 [============================>.] - ETA: 0s - loss: 6.2849 - gender_output_loss: 0.2928 - image_quality_output_loss: 0.8878 - age_output_loss: 1.3422 - weight_output_loss: 0.9416 - bag_output_loss: 0.8005 - footwear_output_loss: 0.7328 - pose_output_loss: 0.4209 - emotion_output_loss: 0.8663 - gender_output_acc: 0.8800 - image_quality_output_acc: 0.5782 - age_output_acc: 0.4045 - weight_output_acc: 0.6388 - bag_output_acc: 0.6562 - footwear_output_acc: 0.6842 - pose_output_acc: 0.8420 - emotion_output_acc: 0.7089\b\b\b\b\b\b\b\b\b\b\b\b\b\b\b\b\b\b\b\b\b\b\b\b\b\b\b\b\b\b\b\b\b\b\b\b\b\b\b\b\b\b\b\b\b\b\b\b\b\b\b\b\b\b\b\b\b\b\b\b\b\b\b\b\b\b\b\b\b\b\b\b\b\b\b\b\b\b\b\b\b\b\b\b\b\b\b\b\b\b\b\b\b\b\b\b\b\b\b\b\b\b\b\b\b\b\b\b\b\b\b\b\b\b\b\b\b\b\b\b\b\b\b\b\b\b\b\b\b\b\b\b\b\b\b\b\b\b\b\b\b\b\b\b\b\b\b\b\b\b\b\b\b\b\b\b\b\b\b\b\b\b\b\b\b\b\b\b\b\b\b\b\b\b\b\b\b\b\b\b\b\b\b\b\b\b\b\b\b\b\b\b\b\b\b\b\b\b\b\b\b\b\b\b\b\b\b\b\b\b\b\b\b\b\b\b\b\b\b\b\b\b\b\b\b\b\b\b\b\b\b\b\b\b\b\b\b\b\b\b\b\b\b\b\b\b\b\b\b\b\b\b\b\b\b\b\b\b\b\b\b\b\b\b\b\b\b\b\b\b\b\b\b\b\b\b\b\b\b\b\b\b\b\b\b\b\b\b\b\b\b\b\b\b\b\b\b\b\b\b\b\b\b\b\b\b\b\b\b\b\b\b\b\b\b\b\b\b\b\b\b\b\b\b\b\b\b\b\b\b\b\b\b\b\b\b\b\b\b\b\b\b\b\b\b\b\b\b\b\b\b\b\b\b\b\b\b\b\b\b\b\b\b\b\b\b\b\b\b\b\b\b\b\b\b\b\b\b\b\b\b\b\b\b\b\b\b\b\b\b\b\b\b\b\b\b\b\b\b\b\b\b\b\b\b\b\b\b\b\b\b\b\b\b\b\b\b\b\b\b\b\b\b\b\b\b\b\b\b\b\b\b\b\b\b\b\b\b\b\b\b\b\b\b\b\b\b\b\b\b\b\b\b\b\b\b\b\b\b\b\b\b\b\b\b\b\b\b\b\b\b\b\b\b\b\b\b\b\b\b\b\b\b\b\b\b\b\b\b\b\b\b\b\b\b\b\b\b\b\b\b\b\b\b\b\b\b\b\b\b\b\b\b\b\b\b\b\b\b\b\b\b\b\b\bEpoch 3/15\n",
            "360/360 [==============================] - 96s 268ms/step - loss: 6.2861 - gender_output_loss: 0.2926 - image_quality_output_loss: 0.8877 - age_output_loss: 1.3420 - weight_output_loss: 0.9432 - bag_output_loss: 0.8007 - footwear_output_loss: 0.7330 - pose_output_loss: 0.4203 - emotion_output_loss: 0.8665 - gender_output_acc: 0.8800 - image_quality_output_acc: 0.5781 - age_output_acc: 0.4046 - weight_output_acc: 0.6382 - bag_output_acc: 0.6561 - footwear_output_acc: 0.6840 - pose_output_acc: 0.8423 - emotion_output_acc: 0.7088 - val_loss: 7.1926 - val_gender_output_loss: 0.4613 - val_image_quality_output_loss: 1.1048 - val_age_output_loss: 1.4347 - val_weight_output_loss: 1.0100 - val_bag_output_loss: 0.8276 - val_footwear_output_loss: 0.7608 - val_pose_output_loss: 0.7332 - val_emotion_output_loss: 0.8599 - val_gender_output_acc: 0.7961 - val_image_quality_output_acc: 0.4608 - val_age_output_acc: 0.4013 - val_weight_output_acc: 0.6319 - val_bag_output_acc: 0.6285 - val_footwear_output_acc: 0.6677 - val_pose_output_acc: 0.7183 - val_emotion_output_acc: 0.7207\n",
            "Epoch 4/15\n",
            "360/360 [==============================] - 96s 267ms/step - loss: 5.9422 - gender_output_loss: 0.2511 - image_quality_output_loss: 0.8613 - age_output_loss: 1.2842 - weight_output_loss: 0.9044 - bag_output_loss: 0.7521 - footwear_output_loss: 0.6954 - pose_output_loss: 0.3522 - emotion_output_loss: 0.8415 - gender_output_acc: 0.9008 - image_quality_output_acc: 0.5939 - age_output_acc: 0.4276 - weight_output_acc: 0.6492 - bag_output_acc: 0.6814 - footwear_output_acc: 0.6975 - pose_output_acc: 0.8746 - emotion_output_acc: 0.7080 - val_loss: 6.8109 - val_gender_output_loss: 0.5212 - val_image_quality_output_loss: 0.9215 - val_age_output_loss: 1.3684 - val_weight_output_loss: 0.9698 - val_bag_output_loss: 0.8315 - val_footwear_output_loss: 0.8221 - val_pose_output_loss: 0.5021 - val_emotion_output_loss: 0.8743 - val_gender_output_acc: 0.7589 - val_image_quality_output_acc: 0.5709 - val_age_output_acc: 0.4082 - val_weight_output_acc: 0.6354 - val_bag_output_acc: 0.6300 - val_footwear_output_acc: 0.6310 - val_pose_output_acc: 0.8036 - val_emotion_output_acc: 0.7227\n",
            "Epoch 5/15\n",
            "360/360 [==============================] - 96s 267ms/step - loss: 5.6112 - gender_output_loss: 0.2191 - image_quality_output_loss: 0.8304 - age_output_loss: 1.2282 - weight_output_loss: 0.8454 - bag_output_loss: 0.7065 - footwear_output_loss: 0.6584 - pose_output_loss: 0.3050 - emotion_output_loss: 0.8181 - gender_output_acc: 0.9141 - image_quality_output_acc: 0.6102 - age_output_acc: 0.4534 - weight_output_acc: 0.6643 - bag_output_acc: 0.7043 - footwear_output_acc: 0.7148 - pose_output_acc: 0.8888 - emotion_output_acc: 0.7128 - val_loss: 6.9701 - val_gender_output_loss: 0.5708 - val_image_quality_output_loss: 0.9294 - val_age_output_loss: 1.3365 - val_weight_output_loss: 0.9669 - val_bag_output_loss: 0.8308 - val_footwear_output_loss: 0.8798 - val_pose_output_loss: 0.5746 - val_emotion_output_loss: 0.8813 - val_gender_output_acc: 0.7445 - val_image_quality_output_acc: 0.5491 - val_age_output_acc: 0.4231 - val_weight_output_acc: 0.6280 - val_bag_output_acc: 0.6364 - val_footwear_output_acc: 0.6200 - val_pose_output_acc: 0.7817 - val_emotion_output_acc: 0.7192\n",
            "Epoch 6/15\n",
            "359/360 [============================>.] - ETA: 0s - loss: 5.2787 - gender_output_loss: 0.1955 - image_quality_output_loss: 0.7941 - age_output_loss: 1.1719 - weight_output_loss: 0.7983 - bag_output_loss: 0.6490 - footwear_output_loss: 0.6171 - pose_output_loss: 0.2643 - emotion_output_loss: 0.7885 - gender_output_acc: 0.9248 - image_quality_output_acc: 0.6253 - age_output_acc: 0.4803 - weight_output_acc: 0.6809 - bag_output_acc: 0.7307 - footwear_output_acc: 0.7323 - pose_output_acc: 0.9021 - emotion_output_acc: 0.7184Epoch 6/15\n",
            "360/360 [==============================] - 96s 267ms/step - loss: 5.2789 - gender_output_loss: 0.1957 - image_quality_output_loss: 0.7937 - age_output_loss: 1.1719 - weight_output_loss: 0.7979 - bag_output_loss: 0.6492 - footwear_output_loss: 0.6168 - pose_output_loss: 0.2652 - emotion_output_loss: 0.7885 - gender_output_acc: 0.9247 - image_quality_output_acc: 0.6256 - age_output_acc: 0.4802 - weight_output_acc: 0.6810 - bag_output_acc: 0.7306 - footwear_output_acc: 0.7325 - pose_output_acc: 0.9016 - emotion_output_acc: 0.7185 - val_loss: 7.0837 - val_gender_output_loss: 0.4755 - val_image_quality_output_loss: 0.9602 - val_age_output_loss: 1.4247 - val_weight_output_loss: 1.0224 - val_bag_output_loss: 0.8367 - val_footwear_output_loss: 0.8399 - val_pose_output_loss: 0.6343 - val_emotion_output_loss: 0.8899 - val_gender_output_acc: 0.7812 - val_image_quality_output_acc: 0.5407 - val_age_output_acc: 0.3973 - val_weight_output_acc: 0.6280 - val_bag_output_acc: 0.6473 - val_footwear_output_acc: 0.6300 - val_pose_output_acc: 0.7589 - val_emotion_output_acc: 0.7188\n",
            "Epoch 7/15\n",
            "360/360 [==============================] - 96s 267ms/step - loss: 4.5478 - gender_output_loss: 0.1294 - image_quality_output_loss: 0.7072 - age_output_loss: 1.0329 - weight_output_loss: 0.6856 - bag_output_loss: 0.5402 - footwear_output_loss: 0.5283 - pose_output_loss: 0.1962 - emotion_output_loss: 0.7280 - gender_output_acc: 0.9490 - image_quality_output_acc: 0.6751 - age_output_acc: 0.5471 - weight_output_acc: 0.7240 - bag_output_acc: 0.7798 - footwear_output_acc: 0.7716 - pose_output_acc: 0.9283 - emotion_output_acc: 0.7317 - val_loss: 7.5107 - val_gender_output_loss: 0.5061 - val_image_quality_output_loss: 1.0185 - val_age_output_loss: 1.4748 - val_weight_output_loss: 1.0455 - val_bag_output_loss: 0.8989 - val_footwear_output_loss: 0.8991 - val_pose_output_loss: 0.7368 - val_emotion_output_loss: 0.9311 - val_gender_output_acc: 0.8155 - val_image_quality_output_acc: 0.5243 - val_age_output_acc: 0.3844 - val_weight_output_acc: 0.6329 - val_bag_output_acc: 0.6151 - val_footwear_output_acc: 0.6468 - val_pose_output_acc: 0.7535 - val_emotion_output_acc: 0.7188\n",
            "Epoch 8/15\n",
            "360/360 [==============================] - 96s 267ms/step - loss: 3.4710 - gender_output_loss: 0.0922 - image_quality_output_loss: 0.5617 - age_output_loss: 0.8375 - weight_output_loss: 0.5152 - bag_output_loss: 0.3598 - footwear_output_loss: 0.4039 - pose_output_loss: 0.1183 - emotion_output_loss: 0.5824 - gender_output_acc: 0.9664 - image_quality_output_acc: 0.7480 - age_output_acc: 0.6440 - weight_output_acc: 0.7934 - bag_output_acc: 0.8576 - footwear_output_acc: 0.8237 - pose_output_acc: 0.9576 - emotion_output_acc: 0.7807 - val_loss: 7.4094 - val_gender_output_loss: 0.4638 - val_image_quality_output_loss: 1.0406 - val_age_output_loss: 1.4313 - val_weight_output_loss: 1.1336 - val_bag_output_loss: 0.9485 - val_footwear_output_loss: 0.8587 - val_pose_output_loss: 0.5741 - val_emotion_output_loss: 0.9587 - val_gender_output_acc: 0.8333 - val_image_quality_output_acc: 0.5332 - val_age_output_acc: 0.4053 - val_weight_output_acc: 0.6071 - val_bag_output_acc: 0.6558 - val_footwear_output_acc: 0.6528 - val_pose_output_acc: 0.8194 - val_emotion_output_acc: 0.6920\n",
            "Epoch 9/15\n",
            "360/360 [==============================] - 96s 267ms/step - loss: 2.3765 - gender_output_loss: 0.0610 - image_quality_output_loss: 0.4012 - age_output_loss: 0.5946 - weight_output_loss: 0.3414 - bag_output_loss: 0.2225 - footwear_output_loss: 0.2751 - pose_output_loss: 0.0828 - emotion_output_loss: 0.3979 - gender_output_acc: 0.9780 - image_quality_output_acc: 0.8302 - age_output_acc: 0.7638 - weight_output_acc: 0.8662 - bag_output_acc: 0.9187 - footwear_output_acc: 0.8890 - pose_output_acc: 0.9692 - emotion_output_acc: 0.8480 - val_loss: 8.7306 - val_gender_output_loss: 0.4469 - val_image_quality_output_loss: 1.3893 - val_age_output_loss: 1.6077 - val_weight_output_loss: 1.3749 - val_bag_output_loss: 1.0708 - val_footwear_output_loss: 1.0181 - val_pose_output_loss: 0.6958 - val_emotion_output_loss: 1.1271 - val_gender_output_acc: 0.8507 - val_image_quality_output_acc: 0.4752 - val_age_output_acc: 0.3924 - val_weight_output_acc: 0.6096 - val_bag_output_acc: 0.6468 - val_footwear_output_acc: 0.6453 - val_pose_output_acc: 0.8145 - val_emotion_output_acc: 0.6265\n",
            "Epoch 10/15\n",
            "360/360 [==============================] - 96s 267ms/step - loss: 1.5085 - gender_output_loss: 0.0429 - image_quality_output_loss: 0.2519 - age_output_loss: 0.3715 - weight_output_loss: 0.2206 - bag_output_loss: 0.1406 - footwear_output_loss: 0.1828 - pose_output_loss: 0.0578 - emotion_output_loss: 0.2404 - gender_output_acc: 0.9839 - image_quality_output_acc: 0.9020 - age_output_acc: 0.8568 - weight_output_acc: 0.9167 - bag_output_acc: 0.9478 - footwear_output_acc: 0.9321 - pose_output_acc: 0.9805 - emotion_output_acc: 0.9136 - val_loss: 9.4960 - val_gender_output_loss: 0.4316 - val_image_quality_output_loss: 1.4371 - val_age_output_loss: 1.8596 - val_weight_output_loss: 1.4932 - val_bag_output_loss: 1.2139 - val_footwear_output_loss: 1.1233 - val_pose_output_loss: 0.6486 - val_emotion_output_loss: 1.2887 - val_gender_output_acc: 0.8666 - val_image_quality_output_acc: 0.5451 - val_age_output_acc: 0.4077 - val_weight_output_acc: 0.5898 - val_bag_output_acc: 0.6468 - val_footwear_output_acc: 0.6582 - val_pose_output_acc: 0.8373 - val_emotion_output_acc: 0.6667\n",
            "Epoch 11/15\n",
            "360/360 [==============================] - 96s 267ms/step - loss: 0.8931 - gender_output_loss: 0.0276 - image_quality_output_loss: 0.1629 - age_output_loss: 0.2158 - weight_output_loss: 0.1334 - bag_output_loss: 0.0866 - footwear_output_loss: 0.1054 - pose_output_loss: 0.0337 - emotion_output_loss: 0.1277 - gender_output_acc: 0.9900 - image_quality_output_acc: 0.9362 - age_output_acc: 0.9214 - weight_output_acc: 0.9505 - bag_output_acc: 0.9697 - footwear_output_acc: 0.9595 - pose_output_acc: 0.9874 - emotion_output_acc: 0.9563 - val_loss: 10.9365 - val_gender_output_loss: 0.4746 - val_image_quality_output_loss: 1.6472 - val_age_output_loss: 2.1251 - val_weight_output_loss: 1.8351 - val_bag_output_loss: 1.3221 - val_footwear_output_loss: 1.2577 - val_pose_output_loss: 0.7149 - val_emotion_output_loss: 1.5598 - val_gender_output_acc: 0.8755 - val_image_quality_output_acc: 0.5392 - val_age_output_acc: 0.4097 - val_weight_output_acc: 0.6151 - val_bag_output_acc: 0.6687 - val_footwear_output_acc: 0.6652 - val_pose_output_acc: 0.8398 - val_emotion_output_acc: 0.6771\n",
            "Epoch 12/15\n",
            "360/360 [==============================] - 97s 268ms/step - loss: 0.5622 - gender_output_loss: 0.0167 - image_quality_output_loss: 0.0932 - age_output_loss: 0.1367 - weight_output_loss: 0.0870 - bag_output_loss: 0.0499 - footwear_output_loss: 0.0666 - pose_output_loss: 0.0242 - emotion_output_loss: 0.0879 - gender_output_acc: 0.9939 - image_quality_output_acc: 0.9677 - age_output_acc: 0.9533 - weight_output_acc: 0.9702 - bag_output_acc: 0.9825 - footwear_output_acc: 0.9758 - pose_output_acc: 0.9914 - emotion_output_acc: 0.9702 - val_loss: 11.5627 - val_gender_output_loss: 0.5029 - val_image_quality_output_loss: 1.7913 - val_age_output_loss: 2.2690 - val_weight_output_loss: 1.8273 - val_bag_output_loss: 1.4396 - val_footwear_output_loss: 1.4301 - val_pose_output_loss: 0.7483 - val_emotion_output_loss: 1.5543 - val_gender_output_acc: 0.8725 - val_image_quality_output_acc: 0.5144 - val_age_output_acc: 0.4137 - val_weight_output_acc: 0.5784 - val_bag_output_acc: 0.6667 - val_footwear_output_acc: 0.6592 - val_pose_output_acc: 0.8428 - val_emotion_output_acc: 0.6508\n",
            "Epoch 13/15\n",
            "360/360 [==============================] - 96s 267ms/step - loss: 0.5089 - gender_output_loss: 0.0168 - image_quality_output_loss: 0.0890 - age_output_loss: 0.1163 - weight_output_loss: 0.0737 - bag_output_loss: 0.0487 - footwear_output_loss: 0.0621 - pose_output_loss: 0.0250 - emotion_output_loss: 0.0773 - gender_output_acc: 0.9943 - image_quality_output_acc: 0.9653 - age_output_acc: 0.9584 - weight_output_acc: 0.9735 - bag_output_acc: 0.9816 - footwear_output_acc: 0.9783 - pose_output_acc: 0.9911 - emotion_output_acc: 0.9732 - val_loss: 12.0433 - val_gender_output_loss: 0.5031 - val_image_quality_output_loss: 1.9117 - val_age_output_loss: 2.3781 - val_weight_output_loss: 1.9027 - val_bag_output_loss: 1.5073 - val_footwear_output_loss: 1.4842 - val_pose_output_loss: 0.7632 - val_emotion_output_loss: 1.5929 - val_gender_output_acc: 0.8750 - val_image_quality_output_acc: 0.5322 - val_age_output_acc: 0.3800 - val_weight_output_acc: 0.6037 - val_bag_output_acc: 0.6647 - val_footwear_output_acc: 0.6577 - val_pose_output_acc: 0.8388 - val_emotion_output_acc: 0.6448\n",
            "\b\b\b\b\b\b\b\b\b\b\b\b\b\b\b\b\b\b\b\b\b\b\b\b\b\b\b\b\b\b\b\b\b\b\b\b\b\b\b\b\b\b\b\b\b\b\b\b\b\b\b\b\b\b\b\b\b\b\b\b\b\b\b\b\b\b\b\b\b\b\b\b\b\b\b\b\b\b\b\b\b\b\b\b\b\b\b\b\b\b\b\b\b\b\b\b\b\b\b\b\b\b\b\b\b\b\b\b\b\b\b\b\b\b\b\b\b\b\b\b\b\b\b\b\b\b\b\b\b\b\b\b\b\b\b\b\b\b\b\b\b\b\b\b\b\b\b\b\b\b\b\b\b\b\b\b\b\b\b\b\b\b\b\b\b\b\b\b\b\b\b\b\b\b\b\b\b\b\b\b\b\b\b\b\b\b\b\b\b\b\b\b\b\b\b\b\b\b\b\b\b\b\b\b\b\b\b\b\b\b\b\b\b\b\b\b\b\b\b\b\b\b\b\b\b\b\b\b\b\b\b\b\b\b\b\b\b\b\b\b\b\b\b\b\b\b\b\b\b\b\b\b\b\b\b\b\b\b\b\b\b\b\b\b\b\b\b\b\b\b\b\b\b\b\b\b\b\b\b\b\b\b\b\b\b\b\b\b\b\b\b\b\b\b\b\b\b\b\b\b\b\b\b\b\b\b\b\b\b\b\b\b\b\b\b\b\b\b\b\b\b\b\b\b\b\b\b\b\b\b\b\b\b\b\b\b\b\b\b\b\b\b\b\b\b\b\b\b\b\b\b\b\b\b\b\b\b\b\b\b\b\b\b\b\b\b\b\b\b\b\b\b\b\b\b\b\b\b\b\b\b\b\b\b\b\b\b\b\b\b\b\b\b\b\b\b\b\b\b\b\b\b\b\b\b\b\b\b\b\b\b\b\b\b\b\b\b\b\b\b\b\b\b\b\b\b\b\b\b\b\b\b\b\b\b\b\b\b\b\b\b\b\b\b\b\b\b\b\b\b\b\b\b\b\b\b\b\b\b\b\b\b\b\b\b\b\b\b\b\b\b\b\b\b\b\b\b\b\b\b\b\b\b\b\b\b\b\b\b\b\b\b\b\b\b\b\b\b\b\b\b\b\b\b\b\b\b\b\b\b\b\b\b\b\b\b\b\b\b\b\b\b\b\b\bEpoch 14/15\n",
            "360/360 [==============================] - 96s 268ms/step - loss: 0.6522 - gender_output_loss: 0.0220 - image_quality_output_loss: 0.1144 - age_output_loss: 0.1497 - weight_output_loss: 0.1001 - bag_output_loss: 0.0674 - footwear_output_loss: 0.0834 - pose_output_loss: 0.0291 - emotion_output_loss: 0.0860 - gender_output_acc: 0.9920 - image_quality_output_acc: 0.9588 - age_output_acc: 0.9464 - weight_output_acc: 0.9641 - bag_output_acc: 0.9761 - footwear_output_acc: 0.9694 - pose_output_acc: 0.9892 - emotion_output_acc: 0.9707 - val_loss: 11.6591 - val_gender_output_loss: 0.4976 - val_image_quality_output_loss: 1.8305 - val_age_output_loss: 2.2862 - val_weight_output_loss: 1.7734 - val_bag_output_loss: 1.5095 - val_footwear_output_loss: 1.4257 - val_pose_output_loss: 0.7634 - val_emotion_output_loss: 1.5729 - val_gender_output_acc: 0.8611 - val_image_quality_output_acc: 0.5218 - val_age_output_acc: 0.3795 - val_weight_output_acc: 0.5908 - val_bag_output_acc: 0.6508 - val_footwear_output_acc: 0.6463 - val_pose_output_acc: 0.8175 - val_emotion_output_acc: 0.6443\n",
            "Epoch 14/15\n",
            "Epoch 15/15\n",
            "359/360 [============================>.] - ETA: 0s - loss: 0.9251 - gender_output_loss: 0.0339 - image_quality_output_loss: 0.1491 - age_output_loss: 0.2169 - weight_output_loss: 0.1382 - bag_output_loss: 0.0981 - footwear_output_loss: 0.1084 - pose_output_loss: 0.0469 - emotion_output_loss: 0.1336 - gender_output_acc: 0.9876 - image_quality_output_acc: 0.9419 - age_output_acc: 0.9219 - weight_output_acc: 0.9489 - bag_output_acc: 0.9630 - footwear_output_acc: 0.9580 - pose_output_acc: 0.9826 - emotion_output_acc: 0.9518Epoch 15/15\n",
            "360/360 [==============================] - 96s 268ms/step - loss: 0.9261 - gender_output_loss: 0.0339 - image_quality_output_loss: 0.1493 - age_output_loss: 0.2173 - weight_output_loss: 0.1386 - bag_output_loss: 0.0980 - footwear_output_loss: 0.1084 - pose_output_loss: 0.0468 - emotion_output_loss: 0.1338 - gender_output_acc: 0.9876 - image_quality_output_acc: 0.9419 - age_output_acc: 0.9216 - weight_output_acc: 0.9489 - bag_output_acc: 0.9631 - footwear_output_acc: 0.9580 - pose_output_acc: 0.9826 - emotion_output_acc: 0.9517 - val_loss: 11.3137 - val_gender_output_loss: 0.4490 - val_image_quality_output_loss: 1.9843 - val_age_output_loss: 2.2504 - val_weight_output_loss: 1.7296 - val_bag_output_loss: 1.3025 - val_footwear_output_loss: 1.2938 - val_pose_output_loss: 0.6957 - val_emotion_output_loss: 1.6084 - val_gender_output_acc: 0.8566 - val_image_quality_output_acc: 0.5248 - val_age_output_acc: 0.3566 - val_weight_output_acc: 0.5942 - val_bag_output_acc: 0.6483 - val_footwear_output_acc: 0.6369 - val_pose_output_acc: 0.8140 - val_emotion_output_acc: 0.6944\n"
          ],
          "name": "stdout"
        },
        {
          "output_type": "execute_result",
          "data": {
            "text/plain": [
              "<keras.callbacks.History at 0x7fcbc23d6ac8>"
            ]
          },
          "metadata": {
            "tags": []
          },
          "execution_count": 33
        }
      ]
    },
    {
      "cell_type": "code",
      "metadata": {
        "id": "hCNQ0wZ1Pex0",
        "colab_type": "code",
        "colab": {}
      },
      "source": [
        "history=model.history"
      ],
      "execution_count": 0,
      "outputs": []
    },
    {
      "cell_type": "code",
      "metadata": {
        "id": "rG-29b4tPm7f",
        "colab_type": "code",
        "outputId": "e12f7064-a595-4323-9d18-6bf24d6450d8",
        "colab": {
          "base_uri": "https://localhost:8080/",
          "height": 153
        }
      },
      "source": [
        "#print(history.history.keys())\n",
        "for x in history.history.keys():\n",
        "  if x.startswith('val') and x.endswith('acc'):\n",
        "    print(x, \" -- \",  history.history[x][-1])"
      ],
      "execution_count": 0,
      "outputs": [
        {
          "output_type": "stream",
          "text": [
            "val_gender_output_acc  --  0.8566468253968254\n",
            "val_image_quality_output_acc  --  0.5248015873015873\n",
            "val_age_output_acc  --  0.3566468253968254\n",
            "val_weight_output_acc  --  0.5942460317460317\n",
            "val_bag_output_acc  --  0.6483134920634921\n",
            "val_footwear_output_acc  --  0.6369047619047619\n",
            "val_pose_output_acc  --  0.8139880952380952\n",
            "val_emotion_output_acc  --  0.6944444444444444\n"
          ],
          "name": "stdout"
        }
      ]
    },
    {
      "cell_type": "code",
      "metadata": {
        "id": "IAhei8stQJ7W",
        "colab_type": "code",
        "colab": {}
      },
      "source": [
        ""
      ],
      "execution_count": 0,
      "outputs": []
    },
    {
      "cell_type": "code",
      "metadata": {
        "id": "W8EVEMNcPtAf",
        "colab_type": "code",
        "outputId": "82ac16e2-c9bf-42b1-97b5-d900f8549819",
        "colab": {
          "base_uri": "https://localhost:8080/",
          "height": 312
        }
      },
      "source": [
        "import matplotlib.pyplot as plt\n",
        "plt.xlabel('Training Iterations')\n",
        "plt.ylabel('Learning Rate')\n",
        "plt.title(\"CLR - Custom Sinusoidal Cycle-Policy\")\n",
        "plt.plot(clr1.history['iterations'], clr1.history['lr'])"
      ],
      "execution_count": 0,
      "outputs": [
        {
          "output_type": "execute_result",
          "data": {
            "text/plain": [
              "[<matplotlib.lines.Line2D at 0x7fcc882f26d8>]"
            ]
          },
          "metadata": {
            "tags": []
          },
          "execution_count": 37
        },
        {
          "output_type": "display_data",
          "data": {
            "image/png": "[encoded data removed]",
            "text/plain": [
              "<Figure size 432x288 with 1 Axes>"
            ]
          },
          "metadata": {
            "tags": []
          }
        }
      ]
    },
    {
      "cell_type": "code",
      "metadata": {
        "id": "lLXhkK2-PzVP",
        "colab_type": "code",
        "outputId": "b991432d-9c0c-4b9e-f2ff-68f59615c255",
        "colab": {
          "base_uri": "https://localhost:8080/",
          "height": 54
        }
      },
      "source": [
        "val_loss=[]\n",
        "for i in range(15):\n",
        "  sum=0\n",
        "  l = ['val_gender_output_loss','val_image_quality_output_loss',  'val_age_output_loss', 'val_weight_output_loss', 'val_bag_output_loss', 'val_footwear_output_loss', 'val_pose_output_loss',\n",
        " 'val_emotion_output_loss']\n",
        "  for x in l:\n",
        "    sum += history.history[x][i]\n",
        "  val_loss.append(sum)\n",
        "print(val_loss)"
      ],
      "execution_count": 0,
      "outputs": [
        {
          "output_type": "stream",
          "text": [
            "[7.206934368799603, 6.918198363411994, 7.192555283270186, 6.810855600568983, 6.970059836904208, 7.083669195099482, 7.510679480338853, 7.409387238441952, 8.73064324969337, 9.495955952398834, 10.936478073812193, 11.5626535351196, 12.043297159766395, 11.659136104441824, 11.313702264209352]\n"
          ],
          "name": "stdout"
        }
      ]
    },
    {
      "cell_type": "code",
      "metadata": {
        "id": "Q18C8lnCP3k_",
        "colab_type": "code",
        "outputId": "b1c5ee90-f551-4c90-f044-1e2996541b3b",
        "colab": {
          "base_uri": "https://localhost:8080/",
          "height": 295
        }
      },
      "source": [
        "  import matplotlib.pyplot as plt\n",
        "  plt.plot(history.history['loss'])\n",
        "  plt.plot(val_loss)\n",
        "  plt.title('model loss')\n",
        "  plt.ylabel('loss')\n",
        "  plt.xlabel('epoch')\n",
        "  plt.legend(['train', 'validation'], loc='upper left')\n",
        "  plt.show()  #no reduction in validation loss"
      ],
      "execution_count": 0,
      "outputs": [
        {
          "output_type": "display_data",
          "data": {
            "image/png": "[encoded data removed]",
            "text/plain": [
              "<Figure size 432x288 with 1 Axes>"
            ]
          },
          "metadata": {
            "tags": []
          }
        }
      ]
    },
    {
      "cell_type": "code",
      "metadata": {
        "id": "u43GjO6lQLVd",
        "colab_type": "code",
        "colab": {}
      },
      "source": [
        "import matplotlib.pyplot as plt\n",
        "def plotaccloss(acc, val_acc):\n",
        "  plt.plot(acc)\n",
        "  plt.plot(val_acc)\n",
        "  plt.title('model accuracy')\n",
        "  plt.ylabel('accuracy')\n",
        "  plt.xlabel('epoch')\n",
        "  plt.legend(['train', 'test'], loc='upper left')\n",
        "  plt.show()"
      ],
      "execution_count": 0,
      "outputs": []
    },
    {
      "cell_type": "code",
      "metadata": {
        "id": "bWohBbpsQP0F",
        "colab_type": "code",
        "outputId": "4336ec70-cc4c-4684-c5a1-cdda04bb24e5",
        "colab": {
          "base_uri": "https://localhost:8080/",
          "height": 312
        }
      },
      "source": [
        "print(\"Gender\")\n",
        "plotaccloss(history.history['gender_output_acc'], history.history['val_gender_output_acc'])"
      ],
      "execution_count": 0,
      "outputs": [
        {
          "output_type": "stream",
          "text": [
            "Gender\n"
          ],
          "name": "stdout"
        },
        {
          "output_type": "display_data",
          "data": {
            "image/png": "[encoded data removed]",
            "text/plain": [
              "<Figure size 432x288 with 1 Axes>"
            ]
          },
          "metadata": {
            "tags": []
          }
        }
      ]
    },
    {
      "cell_type": "code",
      "metadata": {
        "id": "TdTHXb0PQTX9",
        "colab_type": "code",
        "outputId": "ff4697c5-c9d1-4db4-cc33-66f277e6bddd",
        "colab": {
          "base_uri": "https://localhost:8080/",
          "height": 312
        }
      },
      "source": [
        "print(\"Image Quality\")\n",
        "plotaccloss(history.history['image_quality_output_acc'], history.history['val_image_quality_output_acc'])"
      ],
      "execution_count": 0,
      "outputs": [
        {
          "output_type": "stream",
          "text": [
            "Image Quality\n"
          ],
          "name": "stdout"
        },
        {
          "output_type": "display_data",
          "data": {
            "image/png": "[encoded data removed]",
            "text/plain": [
              "<Figure size 432x288 with 1 Axes>"
            ]
          },
          "metadata": {
            "tags": []
          }
        }
      ]
    }
  ]
}