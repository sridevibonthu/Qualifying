{
  "nbformat": 4,
  "nbformat_minor": 0,
  "metadata": {
    "colab": {
      "name": " resnet50 with cutout CLR callbacks.ipynb",
      "provenance": [],
      "collapsed_sections": [],
      "include_colab_link": true
    },
    "kernelspec": {
      "name": "python3",
      "display_name": "Python 3"
    },
    "accelerator": "GPU"
  },
  "cells": [
    {
      "cell_type": "markdown",
      "metadata": {
        "id": "view-in-github",
        "colab_type": "text"
      },
      "source": [
        "<a href=\"https://colab.research.google.com/github/sridevibonthu/Qualifying/blob/master/resnet50_with_cutout_CLR_callbacks.ipynb\" target=\"_parent\"><img src=\"https://colab.research.google.com/assets/colab-badge.svg\" alt=\"Open In Colab\"/></a>"
      ]
    },
    {
      "cell_type": "code",
      "metadata": {
        "id": "08g_jkZP6SJI",
        "colab_type": "code",
        "outputId": "a2fc385b-b13d-437d-8c47-3096d46d3862",
        "colab": {
          "base_uri": "https://localhost:8080/",
          "height": 122
        }
      },
      "source": [
        "# mount gdrive and unzip data\n",
        "from google.colab import drive\n",
        "drive.mount('/content/gdrive')"
      ],
      "execution_count": 1,
      "outputs": [
        {
          "output_type": "stream",
          "text": [
            "Go to this URL in a browser: https://accounts.google.com/o/oauth2/auth?client_id=947318989803-6bn6qk8qdgf4n4g3pfee6491hc0brc4i.apps.googleusercontent.com&redirect_uri=urn%3aietf%3awg%3aoauth%3a2.0%3aoob&response_type=code&scope=email%20https%3a%2f%2fwww.googleapis.com%2fauth%2fdocs.test%20https%3a%2f%2fwww.googleapis.com%2fauth%2fdrive%20https%3a%2f%2fwww.googleapis.com%2fauth%2fdrive.photos.readonly%20https%3a%2f%2fwww.googleapis.com%2fauth%2fpeopleapi.readonly\n",
            "\n",
            "Enter your authorization code:\n",
            "··········\n",
            "Mounted at /content/gdrive\n"
          ],
          "name": "stdout"
        }
      ]
    },
    {
      "cell_type": "code",
      "metadata": {
        "id": "oQ7Qqo0-6lcr",
        "colab_type": "code",
        "outputId": "b8b27f05-7338-457a-e7d1-1f7942d8b271",
        "colab": {
          "base_uri": "https://localhost:8080/",
          "height": 34
        }
      },
      "source": [
        "!unzip -q \"/content/gdrive/My Drive/hvc_data.zip\"\n",
        "# look for `hvc_annotations.csv` file and `resized` dir\n",
        "%ls "
      ],
      "execution_count": 2,
      "outputs": [
        {
          "output_type": "stream",
          "text": [
            "\u001b[0m\u001b[01;34mgdrive\u001b[0m/  hvc_annotations.csv  \u001b[01;34mresized\u001b[0m/  \u001b[01;34msample_data\u001b[0m/\n"
          ],
          "name": "stdout"
        }
      ]
    },
    {
      "cell_type": "code",
      "metadata": {
        "id": "9qs7JUWB61_J",
        "colab_type": "code",
        "outputId": "46068e66-5fbc-485a-f73d-26731a8d1eda",
        "colab": {
          "base_uri": "https://localhost:8080/",
          "height": 34
        }
      },
      "source": [
        "%tensorflow_version 1.x\n",
        "\n",
        "import cv2\n",
        "import json\n",
        "\n",
        "import numpy as np\n",
        "import pandas as pd\n",
        "\n",
        "from functools import partial\n",
        "from pathlib import Path \n",
        "from tqdm import tqdm\n",
        "\n",
        "from google.colab.patches import cv2_imshow\n",
        "\n",
        "from sklearn.model_selection import train_test_split\n",
        "from sklearn.preprocessing import LabelEncoder, OneHotEncoder\n",
        "\n",
        "\n",
        "from keras.applications import VGG16\n",
        "from keras.layers.core import Dropout\n",
        "from keras.layers.core import Flatten\n",
        "from keras.layers.core import Dense\n",
        "from keras.layers import Input\n",
        "from keras.models import Model\n",
        "from keras.optimizers import SGD\n",
        "from keras.preprocessing.image import ImageDataGenerator"
      ],
      "execution_count": 3,
      "outputs": [
        {
          "output_type": "stream",
          "text": [
            "Using TensorFlow backend.\n"
          ],
          "name": "stderr"
        }
      ]
    },
    {
      "cell_type": "code",
      "metadata": {
        "id": "IfEQVfT3662X",
        "colab_type": "code",
        "outputId": "93ca421a-2b3c-4ffd-b1ad-1cba2a4c2a6a",
        "colab": {
          "base_uri": "https://localhost:8080/",
          "height": 204
        }
      },
      "source": [
        "# load annotations\n",
        "df = pd.read_csv(\"hvc_annotations.csv\")\n",
        "del df[\"filename\"] # remove unwanted column\n",
        "df.head()"
      ],
      "execution_count": 4,
      "outputs": [
        {
          "output_type": "execute_result",
          "data": {
            "text/html": [
              "<div>\n",
              "<style scoped>\n",
              "    .dataframe tbody tr th:only-of-type {\n",
              "        vertical-align: middle;\n",
              "    }\n",
              "\n",
              "    .dataframe tbody tr th {\n",
              "        vertical-align: top;\n",
              "    }\n",
              "\n",
              "    .dataframe thead th {\n",
              "        text-align: right;\n",
              "    }\n",
              "</style>\n",
              "<table border=\"1\" class=\"dataframe\">\n",
              "  <thead>\n",
              "    <tr style=\"text-align: right;\">\n",
              "      <th></th>\n",
              "      <th>gender</th>\n",
              "      <th>imagequality</th>\n",
              "      <th>age</th>\n",
              "      <th>weight</th>\n",
              "      <th>carryingbag</th>\n",
              "      <th>footwear</th>\n",
              "      <th>emotion</th>\n",
              "      <th>bodypose</th>\n",
              "      <th>image_path</th>\n",
              "    </tr>\n",
              "  </thead>\n",
              "  <tbody>\n",
              "    <tr>\n",
              "      <th>0</th>\n",
              "      <td>male</td>\n",
              "      <td>Average</td>\n",
              "      <td>35-45</td>\n",
              "      <td>normal-healthy</td>\n",
              "      <td>Grocery/Home/Plastic Bag</td>\n",
              "      <td>Normal</td>\n",
              "      <td>Neutral</td>\n",
              "      <td>Front-Frontish</td>\n",
              "      <td>resized/1.jpg</td>\n",
              "    </tr>\n",
              "    <tr>\n",
              "      <th>1</th>\n",
              "      <td>female</td>\n",
              "      <td>Average</td>\n",
              "      <td>35-45</td>\n",
              "      <td>over-weight</td>\n",
              "      <td>None</td>\n",
              "      <td>Normal</td>\n",
              "      <td>Angry/Serious</td>\n",
              "      <td>Front-Frontish</td>\n",
              "      <td>resized/2.jpg</td>\n",
              "    </tr>\n",
              "    <tr>\n",
              "      <th>2</th>\n",
              "      <td>male</td>\n",
              "      <td>Good</td>\n",
              "      <td>45-55</td>\n",
              "      <td>normal-healthy</td>\n",
              "      <td>Grocery/Home/Plastic Bag</td>\n",
              "      <td>CantSee</td>\n",
              "      <td>Neutral</td>\n",
              "      <td>Front-Frontish</td>\n",
              "      <td>resized/3.jpg</td>\n",
              "    </tr>\n",
              "    <tr>\n",
              "      <th>3</th>\n",
              "      <td>male</td>\n",
              "      <td>Good</td>\n",
              "      <td>45-55</td>\n",
              "      <td>normal-healthy</td>\n",
              "      <td>Daily/Office/Work Bag</td>\n",
              "      <td>Normal</td>\n",
              "      <td>Neutral</td>\n",
              "      <td>Front-Frontish</td>\n",
              "      <td>resized/4.jpg</td>\n",
              "    </tr>\n",
              "    <tr>\n",
              "      <th>4</th>\n",
              "      <td>female</td>\n",
              "      <td>Good</td>\n",
              "      <td>35-45</td>\n",
              "      <td>slightly-overweight</td>\n",
              "      <td>None</td>\n",
              "      <td>CantSee</td>\n",
              "      <td>Neutral</td>\n",
              "      <td>Front-Frontish</td>\n",
              "      <td>resized/5.jpg</td>\n",
              "    </tr>\n",
              "  </tbody>\n",
              "</table>\n",
              "</div>"
            ],
            "text/plain": [
              "   gender imagequality    age  ...        emotion        bodypose     image_path\n",
              "0    male      Average  35-45  ...        Neutral  Front-Frontish  resized/1.jpg\n",
              "1  female      Average  35-45  ...  Angry/Serious  Front-Frontish  resized/2.jpg\n",
              "2    male         Good  45-55  ...        Neutral  Front-Frontish  resized/3.jpg\n",
              "3    male         Good  45-55  ...        Neutral  Front-Frontish  resized/4.jpg\n",
              "4  female         Good  35-45  ...        Neutral  Front-Frontish  resized/5.jpg\n",
              "\n",
              "[5 rows x 9 columns]"
            ]
          },
          "metadata": {
            "tags": []
          },
          "execution_count": 4
        }
      ]
    },
    {
      "cell_type": "code",
      "metadata": {
        "id": "INQxVzUO68G3",
        "colab_type": "code",
        "outputId": "d089cd9f-37da-4b0a-f302-f5f07fcbbe98",
        "colab": {
          "base_uri": "https://localhost:8080/",
          "height": 917
        }
      },
      "source": [
        "# one hot encoding of labels\n",
        "\n",
        "one_hot_df = pd.concat([\n",
        "    df[[\"image_path\"]],\n",
        "    pd.get_dummies(df.gender, prefix=\"gender\"),\n",
        "    pd.get_dummies(df.imagequality, prefix=\"imagequality\"),\n",
        "    pd.get_dummies(df.age, prefix=\"age\"),\n",
        "    pd.get_dummies(df.weight, prefix=\"weight\"),\n",
        "    pd.get_dummies(df.carryingbag, prefix=\"carryingbag\"),\n",
        "    pd.get_dummies(df.footwear, prefix=\"footwear\"),\n",
        "    pd.get_dummies(df.emotion, prefix=\"emotion\"),\n",
        "    pd.get_dummies(df.bodypose, prefix=\"bodypose\"),\n",
        "], axis = 1)\n",
        "\n",
        "one_hot_df.head().T"
      ],
      "execution_count": 5,
      "outputs": [
        {
          "output_type": "execute_result",
          "data": {
            "text/html": [
              "<div>\n",
              "<style scoped>\n",
              "    .dataframe tbody tr th:only-of-type {\n",
              "        vertical-align: middle;\n",
              "    }\n",
              "\n",
              "    .dataframe tbody tr th {\n",
              "        vertical-align: top;\n",
              "    }\n",
              "\n",
              "    .dataframe thead th {\n",
              "        text-align: right;\n",
              "    }\n",
              "</style>\n",
              "<table border=\"1\" class=\"dataframe\">\n",
              "  <thead>\n",
              "    <tr style=\"text-align: right;\">\n",
              "      <th></th>\n",
              "      <th>0</th>\n",
              "      <th>1</th>\n",
              "      <th>2</th>\n",
              "      <th>3</th>\n",
              "      <th>4</th>\n",
              "    </tr>\n",
              "  </thead>\n",
              "  <tbody>\n",
              "    <tr>\n",
              "      <th>image_path</th>\n",
              "      <td>resized/1.jpg</td>\n",
              "      <td>resized/2.jpg</td>\n",
              "      <td>resized/3.jpg</td>\n",
              "      <td>resized/4.jpg</td>\n",
              "      <td>resized/5.jpg</td>\n",
              "    </tr>\n",
              "    <tr>\n",
              "      <th>gender_female</th>\n",
              "      <td>0</td>\n",
              "      <td>1</td>\n",
              "      <td>0</td>\n",
              "      <td>0</td>\n",
              "      <td>1</td>\n",
              "    </tr>\n",
              "    <tr>\n",
              "      <th>gender_male</th>\n",
              "      <td>1</td>\n",
              "      <td>0</td>\n",
              "      <td>1</td>\n",
              "      <td>1</td>\n",
              "      <td>0</td>\n",
              "    </tr>\n",
              "    <tr>\n",
              "      <th>imagequality_Average</th>\n",
              "      <td>1</td>\n",
              "      <td>1</td>\n",
              "      <td>0</td>\n",
              "      <td>0</td>\n",
              "      <td>0</td>\n",
              "    </tr>\n",
              "    <tr>\n",
              "      <th>imagequality_Bad</th>\n",
              "      <td>0</td>\n",
              "      <td>0</td>\n",
              "      <td>0</td>\n",
              "      <td>0</td>\n",
              "      <td>0</td>\n",
              "    </tr>\n",
              "    <tr>\n",
              "      <th>imagequality_Good</th>\n",
              "      <td>0</td>\n",
              "      <td>0</td>\n",
              "      <td>1</td>\n",
              "      <td>1</td>\n",
              "      <td>1</td>\n",
              "    </tr>\n",
              "    <tr>\n",
              "      <th>age_15-25</th>\n",
              "      <td>0</td>\n",
              "      <td>0</td>\n",
              "      <td>0</td>\n",
              "      <td>0</td>\n",
              "      <td>0</td>\n",
              "    </tr>\n",
              "    <tr>\n",
              "      <th>age_25-35</th>\n",
              "      <td>0</td>\n",
              "      <td>0</td>\n",
              "      <td>0</td>\n",
              "      <td>0</td>\n",
              "      <td>0</td>\n",
              "    </tr>\n",
              "    <tr>\n",
              "      <th>age_35-45</th>\n",
              "      <td>1</td>\n",
              "      <td>1</td>\n",
              "      <td>0</td>\n",
              "      <td>0</td>\n",
              "      <td>1</td>\n",
              "    </tr>\n",
              "    <tr>\n",
              "      <th>age_45-55</th>\n",
              "      <td>0</td>\n",
              "      <td>0</td>\n",
              "      <td>1</td>\n",
              "      <td>1</td>\n",
              "      <td>0</td>\n",
              "    </tr>\n",
              "    <tr>\n",
              "      <th>age_55+</th>\n",
              "      <td>0</td>\n",
              "      <td>0</td>\n",
              "      <td>0</td>\n",
              "      <td>0</td>\n",
              "      <td>0</td>\n",
              "    </tr>\n",
              "    <tr>\n",
              "      <th>weight_normal-healthy</th>\n",
              "      <td>1</td>\n",
              "      <td>0</td>\n",
              "      <td>1</td>\n",
              "      <td>1</td>\n",
              "      <td>0</td>\n",
              "    </tr>\n",
              "    <tr>\n",
              "      <th>weight_over-weight</th>\n",
              "      <td>0</td>\n",
              "      <td>1</td>\n",
              "      <td>0</td>\n",
              "      <td>0</td>\n",
              "      <td>0</td>\n",
              "    </tr>\n",
              "    <tr>\n",
              "      <th>weight_slightly-overweight</th>\n",
              "      <td>0</td>\n",
              "      <td>0</td>\n",
              "      <td>0</td>\n",
              "      <td>0</td>\n",
              "      <td>1</td>\n",
              "    </tr>\n",
              "    <tr>\n",
              "      <th>weight_underweight</th>\n",
              "      <td>0</td>\n",
              "      <td>0</td>\n",
              "      <td>0</td>\n",
              "      <td>0</td>\n",
              "      <td>0</td>\n",
              "    </tr>\n",
              "    <tr>\n",
              "      <th>carryingbag_Daily/Office/Work Bag</th>\n",
              "      <td>0</td>\n",
              "      <td>0</td>\n",
              "      <td>0</td>\n",
              "      <td>1</td>\n",
              "      <td>0</td>\n",
              "    </tr>\n",
              "    <tr>\n",
              "      <th>carryingbag_Grocery/Home/Plastic Bag</th>\n",
              "      <td>1</td>\n",
              "      <td>0</td>\n",
              "      <td>1</td>\n",
              "      <td>0</td>\n",
              "      <td>0</td>\n",
              "    </tr>\n",
              "    <tr>\n",
              "      <th>carryingbag_None</th>\n",
              "      <td>0</td>\n",
              "      <td>1</td>\n",
              "      <td>0</td>\n",
              "      <td>0</td>\n",
              "      <td>1</td>\n",
              "    </tr>\n",
              "    <tr>\n",
              "      <th>footwear_CantSee</th>\n",
              "      <td>0</td>\n",
              "      <td>0</td>\n",
              "      <td>1</td>\n",
              "      <td>0</td>\n",
              "      <td>1</td>\n",
              "    </tr>\n",
              "    <tr>\n",
              "      <th>footwear_Fancy</th>\n",
              "      <td>0</td>\n",
              "      <td>0</td>\n",
              "      <td>0</td>\n",
              "      <td>0</td>\n",
              "      <td>0</td>\n",
              "    </tr>\n",
              "    <tr>\n",
              "      <th>footwear_Normal</th>\n",
              "      <td>1</td>\n",
              "      <td>1</td>\n",
              "      <td>0</td>\n",
              "      <td>1</td>\n",
              "      <td>0</td>\n",
              "    </tr>\n",
              "    <tr>\n",
              "      <th>emotion_Angry/Serious</th>\n",
              "      <td>0</td>\n",
              "      <td>1</td>\n",
              "      <td>0</td>\n",
              "      <td>0</td>\n",
              "      <td>0</td>\n",
              "    </tr>\n",
              "    <tr>\n",
              "      <th>emotion_Happy</th>\n",
              "      <td>0</td>\n",
              "      <td>0</td>\n",
              "      <td>0</td>\n",
              "      <td>0</td>\n",
              "      <td>0</td>\n",
              "    </tr>\n",
              "    <tr>\n",
              "      <th>emotion_Neutral</th>\n",
              "      <td>1</td>\n",
              "      <td>0</td>\n",
              "      <td>1</td>\n",
              "      <td>1</td>\n",
              "      <td>1</td>\n",
              "    </tr>\n",
              "    <tr>\n",
              "      <th>emotion_Sad</th>\n",
              "      <td>0</td>\n",
              "      <td>0</td>\n",
              "      <td>0</td>\n",
              "      <td>0</td>\n",
              "      <td>0</td>\n",
              "    </tr>\n",
              "    <tr>\n",
              "      <th>bodypose_Back</th>\n",
              "      <td>0</td>\n",
              "      <td>0</td>\n",
              "      <td>0</td>\n",
              "      <td>0</td>\n",
              "      <td>0</td>\n",
              "    </tr>\n",
              "    <tr>\n",
              "      <th>bodypose_Front-Frontish</th>\n",
              "      <td>1</td>\n",
              "      <td>1</td>\n",
              "      <td>1</td>\n",
              "      <td>1</td>\n",
              "      <td>1</td>\n",
              "    </tr>\n",
              "    <tr>\n",
              "      <th>bodypose_Side</th>\n",
              "      <td>0</td>\n",
              "      <td>0</td>\n",
              "      <td>0</td>\n",
              "      <td>0</td>\n",
              "      <td>0</td>\n",
              "    </tr>\n",
              "  </tbody>\n",
              "</table>\n",
              "</div>"
            ],
            "text/plain": [
              "                                                  0  ...              4\n",
              "image_path                            resized/1.jpg  ...  resized/5.jpg\n",
              "gender_female                                     0  ...              1\n",
              "gender_male                                       1  ...              0\n",
              "imagequality_Average                              1  ...              0\n",
              "imagequality_Bad                                  0  ...              0\n",
              "imagequality_Good                                 0  ...              1\n",
              "age_15-25                                         0  ...              0\n",
              "age_25-35                                         0  ...              0\n",
              "age_35-45                                         1  ...              1\n",
              "age_45-55                                         0  ...              0\n",
              "age_55+                                           0  ...              0\n",
              "weight_normal-healthy                             1  ...              0\n",
              "weight_over-weight                                0  ...              0\n",
              "weight_slightly-overweight                        0  ...              1\n",
              "weight_underweight                                0  ...              0\n",
              "carryingbag_Daily/Office/Work Bag                 0  ...              0\n",
              "carryingbag_Grocery/Home/Plastic Bag              1  ...              0\n",
              "carryingbag_None                                  0  ...              1\n",
              "footwear_CantSee                                  0  ...              1\n",
              "footwear_Fancy                                    0  ...              0\n",
              "footwear_Normal                                   1  ...              0\n",
              "emotion_Angry/Serious                             0  ...              0\n",
              "emotion_Happy                                     0  ...              0\n",
              "emotion_Neutral                                   1  ...              1\n",
              "emotion_Sad                                       0  ...              0\n",
              "bodypose_Back                                     0  ...              0\n",
              "bodypose_Front-Frontish                           1  ...              1\n",
              "bodypose_Side                                     0  ...              0\n",
              "\n",
              "[28 rows x 5 columns]"
            ]
          },
          "metadata": {
            "tags": []
          },
          "execution_count": 5
        }
      ]
    },
    {
      "cell_type": "code",
      "metadata": {
        "id": "F6EGaW1b6_8A",
        "colab_type": "code",
        "colab": {}
      },
      "source": [
        "import keras\n",
        "import numpy as np\n",
        "\n",
        "# Label columns per attribute\n",
        "_gender_cols_ = [col for col in one_hot_df.columns if col.startswith(\"gender\")]\n",
        "_imagequality_cols_ = [col for col in one_hot_df.columns if col.startswith(\"imagequality\")]\n",
        "_age_cols_ = [col for col in one_hot_df.columns if col.startswith(\"age\")]\n",
        "_weight_cols_ = [col for col in one_hot_df.columns if col.startswith(\"weight\")]\n",
        "_carryingbag_cols_ = [col for col in one_hot_df.columns if col.startswith(\"carryingbag\")]\n",
        "_footwear_cols_ = [col for col in one_hot_df.columns if col.startswith(\"footwear\")]\n",
        "_emotion_cols_ = [col for col in one_hot_df.columns if col.startswith(\"emotion\")]\n",
        "_bodypose_cols_ = [col for col in one_hot_df.columns if col.startswith(\"bodypose\")]\n",
        "\n",
        "class PersonDataGenerator(keras.utils.Sequence):\n",
        "    \"\"\"Ground truth data generator\"\"\"\n",
        "\n",
        "    \n",
        "    def __init__(self, df, batch_size=32, shuffle=True, augmentation=None):\n",
        "        self.df = df\n",
        "        self.batch_size=batch_size\n",
        "        self.shuffle = shuffle\n",
        "        self.on_epoch_end()\n",
        "        self.augmentation = augmentation\n",
        "\n",
        "    def __len__(self):\n",
        "        return int(np.floor(self.df.shape[0] / self.batch_size))\n",
        "\n",
        "    def __getitem__(self, index):\n",
        "        \"\"\"fetch batched images and targets\"\"\"\n",
        "        batch_slice = slice(index * self.batch_size, (index + 1) * self.batch_size)\n",
        "        items = self.df.iloc[batch_slice]\n",
        "        image = np.stack([cv2.imread(item[\"image_path\"]) for _, item in items.iterrows()])\n",
        "        target = {\n",
        "            \"gender_output\": items[_gender_cols_].values,\n",
        "            \"image_quality_output\": items[_imagequality_cols_].values,\n",
        "            \"age_output\": items[_age_cols_].values,\n",
        "            \"weight_output\": items[_weight_cols_].values,\n",
        "            \"bag_output\": items[_carryingbag_cols_].values,\n",
        "            \"pose_output\": items[_bodypose_cols_].values,\n",
        "            \"footwear_output\": items[_footwear_cols_].values,\n",
        "            \"emotion_output\": items[_emotion_cols_].values,\n",
        "        }\n",
        "        return image, target\n",
        "\n",
        "    def on_epoch_end(self):\n",
        "        \"\"\"Updates indexes after each epoch\"\"\"\n",
        "        if self.shuffle == True:\n",
        "            self.df = self.df.sample(frac=1).reset_index(drop=True)\n"
      ],
      "execution_count": 0,
      "outputs": []
    },
    {
      "cell_type": "code",
      "metadata": {
        "id": "Xs3pAgLt7Hln",
        "colab_type": "code",
        "colab": {}
      },
      "source": [
        "    def get_random_eraser(p=0.5, s_l=0.02, s_h=0.4, r_1=0.3, r_2=1/0.3, v_l=0, v_h=255, pixel_level=False):\n",
        "      def eraser(input_img):\n",
        "        img_h, img_w, img_c = input_img.shape\n",
        "        p_1 = np.random.rand()\n",
        "\n",
        "        if p_1 > p:\n",
        "            return input_img\n",
        "        while True:\n",
        "            s = np.random.uniform(s_l, s_h) * img_h * img_w\n",
        "            r = np.random.uniform(r_1, r_2)\n",
        "            w = int(np.sqrt(s / r))\n",
        "            h = int(np.sqrt(s * r))\n",
        "            left = np.random.randint(0, img_w)\n",
        "            top = np.random.randint(0, img_h)\n",
        "\n",
        "            if left + w <= img_w and top + h <= img_h:\n",
        "                break\n",
        "\n",
        "        if pixel_level:\n",
        "            c = np.random.uniform(v_l, v_h, (h, w, img_c))\n",
        "        else:\n",
        "            c = np.random.uniform(v_l, v_h)\n",
        "\n",
        "        input_img[top:top + h, left:left + w, :] = c\n",
        "\n",
        "        return input_img\n",
        "      return eraser"
      ],
      "execution_count": 0,
      "outputs": []
    },
    {
      "cell_type": "code",
      "metadata": {
        "id": "M1dXWeSc7Nv2",
        "colab_type": "code",
        "outputId": "2dd9664d-de74-42af-d468-cce1fce55de8",
        "colab": {
          "base_uri": "https://localhost:8080/",
          "height": 34
        }
      },
      "source": [
        "from sklearn.model_selection import train_test_split\n",
        "train_df, val_df = train_test_split(one_hot_df, test_size=0.1)\n",
        "train_df.shape, val_df.shape"
      ],
      "execution_count": 10,
      "outputs": [
        {
          "output_type": "execute_result",
          "data": {
            "text/plain": [
              "((12215, 28), (1358, 28))"
            ]
          },
          "metadata": {
            "tags": []
          },
          "execution_count": 10
        }
      ]
    },
    {
      "cell_type": "code",
      "metadata": {
        "id": "1dOiVw9i7Pme",
        "colab_type": "code",
        "colab": {}
      },
      "source": [
        "pixel_level=False\n",
        "# create train and validation data generators\n",
        "train_gen = PersonDataGenerator(train_df, batch_size=32, augmentation=ImageDataGenerator(horizontal_flip=True, vertical_flip=True, preprocessing_function=get_random_eraser(v_l=0, v_h=1, pixel_level=pixel_level)))\n",
        "valid_gen = PersonDataGenerator(val_df, batch_size=64, shuffle=False, augmentation=ImageDataGenerator(horizontal_flip=True, vertical_flip=True, preprocessing_function=get_random_eraser(v_l=0, v_h=1, pixel_level=pixel_level)))"
      ],
      "execution_count": 0,
      "outputs": []
    },
    {
      "cell_type": "code",
      "metadata": {
        "id": "HBiMa-C17UOG",
        "colab_type": "code",
        "outputId": "d7facac8-6f99-49bd-c8f2-431ec5882758",
        "colab": {
          "base_uri": "https://localhost:8080/",
          "height": 153
        }
      },
      "source": [
        "images, targets = next(iter(train_gen))\n",
        "num_units = { k.split(\"_output\")[0]:v.shape[1] for k, v in targets.items()}\n",
        "num_units"
      ],
      "execution_count": 13,
      "outputs": [
        {
          "output_type": "execute_result",
          "data": {
            "text/plain": [
              "{'age': 5,\n",
              " 'bag': 3,\n",
              " 'emotion': 4,\n",
              " 'footwear': 3,\n",
              " 'gender': 2,\n",
              " 'image_quality': 3,\n",
              " 'pose': 3,\n",
              " 'weight': 4}"
            ]
          },
          "metadata": {
            "tags": []
          },
          "execution_count": 13
        }
      ]
    },
    {
      "cell_type": "code",
      "metadata": {
        "id": "hr-VntFR7YVl",
        "colab_type": "code",
        "outputId": "ba2afc90-739b-417e-9697-2f3d0344ffaf",
        "colab": {
          "base_uri": "https://localhost:8080/",
          "height": 513
        }
      },
      "source": [
        "from keras.applications import ResNet50\n",
        "backbone = ResNet50(\n",
        "    weights=\"imagenet\", \n",
        "    include_top=False, \n",
        "    input_tensor=Input(shape=(224, 224, 3))\n",
        ")"
      ],
      "execution_count": 14,
      "outputs": [
        {
          "output_type": "stream",
          "text": [
            "WARNING:tensorflow:From /usr/local/lib/python3.6/dist-packages/keras/backend/tensorflow_backend.py:66: The name tf.get_default_graph is deprecated. Please use tf.compat.v1.get_default_graph instead.\n",
            "\n",
            "WARNING:tensorflow:From /usr/local/lib/python3.6/dist-packages/keras/backend/tensorflow_backend.py:541: The name tf.placeholder is deprecated. Please use tf.compat.v1.placeholder instead.\n",
            "\n",
            "WARNING:tensorflow:From /usr/local/lib/python3.6/dist-packages/keras/backend/tensorflow_backend.py:4479: The name tf.truncated_normal is deprecated. Please use tf.random.truncated_normal instead.\n",
            "\n",
            "WARNING:tensorflow:From /usr/local/lib/python3.6/dist-packages/keras/backend/tensorflow_backend.py:190: The name tf.get_default_session is deprecated. Please use tf.compat.v1.get_default_session instead.\n",
            "\n",
            "WARNING:tensorflow:From /usr/local/lib/python3.6/dist-packages/keras/backend/tensorflow_backend.py:197: The name tf.ConfigProto is deprecated. Please use tf.compat.v1.ConfigProto instead.\n",
            "\n",
            "WARNING:tensorflow:From /usr/local/lib/python3.6/dist-packages/keras/backend/tensorflow_backend.py:203: The name tf.Session is deprecated. Please use tf.compat.v1.Session instead.\n",
            "\n",
            "WARNING:tensorflow:From /usr/local/lib/python3.6/dist-packages/keras/backend/tensorflow_backend.py:207: The name tf.global_variables is deprecated. Please use tf.compat.v1.global_variables instead.\n",
            "\n",
            "WARNING:tensorflow:From /usr/local/lib/python3.6/dist-packages/keras/backend/tensorflow_backend.py:216: The name tf.is_variable_initialized is deprecated. Please use tf.compat.v1.is_variable_initialized instead.\n",
            "\n",
            "WARNING:tensorflow:From /usr/local/lib/python3.6/dist-packages/keras/backend/tensorflow_backend.py:223: The name tf.variables_initializer is deprecated. Please use tf.compat.v1.variables_initializer instead.\n",
            "\n",
            "WARNING:tensorflow:From /usr/local/lib/python3.6/dist-packages/keras/backend/tensorflow_backend.py:2041: The name tf.nn.fused_batch_norm is deprecated. Please use tf.compat.v1.nn.fused_batch_norm instead.\n",
            "\n",
            "WARNING:tensorflow:From /usr/local/lib/python3.6/dist-packages/keras/backend/tensorflow_backend.py:148: The name tf.placeholder_with_default is deprecated. Please use tf.compat.v1.placeholder_with_default instead.\n",
            "\n",
            "WARNING:tensorflow:From /usr/local/lib/python3.6/dist-packages/keras/backend/tensorflow_backend.py:4267: The name tf.nn.max_pool is deprecated. Please use tf.nn.max_pool2d instead.\n",
            "\n"
          ],
          "name": "stdout"
        },
        {
          "output_type": "stream",
          "text": [
            "/usr/local/lib/python3.6/dist-packages/keras_applications/resnet50.py:265: UserWarning: The output shape of `ResNet50(include_top=False)` has been changed since Keras 2.2.0.\n",
            "  warnings.warn('The output shape of `ResNet50(include_top=False)` '\n"
          ],
          "name": "stderr"
        },
        {
          "output_type": "stream",
          "text": [
            "Downloading data from https://github.com/fchollet/deep-learning-models/releases/download/v0.2/resnet50_weights_tf_dim_ordering_tf_kernels_notop.h5\n",
            "94658560/94653016 [==============================] - 3s 0us/step\n"
          ],
          "name": "stdout"
        }
      ]
    },
    {
      "cell_type": "code",
      "metadata": {
        "id": "Bwh4IUSX7f8m",
        "colab_type": "code",
        "outputId": "8f8c6676-116f-4962-f768-9cd8296f4a30",
        "colab": {
          "base_uri": "https://localhost:8080/",
          "height": 71
        }
      },
      "source": [
        "neck = backbone.output\n",
        "neck = Flatten(name=\"flatten\")(neck)\n",
        "neck = Dense(512, activation=\"relu\")(neck)"
      ],
      "execution_count": 15,
      "outputs": [
        {
          "output_type": "stream",
          "text": [
            "WARNING:tensorflow:From /usr/local/lib/python3.6/dist-packages/keras/backend/tensorflow_backend.py:4432: The name tf.random_uniform is deprecated. Please use tf.random.uniform instead.\n",
            "\n"
          ],
          "name": "stdout"
        }
      ]
    },
    {
      "cell_type": "code",
      "metadata": {
        "id": "HajPlcqH7kcm",
        "colab_type": "code",
        "outputId": "2ae259c8-d1d1-4779-8b40-f8f5a0692947",
        "colab": {
          "base_uri": "https://localhost:8080/",
          "height": 88
        }
      },
      "source": [
        "\n",
        "\n",
        "def build_tower(in_layer):\n",
        "    neck = Dropout(0.2)(in_layer)\n",
        "    neck = Dense(128, activation=\"relu\")(neck)\n",
        "    neck = Dropout(0.3)(in_layer)\n",
        "    neck = Dense(128, activation=\"relu\")(neck)\n",
        "    return neck\n",
        "\n",
        "\n",
        "def build_head(name, in_layer):\n",
        "    return Dense(\n",
        "        num_units[name], activation=\"softmax\", name=f\"{name}_output\"\n",
        "    )(in_layer)\n",
        "\n",
        "# heads\n",
        "gender = build_head(\"gender\", build_tower(neck))\n",
        "image_quality = build_head(\"image_quality\", build_tower(neck))\n",
        "age = build_head(\"age\", build_tower(neck))\n",
        "weight = build_head(\"weight\", build_tower(neck))\n",
        "bag = build_head(\"bag\", build_tower(neck))\n",
        "footwear = build_head(\"footwear\", build_tower(neck))\n",
        "emotion = build_head(\"emotion\", build_tower(neck))\n",
        "pose = build_head(\"pose\", build_tower(neck))\n",
        "\n",
        "\n",
        "model = Model(\n",
        "    inputs=backbone.input, \n",
        "    outputs=[gender, image_quality, age, weight, bag, footwear, pose, emotion]\n",
        ")"
      ],
      "execution_count": 16,
      "outputs": [
        {
          "output_type": "stream",
          "text": [
            "WARNING:tensorflow:From /usr/local/lib/python3.6/dist-packages/keras/backend/tensorflow_backend.py:3733: calling dropout (from tensorflow.python.ops.nn_ops) with keep_prob is deprecated and will be removed in a future version.\n",
            "Instructions for updating:\n",
            "Please use `rate` instead of `keep_prob`. Rate should be set to `rate = 1 - keep_prob`.\n"
          ],
          "name": "stdout"
        }
      ]
    },
    {
      "cell_type": "code",
      "metadata": {
        "id": "M9VEdvqZ7oqh",
        "colab_type": "code",
        "colab": {}
      },
      "source": [
        "# freeze backbone\n",
        "for layer in backbone.layers:\n",
        "\tlayer.trainable = False"
      ],
      "execution_count": 0,
      "outputs": []
    },
    {
      "cell_type": "code",
      "metadata": {
        "id": "SlNZadH9SVbo",
        "colab_type": "code",
        "colab": {}
      },
      "source": [
        "from keras.callbacks import *\n",
        "\n",
        "class CyclicLR(Callback):\n",
        "    \"\"\"This callback implements a cyclical learning rate policy (CLR).\n",
        "    The method cycles the learning rate between two boundaries with\n",
        "    some constant frequency, as detailed in this paper (https://arxiv.org/abs/1506.01186).\n",
        "    The amplitude of the cycle can be scaled on a per-iteration or \n",
        "    per-cycle basis.\n",
        "    This class has three built-in policies, as put forth in the paper.\n",
        "    \"triangular\":\n",
        "        A basic triangular cycle w/ no amplitude scaling.\n",
        "    \"triangular2\":\n",
        "        A basic triangular cycle that scales initial amplitude by half each cycle.\n",
        "    \"exp_range\":\n",
        "        A cycle that scales initial amplitude by gamma**(cycle iterations) at each \n",
        "        cycle iteration.\n",
        "    For more detail, please see paper.\n",
        "    \n",
        "    # Example\n",
        "        ```python\n",
        "            clr = CyclicLR(base_lr=0.001, max_lr=0.006,\n",
        "                                step_size=2000., mode='triangular')\n",
        "            model.fit(X_train, Y_train, callbacks=[clr])\n",
        "        ```\n",
        "    \n",
        "    Class also supports custom scaling functions:\n",
        "        ```python\n",
        "            clr_fn = lambda x: 0.5*(1+np.sin(x*np.pi/2.))\n",
        "            clr = CyclicLR(base_lr=0.001, max_lr=0.006,\n",
        "                                step_size=2000., scale_fn=clr_fn,\n",
        "                                scale_mode='cycle')\n",
        "            model.fit(X_train, Y_train, callbacks=[clr])\n",
        "        ```    \n",
        "    # Arguments\n",
        "        base_lr: initial learning rate which is the\n",
        "            lower boundary in the cycle.\n",
        "        max_lr: upper boundary in the cycle. Functionally,\n",
        "            it defines the cycle amplitude (max_lr - base_lr).\n",
        "            The lr at any cycle is the sum of base_lr\n",
        "            and some scaling of the amplitude; therefore \n",
        "            max_lr may not actually be reached depending on\n",
        "            scaling function.\n",
        "        step_size: number of training iterations per\n",
        "            half cycle. Authors suggest setting step_size\n",
        "            2-8 x training iterations in epoch.\n",
        "        mode: one of {triangular, triangular2, exp_range}.\n",
        "            Default 'triangular'.\n",
        "            Values correspond to policies detailed above.\n",
        "            If scale_fn is not None, this argument is ignored.\n",
        "        gamma: constant in 'exp_range' scaling function:\n",
        "            gamma**(cycle iterations)\n",
        "        scale_fn: Custom scaling policy defined by a single\n",
        "            argument lambda function, where \n",
        "            0 <= scale_fn(x) <= 1 for all x >= 0.\n",
        "            mode paramater is ignored \n",
        "        scale_mode: {'cycle', 'iterations'}.\n",
        "            Defines whether scale_fn is evaluated on \n",
        "            cycle number or cycle iterations (training\n",
        "            iterations since start of cycle). Default is 'cycle'.\n",
        "    \"\"\"\n",
        "\n",
        "    def __init__(self, base_lr=0.001, max_lr=0.006, step_size=2000., mode='triangular',\n",
        "                 gamma=1., scale_fn=None, scale_mode='cycle'):\n",
        "        super(CyclicLR, self).__init__()\n",
        "\n",
        "        self.base_lr = base_lr\n",
        "        self.max_lr = max_lr\n",
        "        self.step_size = step_size\n",
        "        self.mode = mode\n",
        "        self.gamma = gamma\n",
        "        if scale_fn == None:\n",
        "            if self.mode == 'triangular':\n",
        "                self.scale_fn = lambda x: 1.\n",
        "                self.scale_mode = 'cycle'\n",
        "            elif self.mode == 'triangular2':\n",
        "                self.scale_fn = lambda x: 1/(2.**(x-1))\n",
        "                self.scale_mode = 'cycle'\n",
        "            elif self.mode == 'exp_range':\n",
        "                self.scale_fn = lambda x: gamma**(x)\n",
        "                self.scale_mode = 'iterations'\n",
        "        else:\n",
        "            self.scale_fn = scale_fn\n",
        "            self.scale_mode = scale_mode\n",
        "        self.clr_iterations = 0.\n",
        "        self.trn_iterations = 0.\n",
        "        self.history = {}\n",
        "\n",
        "        self._reset()\n",
        "\n",
        "    def _reset(self, new_base_lr=None, new_max_lr=None,\n",
        "               new_step_size=None):\n",
        "        \"\"\"Resets cycle iterations.\n",
        "        Optional boundary/step size adjustment.\n",
        "        \"\"\"\n",
        "        if new_base_lr != None:\n",
        "            self.base_lr = new_base_lr\n",
        "        if new_max_lr != None:\n",
        "            self.max_lr = new_max_lr\n",
        "        if new_step_size != None:\n",
        "            self.step_size = new_step_size\n",
        "        self.clr_iterations = 0.\n",
        "        \n",
        "    def clr(self):\n",
        "        cycle = np.floor(1+self.clr_iterations/(2*self.step_size))\n",
        "        x = np.abs(self.clr_iterations/self.step_size - 2*cycle + 1)\n",
        "        if self.scale_mode == 'cycle':\n",
        "            return self.base_lr + (self.max_lr-self.base_lr)*np.maximum(0, (1-x))*self.scale_fn(cycle)\n",
        "        else:\n",
        "            return self.base_lr + (self.max_lr-self.base_lr)*np.maximum(0, (1-x))*self.scale_fn(self.clr_iterations)\n",
        "        \n",
        "    def on_train_begin(self, logs={}):\n",
        "        logs = logs or {}\n",
        "\n",
        "        if self.clr_iterations == 0:\n",
        "            K.set_value(self.model.optimizer.lr, self.base_lr)\n",
        "        else:\n",
        "            K.set_value(self.model.optimizer.lr, self.clr())        \n",
        "            \n",
        "    def on_batch_end(self, epoch, logs=None):\n",
        "        \n",
        "        logs = logs or {}\n",
        "        self.trn_iterations += 1\n",
        "        self.clr_iterations += 1\n",
        "\n",
        "        self.history.setdefault('lr', []).append(K.get_value(self.model.optimizer.lr))\n",
        "        self.history.setdefault('iterations', []).append(self.trn_iterations)\n",
        "\n",
        "        for k, v in logs.items():\n",
        "            self.history.setdefault(k, []).append(v)\n",
        "        \n",
        "        K.set_value(self.model.optimizer.lr, self.clr())"
      ],
      "execution_count": 0,
      "outputs": []
    },
    {
      "cell_type": "code",
      "metadata": {
        "id": "fwVqkaQg94Pq",
        "colab_type": "code",
        "colab": {}
      },
      "source": [
        "# Prepare model model saving directory.\n",
        "model_type = \"ResNet50\"\n",
        "save_dir = os.path.join(os.getcwd(), 'saved_models')\n",
        "model_name = 'personattributes_%s_model.{epoch:03d}.h5' % model_type\n",
        "if not os.path.isdir(save_dir):\n",
        "    os.makedirs(save_dir)\n",
        "filepath = os.path.join(save_dir, model_name)"
      ],
      "execution_count": 0,
      "outputs": []
    },
    {
      "cell_type": "code",
      "metadata": {
        "id": "wbJ8CqpE-Orx",
        "colab_type": "code",
        "colab": {}
      },
      "source": [
        "# Prepare callbacks for model saving and for learning rate adjustment.\n",
        "checkpoint = ModelCheckpoint(filepath=filepath,\n",
        "                             monitor='val_acc',\n",
        "                             verbose=1,\n",
        "                             save_best_only=True)\n",
        "\n",
        "clr = CyclicLR(base_lr=0.001, max_lr=0.006,\n",
        "                        step_size=2000.)\n",
        "\n",
        "\n",
        "\n",
        "callbacks = [checkpoint, clr]"
      ],
      "execution_count": 0,
      "outputs": []
    },
    {
      "cell_type": "code",
      "metadata": {
        "id": "ntJKHa437p83",
        "colab_type": "code",
        "colab": {}
      },
      "source": [
        "# losses = {\n",
        "# \t\"gender_output\": \"binary_crossentropy\",\n",
        "# \t\"image_quality_output\": \"categorical_crossentropy\",\n",
        "# \t\"age_output\": \"categorical_crossentropy\",\n",
        "# \t\"weight_output\": \"categorical_crossentropy\",\n",
        "\n",
        "# }\n",
        "# loss_weights = {\"gender_output\": 1.0, \"image_quality_output\": 1.0, \"age_output\": 1.0}\n",
        "\n",
        "\n",
        "opt = SGD(lr=0.1, momentum=0.9)\n",
        "model.compile(\n",
        "    optimizer=opt,\n",
        "    loss=\"categorical_crossentropy\", \n",
        "    # loss_weights=loss_weights, \n",
        "    metrics=[\"accuracy\"]\n",
        ")"
      ],
      "execution_count": 0,
      "outputs": []
    },
    {
      "cell_type": "code",
      "metadata": {
        "id": "wTjwnU6bSd_a",
        "colab_type": "code",
        "outputId": "2fb05949-42dd-4c4a-9f4d-13853dde6463",
        "colab": {
          "base_uri": "https://localhost:8080/",
          "height": 989
        }
      },
      "source": [
        "\n",
        "\n",
        "model.fit_generator(\n",
        "    generator=train_gen,\n",
        "    validation_data=valid_gen,\n",
        "    use_multiprocessing=True,\n",
        "    workers=4, \n",
        "    epochs=24,\n",
        "    verbose=1,\n",
        "    callbacks=callbacks\n",
        ")"
      ],
      "execution_count": 35,
      "outputs": [
        {
          "output_type": "stream",
          "text": [
            "Epoch 1/24\n",
            "381/381 [==============================] - 45s 117ms/step - loss: 2.9075 - gender_output_loss: 0.1042 - image_quality_output_loss: 0.3912 - age_output_loss: 0.7027 - weight_output_loss: 0.4488 - bag_output_loss: 0.3144 - footwear_output_loss: 0.3123 - pose_output_loss: 0.1602 - emotion_output_loss: 0.4736 - gender_output_acc: 0.9594 - image_quality_output_acc: 0.8556 - age_output_acc: 0.7209 - weight_output_acc: 0.8326 - bag_output_acc: 0.8788 - footwear_output_acc: 0.8761 - pose_output_acc: 0.9458 - emotion_output_acc: 0.8278 - val_loss: 9.4969 - val_gender_output_loss: 0.7434 - val_image_quality_output_loss: 1.8392 - val_age_output_loss: 1.6373 - val_weight_output_loss: 1.2609 - val_bag_output_loss: 1.0352 - val_footwear_output_loss: 1.0907 - val_pose_output_loss: 0.8798 - val_emotion_output_loss: 1.0104 - val_gender_output_acc: 0.7150 - val_image_quality_output_acc: 0.4844 - val_age_output_acc: 0.3735 - val_weight_output_acc: 0.6243 - val_bag_output_acc: 0.5945 - val_footwear_output_acc: 0.6391 - val_pose_output_acc: 0.7143 - val_emotion_output_acc: 0.6689\n"
          ],
          "name": "stdout"
        },
        {
          "output_type": "stream",
          "text": [
            "/usr/local/lib/python3.6/dist-packages/keras/callbacks.py:707: RuntimeWarning: Can save best model only with val_acc available, skipping.\n",
            "  'skipping.' % (self.monitor), RuntimeWarning)\n"
          ],
          "name": "stderr"
        },
        {
          "output_type": "stream",
          "text": [
            "Epoch 2/24\n",
            "380/381 [============================>.] - ETA: 0s - loss: 2.7917 - gender_output_loss: 0.1052 - image_quality_output_loss: 0.3738 - age_output_loss: 0.6637 - weight_output_loss: 0.4407 - bag_output_loss: 0.3023 - footwear_output_loss: 0.3069 - pose_output_loss: 0.1474 - emotion_output_loss: 0.4517 - gender_output_acc: 0.9594 - image_quality_output_acc: 0.8623 - age_output_acc: 0.7388 - weight_output_acc: 0.8344 - bag_output_acc: 0.8823 - footwear_output_acc: 0.8743 - pose_output_acc: 0.9520 - emotion_output_acc: 0.8329Epoch 2/24\n",
            "381/381 [==============================] - 42s 111ms/step - loss: 2.7912 - gender_output_loss: 0.1050 - image_quality_output_loss: 0.3734 - age_output_loss: 0.6638 - weight_output_loss: 0.4402 - bag_output_loss: 0.3023 - footwear_output_loss: 0.3073 - pose_output_loss: 0.1471 - emotion_output_loss: 0.4521 - gender_output_acc: 0.9595 - image_quality_output_acc: 0.8623 - age_output_acc: 0.7389 - weight_output_acc: 0.8346 - bag_output_acc: 0.8824 - footwear_output_acc: 0.8742 - pose_output_acc: 0.9520 - emotion_output_acc: 0.8328 - val_loss: 9.5752 - val_gender_output_loss: 0.6886 - val_image_quality_output_loss: 2.0437 - val_age_output_loss: 1.5851 - val_weight_output_loss: 1.1723 - val_bag_output_loss: 1.1126 - val_footwear_output_loss: 1.0517 - val_pose_output_loss: 0.9185 - val_emotion_output_loss: 1.0027 - val_gender_output_acc: 0.7247 - val_image_quality_output_acc: 0.5045 - val_age_output_acc: 0.3735 - val_weight_output_acc: 0.6287 - val_bag_output_acc: 0.5975 - val_footwear_output_acc: 0.6384 - val_pose_output_acc: 0.7158 - val_emotion_output_acc: 0.6860\n",
            "Epoch 3/24\n",
            "381/381 [==============================] - 42s 111ms/step - loss: 2.8114 - gender_output_loss: 0.1081 - image_quality_output_loss: 0.3749 - age_output_loss: 0.6820 - weight_output_loss: 0.4336 - bag_output_loss: 0.3008 - footwear_output_loss: 0.3024 - pose_output_loss: 0.1522 - emotion_output_loss: 0.4573 - gender_output_acc: 0.9566 - image_quality_output_acc: 0.8645 - age_output_acc: 0.7311 - weight_output_acc: 0.8367 - bag_output_acc: 0.8846 - footwear_output_acc: 0.8802 - pose_output_acc: 0.9473 - emotion_output_acc: 0.8322 - val_loss: 9.8917 - val_gender_output_loss: 0.6764 - val_image_quality_output_loss: 2.1285 - val_age_output_loss: 1.6333 - val_weight_output_loss: 1.3380 - val_bag_output_loss: 1.0766 - val_footwear_output_loss: 1.1482 - val_pose_output_loss: 0.8841 - val_emotion_output_loss: 1.0066 - val_gender_output_acc: 0.7128 - val_image_quality_output_acc: 0.4821 - val_age_output_acc: 0.3765 - val_weight_output_acc: 0.6235 - val_bag_output_acc: 0.6019 - val_footwear_output_acc: 0.6347 - val_pose_output_acc: 0.7009 - val_emotion_output_acc: 0.6719\n",
            "Epoch 4/24\n",
            "380/381 [============================>.] - ETA: 0s - loss: 2.9669 - gender_output_loss: 0.1190 - image_quality_output_loss: 0.3919 - age_output_loss: 0.7187 - weight_output_loss: 0.4603 - bag_output_loss: 0.3236 - footwear_output_loss: 0.3216 - pose_output_loss: 0.1642 - emotion_output_loss: 0.4675 - gender_output_acc: 0.9525 - image_quality_output_acc: 0.8532 - age_output_acc: 0.7187 - weight_output_acc: 0.8280 - bag_output_acc: 0.8794 - footwear_output_acc: 0.8762 - pose_output_acc: 0.9452 - emotion_output_acc: 0.8285Epoch 4/24\n",
            "381/381 [==============================] - 41s 107ms/step - loss: 2.9665 - gender_output_loss: 0.1190 - image_quality_output_loss: 0.3920 - age_output_loss: 0.7185 - weight_output_loss: 0.4601 - bag_output_loss: 0.3242 - footwear_output_loss: 0.3213 - pose_output_loss: 0.1644 - emotion_output_loss: 0.4670 - gender_output_acc: 0.9525 - image_quality_output_acc: 0.8532 - age_output_acc: 0.7187 - weight_output_acc: 0.8281 - bag_output_acc: 0.8792 - footwear_output_acc: 0.8765 - pose_output_acc: 0.9452 - emotion_output_acc: 0.8288 - val_loss: 9.0213 - val_gender_output_loss: 0.6323 - val_image_quality_output_loss: 1.5972 - val_age_output_loss: 1.5602 - val_weight_output_loss: 1.3281 - val_bag_output_loss: 1.0218 - val_footwear_output_loss: 0.9632 - val_pose_output_loss: 0.8931 - val_emotion_output_loss: 1.0254 - val_gender_output_acc: 0.7247 - val_image_quality_output_acc: 0.5141 - val_age_output_acc: 0.3653 - val_weight_output_acc: 0.6280 - val_bag_output_acc: 0.6064 - val_footwear_output_acc: 0.6295 - val_pose_output_acc: 0.7135 - val_emotion_output_acc: 0.6882\n",
            "Epoch 5/24\n",
            "381/381 [==============================] - 41s 107ms/step - loss: 3.1570 - gender_output_loss: 0.1258 - image_quality_output_loss: 0.4078 - age_output_loss: 0.7497 - weight_output_loss: 0.4976 - bag_output_loss: 0.3481 - footwear_output_loss: 0.3398 - pose_output_loss: 0.1860 - emotion_output_loss: 0.5022 - gender_output_acc: 0.9522 - image_quality_output_acc: 0.8482 - age_output_acc: 0.7128 - weight_output_acc: 0.8114 - bag_output_acc: 0.8667 - footwear_output_acc: 0.8668 - pose_output_acc: 0.9401 - emotion_output_acc: 0.8181 - val_loss: 9.2822 - val_gender_output_loss: 0.5884 - val_image_quality_output_loss: 1.6125 - val_age_output_loss: 1.6124 - val_weight_output_loss: 1.1755 - val_bag_output_loss: 1.1873 - val_footwear_output_loss: 1.1791 - val_pose_output_loss: 0.9425 - val_emotion_output_loss: 0.9846 - val_gender_output_acc: 0.7426 - val_image_quality_output_acc: 0.5149 - val_age_output_acc: 0.3266 - val_weight_output_acc: 0.6124 - val_bag_output_acc: 0.5930 - val_footwear_output_acc: 0.6287 - val_pose_output_acc: 0.6920 - val_emotion_output_acc: 0.7009\n",
            "Epoch 6/24\n",
            "381/381 [==============================] - 41s 107ms/step - loss: 3.4711 - gender_output_loss: 0.1471 - image_quality_output_loss: 0.4413 - age_output_loss: 0.8181 - weight_output_loss: 0.5469 - bag_output_loss: 0.3781 - footwear_output_loss: 0.3918 - pose_output_loss: 0.2159 - emotion_output_loss: 0.5319 - gender_output_acc: 0.9426 - image_quality_output_acc: 0.8343 - age_output_acc: 0.6863 - weight_output_acc: 0.7961 - bag_output_acc: 0.8601 - footwear_output_acc: 0.8460 - pose_output_acc: 0.9273 - emotion_output_acc: 0.8111 - val_loss: 10.2479 - val_gender_output_loss: 1.1270 - val_image_quality_output_loss: 1.7623 - val_age_output_loss: 1.7758 - val_weight_output_loss: 1.0955 - val_bag_output_loss: 1.3588 - val_footwear_output_loss: 1.1540 - val_pose_output_loss: 0.9491 - val_emotion_output_loss: 1.0253 - val_gender_output_acc: 0.6726 - val_image_quality_output_acc: 0.5030 - val_age_output_acc: 0.3564 - val_weight_output_acc: 0.6235 - val_bag_output_acc: 0.5982 - val_footwear_output_acc: 0.6324 - val_pose_output_acc: 0.7076 - val_emotion_output_acc: 0.7001\n",
            "Epoch 7/24\n",
            "381/381 [==============================] - 42s 111ms/step - loss: 3.7793 - gender_output_loss: 0.1638 - image_quality_output_loss: 0.4844 - age_output_loss: 0.8841 - weight_output_loss: 0.5812 - bag_output_loss: 0.4077 - footwear_output_loss: 0.4461 - pose_output_loss: 0.2297 - emotion_output_loss: 0.5821 - gender_output_acc: 0.9360 - image_quality_output_acc: 0.8170 - age_output_acc: 0.6626 - weight_output_acc: 0.7835 - bag_output_acc: 0.8441 - footwear_output_acc: 0.8277 - pose_output_acc: 0.9252 - emotion_output_acc: 0.7922 - val_loss: 9.3194 - val_gender_output_loss: 0.8572 - val_image_quality_output_loss: 1.4040 - val_age_output_loss: 1.6886 - val_weight_output_loss: 1.2332 - val_bag_output_loss: 1.0248 - val_footwear_output_loss: 1.2391 - val_pose_output_loss: 0.9026 - val_emotion_output_loss: 0.9698 - val_gender_output_acc: 0.6682 - val_image_quality_output_acc: 0.5335 - val_age_output_acc: 0.3713 - val_weight_output_acc: 0.6280 - val_bag_output_acc: 0.6168 - val_footwear_output_acc: 0.6458 - val_pose_output_acc: 0.7031 - val_emotion_output_acc: 0.6786\n",
            "Epoch 8/24\n",
            "381/381 [==============================] - 42s 110ms/step - loss: 3.6222 - gender_output_loss: 0.1525 - image_quality_output_loss: 0.4734 - age_output_loss: 0.8507 - weight_output_loss: 0.5659 - bag_output_loss: 0.3968 - footwear_output_loss: 0.4005 - pose_output_loss: 0.2226 - emotion_output_loss: 0.5598 - gender_output_acc: 0.9413 - image_quality_output_acc: 0.8231 - age_output_acc: 0.6778 - weight_output_acc: 0.7891 - bag_output_acc: 0.8488 - footwear_output_acc: 0.8436 - pose_output_acc: 0.9260 - emotion_output_acc: 0.7970 - val_loss: 9.2279 - val_gender_output_loss: 0.9453 - val_image_quality_output_loss: 1.5860 - val_age_output_loss: 1.5713 - val_weight_output_loss: 1.0466 - val_bag_output_loss: 1.1099 - val_footwear_output_loss: 1.0698 - val_pose_output_loss: 0.9069 - val_emotion_output_loss: 0.9922 - val_gender_output_acc: 0.6957 - val_image_quality_output_acc: 0.5112 - val_age_output_acc: 0.3504 - val_weight_output_acc: 0.6146 - val_bag_output_acc: 0.5967 - val_footwear_output_acc: 0.6429 - val_pose_output_acc: 0.6942 - val_emotion_output_acc: 0.6622\n",
            "Epoch 9/24\n",
            "380/381 [============================>.] - ETA: 0s - loss: 3.2844 - gender_output_loss: 0.1415 - image_quality_output_loss: 0.4448 - age_output_loss: 0.7634 - weight_output_loss: 0.5050 - bag_output_loss: 0.3445 - footwear_output_loss: 0.3750 - pose_output_loss: 0.1888 - emotion_output_loss: 0.5213 - gender_output_acc: 0.9447 - image_quality_output_acc: 0.8332 - age_output_acc: 0.7078 - weight_output_acc: 0.8149 - bag_output_acc: 0.8704 - footwear_output_acc: 0.8542 - pose_output_acc: 0.9377 - emotion_output_acc: 0.8129Epoch 9/24\n",
            "381/381 [==============================] - 41s 107ms/step - loss: 3.2835 - gender_output_loss: 0.1415 - image_quality_output_loss: 0.4445 - age_output_loss: 0.7630 - weight_output_loss: 0.5041 - bag_output_loss: 0.3444 - footwear_output_loss: 0.3753 - pose_output_loss: 0.1889 - emotion_output_loss: 0.5216 - gender_output_acc: 0.9446 - image_quality_output_acc: 0.8333 - age_output_acc: 0.7079 - weight_output_acc: 0.8153 - bag_output_acc: 0.8705 - footwear_output_acc: 0.8542 - pose_output_acc: 0.9377 - emotion_output_acc: 0.8130 - val_loss: 8.9238 - val_gender_output_loss: 0.7109 - val_image_quality_output_loss: 1.3993 - val_age_output_loss: 1.6411 - val_weight_output_loss: 1.1561 - val_bag_output_loss: 1.1134 - val_footwear_output_loss: 1.0677 - val_pose_output_loss: 0.8326 - val_emotion_output_loss: 1.0027 - val_gender_output_acc: 0.7351 - val_image_quality_output_acc: 0.5238 - val_age_output_acc: 0.3832 - val_weight_output_acc: 0.6124 - val_bag_output_acc: 0.5885 - val_footwear_output_acc: 0.6488 - val_pose_output_acc: 0.7121 - val_emotion_output_acc: 0.7009\n",
            "Epoch 10/24\n",
            "381/381 [==============================] - 41s 107ms/step - loss: 2.9391 - gender_output_loss: 0.1251 - image_quality_output_loss: 0.3942 - age_output_loss: 0.6944 - weight_output_loss: 0.4533 - bag_output_loss: 0.3018 - footwear_output_loss: 0.3201 - pose_output_loss: 0.1801 - emotion_output_loss: 0.4700 - gender_output_acc: 0.9509 - image_quality_output_acc: 0.8524 - age_output_acc: 0.7416 - weight_output_acc: 0.8349 - bag_output_acc: 0.8900 - footwear_output_acc: 0.8773 - pose_output_acc: 0.9402 - emotion_output_acc: 0.8282 - val_loss: 9.0099 - val_gender_output_loss: 0.6517 - val_image_quality_output_loss: 1.5090 - val_age_output_loss: 1.5419 - val_weight_output_loss: 1.2124 - val_bag_output_loss: 1.1271 - val_footwear_output_loss: 1.0731 - val_pose_output_loss: 0.9109 - val_emotion_output_loss: 0.9838 - val_gender_output_acc: 0.7195 - val_image_quality_output_acc: 0.5402 - val_age_output_acc: 0.3728 - val_weight_output_acc: 0.6220 - val_bag_output_acc: 0.5938 - val_footwear_output_acc: 0.6458 - val_pose_output_acc: 0.7001 - val_emotion_output_acc: 0.7039\n",
            "Epoch 11/24\n",
            "381/381 [==============================] - 41s 107ms/step - loss: 2.6442 - gender_output_loss: 0.1151 - image_quality_output_loss: 0.3709 - age_output_loss: 0.6179 - weight_output_loss: 0.4029 - bag_output_loss: 0.2818 - footwear_output_loss: 0.2837 - pose_output_loss: 0.1507 - emotion_output_loss: 0.4213 - gender_output_acc: 0.9546 - image_quality_output_acc: 0.8625 - age_output_acc: 0.7675 - weight_output_acc: 0.8508 - bag_output_acc: 0.8944 - footwear_output_acc: 0.8876 - pose_output_acc: 0.9512 - emotion_output_acc: 0.8456 - val_loss: 9.5313 - val_gender_output_loss: 0.8007 - val_image_quality_output_loss: 1.7322 - val_age_output_loss: 1.6369 - val_weight_output_loss: 1.2558 - val_bag_output_loss: 1.1012 - val_footwear_output_loss: 1.0869 - val_pose_output_loss: 0.9087 - val_emotion_output_loss: 1.0088 - val_gender_output_acc: 0.7098 - val_image_quality_output_acc: 0.5164 - val_age_output_acc: 0.3728 - val_weight_output_acc: 0.6235 - val_bag_output_acc: 0.6049 - val_footwear_output_acc: 0.6376 - val_pose_output_acc: 0.7292 - val_emotion_output_acc: 0.6756\n",
            "Epoch 12/24\n",
            "380/381 [============================>.] - ETA: 0s - loss: 2.4052 - gender_output_loss: 0.1031 - image_quality_output_loss: 0.3387 - age_output_loss: 0.5597 - weight_output_loss: 0.3720 - bag_output_loss: 0.2541 - footwear_output_loss: 0.2656 - pose_output_loss: 0.1317 - emotion_output_loss: 0.3803 - gender_output_acc: 0.9610 - image_quality_output_acc: 0.8763 - age_output_acc: 0.7891 - weight_output_acc: 0.8673 - bag_output_acc: 0.9045 - footwear_output_acc: 0.8966 - pose_output_acc: 0.9564 - emotion_output_acc: 0.8604Epoch 12/24\n",
            "381/381 [==============================] - 41s 108ms/step - loss: 2.4050 - gender_output_loss: 0.1031 - image_quality_output_loss: 0.3381 - age_output_loss: 0.5597 - weight_output_loss: 0.3720 - bag_output_loss: 0.2539 - footwear_output_loss: 0.2662 - pose_output_loss: 0.1316 - emotion_output_loss: 0.3803 - gender_output_acc: 0.9610 - image_quality_output_acc: 0.8766 - age_output_acc: 0.7890 - weight_output_acc: 0.8671 - bag_output_acc: 0.9047 - footwear_output_acc: 0.8965 - pose_output_acc: 0.9564 - emotion_output_acc: 0.8603 - val_loss: 9.5311 - val_gender_output_loss: 0.8232 - val_image_quality_output_loss: 1.5951 - val_age_output_loss: 1.6448 - val_weight_output_loss: 1.2226 - val_bag_output_loss: 1.1106 - val_footwear_output_loss: 1.1286 - val_pose_output_loss: 0.9596 - val_emotion_output_loss: 1.0466 - val_gender_output_acc: 0.7046 - val_image_quality_output_acc: 0.5275 - val_age_output_acc: 0.3713 - val_weight_output_acc: 0.6228 - val_bag_output_acc: 0.5975 - val_footwear_output_acc: 0.6391 - val_pose_output_acc: 0.7232 - val_emotion_output_acc: 0.6905\n",
            "Epoch 13/24\n",
            "381/381 [==============================] - 42s 111ms/step - loss: 2.3914 - gender_output_loss: 0.0993 - image_quality_output_loss: 0.3406 - age_output_loss: 0.5498 - weight_output_loss: 0.3676 - bag_output_loss: 0.2530 - footwear_output_loss: 0.2612 - pose_output_loss: 0.1344 - emotion_output_loss: 0.3856 - gender_output_acc: 0.9620 - image_quality_output_acc: 0.8747 - age_output_acc: 0.7910 - weight_output_acc: 0.8670 - bag_output_acc: 0.9060 - footwear_output_acc: 0.8959 - pose_output_acc: 0.9566 - emotion_output_acc: 0.8600 - val_loss: 9.4464 - val_gender_output_loss: 0.8469 - val_image_quality_output_loss: 1.4371 - val_age_output_loss: 1.6830 - val_weight_output_loss: 1.1766 - val_bag_output_loss: 1.1706 - val_footwear_output_loss: 1.1211 - val_pose_output_loss: 0.9365 - val_emotion_output_loss: 1.0747 - val_gender_output_acc: 0.6890 - val_image_quality_output_acc: 0.5365 - val_age_output_acc: 0.3564 - val_weight_output_acc: 0.6220 - val_bag_output_acc: 0.6064 - val_footwear_output_acc: 0.6384 - val_pose_output_acc: 0.7307 - val_emotion_output_acc: 0.6845\n",
            "Epoch 14/24\n",
            "381/381 [==============================] - 41s 108ms/step - loss: 2.4558 - gender_output_loss: 0.1020 - image_quality_output_loss: 0.3430 - age_output_loss: 0.5722 - weight_output_loss: 0.3787 - bag_output_loss: 0.2601 - footwear_output_loss: 0.2733 - pose_output_loss: 0.1334 - emotion_output_loss: 0.3930 - gender_output_acc: 0.9598 - image_quality_output_acc: 0.8780 - age_output_acc: 0.7873 - weight_output_acc: 0.8607 - bag_output_acc: 0.9017 - footwear_output_acc: 0.8933 - pose_output_acc: 0.9563 - emotion_output_acc: 0.8581 - val_loss: 9.4048 - val_gender_output_loss: 0.7501 - val_image_quality_output_loss: 1.5772 - val_age_output_loss: 1.7152 - val_weight_output_loss: 1.2481 - val_bag_output_loss: 1.1060 - val_footwear_output_loss: 1.0438 - val_pose_output_loss: 0.8871 - val_emotion_output_loss: 1.0775 - val_gender_output_acc: 0.7292 - val_image_quality_output_acc: 0.5402 - val_age_output_acc: 0.3504 - val_weight_output_acc: 0.5967 - val_bag_output_acc: 0.5923 - val_footwear_output_acc: 0.6436 - val_pose_output_acc: 0.7083 - val_emotion_output_acc: 0.6987\n",
            "Epoch 15/24\n",
            "381/381 [==============================] - 42s 111ms/step - loss: 2.6693 - gender_output_loss: 0.1105 - image_quality_output_loss: 0.3697 - age_output_loss: 0.6231 - weight_output_loss: 0.4114 - bag_output_loss: 0.2904 - footwear_output_loss: 0.2954 - pose_output_loss: 0.1480 - emotion_output_loss: 0.4208 - gender_output_acc: 0.9570 - image_quality_output_acc: 0.8650 - age_output_acc: 0.7650 - weight_output_acc: 0.8482 - bag_output_acc: 0.8922 - footwear_output_acc: 0.8840 - pose_output_acc: 0.9500 - emotion_output_acc: 0.8474 - val_loss: 10.1839 - val_gender_output_loss: 0.9634 - val_image_quality_output_loss: 1.7349 - val_age_output_loss: 1.7384 - val_weight_output_loss: 1.3332 - val_bag_output_loss: 1.1287 - val_footwear_output_loss: 1.2239 - val_pose_output_loss: 1.0131 - val_emotion_output_loss: 1.0483 - val_gender_output_acc: 0.6935 - val_image_quality_output_acc: 0.5082 - val_age_output_acc: 0.3497 - val_weight_output_acc: 0.6101 - val_bag_output_acc: 0.5938 - val_footwear_output_acc: 0.6302 - val_pose_output_acc: 0.7180 - val_emotion_output_acc: 0.6823\n",
            "Epoch 16/24\n",
            "381/381 [==============================] - 41s 108ms/step - loss: 2.9389 - gender_output_loss: 0.1304 - image_quality_output_loss: 0.3896 - age_output_loss: 0.6891 - weight_output_loss: 0.4555 - bag_output_loss: 0.3150 - footwear_output_loss: 0.3254 - pose_output_loss: 0.1767 - emotion_output_loss: 0.4571 - gender_output_acc: 0.9482 - image_quality_output_acc: 0.8585 - age_output_acc: 0.7457 - weight_output_acc: 0.8339 - bag_output_acc: 0.8812 - footwear_output_acc: 0.8780 - pose_output_acc: 0.9422 - emotion_output_acc: 0.8365 - val_loss: 9.4716 - val_gender_output_loss: 0.7748 - val_image_quality_output_loss: 1.3094 - val_age_output_loss: 1.6414 - val_weight_output_loss: 1.3532 - val_bag_output_loss: 1.2967 - val_footwear_output_loss: 1.0037 - val_pose_output_loss: 1.0724 - val_emotion_output_loss: 1.0202 - val_gender_output_acc: 0.7098 - val_image_quality_output_acc: 0.5595 - val_age_output_acc: 0.3713 - val_weight_output_acc: 0.6295 - val_bag_output_acc: 0.5938 - val_footwear_output_acc: 0.6272 - val_pose_output_acc: 0.7106 - val_emotion_output_acc: 0.6860\n",
            "Epoch 17/24\n",
            "381/381 [==============================] - 41s 106ms/step - loss: 3.3615 - gender_output_loss: 0.1481 - image_quality_output_loss: 0.4498 - age_output_loss: 0.7750 - weight_output_loss: 0.5329 - bag_output_loss: 0.3518 - footwear_output_loss: 0.3711 - pose_output_loss: 0.2339 - emotion_output_loss: 0.4987 - gender_output_acc: 0.9425 - image_quality_output_acc: 0.8365 - age_output_acc: 0.7192 - weight_output_acc: 0.8106 - bag_output_acc: 0.8702 - footwear_output_acc: 0.8597 - pose_output_acc: 0.9240 - emotion_output_acc: 0.8275 - val_loss: 9.7711 - val_gender_output_loss: 0.8938 - val_image_quality_output_loss: 1.8158 - val_age_output_loss: 1.6547 - val_weight_output_loss: 1.2305 - val_bag_output_loss: 1.0971 - val_footwear_output_loss: 1.1778 - val_pose_output_loss: 0.8951 - val_emotion_output_loss: 1.0063 - val_gender_output_acc: 0.7106 - val_image_quality_output_acc: 0.5223 - val_age_output_acc: 0.3564 - val_weight_output_acc: 0.6124 - val_bag_output_acc: 0.5930 - val_footwear_output_acc: 0.6287 - val_pose_output_acc: 0.7098 - val_emotion_output_acc: 0.6659\n",
            "Epoch 18/24\n",
            "381/381 [==============================] - 41s 107ms/step - loss: 3.4711 - gender_output_loss: 0.1579 - image_quality_output_loss: 0.4455 - age_output_loss: 0.8059 - weight_output_loss: 0.5294 - bag_output_loss: 0.3771 - footwear_output_loss: 0.3907 - pose_output_loss: 0.2441 - emotion_output_loss: 0.5204 - gender_output_acc: 0.9388 - image_quality_output_acc: 0.8351 - age_output_acc: 0.7091 - weight_output_acc: 0.8145 - bag_output_acc: 0.8668 - footwear_output_acc: 0.8542 - pose_output_acc: 0.9213 - emotion_output_acc: 0.8177 - val_loss: 9.9821 - val_gender_output_loss: 0.7754 - val_image_quality_output_loss: 1.5775 - val_age_output_loss: 1.7170 - val_weight_output_loss: 1.4996 - val_bag_output_loss: 1.3403 - val_footwear_output_loss: 1.1659 - val_pose_output_loss: 0.8819 - val_emotion_output_loss: 1.0245 - val_gender_output_acc: 0.6949 - val_image_quality_output_acc: 0.5201 - val_age_output_acc: 0.3557 - val_weight_output_acc: 0.6153 - val_bag_output_acc: 0.5766 - val_footwear_output_acc: 0.6369 - val_pose_output_acc: 0.6905 - val_emotion_output_acc: 0.6957\n",
            "Epoch 19/24\n",
            "381/381 [==============================] - 41s 106ms/step - loss: 3.1112 - gender_output_loss: 0.1409 - image_quality_output_loss: 0.4144 - age_output_loss: 0.7159 - weight_output_loss: 0.4863 - bag_output_loss: 0.3266 - footwear_output_loss: 0.3440 - pose_output_loss: 0.1977 - emotion_output_loss: 0.4853 - gender_output_acc: 0.9471 - image_quality_output_acc: 0.8506 - age_output_acc: 0.7400 - weight_output_acc: 0.8235 - bag_output_acc: 0.8809 - footwear_output_acc: 0.8702 - pose_output_acc: 0.9350 - emotion_output_acc: 0.8278 - val_loss: 10.4704 - val_gender_output_loss: 0.8737 - val_image_quality_output_loss: 1.6520 - val_age_output_loss: 2.0333 - val_weight_output_loss: 1.2952 - val_bag_output_loss: 1.1037 - val_footwear_output_loss: 1.4650 - val_pose_output_loss: 0.9803 - val_emotion_output_loss: 1.0672 - val_gender_output_acc: 0.6920 - val_image_quality_output_acc: 0.5141 - val_age_output_acc: 0.3497 - val_weight_output_acc: 0.6235 - val_bag_output_acc: 0.5990 - val_footwear_output_acc: 0.6235 - val_pose_output_acc: 0.7098 - val_emotion_output_acc: 0.6615\n",
            "Epoch 20/24\n",
            "381/381 [==============================] - 42s 111ms/step - loss: 2.7508 - gender_output_loss: 0.1146 - image_quality_output_loss: 0.3740 - age_output_loss: 0.6239 - weight_output_loss: 0.4323 - bag_output_loss: 0.2886 - footwear_output_loss: 0.3118 - pose_output_loss: 0.1698 - emotion_output_loss: 0.4358 - gender_output_acc: 0.9555 - image_quality_output_acc: 0.8640 - age_output_acc: 0.7724 - weight_output_acc: 0.8448 - bag_output_acc: 0.8942 - footwear_output_acc: 0.8815 - pose_output_acc: 0.9429 - emotion_output_acc: 0.8435 - val_loss: 9.9222 - val_gender_output_loss: 0.7703 - val_image_quality_output_loss: 1.6590 - val_age_output_loss: 1.9699 - val_weight_output_loss: 1.2819 - val_bag_output_loss: 1.1063 - val_footwear_output_loss: 1.1601 - val_pose_output_loss: 0.9190 - val_emotion_output_loss: 1.0556 - val_gender_output_acc: 0.7106 - val_image_quality_output_acc: 0.5193 - val_age_output_acc: 0.3713 - val_weight_output_acc: 0.6168 - val_bag_output_acc: 0.6094 - val_footwear_output_acc: 0.6399 - val_pose_output_acc: 0.7121 - val_emotion_output_acc: 0.6994\n",
            "Epoch 21/24\n",
            "380/381 [============================>.] - ETA: 0s - loss: 2.4729 - gender_output_loss: 0.1093 - image_quality_output_loss: 0.3628 - age_output_loss: 0.5580 - weight_output_loss: 0.3698 - bag_output_loss: 0.2805 - footwear_output_loss: 0.2619 - pose_output_loss: 0.1485 - emotion_output_loss: 0.3821 - gender_output_acc: 0.9569 - image_quality_output_acc: 0.8706 - age_output_acc: 0.7963 - weight_output_acc: 0.8655 - bag_output_acc: 0.8970 - footwear_output_acc: 0.9005 - pose_output_acc: 0.9515 - emotion_output_acc: 0.8624Epoch 21/24\n",
            "381/381 [==============================] - 41s 107ms/step - loss: 2.4734 - gender_output_loss: 0.1092 - image_quality_output_loss: 0.3624 - age_output_loss: 0.5582 - weight_output_loss: 0.3698 - bag_output_loss: 0.2811 - footwear_output_loss: 0.2618 - pose_output_loss: 0.1486 - emotion_output_loss: 0.3822 - gender_output_acc: 0.9569 - image_quality_output_acc: 0.8707 - age_output_acc: 0.7961 - weight_output_acc: 0.8654 - bag_output_acc: 0.8968 - footwear_output_acc: 0.9006 - pose_output_acc: 0.9514 - emotion_output_acc: 0.8623 - val_loss: 10.0089 - val_gender_output_loss: 0.7531 - val_image_quality_output_loss: 1.8047 - val_age_output_loss: 1.7750 - val_weight_output_loss: 1.3009 - val_bag_output_loss: 1.2009 - val_footwear_output_loss: 1.1957 - val_pose_output_loss: 0.8794 - val_emotion_output_loss: 1.0993 - val_gender_output_acc: 0.7009 - val_image_quality_output_acc: 0.5246 - val_age_output_acc: 0.3512 - val_weight_output_acc: 0.6205 - val_bag_output_acc: 0.5923 - val_footwear_output_acc: 0.6384 - val_pose_output_acc: 0.7269 - val_emotion_output_acc: 0.6957\n",
            "Epoch 22/24\n",
            "381/381 [==============================] - 41s 108ms/step - loss: 2.1906 - gender_output_loss: 0.1019 - image_quality_output_loss: 0.3167 - age_output_loss: 0.4804 - weight_output_loss: 0.3263 - bag_output_loss: 0.2381 - footwear_output_loss: 0.2478 - pose_output_loss: 0.1276 - emotion_output_loss: 0.3518 - gender_output_acc: 0.9590 - image_quality_output_acc: 0.8885 - age_output_acc: 0.8241 - weight_output_acc: 0.8815 - bag_output_acc: 0.9121 - footwear_output_acc: 0.9034 - pose_output_acc: 0.9584 - emotion_output_acc: 0.8736 - val_loss: 9.5483 - val_gender_output_loss: 0.7892 - val_image_quality_output_loss: 1.5373 - val_age_output_loss: 1.6549 - val_weight_output_loss: 1.2942 - val_bag_output_loss: 1.1252 - val_footwear_output_loss: 1.0735 - val_pose_output_loss: 0.9948 - val_emotion_output_loss: 1.0793 - val_gender_output_acc: 0.7054 - val_image_quality_output_acc: 0.5409 - val_age_output_acc: 0.3609 - val_weight_output_acc: 0.6213 - val_bag_output_acc: 0.6042 - val_footwear_output_acc: 0.6488 - val_pose_output_acc: 0.7247 - val_emotion_output_acc: 0.6689\n",
            "Epoch 23/24\n",
            "381/381 [==============================] - 41s 107ms/step - loss: 2.0467 - gender_output_loss: 0.0929 - image_quality_output_loss: 0.3081 - age_output_loss: 0.4619 - weight_output_loss: 0.3030 - bag_output_loss: 0.2251 - footwear_output_loss: 0.2218 - pose_output_loss: 0.1155 - emotion_output_loss: 0.3183 - gender_output_acc: 0.9651 - image_quality_output_acc: 0.8894 - age_output_acc: 0.8303 - weight_output_acc: 0.8903 - bag_output_acc: 0.9166 - footwear_output_acc: 0.9161 - pose_output_acc: 0.9590 - emotion_output_acc: 0.8824 - val_loss: 9.8087 - val_gender_output_loss: 0.8864 - val_image_quality_output_loss: 1.5377 - val_age_output_loss: 1.6644 - val_weight_output_loss: 1.4079 - val_bag_output_loss: 1.0937 - val_footwear_output_loss: 1.1202 - val_pose_output_loss: 0.9611 - val_emotion_output_loss: 1.1374 - val_gender_output_acc: 0.7106 - val_image_quality_output_acc: 0.5394 - val_age_output_acc: 0.3869 - val_weight_output_acc: 0.6176 - val_bag_output_acc: 0.6109 - val_footwear_output_acc: 0.6473 - val_pose_output_acc: 0.7277 - val_emotion_output_acc: 0.6845\n",
            "Epoch 24/24\n",
            "381/381 [==============================] - 41s 108ms/step - loss: 2.1408 - gender_output_loss: 0.0900 - image_quality_output_loss: 0.3207 - age_output_loss: 0.4766 - weight_output_loss: 0.3177 - bag_output_loss: 0.2344 - footwear_output_loss: 0.2450 - pose_output_loss: 0.1236 - emotion_output_loss: 0.3327 - gender_output_acc: 0.9660 - image_quality_output_acc: 0.8858 - age_output_acc: 0.8236 - weight_output_acc: 0.8845 - bag_output_acc: 0.9120 - footwear_output_acc: 0.9052 - pose_output_acc: 0.9596 - emotion_output_acc: 0.8792 - val_loss: 10.4701 - val_gender_output_loss: 0.7341 - val_image_quality_output_loss: 1.9107 - val_age_output_loss: 1.6958 - val_weight_output_loss: 1.7128 - val_bag_output_loss: 1.1383 - val_footwear_output_loss: 1.2017 - val_pose_output_loss: 0.9265 - val_emotion_output_loss: 1.1501 - val_gender_output_acc: 0.7277 - val_image_quality_output_acc: 0.5179 - val_age_output_acc: 0.3757 - val_weight_output_acc: 0.6228 - val_bag_output_acc: 0.5804 - val_footwear_output_acc: 0.6376 - val_pose_output_acc: 0.7121 - val_emotion_output_acc: 0.6793\n"
          ],
          "name": "stdout"
        },
        {
          "output_type": "execute_result",
          "data": {
            "text/plain": [
              "<keras.callbacks.History at 0x7f60addc84e0>"
            ]
          },
          "metadata": {
            "tags": []
          },
          "execution_count": 35
        }
      ]
    },
    {
      "cell_type": "code",
      "metadata": {
        "id": "a3xl9xDFdykE",
        "colab_type": "code",
        "colab": {}
      },
      "source": [
        "history=model.history"
      ],
      "execution_count": 0,
      "outputs": []
    },
    {
      "cell_type": "code",
      "metadata": {
        "id": "Vtz03z4od3h4",
        "colab_type": "code",
        "outputId": "5493f557-cebe-443f-d998-57e494e3f04f",
        "colab": {
          "base_uri": "https://localhost:8080/",
          "height": 153
        }
      },
      "source": [
        "#print(history.history.keys())\n",
        "for x in history.history.keys():\n",
        "  if x.startswith('val') and x.endswith('acc'):\n",
        "    print(x, \" -- \",  history.history[x][-1])"
      ],
      "execution_count": 50,
      "outputs": [
        {
          "output_type": "stream",
          "text": [
            "val_gender_output_acc  --  0.7276785714285714\n",
            "val_image_quality_output_acc  --  0.5178571428571429\n",
            "val_age_output_acc  --  0.3757440476190476\n",
            "val_weight_output_acc  --  0.6227678571428571\n",
            "val_bag_output_acc  --  0.5803571428571429\n",
            "val_footwear_output_acc  --  0.6376488095238095\n",
            "val_pose_output_acc  --  0.7120535714285714\n",
            "val_emotion_output_acc  --  0.6793154761904762\n"
          ],
          "name": "stdout"
        }
      ]
    },
    {
      "cell_type": "code",
      "metadata": {
        "id": "ezPG8TbPPPn9",
        "colab_type": "code",
        "colab": {
          "base_uri": "https://localhost:8080/",
          "height": 312
        },
        "outputId": "04879a94-475f-4ec7-fa45-b4b72d09f958"
      },
      "source": [
        "import matplotlib.pyplot as plt\n",
        "plt.xlabel('Training Iterations')\n",
        "plt.ylabel('Learning Rate')\n",
        "plt.title(\"CLR - Custom Sinusoidal Cycle-Policy\")\n",
        "plt.plot(clr.history['iterations'], clr.history['lr'])"
      ],
      "execution_count": 52,
      "outputs": [
        {
          "output_type": "execute_result",
          "data": {
            "text/plain": [
              "[<matplotlib.lines.Line2D at 0x7f5ff3818b38>]"
            ]
          },
          "metadata": {
            "tags": []
          },
          "execution_count": 52
        },
        {
          "output_type": "display_data",
          "data": {
            "image/png": "[encoded data removed]",
            "text/plain": [
              "<Figure size 432x288 with 1 Axes>"
            ]
          },
          "metadata": {
            "tags": []
          }
        }
      ]
    },
    {
      "cell_type": "code",
      "metadata": {
        "id": "a8HlfuMm4PQr",
        "colab_type": "code",
        "colab": {}
      },
      "source": [
        "history=model.history"
      ],
      "execution_count": 0,
      "outputs": []
    },
    {
      "cell_type": "code",
      "metadata": {
        "id": "p1-8B4W_4Xe2",
        "colab_type": "code",
        "outputId": "e48aefee-5581-4f1d-e127-e68a9c476e2b",
        "colab": {
          "base_uri": "https://localhost:8080/",
          "height": 54
        }
      },
      "source": [
        "val_loss=[]\n",
        "for i in range(24):\n",
        "  sum=0\n",
        "  l = ['val_gender_output_loss','val_image_quality_output_loss',  'val_age_output_loss', 'val_weight_output_loss', 'val_bag_output_loss', 'val_footwear_output_loss', 'val_pose_output_loss',\n",
        " 'val_emotion_output_loss']\n",
        "  for x in l:\n",
        "    sum += history.history[x][i]\n",
        "  val_loss.append(sum)\n",
        "print(val_loss)"
      ],
      "execution_count": 41,
      "outputs": [
        {
          "output_type": "stream",
          "text": [
            "[9.496938660031274, 9.575182284627644, 9.891652067502338, 9.021271678663435, 9.28217975156648, 10.24787176223028, 9.319446302595594, 9.22793854418255, 8.92383851323809, 9.00994586093085, 9.53125984044302, 9.531100380988349, 9.44635308640344, 9.404843181371687, 10.18386368240629, 9.471580369131905, 9.771075285616375, 9.982058117787044, 10.470395539488113, 9.922236470949082, 10.00889975542114, 9.548321306705475, 9.808675714901515, 10.470105042060217]\n"
          ],
          "name": "stdout"
        }
      ]
    },
    {
      "cell_type": "code",
      "metadata": {
        "id": "NhdPQc_75qhJ",
        "colab_type": "code",
        "outputId": "ae09f669-90c4-4849-af4b-86075bd7cdc9",
        "colab": {
          "base_uri": "https://localhost:8080/",
          "height": 51
        }
      },
      "source": [
        "print(len(history.history['loss']))\n",
        "print(len(val_loss))"
      ],
      "execution_count": 42,
      "outputs": [
        {
          "output_type": "stream",
          "text": [
            "24\n",
            "24\n"
          ],
          "name": "stdout"
        }
      ]
    },
    {
      "cell_type": "code",
      "metadata": {
        "id": "G40JCMhy4e3Q",
        "colab_type": "code",
        "outputId": "04b2eada-6a23-45af-c299-8cd30b829fc2",
        "colab": {
          "base_uri": "https://localhost:8080/",
          "height": 295
        }
      },
      "source": [
        "  import matplotlib.pyplot as plt\n",
        "  plt.plot(history.history['loss'])\n",
        "  plt.plot(val_loss)\n",
        "  plt.title('model loss')\n",
        "  plt.ylabel('loss')\n",
        "  plt.xlabel('epoch')\n",
        "  plt.legend(['train', 'validation'], loc='upper left')\n",
        "  plt.show()  #no reduction in validation loss"
      ],
      "execution_count": 43,
      "outputs": [
        {
          "output_type": "display_data",
          "data": {
            "image/png": "[encoded data removed]",
            "text/plain": [
              "<Figure size 432x288 with 1 Axes>"
            ]
          },
          "metadata": {
            "tags": []
          }
        }
      ]
    },
    {
      "cell_type": "code",
      "metadata": {
        "id": "e2KqC6BbeAsg",
        "colab_type": "code",
        "colab": {}
      },
      "source": [
        "import matplotlib.pyplot as plt\n",
        "def plotaccloss(acc, val_acc):\n",
        "  plt.plot(acc)\n",
        "  plt.plot(val_acc)\n",
        "  plt.title('model accuracy')\n",
        "  plt.ylabel('accuracy')\n",
        "  plt.xlabel('epoch')\n",
        "  plt.legend(['train', 'test'], loc='upper left')\n",
        "  plt.show()\n",
        "\n"
      ],
      "execution_count": 0,
      "outputs": []
    },
    {
      "cell_type": "code",
      "metadata": {
        "id": "umXFgzc9fOpr",
        "colab_type": "code",
        "outputId": "ad7637f1-1206-4bb3-d328-6059eab8ff8c",
        "colab": {
          "base_uri": "https://localhost:8080/",
          "height": 312
        }
      },
      "source": [
        "print(\"Gender\")\n",
        "plotaccloss(history.history['gender_output_acc'], history.history['val_gender_output_acc'])"
      ],
      "execution_count": 45,
      "outputs": [
        {
          "output_type": "stream",
          "text": [
            "Gender\n"
          ],
          "name": "stdout"
        },
        {
          "output_type": "display_data",
          "data": {
            "image/png": "[encoded data removed]",
            "text/plain": [
              "<Figure size 432x288 with 1 Axes>"
            ]
          },
          "metadata": {
            "tags": []
          }
        }
      ]
    },
    {
      "cell_type": "code",
      "metadata": {
        "id": "cNnV7QRbfXCE",
        "colab_type": "code",
        "outputId": "b12a1aa1-b01b-4be0-bf0e-c74462c91272",
        "colab": {
          "base_uri": "https://localhost:8080/",
          "height": 312
        }
      },
      "source": [
        "print(\"Image Quality\")\n",
        "plotaccloss(history.history['image_quality_output_acc'], history.history['val_image_quality_output_acc'])"
      ],
      "execution_count": 46,
      "outputs": [
        {
          "output_type": "stream",
          "text": [
            "Image Quality\n"
          ],
          "name": "stdout"
        },
        {
          "output_type": "display_data",
          "data": {
            "image/png": "[encoded data removed]",
            "text/plain": [
              "<Figure size 432x288 with 1 Axes>"
            ]
          },
          "metadata": {
            "tags": []
          }
        }
      ]
    }
  ]
}