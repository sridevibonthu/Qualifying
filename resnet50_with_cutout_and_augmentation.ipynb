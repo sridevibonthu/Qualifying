{
  "nbformat": 4,
  "nbformat_minor": 0,
  "metadata": {
    "colab": {
      "name": "resnet50 with cutout and augmentation.ipynb",
      "provenance": [],
      "collapsed_sections": [],
      "include_colab_link": true
    },
    "kernelspec": {
      "name": "python3",
      "display_name": "Python 3"
    },
    "accelerator": "GPU"
  },
  "cells": [
    {
      "cell_type": "markdown",
      "metadata": {
        "id": "view-in-github",
        "colab_type": "text"
      },
      "source": [
        "<a href=\"https://colab.research.google.com/github/sridevibonthu/Qualifying/blob/master/resnet50_with_cutout_and_augmentation.ipynb\" target=\"_parent\"><img src=\"https://colab.research.google.com/assets/colab-badge.svg\" alt=\"Open In Colab\"/></a>"
      ]
    },
    {
      "cell_type": "code",
      "metadata": {
        "id": "08g_jkZP6SJI",
        "colab_type": "code",
        "outputId": "73d8b4b0-bddc-467b-fd9c-41f4fa015657",
        "colab": {
          "base_uri": "https://localhost:8080/",
          "height": 122
        }
      },
      "source": [
        "# mount gdrive and unzip data\n",
        "from google.colab import drive\n",
        "drive.mount('/content/gdrive')"
      ],
      "execution_count": 1,
      "outputs": [
        {
          "output_type": "stream",
          "text": [
            "Go to this URL in a browser: https://accounts.google.com/o/oauth2/auth?client_id=947318989803-6bn6qk8qdgf4n4g3pfee6491hc0brc4i.apps.googleusercontent.com&redirect_uri=urn%3aietf%3awg%3aoauth%3a2.0%3aoob&response_type=code&scope=email%20https%3a%2f%2fwww.googleapis.com%2fauth%2fdocs.test%20https%3a%2f%2fwww.googleapis.com%2fauth%2fdrive%20https%3a%2f%2fwww.googleapis.com%2fauth%2fdrive.photos.readonly%20https%3a%2f%2fwww.googleapis.com%2fauth%2fpeopleapi.readonly\n",
            "\n",
            "Enter your authorization code:\n",
            "··········\n",
            "Mounted at /content/gdrive\n"
          ],
          "name": "stdout"
        }
      ]
    },
    {
      "cell_type": "code",
      "metadata": {
        "id": "oQ7Qqo0-6lcr",
        "colab_type": "code",
        "outputId": "4a9c2bc1-0d09-4d49-b849-22dcf33a40c6",
        "colab": {
          "base_uri": "https://localhost:8080/",
          "height": 34
        }
      },
      "source": [
        "!unzip -q \"/content/gdrive/My Drive/hvc_data.zip\"\n",
        "# look for `hvc_annotations.csv` file and `resized` dir\n",
        "%ls "
      ],
      "execution_count": 2,
      "outputs": [
        {
          "output_type": "stream",
          "text": [
            "\u001b[0m\u001b[01;34mgdrive\u001b[0m/  hvc_annotations.csv  \u001b[01;34mresized\u001b[0m/  \u001b[01;34msample_data\u001b[0m/\n"
          ],
          "name": "stdout"
        }
      ]
    },
    {
      "cell_type": "code",
      "metadata": {
        "id": "9qs7JUWB61_J",
        "colab_type": "code",
        "outputId": "209f4f0b-207b-43cd-91cc-f0cedc8951dd",
        "colab": {
          "base_uri": "https://localhost:8080/",
          "height": 34
        }
      },
      "source": [
        "%tensorflow_version 1.x\n",
        "\n",
        "import cv2\n",
        "import json\n",
        "\n",
        "import numpy as np\n",
        "import pandas as pd\n",
        "\n",
        "from functools import partial\n",
        "from pathlib import Path \n",
        "from tqdm import tqdm\n",
        "\n",
        "from google.colab.patches import cv2_imshow\n",
        "\n",
        "from sklearn.model_selection import train_test_split\n",
        "from sklearn.preprocessing import LabelEncoder, OneHotEncoder\n",
        "\n",
        "\n",
        "from keras.applications import VGG16\n",
        "from keras.layers.core import Dropout\n",
        "from keras.layers.core import Flatten\n",
        "from keras.layers.core import Dense\n",
        "from keras.layers import Input\n",
        "from keras.models import Model\n",
        "from keras.optimizers import SGD\n",
        "from keras.preprocessing.image import ImageDataGenerator"
      ],
      "execution_count": 3,
      "outputs": [
        {
          "output_type": "stream",
          "text": [
            "Using TensorFlow backend.\n"
          ],
          "name": "stderr"
        }
      ]
    },
    {
      "cell_type": "code",
      "metadata": {
        "id": "IfEQVfT3662X",
        "colab_type": "code",
        "outputId": "8a1d5630-0d05-4cc2-c0c2-7df85e17f0ee",
        "colab": {
          "base_uri": "https://localhost:8080/",
          "height": 204
        }
      },
      "source": [
        "# load annotations\n",
        "df = pd.read_csv(\"hvc_annotations.csv\")\n",
        "del df[\"filename\"] # remove unwanted column\n",
        "df.head()"
      ],
      "execution_count": 4,
      "outputs": [
        {
          "output_type": "execute_result",
          "data": {
            "text/html": [
              "<div>\n",
              "<style scoped>\n",
              "    .dataframe tbody tr th:only-of-type {\n",
              "        vertical-align: middle;\n",
              "    }\n",
              "\n",
              "    .dataframe tbody tr th {\n",
              "        vertical-align: top;\n",
              "    }\n",
              "\n",
              "    .dataframe thead th {\n",
              "        text-align: right;\n",
              "    }\n",
              "</style>\n",
              "<table border=\"1\" class=\"dataframe\">\n",
              "  <thead>\n",
              "    <tr style=\"text-align: right;\">\n",
              "      <th></th>\n",
              "      <th>gender</th>\n",
              "      <th>imagequality</th>\n",
              "      <th>age</th>\n",
              "      <th>weight</th>\n",
              "      <th>carryingbag</th>\n",
              "      <th>footwear</th>\n",
              "      <th>emotion</th>\n",
              "      <th>bodypose</th>\n",
              "      <th>image_path</th>\n",
              "    </tr>\n",
              "  </thead>\n",
              "  <tbody>\n",
              "    <tr>\n",
              "      <th>0</th>\n",
              "      <td>male</td>\n",
              "      <td>Average</td>\n",
              "      <td>35-45</td>\n",
              "      <td>normal-healthy</td>\n",
              "      <td>Grocery/Home/Plastic Bag</td>\n",
              "      <td>Normal</td>\n",
              "      <td>Neutral</td>\n",
              "      <td>Front-Frontish</td>\n",
              "      <td>resized/1.jpg</td>\n",
              "    </tr>\n",
              "    <tr>\n",
              "      <th>1</th>\n",
              "      <td>female</td>\n",
              "      <td>Average</td>\n",
              "      <td>35-45</td>\n",
              "      <td>over-weight</td>\n",
              "      <td>None</td>\n",
              "      <td>Normal</td>\n",
              "      <td>Angry/Serious</td>\n",
              "      <td>Front-Frontish</td>\n",
              "      <td>resized/2.jpg</td>\n",
              "    </tr>\n",
              "    <tr>\n",
              "      <th>2</th>\n",
              "      <td>male</td>\n",
              "      <td>Good</td>\n",
              "      <td>45-55</td>\n",
              "      <td>normal-healthy</td>\n",
              "      <td>Grocery/Home/Plastic Bag</td>\n",
              "      <td>CantSee</td>\n",
              "      <td>Neutral</td>\n",
              "      <td>Front-Frontish</td>\n",
              "      <td>resized/3.jpg</td>\n",
              "    </tr>\n",
              "    <tr>\n",
              "      <th>3</th>\n",
              "      <td>male</td>\n",
              "      <td>Good</td>\n",
              "      <td>45-55</td>\n",
              "      <td>normal-healthy</td>\n",
              "      <td>Daily/Office/Work Bag</td>\n",
              "      <td>Normal</td>\n",
              "      <td>Neutral</td>\n",
              "      <td>Front-Frontish</td>\n",
              "      <td>resized/4.jpg</td>\n",
              "    </tr>\n",
              "    <tr>\n",
              "      <th>4</th>\n",
              "      <td>female</td>\n",
              "      <td>Good</td>\n",
              "      <td>35-45</td>\n",
              "      <td>slightly-overweight</td>\n",
              "      <td>None</td>\n",
              "      <td>CantSee</td>\n",
              "      <td>Neutral</td>\n",
              "      <td>Front-Frontish</td>\n",
              "      <td>resized/5.jpg</td>\n",
              "    </tr>\n",
              "  </tbody>\n",
              "</table>\n",
              "</div>"
            ],
            "text/plain": [
              "   gender imagequality    age  ...        emotion        bodypose     image_path\n",
              "0    male      Average  35-45  ...        Neutral  Front-Frontish  resized/1.jpg\n",
              "1  female      Average  35-45  ...  Angry/Serious  Front-Frontish  resized/2.jpg\n",
              "2    male         Good  45-55  ...        Neutral  Front-Frontish  resized/3.jpg\n",
              "3    male         Good  45-55  ...        Neutral  Front-Frontish  resized/4.jpg\n",
              "4  female         Good  35-45  ...        Neutral  Front-Frontish  resized/5.jpg\n",
              "\n",
              "[5 rows x 9 columns]"
            ]
          },
          "metadata": {
            "tags": []
          },
          "execution_count": 4
        }
      ]
    },
    {
      "cell_type": "code",
      "metadata": {
        "id": "INQxVzUO68G3",
        "colab_type": "code",
        "outputId": "307bfad7-ffec-482d-f115-41cc625c9f42",
        "colab": {
          "base_uri": "https://localhost:8080/",
          "height": 917
        }
      },
      "source": [
        "# one hot encoding of labels\n",
        "\n",
        "one_hot_df = pd.concat([\n",
        "    df[[\"image_path\"]],\n",
        "    pd.get_dummies(df.gender, prefix=\"gender\"),\n",
        "    pd.get_dummies(df.imagequality, prefix=\"imagequality\"),\n",
        "    pd.get_dummies(df.age, prefix=\"age\"),\n",
        "    pd.get_dummies(df.weight, prefix=\"weight\"),\n",
        "    pd.get_dummies(df.carryingbag, prefix=\"carryingbag\"),\n",
        "    pd.get_dummies(df.footwear, prefix=\"footwear\"),\n",
        "    pd.get_dummies(df.emotion, prefix=\"emotion\"),\n",
        "    pd.get_dummies(df.bodypose, prefix=\"bodypose\"),\n",
        "], axis = 1)\n",
        "\n",
        "one_hot_df.head().T"
      ],
      "execution_count": 5,
      "outputs": [
        {
          "output_type": "execute_result",
          "data": {
            "text/html": [
              "<div>\n",
              "<style scoped>\n",
              "    .dataframe tbody tr th:only-of-type {\n",
              "        vertical-align: middle;\n",
              "    }\n",
              "\n",
              "    .dataframe tbody tr th {\n",
              "        vertical-align: top;\n",
              "    }\n",
              "\n",
              "    .dataframe thead th {\n",
              "        text-align: right;\n",
              "    }\n",
              "</style>\n",
              "<table border=\"1\" class=\"dataframe\">\n",
              "  <thead>\n",
              "    <tr style=\"text-align: right;\">\n",
              "      <th></th>\n",
              "      <th>0</th>\n",
              "      <th>1</th>\n",
              "      <th>2</th>\n",
              "      <th>3</th>\n",
              "      <th>4</th>\n",
              "    </tr>\n",
              "  </thead>\n",
              "  <tbody>\n",
              "    <tr>\n",
              "      <th>image_path</th>\n",
              "      <td>resized/1.jpg</td>\n",
              "      <td>resized/2.jpg</td>\n",
              "      <td>resized/3.jpg</td>\n",
              "      <td>resized/4.jpg</td>\n",
              "      <td>resized/5.jpg</td>\n",
              "    </tr>\n",
              "    <tr>\n",
              "      <th>gender_female</th>\n",
              "      <td>0</td>\n",
              "      <td>1</td>\n",
              "      <td>0</td>\n",
              "      <td>0</td>\n",
              "      <td>1</td>\n",
              "    </tr>\n",
              "    <tr>\n",
              "      <th>gender_male</th>\n",
              "      <td>1</td>\n",
              "      <td>0</td>\n",
              "      <td>1</td>\n",
              "      <td>1</td>\n",
              "      <td>0</td>\n",
              "    </tr>\n",
              "    <tr>\n",
              "      <th>imagequality_Average</th>\n",
              "      <td>1</td>\n",
              "      <td>1</td>\n",
              "      <td>0</td>\n",
              "      <td>0</td>\n",
              "      <td>0</td>\n",
              "    </tr>\n",
              "    <tr>\n",
              "      <th>imagequality_Bad</th>\n",
              "      <td>0</td>\n",
              "      <td>0</td>\n",
              "      <td>0</td>\n",
              "      <td>0</td>\n",
              "      <td>0</td>\n",
              "    </tr>\n",
              "    <tr>\n",
              "      <th>imagequality_Good</th>\n",
              "      <td>0</td>\n",
              "      <td>0</td>\n",
              "      <td>1</td>\n",
              "      <td>1</td>\n",
              "      <td>1</td>\n",
              "    </tr>\n",
              "    <tr>\n",
              "      <th>age_15-25</th>\n",
              "      <td>0</td>\n",
              "      <td>0</td>\n",
              "      <td>0</td>\n",
              "      <td>0</td>\n",
              "      <td>0</td>\n",
              "    </tr>\n",
              "    <tr>\n",
              "      <th>age_25-35</th>\n",
              "      <td>0</td>\n",
              "      <td>0</td>\n",
              "      <td>0</td>\n",
              "      <td>0</td>\n",
              "      <td>0</td>\n",
              "    </tr>\n",
              "    <tr>\n",
              "      <th>age_35-45</th>\n",
              "      <td>1</td>\n",
              "      <td>1</td>\n",
              "      <td>0</td>\n",
              "      <td>0</td>\n",
              "      <td>1</td>\n",
              "    </tr>\n",
              "    <tr>\n",
              "      <th>age_45-55</th>\n",
              "      <td>0</td>\n",
              "      <td>0</td>\n",
              "      <td>1</td>\n",
              "      <td>1</td>\n",
              "      <td>0</td>\n",
              "    </tr>\n",
              "    <tr>\n",
              "      <th>age_55+</th>\n",
              "      <td>0</td>\n",
              "      <td>0</td>\n",
              "      <td>0</td>\n",
              "      <td>0</td>\n",
              "      <td>0</td>\n",
              "    </tr>\n",
              "    <tr>\n",
              "      <th>weight_normal-healthy</th>\n",
              "      <td>1</td>\n",
              "      <td>0</td>\n",
              "      <td>1</td>\n",
              "      <td>1</td>\n",
              "      <td>0</td>\n",
              "    </tr>\n",
              "    <tr>\n",
              "      <th>weight_over-weight</th>\n",
              "      <td>0</td>\n",
              "      <td>1</td>\n",
              "      <td>0</td>\n",
              "      <td>0</td>\n",
              "      <td>0</td>\n",
              "    </tr>\n",
              "    <tr>\n",
              "      <th>weight_slightly-overweight</th>\n",
              "      <td>0</td>\n",
              "      <td>0</td>\n",
              "      <td>0</td>\n",
              "      <td>0</td>\n",
              "      <td>1</td>\n",
              "    </tr>\n",
              "    <tr>\n",
              "      <th>weight_underweight</th>\n",
              "      <td>0</td>\n",
              "      <td>0</td>\n",
              "      <td>0</td>\n",
              "      <td>0</td>\n",
              "      <td>0</td>\n",
              "    </tr>\n",
              "    <tr>\n",
              "      <th>carryingbag_Daily/Office/Work Bag</th>\n",
              "      <td>0</td>\n",
              "      <td>0</td>\n",
              "      <td>0</td>\n",
              "      <td>1</td>\n",
              "      <td>0</td>\n",
              "    </tr>\n",
              "    <tr>\n",
              "      <th>carryingbag_Grocery/Home/Plastic Bag</th>\n",
              "      <td>1</td>\n",
              "      <td>0</td>\n",
              "      <td>1</td>\n",
              "      <td>0</td>\n",
              "      <td>0</td>\n",
              "    </tr>\n",
              "    <tr>\n",
              "      <th>carryingbag_None</th>\n",
              "      <td>0</td>\n",
              "      <td>1</td>\n",
              "      <td>0</td>\n",
              "      <td>0</td>\n",
              "      <td>1</td>\n",
              "    </tr>\n",
              "    <tr>\n",
              "      <th>footwear_CantSee</th>\n",
              "      <td>0</td>\n",
              "      <td>0</td>\n",
              "      <td>1</td>\n",
              "      <td>0</td>\n",
              "      <td>1</td>\n",
              "    </tr>\n",
              "    <tr>\n",
              "      <th>footwear_Fancy</th>\n",
              "      <td>0</td>\n",
              "      <td>0</td>\n",
              "      <td>0</td>\n",
              "      <td>0</td>\n",
              "      <td>0</td>\n",
              "    </tr>\n",
              "    <tr>\n",
              "      <th>footwear_Normal</th>\n",
              "      <td>1</td>\n",
              "      <td>1</td>\n",
              "      <td>0</td>\n",
              "      <td>1</td>\n",
              "      <td>0</td>\n",
              "    </tr>\n",
              "    <tr>\n",
              "      <th>emotion_Angry/Serious</th>\n",
              "      <td>0</td>\n",
              "      <td>1</td>\n",
              "      <td>0</td>\n",
              "      <td>0</td>\n",
              "      <td>0</td>\n",
              "    </tr>\n",
              "    <tr>\n",
              "      <th>emotion_Happy</th>\n",
              "      <td>0</td>\n",
              "      <td>0</td>\n",
              "      <td>0</td>\n",
              "      <td>0</td>\n",
              "      <td>0</td>\n",
              "    </tr>\n",
              "    <tr>\n",
              "      <th>emotion_Neutral</th>\n",
              "      <td>1</td>\n",
              "      <td>0</td>\n",
              "      <td>1</td>\n",
              "      <td>1</td>\n",
              "      <td>1</td>\n",
              "    </tr>\n",
              "    <tr>\n",
              "      <th>emotion_Sad</th>\n",
              "      <td>0</td>\n",
              "      <td>0</td>\n",
              "      <td>0</td>\n",
              "      <td>0</td>\n",
              "      <td>0</td>\n",
              "    </tr>\n",
              "    <tr>\n",
              "      <th>bodypose_Back</th>\n",
              "      <td>0</td>\n",
              "      <td>0</td>\n",
              "      <td>0</td>\n",
              "      <td>0</td>\n",
              "      <td>0</td>\n",
              "    </tr>\n",
              "    <tr>\n",
              "      <th>bodypose_Front-Frontish</th>\n",
              "      <td>1</td>\n",
              "      <td>1</td>\n",
              "      <td>1</td>\n",
              "      <td>1</td>\n",
              "      <td>1</td>\n",
              "    </tr>\n",
              "    <tr>\n",
              "      <th>bodypose_Side</th>\n",
              "      <td>0</td>\n",
              "      <td>0</td>\n",
              "      <td>0</td>\n",
              "      <td>0</td>\n",
              "      <td>0</td>\n",
              "    </tr>\n",
              "  </tbody>\n",
              "</table>\n",
              "</div>"
            ],
            "text/plain": [
              "                                                  0  ...              4\n",
              "image_path                            resized/1.jpg  ...  resized/5.jpg\n",
              "gender_female                                     0  ...              1\n",
              "gender_male                                       1  ...              0\n",
              "imagequality_Average                              1  ...              0\n",
              "imagequality_Bad                                  0  ...              0\n",
              "imagequality_Good                                 0  ...              1\n",
              "age_15-25                                         0  ...              0\n",
              "age_25-35                                         0  ...              0\n",
              "age_35-45                                         1  ...              1\n",
              "age_45-55                                         0  ...              0\n",
              "age_55+                                           0  ...              0\n",
              "weight_normal-healthy                             1  ...              0\n",
              "weight_over-weight                                0  ...              0\n",
              "weight_slightly-overweight                        0  ...              1\n",
              "weight_underweight                                0  ...              0\n",
              "carryingbag_Daily/Office/Work Bag                 0  ...              0\n",
              "carryingbag_Grocery/Home/Plastic Bag              1  ...              0\n",
              "carryingbag_None                                  0  ...              1\n",
              "footwear_CantSee                                  0  ...              1\n",
              "footwear_Fancy                                    0  ...              0\n",
              "footwear_Normal                                   1  ...              0\n",
              "emotion_Angry/Serious                             0  ...              0\n",
              "emotion_Happy                                     0  ...              0\n",
              "emotion_Neutral                                   1  ...              1\n",
              "emotion_Sad                                       0  ...              0\n",
              "bodypose_Back                                     0  ...              0\n",
              "bodypose_Front-Frontish                           1  ...              1\n",
              "bodypose_Side                                     0  ...              0\n",
              "\n",
              "[28 rows x 5 columns]"
            ]
          },
          "metadata": {
            "tags": []
          },
          "execution_count": 5
        }
      ]
    },
    {
      "cell_type": "code",
      "metadata": {
        "id": "F6EGaW1b6_8A",
        "colab_type": "code",
        "colab": {}
      },
      "source": [
        "import keras\n",
        "import numpy as np\n",
        "\n",
        "# Label columns per attribute\n",
        "_gender_cols_ = [col for col in one_hot_df.columns if col.startswith(\"gender\")]\n",
        "_imagequality_cols_ = [col for col in one_hot_df.columns if col.startswith(\"imagequality\")]\n",
        "_age_cols_ = [col for col in one_hot_df.columns if col.startswith(\"age\")]\n",
        "_weight_cols_ = [col for col in one_hot_df.columns if col.startswith(\"weight\")]\n",
        "_carryingbag_cols_ = [col for col in one_hot_df.columns if col.startswith(\"carryingbag\")]\n",
        "_footwear_cols_ = [col for col in one_hot_df.columns if col.startswith(\"footwear\")]\n",
        "_emotion_cols_ = [col for col in one_hot_df.columns if col.startswith(\"emotion\")]\n",
        "_bodypose_cols_ = [col for col in one_hot_df.columns if col.startswith(\"bodypose\")]\n",
        "\n",
        "class PersonDataGenerator(keras.utils.Sequence):\n",
        "    \"\"\"Ground truth data generator\"\"\"\n",
        "\n",
        "    \n",
        "    def __init__(self, df, batch_size=32, shuffle=True, augmentation=None):\n",
        "        self.df = df\n",
        "        self.batch_size=batch_size\n",
        "        self.shuffle = shuffle\n",
        "        self.on_epoch_end()\n",
        "        self.augmentation = augmentation\n",
        "\n",
        "    def __len__(self):\n",
        "        return int(np.floor(self.df.shape[0] / self.batch_size))\n",
        "\n",
        "    def __getitem__(self, index):\n",
        "        \"\"\"fetch batched images and targets\"\"\"\n",
        "        batch_slice = slice(index * self.batch_size, (index + 1) * self.batch_size)\n",
        "        items = self.df.iloc[batch_slice]\n",
        "        image = np.stack([cv2.imread(item[\"image_path\"]) for _, item in items.iterrows()])\n",
        "        target = {\n",
        "            \"gender_output\": items[_gender_cols_].values,\n",
        "            \"image_quality_output\": items[_imagequality_cols_].values,\n",
        "            \"age_output\": items[_age_cols_].values,\n",
        "            \"weight_output\": items[_weight_cols_].values,\n",
        "            \"bag_output\": items[_carryingbag_cols_].values,\n",
        "            \"pose_output\": items[_bodypose_cols_].values,\n",
        "            \"footwear_output\": items[_footwear_cols_].values,\n",
        "            \"emotion_output\": items[_emotion_cols_].values,\n",
        "        }\n",
        "        return image, target\n",
        "\n",
        "    def on_epoch_end(self):\n",
        "        \"\"\"Updates indexes after each epoch\"\"\"\n",
        "        if self.shuffle == True:\n",
        "            self.df = self.df.sample(frac=1).reset_index(drop=True)\n"
      ],
      "execution_count": 0,
      "outputs": []
    },
    {
      "cell_type": "code",
      "metadata": {
        "id": "Xs3pAgLt7Hln",
        "colab_type": "code",
        "colab": {}
      },
      "source": [
        "    def get_random_eraser(p=0.5, s_l=0.02, s_h=0.4, r_1=0.3, r_2=1/0.3, v_l=0, v_h=255, pixel_level=False):\n",
        "      def eraser(input_img):\n",
        "        img_h, img_w, img_c = input_img.shape\n",
        "        p_1 = np.random.rand()\n",
        "\n",
        "        if p_1 > p:\n",
        "            return input_img\n",
        "        while True:\n",
        "            s = np.random.uniform(s_l, s_h) * img_h * img_w\n",
        "            r = np.random.uniform(r_1, r_2)\n",
        "            w = int(np.sqrt(s / r))\n",
        "            h = int(np.sqrt(s * r))\n",
        "            left = np.random.randint(0, img_w)\n",
        "            top = np.random.randint(0, img_h)\n",
        "\n",
        "            if left + w <= img_w and top + h <= img_h:\n",
        "                break\n",
        "\n",
        "        if pixel_level:\n",
        "            c = np.random.uniform(v_l, v_h, (h, w, img_c))\n",
        "        else:\n",
        "            c = np.random.uniform(v_l, v_h)\n",
        "\n",
        "        input_img[top:top + h, left:left + w, :] = c\n",
        "\n",
        "        return input_img\n",
        "      return eraser"
      ],
      "execution_count": 0,
      "outputs": []
    },
    {
      "cell_type": "code",
      "metadata": {
        "id": "M1dXWeSc7Nv2",
        "colab_type": "code",
        "outputId": "57bacb0f-47d1-4f81-b1af-e0ed8e186d27",
        "colab": {
          "base_uri": "https://localhost:8080/",
          "height": 34
        }
      },
      "source": [
        "from sklearn.model_selection import train_test_split\n",
        "train_df, val_df = train_test_split(one_hot_df, test_size=0.15)\n",
        "train_df.shape, val_df.shape"
      ],
      "execution_count": 8,
      "outputs": [
        {
          "output_type": "execute_result",
          "data": {
            "text/plain": [
              "((11537, 28), (2036, 28))"
            ]
          },
          "metadata": {
            "tags": []
          },
          "execution_count": 8
        }
      ]
    },
    {
      "cell_type": "code",
      "metadata": {
        "id": "1dOiVw9i7Pme",
        "colab_type": "code",
        "colab": {}
      },
      "source": [
        "pixel_level=False\n",
        "# create train and validation data generators\n",
        "train_gen = PersonDataGenerator(train_df, batch_size=32, augmentation=ImageDataGenerator(horizontal_flip=True, vertical_flip=True, preprocessing_function=get_random_eraser(v_l=0, v_h=1, pixel_level=pixel_level),))\n",
        "valid_gen = PersonDataGenerator(val_df, batch_size=64, shuffle=False)"
      ],
      "execution_count": 0,
      "outputs": []
    },
    {
      "cell_type": "code",
      "metadata": {
        "id": "HBiMa-C17UOG",
        "colab_type": "code",
        "outputId": "46a3fa7b-76b2-4853-c64f-4f85e6831fef",
        "colab": {
          "base_uri": "https://localhost:8080/",
          "height": 153
        }
      },
      "source": [
        "images, targets = next(iter(train_gen))\n",
        "num_units = { k.split(\"_output\")[0]:v.shape[1] for k, v in targets.items()}\n",
        "num_units"
      ],
      "execution_count": 10,
      "outputs": [
        {
          "output_type": "execute_result",
          "data": {
            "text/plain": [
              "{'age': 5,\n",
              " 'bag': 3,\n",
              " 'emotion': 4,\n",
              " 'footwear': 3,\n",
              " 'gender': 2,\n",
              " 'image_quality': 3,\n",
              " 'pose': 3,\n",
              " 'weight': 4}"
            ]
          },
          "metadata": {
            "tags": []
          },
          "execution_count": 10
        }
      ]
    },
    {
      "cell_type": "code",
      "metadata": {
        "id": "hr-VntFR7YVl",
        "colab_type": "code",
        "outputId": "20e55a79-488a-4116-b766-bf216539b732",
        "colab": {
          "base_uri": "https://localhost:8080/",
          "height": 513
        }
      },
      "source": [
        "from keras.applications import ResNet50\n",
        "backbone = ResNet50(\n",
        "    weights=\"imagenet\", \n",
        "    include_top=False, \n",
        "    input_tensor=Input(shape=(224, 224, 3))\n",
        ")"
      ],
      "execution_count": 11,
      "outputs": [
        {
          "output_type": "stream",
          "text": [
            "WARNING:tensorflow:From /usr/local/lib/python3.6/dist-packages/keras/backend/tensorflow_backend.py:66: The name tf.get_default_graph is deprecated. Please use tf.compat.v1.get_default_graph instead.\n",
            "\n",
            "WARNING:tensorflow:From /usr/local/lib/python3.6/dist-packages/keras/backend/tensorflow_backend.py:541: The name tf.placeholder is deprecated. Please use tf.compat.v1.placeholder instead.\n",
            "\n",
            "WARNING:tensorflow:From /usr/local/lib/python3.6/dist-packages/keras/backend/tensorflow_backend.py:4479: The name tf.truncated_normal is deprecated. Please use tf.random.truncated_normal instead.\n",
            "\n",
            "WARNING:tensorflow:From /usr/local/lib/python3.6/dist-packages/keras/backend/tensorflow_backend.py:190: The name tf.get_default_session is deprecated. Please use tf.compat.v1.get_default_session instead.\n",
            "\n",
            "WARNING:tensorflow:From /usr/local/lib/python3.6/dist-packages/keras/backend/tensorflow_backend.py:197: The name tf.ConfigProto is deprecated. Please use tf.compat.v1.ConfigProto instead.\n",
            "\n",
            "WARNING:tensorflow:From /usr/local/lib/python3.6/dist-packages/keras/backend/tensorflow_backend.py:203: The name tf.Session is deprecated. Please use tf.compat.v1.Session instead.\n",
            "\n",
            "WARNING:tensorflow:From /usr/local/lib/python3.6/dist-packages/keras/backend/tensorflow_backend.py:207: The name tf.global_variables is deprecated. Please use tf.compat.v1.global_variables instead.\n",
            "\n",
            "WARNING:tensorflow:From /usr/local/lib/python3.6/dist-packages/keras/backend/tensorflow_backend.py:216: The name tf.is_variable_initialized is deprecated. Please use tf.compat.v1.is_variable_initialized instead.\n",
            "\n",
            "WARNING:tensorflow:From /usr/local/lib/python3.6/dist-packages/keras/backend/tensorflow_backend.py:223: The name tf.variables_initializer is deprecated. Please use tf.compat.v1.variables_initializer instead.\n",
            "\n",
            "WARNING:tensorflow:From /usr/local/lib/python3.6/dist-packages/keras/backend/tensorflow_backend.py:2041: The name tf.nn.fused_batch_norm is deprecated. Please use tf.compat.v1.nn.fused_batch_norm instead.\n",
            "\n",
            "WARNING:tensorflow:From /usr/local/lib/python3.6/dist-packages/keras/backend/tensorflow_backend.py:148: The name tf.placeholder_with_default is deprecated. Please use tf.compat.v1.placeholder_with_default instead.\n",
            "\n",
            "WARNING:tensorflow:From /usr/local/lib/python3.6/dist-packages/keras/backend/tensorflow_backend.py:4267: The name tf.nn.max_pool is deprecated. Please use tf.nn.max_pool2d instead.\n",
            "\n"
          ],
          "name": "stdout"
        },
        {
          "output_type": "stream",
          "text": [
            "/usr/local/lib/python3.6/dist-packages/keras_applications/resnet50.py:265: UserWarning: The output shape of `ResNet50(include_top=False)` has been changed since Keras 2.2.0.\n",
            "  warnings.warn('The output shape of `ResNet50(include_top=False)` '\n"
          ],
          "name": "stderr"
        },
        {
          "output_type": "stream",
          "text": [
            "Downloading data from https://github.com/fchollet/deep-learning-models/releases/download/v0.2/resnet50_weights_tf_dim_ordering_tf_kernels_notop.h5\n",
            "94658560/94653016 [==============================] - 4s 0us/step\n"
          ],
          "name": "stdout"
        }
      ]
    },
    {
      "cell_type": "code",
      "metadata": {
        "id": "Bwh4IUSX7f8m",
        "colab_type": "code",
        "colab": {
          "base_uri": "https://localhost:8080/",
          "height": 71
        },
        "outputId": "7bfaab1b-8705-4fe1-936c-702a658d94ee"
      },
      "source": [
        "neck = backbone.output\n",
        "neck = Flatten(name=\"flatten\")(neck)\n",
        "neck = Dense(512, activation=\"relu\")(neck)"
      ],
      "execution_count": 12,
      "outputs": [
        {
          "output_type": "stream",
          "text": [
            "WARNING:tensorflow:From /usr/local/lib/python3.6/dist-packages/keras/backend/tensorflow_backend.py:4432: The name tf.random_uniform is deprecated. Please use tf.random.uniform instead.\n",
            "\n"
          ],
          "name": "stdout"
        }
      ]
    },
    {
      "cell_type": "code",
      "metadata": {
        "id": "HajPlcqH7kcm",
        "colab_type": "code",
        "outputId": "0eb0b6aa-550d-46c8-dd5c-53612da86894",
        "colab": {
          "base_uri": "https://localhost:8080/",
          "height": 88
        }
      },
      "source": [
        "\n",
        "\n",
        "def build_tower(in_layer):\n",
        "    neck = Dropout(0.2)(in_layer)\n",
        "    neck = Dense(128, activation=\"relu\")(neck)\n",
        "    neck = Dropout(0.3)(in_layer)\n",
        "    neck = Dense(128, activation=\"relu\")(neck)\n",
        "    return neck\n",
        "\n",
        "\n",
        "def build_head(name, in_layer):\n",
        "    return Dense(\n",
        "        num_units[name], activation=\"softmax\", name=f\"{name}_output\"\n",
        "    )(in_layer)\n",
        "\n",
        "# heads\n",
        "gender = build_head(\"gender\", build_tower(neck))\n",
        "image_quality = build_head(\"image_quality\", build_tower(neck))\n",
        "age = build_head(\"age\", build_tower(neck))\n",
        "weight = build_head(\"weight\", build_tower(neck))\n",
        "bag = build_head(\"bag\", build_tower(neck))\n",
        "footwear = build_head(\"footwear\", build_tower(neck))\n",
        "emotion = build_head(\"emotion\", build_tower(neck))\n",
        "pose = build_head(\"pose\", build_tower(neck))\n",
        "\n",
        "\n",
        "model = Model(\n",
        "    inputs=backbone.input, \n",
        "    outputs=[gender, image_quality, age, weight, bag, footwear, pose, emotion]\n",
        ")"
      ],
      "execution_count": 13,
      "outputs": [
        {
          "output_type": "stream",
          "text": [
            "WARNING:tensorflow:From /usr/local/lib/python3.6/dist-packages/keras/backend/tensorflow_backend.py:3733: calling dropout (from tensorflow.python.ops.nn_ops) with keep_prob is deprecated and will be removed in a future version.\n",
            "Instructions for updating:\n",
            "Please use `rate` instead of `keep_prob`. Rate should be set to `rate = 1 - keep_prob`.\n"
          ],
          "name": "stdout"
        }
      ]
    },
    {
      "cell_type": "code",
      "metadata": {
        "id": "M9VEdvqZ7oqh",
        "colab_type": "code",
        "colab": {}
      },
      "source": [
        "# freeze backbone\n",
        "for layer in backbone.layers:\n",
        "\tlayer.trainable = False"
      ],
      "execution_count": 0,
      "outputs": []
    },
    {
      "cell_type": "code",
      "metadata": {
        "id": "SlNZadH9SVbo",
        "colab_type": "code",
        "colab": {}
      },
      "source": [
        "from keras.callbacks import *\n",
        "\n",
        "class CyclicLR(Callback):\n",
        "    \"\"\"This callback implements a cyclical learning rate policy (CLR).\n",
        "    The method cycles the learning rate between two boundaries with\n",
        "    some constant frequency, as detailed in this paper (https://arxiv.org/abs/1506.01186).\n",
        "    The amplitude of the cycle can be scaled on a per-iteration or \n",
        "    per-cycle basis.\n",
        "    This class has three built-in policies, as put forth in the paper.\n",
        "    \"triangular\":\n",
        "        A basic triangular cycle w/ no amplitude scaling.\n",
        "    \"triangular2\":\n",
        "        A basic triangular cycle that scales initial amplitude by half each cycle.\n",
        "    \"exp_range\":\n",
        "        A cycle that scales initial amplitude by gamma**(cycle iterations) at each \n",
        "        cycle iteration.\n",
        "    For more detail, please see paper.\n",
        "    \n",
        "    # Example\n",
        "        ```python\n",
        "            clr = CyclicLR(base_lr=0.001, max_lr=0.006,\n",
        "                                step_size=2000., mode='triangular')\n",
        "            model.fit(X_train, Y_train, callbacks=[clr])\n",
        "        ```\n",
        "    \n",
        "    Class also supports custom scaling functions:\n",
        "        ```python\n",
        "            clr_fn = lambda x: 0.5*(1+np.sin(x*np.pi/2.))\n",
        "            clr = CyclicLR(base_lr=0.001, max_lr=0.006,\n",
        "                                step_size=2000., scale_fn=clr_fn,\n",
        "                                scale_mode='cycle')\n",
        "            model.fit(X_train, Y_train, callbacks=[clr])\n",
        "        ```    \n",
        "    # Arguments\n",
        "        base_lr: initial learning rate which is the\n",
        "            lower boundary in the cycle.\n",
        "        max_lr: upper boundary in the cycle. Functionally,\n",
        "            it defines the cycle amplitude (max_lr - base_lr).\n",
        "            The lr at any cycle is the sum of base_lr\n",
        "            and some scaling of the amplitude; therefore \n",
        "            max_lr may not actually be reached depending on\n",
        "            scaling function.\n",
        "        step_size: number of training iterations per\n",
        "            half cycle. Authors suggest setting step_size\n",
        "            2-8 x training iterations in epoch.\n",
        "        mode: one of {triangular, triangular2, exp_range}.\n",
        "            Default 'triangular'.\n",
        "            Values correspond to policies detailed above.\n",
        "            If scale_fn is not None, this argument is ignored.\n",
        "        gamma: constant in 'exp_range' scaling function:\n",
        "            gamma**(cycle iterations)\n",
        "        scale_fn: Custom scaling policy defined by a single\n",
        "            argument lambda function, where \n",
        "            0 <= scale_fn(x) <= 1 for all x >= 0.\n",
        "            mode paramater is ignored \n",
        "        scale_mode: {'cycle', 'iterations'}.\n",
        "            Defines whether scale_fn is evaluated on \n",
        "            cycle number or cycle iterations (training\n",
        "            iterations since start of cycle). Default is 'cycle'.\n",
        "    \"\"\"\n",
        "\n",
        "    def __init__(self, base_lr=0.001, max_lr=0.006, step_size=2000., mode='triangular',\n",
        "                 gamma=1., scale_fn=None, scale_mode='cycle'):\n",
        "        super(CyclicLR, self).__init__()\n",
        "\n",
        "        self.base_lr = base_lr\n",
        "        self.max_lr = max_lr\n",
        "        self.step_size = step_size\n",
        "        self.mode = mode\n",
        "        self.gamma = gamma\n",
        "        if scale_fn == None:\n",
        "            if self.mode == 'triangular':\n",
        "                self.scale_fn = lambda x: 1.\n",
        "                self.scale_mode = 'cycle'\n",
        "            elif self.mode == 'triangular2':\n",
        "                self.scale_fn = lambda x: 1/(2.**(x-1))\n",
        "                self.scale_mode = 'cycle'\n",
        "            elif self.mode == 'exp_range':\n",
        "                self.scale_fn = lambda x: gamma**(x)\n",
        "                self.scale_mode = 'iterations'\n",
        "        else:\n",
        "            self.scale_fn = scale_fn\n",
        "            self.scale_mode = scale_mode\n",
        "        self.clr_iterations = 0.\n",
        "        self.trn_iterations = 0.\n",
        "        self.history = {}\n",
        "\n",
        "        self._reset()\n",
        "\n",
        "    def _reset(self, new_base_lr=None, new_max_lr=None,\n",
        "               new_step_size=None):\n",
        "        \"\"\"Resets cycle iterations.\n",
        "        Optional boundary/step size adjustment.\n",
        "        \"\"\"\n",
        "        if new_base_lr != None:\n",
        "            self.base_lr = new_base_lr\n",
        "        if new_max_lr != None:\n",
        "            self.max_lr = new_max_lr\n",
        "        if new_step_size != None:\n",
        "            self.step_size = new_step_size\n",
        "        self.clr_iterations = 0.\n",
        "        \n",
        "    def clr(self):\n",
        "        cycle = np.floor(1+self.clr_iterations/(2*self.step_size))\n",
        "        x = np.abs(self.clr_iterations/self.step_size - 2*cycle + 1)\n",
        "        if self.scale_mode == 'cycle':\n",
        "            return self.base_lr + (self.max_lr-self.base_lr)*np.maximum(0, (1-x))*self.scale_fn(cycle)\n",
        "        else:\n",
        "            return self.base_lr + (self.max_lr-self.base_lr)*np.maximum(0, (1-x))*self.scale_fn(self.clr_iterations)\n",
        "        \n",
        "    def on_train_begin(self, logs={}):\n",
        "        logs = logs or {}\n",
        "\n",
        "        if self.clr_iterations == 0:\n",
        "            K.set_value(self.model.optimizer.lr, self.base_lr)\n",
        "        else:\n",
        "            K.set_value(self.model.optimizer.lr, self.clr())        \n",
        "            \n",
        "    def on_batch_end(self, epoch, logs=None):\n",
        "        \n",
        "        logs = logs or {}\n",
        "        self.trn_iterations += 1\n",
        "        self.clr_iterations += 1\n",
        "\n",
        "        self.history.setdefault('lr', []).append(K.get_value(self.model.optimizer.lr))\n",
        "        self.history.setdefault('iterations', []).append(self.trn_iterations)\n",
        "\n",
        "        for k, v in logs.items():\n",
        "            self.history.setdefault(k, []).append(v)\n",
        "        \n",
        "        K.set_value(self.model.optimizer.lr, self.clr())"
      ],
      "execution_count": 0,
      "outputs": []
    },
    {
      "cell_type": "code",
      "metadata": {
        "id": "ntJKHa437p83",
        "colab_type": "code",
        "outputId": "133f21fc-a0a7-40ab-d09d-0489bb0e30c7",
        "colab": {
          "base_uri": "https://localhost:8080/",
          "height": 105
        }
      },
      "source": [
        "# losses = {\n",
        "# \t\"gender_output\": \"binary_crossentropy\",\n",
        "# \t\"image_quality_output\": \"categorical_crossentropy\",\n",
        "# \t\"age_output\": \"categorical_crossentropy\",\n",
        "# \t\"weight_output\": \"categorical_crossentropy\",\n",
        "\n",
        "# }\n",
        "# loss_weights = {\"gender_output\": 1.0, \"image_quality_output\": 1.0, \"age_output\": 1.0}\n",
        "opt = SGD(lr=0.001, momentum=0.9)\n",
        "model.compile(\n",
        "    optimizer=opt,\n",
        "    loss=\"categorical_crossentropy\", \n",
        "    # loss_weights=loss_weights, \n",
        "    metrics=[\"accuracy\"]\n",
        ")"
      ],
      "execution_count": 16,
      "outputs": [
        {
          "output_type": "stream",
          "text": [
            "WARNING:tensorflow:From /usr/local/lib/python3.6/dist-packages/keras/optimizers.py:793: The name tf.train.Optimizer is deprecated. Please use tf.compat.v1.train.Optimizer instead.\n",
            "\n",
            "WARNING:tensorflow:From /usr/local/lib/python3.6/dist-packages/keras/backend/tensorflow_backend.py:3576: The name tf.log is deprecated. Please use tf.math.log instead.\n",
            "\n"
          ],
          "name": "stdout"
        }
      ]
    },
    {
      "cell_type": "code",
      "metadata": {
        "id": "wTjwnU6bSd_a",
        "colab_type": "code",
        "outputId": "7d2533c5-03f8-4896-d4bc-cf5f0b2b1cbc",
        "colab": {
          "base_uri": "https://localhost:8080/",
          "height": 1000
        }
      },
      "source": [
        "clr = CyclicLR(base_lr=0.001, max_lr=0.006,\n",
        "                        step_size=2000.)\n",
        "\n",
        "\n",
        "callbacks =  [clr]\n",
        "\n",
        "model.fit_generator(\n",
        "    generator=train_gen,\n",
        "    validation_data=valid_gen,\n",
        "    use_multiprocessing=True,\n",
        "    workers=4, \n",
        "    epochs=50,\n",
        "    verbose=1,\n",
        "    callbacks=callbacks\n",
        ")"
      ],
      "execution_count": 23,
      "outputs": [
        {
          "output_type": "stream",
          "text": [
            "Epoch 1/50\n",
            "360/360 [==============================] - 45s 125ms/step - loss: 4.4557 - gender_output_loss: 0.1733 - image_quality_output_loss: 0.5606 - age_output_loss: 1.0509 - weight_output_loss: 0.6717 - bag_output_loss: 0.5550 - footwear_output_loss: 0.5066 - pose_output_loss: 0.2393 - emotion_output_loss: 0.6983 - gender_output_acc: 0.9264 - image_quality_output_acc: 0.7714 - age_output_acc: 0.5556 - weight_output_acc: 0.7451 - bag_output_acc: 0.7676 - footwear_output_acc: 0.7768 - pose_output_acc: 0.9168 - emotion_output_acc: 0.7479 - val_loss: 7.8208 - val_gender_output_loss: 0.5863 - val_image_quality_output_loss: 1.0408 - val_age_output_loss: 1.4126 - val_weight_output_loss: 1.1206 - val_bag_output_loss: 0.9469 - val_footwear_output_loss: 1.0091 - val_pose_output_loss: 0.8099 - val_emotion_output_loss: 0.8946 - val_gender_output_acc: 0.7344 - val_image_quality_output_acc: 0.5635 - val_age_output_acc: 0.4128 - val_weight_output_acc: 0.6164 - val_bag_output_acc: 0.5943 - val_footwear_output_acc: 0.6406 - val_pose_output_acc: 0.7122 - val_emotion_output_acc: 0.7117\n",
            "Epoch 2/50\n",
            "360/360 [==============================] - 44s 121ms/step - loss: 4.2653 - gender_output_loss: 0.1634 - image_quality_output_loss: 0.5466 - age_output_loss: 0.9998 - weight_output_loss: 0.6420 - bag_output_loss: 0.5283 - footwear_output_loss: 0.4850 - pose_output_loss: 0.2156 - emotion_output_loss: 0.6846 - gender_output_acc: 0.9280 - image_quality_output_acc: 0.7747 - age_output_acc: 0.5775 - weight_output_acc: 0.7536 - bag_output_acc: 0.7819 - footwear_output_acc: 0.7852 - pose_output_acc: 0.9261 - emotion_output_acc: 0.7480 - val_loss: 7.9838 - val_gender_output_loss: 0.7038 - val_image_quality_output_loss: 1.0768 - val_age_output_loss: 1.4098 - val_weight_output_loss: 1.1624 - val_bag_output_loss: 0.9095 - val_footwear_output_loss: 0.9950 - val_pose_output_loss: 0.8199 - val_emotion_output_loss: 0.9067 - val_gender_output_acc: 0.6966 - val_image_quality_output_acc: 0.5585 - val_age_output_acc: 0.4118 - val_weight_output_acc: 0.6134 - val_bag_output_acc: 0.5867 - val_footwear_output_acc: 0.6361 - val_pose_output_acc: 0.7303 - val_emotion_output_acc: 0.7097\n",
            "Epoch 3/50\n",
            "359/360 [============================>.] - ETA: 0s - loss: 4.3076 - gender_output_loss: 0.1684 - image_quality_output_loss: 0.5509 - age_output_loss: 1.0102 - weight_output_loss: 0.6454 - bag_output_loss: 0.5222 - footwear_output_loss: 0.4835 - pose_output_loss: 0.2450 - emotion_output_loss: 0.6819 - gender_output_acc: 0.9310 - image_quality_output_acc: 0.7721 - age_output_acc: 0.5810 - weight_output_acc: 0.7526 - bag_output_acc: 0.7804 - footwear_output_acc: 0.7873 - pose_output_acc: 0.9160 - emotion_output_acc: 0.7481Epoch 3/50\n",
            "360/360 [==============================] - 43s 121ms/step - loss: 4.3065 - gender_output_loss: 0.1684 - image_quality_output_loss: 0.5510 - age_output_loss: 1.0106 - weight_output_loss: 0.6452 - bag_output_loss: 0.5215 - footwear_output_loss: 0.4831 - pose_output_loss: 0.2445 - emotion_output_loss: 0.6822 - gender_output_acc: 0.9309 - image_quality_output_acc: 0.7723 - age_output_acc: 0.5806 - weight_output_acc: 0.7526 - bag_output_acc: 0.7808 - footwear_output_acc: 0.7875 - pose_output_acc: 0.9162 - emotion_output_acc: 0.7479 - val_loss: 8.0650 - val_gender_output_loss: 0.6593 - val_image_quality_output_loss: 1.0505 - val_age_output_loss: 1.4504 - val_weight_output_loss: 1.1152 - val_bag_output_loss: 0.9367 - val_footwear_output_loss: 1.1062 - val_pose_output_loss: 0.8359 - val_emotion_output_loss: 0.9108 - val_gender_output_acc: 0.7162 - val_image_quality_output_acc: 0.5575 - val_age_output_acc: 0.4022 - val_weight_output_acc: 0.6109 - val_bag_output_acc: 0.5958 - val_footwear_output_acc: 0.6310 - val_pose_output_acc: 0.7082 - val_emotion_output_acc: 0.7147\n",
            "Epoch 4/50\n",
            "360/360 [==============================] - 43s 121ms/step - loss: 4.3065 - gender_output_loss: 0.1684 - image_quality_output_loss: 0.5510 - age_output_loss: 1.0106 - weight_output_loss: 0.6452 - bag_output_loss: 0.5215 - footwear_output_loss: 0.4831 - pose_output_loss: 0.2445 - emotion_output_loss: 0.6822 - gender_output_acc: 0.9309 - image_quality_output_acc: 0.7723 - age_output_acc: 0.5806 - weight_output_acc: 0.7526 - bag_output_acc: 0.7808 - footwear_output_acc: 0.7875 - pose_output_acc: 0.9162 - emotion_output_acc: 0.7479 - val_loss: 8.0650 - val_gender_output_loss: 0.6593 - val_image_quality_output_loss: 1.0505 - val_age_output_loss: 1.4504 - val_weight_output_loss: 1.1152 - val_bag_output_loss: 0.9367 - val_footwear_output_loss: 1.1062 - val_pose_output_loss: 0.8359 - val_emotion_output_loss: 0.9108 - val_gender_output_acc: 0.7162 - val_image_quality_output_acc: 0.5575 - val_age_output_acc: 0.4022 - val_weight_output_acc: 0.6109 - val_bag_output_acc: 0.5958 - val_footwear_output_acc: 0.6310 - val_pose_output_acc: 0.7082 - val_emotion_output_acc: 0.7147\n",
            "360/360 [==============================] - 44s 122ms/step - loss: 4.3709 - gender_output_loss: 0.1807 - image_quality_output_loss: 0.5602 - age_output_loss: 1.0212 - weight_output_loss: 0.6617 - bag_output_loss: 0.5272 - footwear_output_loss: 0.4916 - pose_output_loss: 0.2331 - emotion_output_loss: 0.6952 - gender_output_acc: 0.9215 - image_quality_output_acc: 0.7729 - age_output_acc: 0.5815 - weight_output_acc: 0.7482 - bag_output_acc: 0.7801 - footwear_output_acc: 0.7841 - pose_output_acc: 0.9218 - emotion_output_acc: 0.7506 - val_loss: 8.3254 - val_gender_output_loss: 0.7073 - val_image_quality_output_loss: 1.0524 - val_age_output_loss: 1.4491 - val_weight_output_loss: 1.2023 - val_bag_output_loss: 1.0313 - val_footwear_output_loss: 1.0028 - val_pose_output_loss: 0.9644 - val_emotion_output_loss: 0.9157 - val_gender_output_acc: 0.7157 - val_image_quality_output_acc: 0.5600 - val_age_output_acc: 0.4123 - val_weight_output_acc: 0.6144 - val_bag_output_acc: 0.6099 - val_footwear_output_acc: 0.6351 - val_pose_output_acc: 0.7233 - val_emotion_output_acc: 0.7061\n",
            "Epoch 5/50\n",
            "360/360 [==============================] - 44s 121ms/step - loss: 4.5343 - gender_output_loss: 0.1868 - image_quality_output_loss: 0.5825 - age_output_loss: 1.0485 - weight_output_loss: 0.6756 - bag_output_loss: 0.5489 - footwear_output_loss: 0.5228 - pose_output_loss: 0.2707 - emotion_output_loss: 0.6986 - gender_output_acc: 0.9227 - image_quality_output_acc: 0.7649 - age_output_acc: 0.5649 - weight_output_acc: 0.7442 - bag_output_acc: 0.7779 - footwear_output_acc: 0.7750 - pose_output_acc: 0.9084 - emotion_output_acc: 0.7495 - val_loss: 8.0366 - val_gender_output_loss: 0.7265 - val_image_quality_output_loss: 1.0985 - val_age_output_loss: 1.4606 - val_weight_output_loss: 1.1282 - val_bag_output_loss: 0.9339 - val_footwear_output_loss: 0.9112 - val_pose_output_loss: 0.8665 - val_emotion_output_loss: 0.9111 - val_gender_output_acc: 0.6683 - val_image_quality_output_acc: 0.5549 - val_age_output_acc: 0.4037 - val_weight_output_acc: 0.6089 - val_bag_output_acc: 0.5736 - val_footwear_output_acc: 0.6426 - val_pose_output_acc: 0.7177 - val_emotion_output_acc: 0.7117\n",
            "Epoch 6/50\n",
            "360/360 [==============================] - 44s 121ms/step - loss: 4.7533 - gender_output_loss: 0.2153 - image_quality_output_loss: 0.6047 - age_output_loss: 1.0996 - weight_output_loss: 0.7029 - bag_output_loss: 0.5731 - footwear_output_loss: 0.5584 - pose_output_loss: 0.2794 - emotion_output_loss: 0.7198 - gender_output_acc: 0.9098 - image_quality_output_acc: 0.7543 - age_output_acc: 0.5538 - weight_output_acc: 0.7317 - bag_output_acc: 0.7670 - footwear_output_acc: 0.7639 - pose_output_acc: 0.9027 - emotion_output_acc: 0.7408 - val_loss: 8.1750 - val_gender_output_loss: 0.6096 - val_image_quality_output_loss: 1.3809 - val_age_output_loss: 1.4309 - val_weight_output_loss: 1.1168 - val_bag_output_loss: 0.9724 - val_footwear_output_loss: 0.8807 - val_pose_output_loss: 0.8720 - val_emotion_output_loss: 0.9118 - val_gender_output_acc: 0.6724 - val_image_quality_output_acc: 0.5161 - val_age_output_acc: 0.4163 - val_weight_output_acc: 0.6184 - val_bag_output_acc: 0.5711 - val_footwear_output_acc: 0.6275 - val_pose_output_acc: 0.7077 - val_emotion_output_acc: 0.6981\n",
            "Epoch 7/50\n",
            "359/360 [============================>.] - ETA: 0s - loss: 4.6279 - gender_output_loss: 0.1970 - image_quality_output_loss: 0.5923 - age_output_loss: 1.0685 - weight_output_loss: 0.6959 - bag_output_loss: 0.5520 - footwear_output_loss: 0.5189 - pose_output_loss: 0.2853 - emotion_output_loss: 0.7181 - gender_output_acc: 0.9166 - image_quality_output_acc: 0.7578 - age_output_acc: 0.5635 - weight_output_acc: 0.7362 - bag_output_acc: 0.7779 - footwear_output_acc: 0.7802 - pose_output_acc: 0.9037 - emotion_output_acc: 0.7469Epoch 7/50\n",
            "360/360 [==============================] - 43s 121ms/step - loss: 4.6271 - gender_output_loss: 0.1972 - image_quality_output_loss: 0.5923 - age_output_loss: 1.0686 - weight_output_loss: 0.6957 - bag_output_loss: 0.5519 - footwear_output_loss: 0.5188 - pose_output_loss: 0.2851 - emotion_output_loss: 0.7176 - gender_output_acc: 0.9166 - image_quality_output_acc: 0.7580 - age_output_acc: 0.5635 - weight_output_acc: 0.7361 - bag_output_acc: 0.7779 - footwear_output_acc: 0.7801 - pose_output_acc: 0.9038 - emotion_output_acc: 0.7470 - val_loss: 8.2734 - val_gender_output_loss: 0.7798 - val_image_quality_output_loss: 1.0506 - val_age_output_loss: 1.4613 - val_weight_output_loss: 1.1750 - val_bag_output_loss: 1.1171 - val_footwear_output_loss: 1.0013 - val_pose_output_loss: 0.7851 - val_emotion_output_loss: 0.9031 - val_gender_output_acc: 0.6492 - val_image_quality_output_acc: 0.5575 - val_age_output_acc: 0.3866 - val_weight_output_acc: 0.6124 - val_bag_output_acc: 0.6089 - val_footwear_output_acc: 0.6416 - val_pose_output_acc: 0.7092 - val_emotion_output_acc: 0.7122\n",
            "Epoch 8/50\n",
            "360/360 [==============================] - 43s 121ms/step - loss: 4.3714 - gender_output_loss: 0.1777 - image_quality_output_loss: 0.5692 - age_output_loss: 1.0233 - weight_output_loss: 0.6554 - bag_output_loss: 0.5252 - footwear_output_loss: 0.4885 - pose_output_loss: 0.2501 - emotion_output_loss: 0.6820 - gender_output_acc: 0.9251 - image_quality_output_acc: 0.7677 - age_output_acc: 0.5877 - weight_output_acc: 0.7511 - bag_output_acc: 0.7893 - footwear_output_acc: 0.7882 - pose_output_acc: 0.9164 - emotion_output_acc: 0.7540 - val_loss: 8.6414 - val_gender_output_loss: 0.9571 - val_image_quality_output_loss: 1.0821 - val_age_output_loss: 1.4970 - val_weight_output_loss: 1.3842 - val_bag_output_loss: 0.9816 - val_footwear_output_loss: 1.0606 - val_pose_output_loss: 0.7708 - val_emotion_output_loss: 0.9080 - val_gender_output_acc: 0.6744 - val_image_quality_output_acc: 0.5610 - val_age_output_acc: 0.4062 - val_weight_output_acc: 0.6003 - val_bag_output_acc: 0.6104 - val_footwear_output_acc: 0.6381 - val_pose_output_acc: 0.7147 - val_emotion_output_acc: 0.7122\n",
            "Epoch 9/50\n",
            "360/360 [==============================] - 43s 120ms/step - loss: 4.0940 - gender_output_loss: 0.1704 - image_quality_output_loss: 0.5219 - age_output_loss: 0.9548 - weight_output_loss: 0.6132 - bag_output_loss: 0.4738 - footwear_output_loss: 0.4698 - pose_output_loss: 0.2318 - emotion_output_loss: 0.6583 - gender_output_acc: 0.9299 - image_quality_output_acc: 0.7925 - age_output_acc: 0.6096 - weight_output_acc: 0.7677 - bag_output_acc: 0.8134 - footwear_output_acc: 0.7975 - pose_output_acc: 0.9217 - emotion_output_acc: 0.7623 - val_loss: 8.2772 - val_gender_output_loss: 0.6725 - val_image_quality_output_loss: 1.0675 - val_age_output_loss: 1.5790 - val_weight_output_loss: 1.2248 - val_bag_output_loss: 0.9398 - val_footwear_output_loss: 1.0143 - val_pose_output_loss: 0.8667 - val_emotion_output_loss: 0.9125 - val_gender_output_acc: 0.7142 - val_image_quality_output_acc: 0.5615 - val_age_output_acc: 0.3604 - val_weight_output_acc: 0.6195 - val_bag_output_acc: 0.6134 - val_footwear_output_acc: 0.6381 - val_pose_output_acc: 0.7046 - val_emotion_output_acc: 0.7092\n",
            "Epoch 10/50\n",
            "360/360 [==============================] - 44s 122ms/step - loss: 3.7939 - gender_output_loss: 0.1472 - image_quality_output_loss: 0.4963 - age_output_loss: 0.8887 - weight_output_loss: 0.5642 - bag_output_loss: 0.4328 - footwear_output_loss: 0.4424 - pose_output_loss: 0.2047 - emotion_output_loss: 0.6177 - gender_output_acc: 0.9357 - image_quality_output_acc: 0.8006 - age_output_acc: 0.6424 - weight_output_acc: 0.7879 - bag_output_acc: 0.8264 - footwear_output_acc: 0.8091 - pose_output_acc: 0.9293 - emotion_output_acc: 0.7765 - val_loss: 8.3449 - val_gender_output_loss: 0.6601 - val_image_quality_output_loss: 1.1259 - val_age_output_loss: 1.5106 - val_weight_output_loss: 1.2269 - val_bag_output_loss: 1.0245 - val_footwear_output_loss: 1.0435 - val_pose_output_loss: 0.8298 - val_emotion_output_loss: 0.9235 - val_gender_output_acc: 0.7314 - val_image_quality_output_acc: 0.5625 - val_age_output_acc: 0.3977 - val_weight_output_acc: 0.6174 - val_bag_output_acc: 0.5998 - val_footwear_output_acc: 0.6351 - val_pose_output_acc: 0.7324 - val_emotion_output_acc: 0.7077\n",
            "Epoch 11/50\n",
            "360/360 [==============================] - 44s 122ms/step - loss: 3.5350 - gender_output_loss: 0.1333 - image_quality_output_loss: 0.4586 - age_output_loss: 0.8381 - weight_output_loss: 0.5192 - bag_output_loss: 0.4091 - footwear_output_loss: 0.4083 - pose_output_loss: 0.1867 - emotion_output_loss: 0.5816 - gender_output_acc: 0.9432 - image_quality_output_acc: 0.8174 - age_output_acc: 0.6630 - weight_output_acc: 0.8064 - bag_output_acc: 0.8333 - footwear_output_acc: 0.8246 - pose_output_acc: 0.9372 - emotion_output_acc: 0.7871 - val_loss: 8.7374 - val_gender_output_loss: 0.7466 - val_image_quality_output_loss: 1.1051 - val_age_output_loss: 1.5337 - val_weight_output_loss: 1.2455 - val_bag_output_loss: 1.2170 - val_footwear_output_loss: 1.1070 - val_pose_output_loss: 0.8561 - val_emotion_output_loss: 0.9263 - val_gender_output_acc: 0.6981 - val_image_quality_output_acc: 0.5640 - val_age_output_acc: 0.3926 - val_weight_output_acc: 0.6028 - val_bag_output_acc: 0.6134 - val_footwear_output_acc: 0.6381 - val_pose_output_acc: 0.7329 - val_emotion_output_acc: 0.7132\n",
            "Epoch 12/50\n",
            "360/360 [==============================] - 43s 120ms/step - loss: 3.3590 - gender_output_loss: 0.1254 - image_quality_output_loss: 0.4436 - age_output_loss: 0.7873 - weight_output_loss: 0.5006 - bag_output_loss: 0.3856 - footwear_output_loss: 0.3871 - pose_output_loss: 0.1736 - emotion_output_loss: 0.5559 - gender_output_acc: 0.9464 - image_quality_output_acc: 0.8255 - age_output_acc: 0.6852 - weight_output_acc: 0.8116 - bag_output_acc: 0.8454 - footwear_output_acc: 0.8328 - pose_output_acc: 0.9435 - emotion_output_acc: 0.7973 - val_loss: 8.8299 - val_gender_output_loss: 0.7961 - val_image_quality_output_loss: 1.1205 - val_age_output_loss: 1.5299 - val_weight_output_loss: 1.2297 - val_bag_output_loss: 1.1725 - val_footwear_output_loss: 1.1363 - val_pose_output_loss: 0.9001 - val_emotion_output_loss: 0.9448 - val_gender_output_acc: 0.7006 - val_image_quality_output_acc: 0.5575 - val_age_output_acc: 0.4138 - val_weight_output_acc: 0.6089 - val_bag_output_acc: 0.6124 - val_footwear_output_acc: 0.6376 - val_pose_output_acc: 0.7182 - val_emotion_output_acc: 0.7051\n",
            "Epoch 13/50\n",
            "360/360 [==============================] - 43s 120ms/step - loss: 3.3941 - gender_output_loss: 0.1292 - image_quality_output_loss: 0.4454 - age_output_loss: 0.8087 - weight_output_loss: 0.5010 - bag_output_loss: 0.3799 - footwear_output_loss: 0.3868 - pose_output_loss: 0.1817 - emotion_output_loss: 0.5615 - gender_output_acc: 0.9465 - image_quality_output_acc: 0.8260 - age_output_acc: 0.6744 - weight_output_acc: 0.8106 - bag_output_acc: 0.8462 - footwear_output_acc: 0.8340 - pose_output_acc: 0.9365 - emotion_output_acc: 0.7913 - val_loss: 8.7852 - val_gender_output_loss: 0.7076 - val_image_quality_output_loss: 1.1582 - val_age_output_loss: 1.5645 - val_weight_output_loss: 1.2336 - val_bag_output_loss: 1.2631 - val_footwear_output_loss: 1.1457 - val_pose_output_loss: 0.7865 - val_emotion_output_loss: 0.9259 - val_gender_output_acc: 0.7213 - val_image_quality_output_acc: 0.5600 - val_age_output_acc: 0.3896 - val_weight_output_acc: 0.6084 - val_bag_output_acc: 0.6179 - val_footwear_output_acc: 0.6442 - val_pose_output_acc: 0.7329 - val_emotion_output_acc: 0.7036\n",
            "Epoch 14/50\n",
            "360/360 [==============================] - 43s 120ms/step - loss: 3.4873 - gender_output_loss: 0.1385 - image_quality_output_loss: 0.4604 - age_output_loss: 0.8205 - weight_output_loss: 0.5206 - bag_output_loss: 0.3905 - footwear_output_loss: 0.3946 - pose_output_loss: 0.1887 - emotion_output_loss: 0.5735 - gender_output_acc: 0.9439 - image_quality_output_acc: 0.8214 - age_output_acc: 0.6685 - weight_output_acc: 0.8032 - bag_output_acc: 0.8427 - footwear_output_acc: 0.8297 - pose_output_acc: 0.9363 - emotion_output_acc: 0.7908 - val_loss: 8.4168 - val_gender_output_loss: 0.6680 - val_image_quality_output_loss: 1.1596 - val_age_output_loss: 1.5347 - val_weight_output_loss: 1.2286 - val_bag_output_loss: 1.0360 - val_footwear_output_loss: 0.9872 - val_pose_output_loss: 0.8734 - val_emotion_output_loss: 0.9294 - val_gender_output_acc: 0.7470 - val_image_quality_output_acc: 0.5600 - val_age_output_acc: 0.3881 - val_weight_output_acc: 0.6154 - val_bag_output_acc: 0.6114 - val_footwear_output_acc: 0.6351 - val_pose_output_acc: 0.7359 - val_emotion_output_acc: 0.7132\n",
            "Epoch 15/50\n",
            "360/360 [==============================] - 43s 120ms/step - loss: 3.6421 - gender_output_loss: 0.1447 - image_quality_output_loss: 0.4762 - age_output_loss: 0.8713 - weight_output_loss: 0.5247 - bag_output_loss: 0.4098 - footwear_output_loss: 0.4171 - pose_output_loss: 0.2056 - emotion_output_loss: 0.5928 - gender_output_acc: 0.9410 - image_quality_output_acc: 0.8139 - age_output_acc: 0.6485 - weight_output_acc: 0.8023 - bag_output_acc: 0.8376 - footwear_output_acc: 0.8237 - pose_output_acc: 0.9313 - emotion_output_acc: 0.7820 - val_loss: 8.2195 - val_gender_output_loss: 0.6393 - val_image_quality_output_loss: 1.1226 - val_age_output_loss: 1.5107 - val_weight_output_loss: 1.1303 - val_bag_output_loss: 1.0885 - val_footwear_output_loss: 0.9547 - val_pose_output_loss: 0.8464 - val_emotion_output_loss: 0.9270 - val_gender_output_acc: 0.7429 - val_image_quality_output_acc: 0.5605 - val_age_output_acc: 0.4062 - val_weight_output_acc: 0.6079 - val_bag_output_acc: 0.6069 - val_footwear_output_acc: 0.6386 - val_pose_output_acc: 0.7193 - val_emotion_output_acc: 0.7102\n",
            "Epoch 16/50\n",
            "360/360 [==============================] - 43s 120ms/step - loss: 3.8732 - gender_output_loss: 0.1669 - image_quality_output_loss: 0.5121 - age_output_loss: 0.8913 - weight_output_loss: 0.5723 - bag_output_loss: 0.4419 - footwear_output_loss: 0.4294 - pose_output_loss: 0.2411 - emotion_output_loss: 0.6182 - gender_output_acc: 0.9314 - image_quality_output_acc: 0.7988 - age_output_acc: 0.6474 - weight_output_acc: 0.7874 - bag_output_acc: 0.8264 - footwear_output_acc: 0.8210 - pose_output_acc: 0.9190 - emotion_output_acc: 0.7712 - val_loss: 8.3515 - val_gender_output_loss: 0.6933 - val_image_quality_output_loss: 1.1663 - val_age_output_loss: 1.4553 - val_weight_output_loss: 1.1624 - val_bag_output_loss: 1.0538 - val_footwear_output_loss: 0.9426 - val_pose_output_loss: 0.9270 - val_emotion_output_loss: 0.9508 - val_gender_output_acc: 0.6996 - val_image_quality_output_acc: 0.5469 - val_age_output_acc: 0.3957 - val_weight_output_acc: 0.6154 - val_bag_output_acc: 0.6008 - val_footwear_output_acc: 0.6396 - val_pose_output_acc: 0.6900 - val_emotion_output_acc: 0.7067\n",
            "Epoch 17/50\n",
            "360/360 [==============================] - 43s 120ms/step - loss: 4.1374 - gender_output_loss: 0.1793 - image_quality_output_loss: 0.5385 - age_output_loss: 0.9571 - weight_output_loss: 0.6162 - bag_output_loss: 0.4736 - footwear_output_loss: 0.4648 - pose_output_loss: 0.2681 - emotion_output_loss: 0.6397 - gender_output_acc: 0.9237 - image_quality_output_acc: 0.7910 - age_output_acc: 0.6286 - weight_output_acc: 0.7655 - bag_output_acc: 0.8179 - footwear_output_acc: 0.8068 - pose_output_acc: 0.9090 - emotion_output_acc: 0.7654 - val_loss: 8.1940 - val_gender_output_loss: 0.5391 - val_image_quality_output_loss: 1.2672 - val_age_output_loss: 1.4741 - val_weight_output_loss: 1.2389 - val_bag_output_loss: 1.0101 - val_footwear_output_loss: 0.9571 - val_pose_output_loss: 0.7702 - val_emotion_output_loss: 0.9374 - val_gender_output_acc: 0.7762 - val_image_quality_output_acc: 0.5449 - val_age_output_acc: 0.4047 - val_weight_output_acc: 0.6154 - val_bag_output_acc: 0.5973 - val_footwear_output_acc: 0.6512 - val_pose_output_acc: 0.7077 - val_emotion_output_acc: 0.7107\n",
            "Epoch 18/50\n",
            "360/360 [==============================] - 43s 119ms/step - loss: 4.1886 - gender_output_loss: 0.1848 - image_quality_output_loss: 0.5429 - age_output_loss: 0.9597 - weight_output_loss: 0.6432 - bag_output_loss: 0.4824 - footwear_output_loss: 0.4772 - pose_output_loss: 0.2478 - emotion_output_loss: 0.6507 - gender_output_acc: 0.9255 - image_quality_output_acc: 0.7854 - age_output_acc: 0.6286 - weight_output_acc: 0.7608 - bag_output_acc: 0.8113 - footwear_output_acc: 0.8027 - pose_output_acc: 0.9165 - emotion_output_acc: 0.7658 - val_loss: 8.4049 - val_gender_output_loss: 0.5432 - val_image_quality_output_loss: 1.1500 - val_age_output_loss: 1.5489 - val_weight_output_loss: 1.3073 - val_bag_output_loss: 1.1489 - val_footwear_output_loss: 1.0352 - val_pose_output_loss: 0.7174 - val_emotion_output_loss: 0.9541 - val_gender_output_acc: 0.7162 - val_image_quality_output_acc: 0.5534 - val_age_output_acc: 0.3891 - val_weight_output_acc: 0.6149 - val_bag_output_acc: 0.6064 - val_footwear_output_acc: 0.6225 - val_pose_output_acc: 0.7465 - val_emotion_output_acc: 0.7016\n",
            "Epoch 19/50\n",
            "359/360 [============================>.] - ETA: 0s - loss: 3.9025 - gender_output_loss: 0.1695 - image_quality_output_loss: 0.5138 - age_output_loss: 0.8950 - weight_output_loss: 0.5834 - bag_output_loss: 0.4452 - footwear_output_loss: 0.4406 - pose_output_loss: 0.2399 - emotion_output_loss: 0.6152 - gender_output_acc: 0.9316 - image_quality_output_acc: 0.8000 - age_output_acc: 0.6495 - weight_output_acc: 0.7798 - bag_output_acc: 0.8234 - footwear_output_acc: 0.8202 - pose_output_acc: 0.9197 - emotion_output_acc: 0.7737\b\b\b\b\b\b\b\b\b\b\b\b\b\b\b\b\b\b\b\b\b\b\b\b\b\b\b\b\b\b\b\b\b\b\b\b\b\b\b\b\b\b\b\b\b\b\b\b\b\b\b\b\b\b\b\b\b\b\b\b\b\b\b\b\b\b\b\b\b\b\b\b\b\b\b\b\b\b\b\b\b\b\b\b\b\b\b\b\b\b\b\b\b\b\b\b\b\b\b\b\b\b\b\b\b\b\b\b\b\b\b\b\b\b\b\b\b\b\b\b\b\b\b\b\b\b\b\b\b\b\b\b\b\b\b\b\b\b\b\b\b\b\b\b\b\b\b\b\b\b\b\b\b\b\b\b\b\b\b\b\b\b\b\b\b\b\b\b\b\b\b\b\b\b\b\b\b\b\b\b\b\b\b\b\b\b\b\b\b\b\b\b\b\b\b\b\b\b\b\b\b\b\b\b\b\b\b\b\b\b\b\b\b\b\b\b\b\b\b\b\b\b\b\b\b\b\b\b\b\b\b\b\b\b\b\b\b\b\b\b\b\b\b\b\b\b\b\b\b\b\b\b\b\b\b\b\b\b\b\b\b\b\b\b\b\b\b\b\b\b\b\b\b\b\b\b\b\b\b\b\b\b\b\b\b\b\b\b\b\b\b\b\b\b\b\b\b\b\b\b\b\b\b\b\b\b\b\b\b\b\b\b\b\b\b\b\b\b\b\b\b\b\b\b\b\b\b\b\b\b\b\b\b\b\b\b\b\b\b\b\b\b\b\b\b\b\b\b\b\b\b\b\b\b\b\b\b\b\b\b\b\b\b\b\b\b\b\b\b\b\b\b\b\b\b\b\b\b\b\b\b\b\b\b\b\b\b\b\b\b\b\b\b\b\b\b\b\b\b\b\b\b\b\b\b\b\b\b\b\b\b\b\b\b\b\b\b\b\b\b\b\b\b\b\b\b\b\b\b\b\b\b\b\b\b\b\b\b\b\b\b\b\b\b\b\b\b\b\b\b\b\b\b\b\b\b\b\b\b\b\b\b\b\b\b\b\b\b\b\b\b\b\b\b\b\b\b\b\b\b\b\b\b\b\b\b\b\b\b\b\b\b\b\b\b\b\b\b\b\b\b\b\b\b\b\b\b\b\b\b\b\b\b\b\b\b\b\b\b\b\b\b\b\b\b\b\b\b\b\b\b\b\b\b\b\b\b\b\b\b\b\b\b\b\b\b\b\b\b\b\b\b\b\b\b\b\b\b\b\b\b\b\b\b\b\b\b\b\b\b\b\b\b\b\b\b\b\b\b\b\b\b\b\b\b\b\b\b\b\b\b\b\b\b\b\b\b\b\b\b\b\b\b\b\b\b\b\b\b\b\b\b\b\b\b\b\b\b\b\b\b\b\b\b\b\b\b\b\b\b\b\b\b\b\b\b\b\b\b\b\b\b\b\b\b\b\b\b\b\b\b\b\b\b\b\b\b\b\b\b\b\b\b\b\b\b\b\b\b\b\b\b\b\b\b\b\b\b\b\b\b\b\b\b\b\b\b\b\b\b\b\b\b\b\b\b\b\b\b\b\b\b\b\b\b\b\b\b\b\b\b\b\b\b\b\b\b\b\b\b\b\b\b\b\b\b\b\b\b\b\b\b\b\b\b\b\b\b\b\b\b\b\b\b\b\b\b\b\b\b\b\b\b\b\b\b\b\b\b\b\b\b\b\b\b\b\b\b\b\b\b\b\b\b\b\b\b\b\b\b\b\b\b\b\b\b\b\b\b\b\b\b\b\b\b\b\b\b\b\b\b\b\b\b\b\b\b\b\b\b\b\b\b\b\b\b\b\b\b\b\b\b\b\b\b\b\b\b\b\b\b\b\b\b\b\b\b\b\b\b\b\b\b\b\b\b\b\b\b\b\b\b\b\b\b\b\b\b\b\b\b\b\b\b\b\b\b\b\b\b\b\b\b\b\b\b\b\b\b\b\b\b\b\b\b\b\b\b\b\b\b\b\b\b\b\b\b\b\b\b\b\b\b\b\b\b\b\b\b\b\b\b\b\b\b\b\b\b\b\b\b\b\b\b\b\b\b\b\b\b\b\b\b\b\b\b\b\b\b\b\b\b\b\b\b\b\b\b\b\b\b\b\b\b\b\b\b\b\b\b\b\b\b\b\b\b\b\b\b\b\b\b\b\b\b\b\b\b\b\b\b\b\b\b\b\b\b\b\b\b\b\b\b\b\b\b\b\b\b\b\b\b\b\b\b\b\b\b\b\b\b\b\b\b\b\b\b\b\b\b\b\b\b\b\b\b\b\b\b\b\b\b\b\b\b\b\b\b\b\b\b\b\b\b\b\b\b\b\b\bEpoch 19/50\n",
            "360/360 [==============================] - 43s 120ms/step - loss: 3.9015 - gender_output_loss: 0.1702 - image_quality_output_loss: 0.5133 - age_output_loss: 0.8949 - weight_output_loss: 0.5831 - bag_output_loss: 0.4456 - footwear_output_loss: 0.4401 - pose_output_loss: 0.2397 - emotion_output_loss: 0.6147 - gender_output_acc: 0.9313 - image_quality_output_acc: 0.8002 - age_output_acc: 0.6498 - weight_output_acc: 0.7799 - bag_output_acc: 0.8234 - footwear_output_acc: 0.8204 - pose_output_acc: 0.9198 - emotion_output_acc: 0.7740 - val_loss: 8.5097 - val_gender_output_loss: 0.6813 - val_image_quality_output_loss: 1.1491 - val_age_output_loss: 1.5315 - val_weight_output_loss: 1.1699 - val_bag_output_loss: 1.1177 - val_footwear_output_loss: 1.0879 - val_pose_output_loss: 0.8139 - val_emotion_output_loss: 0.9584 - val_gender_output_acc: 0.6880 - val_image_quality_output_acc: 0.5559 - val_age_output_acc: 0.4068 - val_weight_output_acc: 0.6099 - val_bag_output_acc: 0.5922 - val_footwear_output_acc: 0.6240 - val_pose_output_acc: 0.7147 - val_emotion_output_acc: 0.7021\n",
            "Epoch 20/50\n",
            "360/360 [==============================] - 43s 120ms/step - loss: 3.5281 - gender_output_loss: 0.1486 - image_quality_output_loss: 0.4666 - age_output_loss: 0.8201 - weight_output_loss: 0.5110 - bag_output_loss: 0.3978 - footwear_output_loss: 0.4129 - pose_output_loss: 0.2019 - emotion_output_loss: 0.5692 - gender_output_acc: 0.9399 - image_quality_output_acc: 0.8190 - age_output_acc: 0.6823 - weight_output_acc: 0.8050 - bag_output_acc: 0.8438 - footwear_output_acc: 0.8298 - pose_output_acc: 0.9329 - emotion_output_acc: 0.7891 - val_loss: 8.9959 - val_gender_output_loss: 0.6422 - val_image_quality_output_loss: 1.1218 - val_age_output_loss: 1.6376 - val_weight_output_loss: 1.3755 - val_bag_output_loss: 1.2398 - val_footwear_output_loss: 1.1683 - val_pose_output_loss: 0.8320 - val_emotion_output_loss: 0.9788 - val_gender_output_acc: 0.7072 - val_image_quality_output_acc: 0.5620 - val_age_output_acc: 0.4073 - val_weight_output_acc: 0.6174 - val_bag_output_acc: 0.5998 - val_footwear_output_acc: 0.6386 - val_pose_output_acc: 0.7188 - val_emotion_output_acc: 0.6860\n",
            "Epoch 21/50\n",
            "360/360 [==============================] - 43s 119ms/step - loss: 3.2133 - gender_output_loss: 0.1326 - image_quality_output_loss: 0.4201 - age_output_loss: 0.7523 - weight_output_loss: 0.4700 - bag_output_loss: 0.3487 - footwear_output_loss: 0.3780 - pose_output_loss: 0.1746 - emotion_output_loss: 0.5370 - gender_output_acc: 0.9444 - image_quality_output_acc: 0.8398 - age_output_acc: 0.7019 - weight_output_acc: 0.8293 - bag_output_acc: 0.8649 - footwear_output_acc: 0.8426 - pose_output_acc: 0.9424 - emotion_output_acc: 0.8018 - val_loss: 8.7542 - val_gender_output_loss: 0.5660 - val_image_quality_output_loss: 1.2181 - val_age_output_loss: 1.5823 - val_weight_output_loss: 1.3858 - val_bag_output_loss: 1.1510 - val_footwear_output_loss: 1.0724 - val_pose_output_loss: 0.7815 - val_emotion_output_loss: 0.9971 - val_gender_output_acc: 0.7218 - val_image_quality_output_acc: 0.5670 - val_age_output_acc: 0.3851 - val_weight_output_acc: 0.6144 - val_bag_output_acc: 0.5943 - val_footwear_output_acc: 0.6215 - val_pose_output_acc: 0.7389 - val_emotion_output_acc: 0.6986\n",
            "Epoch 22/50\n",
            "360/360 [==============================] - 43s 119ms/step - loss: 2.9772 - gender_output_loss: 0.1180 - image_quality_output_loss: 0.3968 - age_output_loss: 0.6811 - weight_output_loss: 0.4295 - bag_output_loss: 0.3265 - footwear_output_loss: 0.3486 - pose_output_loss: 0.1782 - emotion_output_loss: 0.4985 - gender_output_acc: 0.9507 - image_quality_output_acc: 0.8492 - age_output_acc: 0.7358 - weight_output_acc: 0.8401 - bag_output_acc: 0.8709 - footwear_output_acc: 0.8538 - pose_output_acc: 0.9413 - emotion_output_acc: 0.8135 - val_loss: 8.5365 - val_gender_output_loss: 0.5624 - val_image_quality_output_loss: 1.2009 - val_age_output_loss: 1.5672 - val_weight_output_loss: 1.3260 - val_bag_output_loss: 1.1228 - val_footwear_output_loss: 0.9996 - val_pose_output_loss: 0.7812 - val_emotion_output_loss: 0.9763 - val_gender_output_acc: 0.7434 - val_image_quality_output_acc: 0.5640 - val_age_output_acc: 0.4078 - val_weight_output_acc: 0.6179 - val_bag_output_acc: 0.6184 - val_footwear_output_acc: 0.6396 - val_pose_output_acc: 0.7248 - val_emotion_output_acc: 0.7117\n",
            "Epoch 23/50\n",
            "360/360 [==============================] - 43s 119ms/step - loss: 2.7826 - gender_output_loss: 0.1089 - image_quality_output_loss: 0.3831 - age_output_loss: 0.6267 - weight_output_loss: 0.4003 - bag_output_loss: 0.3138 - footwear_output_loss: 0.3299 - pose_output_loss: 0.1500 - emotion_output_loss: 0.4701 - gender_output_acc: 0.9569 - image_quality_output_acc: 0.8569 - age_output_acc: 0.7555 - weight_output_acc: 0.8517 - bag_output_acc: 0.8733 - footwear_output_acc: 0.8622 - pose_output_acc: 0.9509 - emotion_output_acc: 0.8236 - val_loss: 8.8384 - val_gender_output_loss: 0.5306 - val_image_quality_output_loss: 1.1945 - val_age_output_loss: 1.6156 - val_weight_output_loss: 1.3259 - val_bag_output_loss: 1.2690 - val_footwear_output_loss: 1.1293 - val_pose_output_loss: 0.7834 - val_emotion_output_loss: 0.9900 - val_gender_output_acc: 0.7571 - val_image_quality_output_acc: 0.5670 - val_age_output_acc: 0.3967 - val_weight_output_acc: 0.6134 - val_bag_output_acc: 0.6058 - val_footwear_output_acc: 0.6321 - val_pose_output_acc: 0.7389 - val_emotion_output_acc: 0.6840\n",
            "Epoch 24/50\n",
            "360/360 [==============================] - 43s 120ms/step - loss: 2.8247 - gender_output_loss: 0.1094 - image_quality_output_loss: 0.3881 - age_output_loss: 0.6372 - weight_output_loss: 0.4185 - bag_output_loss: 0.3098 - footwear_output_loss: 0.3286 - pose_output_loss: 0.1551 - emotion_output_loss: 0.4780 - gender_output_acc: 0.9547 - image_quality_output_acc: 0.8531 - age_output_acc: 0.7518 - weight_output_acc: 0.8440 - bag_output_acc: 0.8779 - footwear_output_acc: 0.8647 - pose_output_acc: 0.9484 - emotion_output_acc: 0.8201 - val_loss: 9.0072 - val_gender_output_loss: 0.6077 - val_image_quality_output_loss: 1.2458 - val_age_output_loss: 1.6058 - val_weight_output_loss: 1.4018 - val_bag_output_loss: 1.2995 - val_footwear_output_loss: 1.0438 - val_pose_output_loss: 0.8113 - val_emotion_output_loss: 0.9915 - val_gender_output_acc: 0.7515 - val_image_quality_output_acc: 0.5655 - val_age_output_acc: 0.4017 - val_weight_output_acc: 0.6119 - val_bag_output_acc: 0.6053 - val_footwear_output_acc: 0.6351 - val_pose_output_acc: 0.7218 - val_emotion_output_acc: 0.6961\n",
            "Epoch 25/50\n",
            "360/360 [==============================] - 43s 119ms/step - loss: 2.8981 - gender_output_loss: 0.1240 - image_quality_output_loss: 0.3866 - age_output_loss: 0.6733 - weight_output_loss: 0.4140 - bag_output_loss: 0.3234 - footwear_output_loss: 0.3338 - pose_output_loss: 0.1613 - emotion_output_loss: 0.4817 - gender_output_acc: 0.9500 - image_quality_output_acc: 0.8574 - age_output_acc: 0.7401 - weight_output_acc: 0.8449 - bag_output_acc: 0.8734 - footwear_output_acc: 0.8596 - pose_output_acc: 0.9460 - emotion_output_acc: 0.8189 - val_loss: 8.9898 - val_gender_output_loss: 0.5811 - val_image_quality_output_loss: 1.2295 - val_age_output_loss: 1.5840 - val_weight_output_loss: 1.2787 - val_bag_output_loss: 1.2705 - val_footwear_output_loss: 1.1908 - val_pose_output_loss: 0.8500 - val_emotion_output_loss: 1.0051 - val_gender_output_acc: 0.7117 - val_image_quality_output_acc: 0.5691 - val_age_output_acc: 0.4027 - val_weight_output_acc: 0.6174 - val_bag_output_acc: 0.5932 - val_footwear_output_acc: 0.6336 - val_pose_output_acc: 0.7293 - val_emotion_output_acc: 0.6935\n",
            "Epoch 26/50\n",
            "360/360 [==============================] - 43s 119ms/step - loss: 3.0683 - gender_output_loss: 0.1345 - image_quality_output_loss: 0.4123 - age_output_loss: 0.6936 - weight_output_loss: 0.4504 - bag_output_loss: 0.3414 - footwear_output_loss: 0.3546 - pose_output_loss: 0.1780 - emotion_output_loss: 0.5034 - gender_output_acc: 0.9469 - image_quality_output_acc: 0.8451 - age_output_acc: 0.7373 - weight_output_acc: 0.8332 - bag_output_acc: 0.8669 - footwear_output_acc: 0.8559 - pose_output_acc: 0.9417 - emotion_output_acc: 0.8138 - val_loss: 9.3089 - val_gender_output_loss: 0.5964 - val_image_quality_output_loss: 1.3519 - val_age_output_loss: 1.6438 - val_weight_output_loss: 1.3448 - val_bag_output_loss: 1.2178 - val_footwear_output_loss: 1.2709 - val_pose_output_loss: 0.8928 - val_emotion_output_loss: 0.9907 - val_gender_output_acc: 0.7520 - val_image_quality_output_acc: 0.5514 - val_age_output_acc: 0.3881 - val_weight_output_acc: 0.6139 - val_bag_output_acc: 0.6033 - val_footwear_output_acc: 0.6321 - val_pose_output_acc: 0.7041 - val_emotion_output_acc: 0.7072\n",
            "Epoch 27/50\n",
            "360/360 [==============================] - 43s 118ms/step - loss: 3.3237 - gender_output_loss: 0.1388 - image_quality_output_loss: 0.4438 - age_output_loss: 0.7486 - weight_output_loss: 0.4750 - bag_output_loss: 0.3847 - footwear_output_loss: 0.3863 - pose_output_loss: 0.2070 - emotion_output_loss: 0.5395 - gender_output_acc: 0.9431 - image_quality_output_acc: 0.8293 - age_output_acc: 0.7161 - weight_output_acc: 0.8254 - bag_output_acc: 0.8503 - footwear_output_acc: 0.8430 - pose_output_acc: 0.9318 - emotion_output_acc: 0.8043 - val_loss: 9.7399 - val_gender_output_loss: 0.5809 - val_image_quality_output_loss: 1.3312 - val_age_output_loss: 1.7662 - val_weight_output_loss: 1.2907 - val_bag_output_loss: 1.3042 - val_footwear_output_loss: 1.4909 - val_pose_output_loss: 0.9749 - val_emotion_output_loss: 1.0009 - val_gender_output_acc: 0.7127 - val_image_quality_output_acc: 0.5549 - val_age_output_acc: 0.3458 - val_weight_output_acc: 0.6084 - val_bag_output_acc: 0.5645 - val_footwear_output_acc: 0.6154 - val_pose_output_acc: 0.6598 - val_emotion_output_acc: 0.6971\n",
            "Epoch 28/50\n",
            "360/360 [==============================] - 43s 119ms/step - loss: 3.6943 - gender_output_loss: 0.1601 - image_quality_output_loss: 0.4736 - age_output_loss: 0.8580 - weight_output_loss: 0.5406 - bag_output_loss: 0.4138 - footwear_output_loss: 0.4235 - pose_output_loss: 0.2411 - emotion_output_loss: 0.5836 - gender_output_acc: 0.9341 - image_quality_output_acc: 0.8221 - age_output_acc: 0.6788 - weight_output_acc: 0.8049 - bag_output_acc: 0.8431 - footwear_output_acc: 0.8258 - pose_output_acc: 0.9228 - emotion_output_acc: 0.7918 - val_loss: 9.3177 - val_gender_output_loss: 0.6603 - val_image_quality_output_loss: 1.2256 - val_age_output_loss: 1.6552 - val_weight_output_loss: 1.1816 - val_bag_output_loss: 1.5930 - val_footwear_output_loss: 1.0389 - val_pose_output_loss: 1.0096 - val_emotion_output_loss: 0.9536 - val_gender_output_acc: 0.6689 - val_image_quality_output_acc: 0.5554 - val_age_output_acc: 0.3710 - val_weight_output_acc: 0.6033 - val_bag_output_acc: 0.5963 - val_footwear_output_acc: 0.6064 - val_pose_output_acc: 0.6981 - val_emotion_output_acc: 0.6951\n",
            "Epoch 29/50\n",
            "360/360 [==============================] - 43s 119ms/step - loss: 3.6943 - gender_output_loss: 0.1601 - image_quality_output_loss: 0.4736 - age_output_loss: 0.8580 - weight_output_loss: 0.5406 - bag_output_loss: 0.4138 - footwear_output_loss: 0.4235 - pose_output_loss: 0.2411 - emotion_output_loss: 0.5836 - gender_output_acc: 0.9341 - image_quality_output_acc: 0.8221 - age_output_acc: 0.6788 - weight_output_acc: 0.8049 - bag_output_acc: 0.8431 - footwear_output_acc: 0.8258 - pose_output_acc: 0.9228 - emotion_output_acc: 0.7918 - val_loss: 9.3177 - val_gender_output_loss: 0.6603 - val_image_quality_output_loss: 1.2256 - val_age_output_loss: 1.6552 - val_weight_output_loss: 1.1816 - val_bag_output_loss: 1.5930 - val_footwear_output_loss: 1.0389 - val_pose_output_loss: 1.0096 - val_emotion_output_loss: 0.9536 - val_gender_output_acc: 0.6689 - val_image_quality_output_acc: 0.5554 - val_age_output_acc: 0.3710 - val_weight_output_acc: 0.6033 - val_bag_output_acc: 0.5963 - val_footwear_output_acc: 0.6064 - val_pose_output_acc: 0.6981 - val_emotion_output_acc: 0.6951\n",
            "360/360 [==============================] - 43s 119ms/step - loss: 3.8077 - gender_output_loss: 0.1793 - image_quality_output_loss: 0.5079 - age_output_loss: 0.8564 - weight_output_loss: 0.5588 - bag_output_loss: 0.4325 - footwear_output_loss: 0.4328 - pose_output_loss: 0.2473 - emotion_output_loss: 0.5927 - gender_output_acc: 0.9281 - image_quality_output_acc: 0.8094 - age_output_acc: 0.6799 - weight_output_acc: 0.7968 - bag_output_acc: 0.8369 - footwear_output_acc: 0.8234 - pose_output_acc: 0.9211 - emotion_output_acc: 0.7854 - val_loss: 9.3681 - val_gender_output_loss: 0.5507 - val_image_quality_output_loss: 1.1608 - val_age_output_loss: 1.6933 - val_weight_output_loss: 1.3646 - val_bag_output_loss: 1.4190 - val_footwear_output_loss: 1.0552 - val_pose_output_loss: 1.1497 - val_emotion_output_loss: 0.9749 - val_gender_output_acc: 0.7540 - val_image_quality_output_acc: 0.5554 - val_age_output_acc: 0.3639 - val_weight_output_acc: 0.6164 - val_bag_output_acc: 0.6094 - val_footwear_output_acc: 0.6366 - val_pose_output_acc: 0.7077 - val_emotion_output_acc: 0.7036\n",
            "Epoch 30/50\n",
            "360/360 [==============================] - 43s 119ms/step - loss: 3.5237 - gender_output_loss: 0.1597 - image_quality_output_loss: 0.4765 - age_output_loss: 0.7776 - weight_output_loss: 0.5218 - bag_output_loss: 0.4002 - footwear_output_loss: 0.3976 - pose_output_loss: 0.2307 - emotion_output_loss: 0.5596 - gender_output_acc: 0.9355 - image_quality_output_acc: 0.8197 - age_output_acc: 0.7126 - weight_output_acc: 0.8104 - bag_output_acc: 0.8482 - footwear_output_acc: 0.8389 - pose_output_acc: 0.9233 - emotion_output_acc: 0.7964 - val_loss: 8.8603 - val_gender_output_loss: 0.5884 - val_image_quality_output_loss: 1.2272 - val_age_output_loss: 1.5882 - val_weight_output_loss: 1.2590 - val_bag_output_loss: 1.3621 - val_footwear_output_loss: 1.0029 - val_pose_output_loss: 0.8535 - val_emotion_output_loss: 0.9790 - val_gender_output_acc: 0.7339 - val_image_quality_output_acc: 0.5605 - val_age_output_acc: 0.3710 - val_weight_output_acc: 0.5938 - val_bag_output_acc: 0.6094 - val_footwear_output_acc: 0.6366 - val_pose_output_acc: 0.7147 - val_emotion_output_acc: 0.7041\n",
            "Epoch 31/50\n",
            "360/360 [==============================] - 43s 119ms/step - loss: 3.1640 - gender_output_loss: 0.1474 - image_quality_output_loss: 0.4081 - age_output_loss: 0.7157 - weight_output_loss: 0.4600 - bag_output_loss: 0.3555 - footwear_output_loss: 0.3768 - pose_output_loss: 0.1918 - emotion_output_loss: 0.5087 - gender_output_acc: 0.9409 - image_quality_output_acc: 0.8499 - age_output_acc: 0.7326 - weight_output_acc: 0.8324 - bag_output_acc: 0.8630 - footwear_output_acc: 0.8470 - pose_output_acc: 0.9387 - emotion_output_acc: 0.8165 - val_loss: 9.2846 - val_gender_output_loss: 0.6588 - val_image_quality_output_loss: 1.1835 - val_age_output_loss: 1.7112 - val_weight_output_loss: 1.4288 - val_bag_output_loss: 1.3028 - val_footwear_output_loss: 1.0775 - val_pose_output_loss: 0.9344 - val_emotion_output_loss: 0.9875 - val_gender_output_acc: 0.7510 - val_image_quality_output_acc: 0.5655 - val_age_output_acc: 0.3553 - val_weight_output_acc: 0.6119 - val_bag_output_acc: 0.6094 - val_footwear_output_acc: 0.6260 - val_pose_output_acc: 0.7248 - val_emotion_output_acc: 0.6971\n",
            "Epoch 32/50\n",
            "360/360 [==============================] - 42s 118ms/step - loss: 2.8337 - gender_output_loss: 0.1262 - image_quality_output_loss: 0.3859 - age_output_loss: 0.6341 - weight_output_loss: 0.4013 - bag_output_loss: 0.3212 - footwear_output_loss: 0.3378 - pose_output_loss: 0.1776 - emotion_output_loss: 0.4496 - gender_output_acc: 0.9478 - image_quality_output_acc: 0.8589 - age_output_acc: 0.7599 - weight_output_acc: 0.8543 - bag_output_acc: 0.8773 - footwear_output_acc: 0.8636 - pose_output_acc: 0.9435 - emotion_output_acc: 0.8346 - val_loss: 9.5118 - val_gender_output_loss: 0.6230 - val_image_quality_output_loss: 1.1723 - val_age_output_loss: 1.7268 - val_weight_output_loss: 1.3715 - val_bag_output_loss: 1.6169 - val_footwear_output_loss: 1.0401 - val_pose_output_loss: 0.9352 - val_emotion_output_loss: 1.0260 - val_gender_output_acc: 0.7460 - val_image_quality_output_acc: 0.5610 - val_age_output_acc: 0.3518 - val_weight_output_acc: 0.6179 - val_bag_output_acc: 0.6159 - val_footwear_output_acc: 0.6316 - val_pose_output_acc: 0.7132 - val_emotion_output_acc: 0.7026\n",
            "Epoch 33/50\n",
            "359/360 [============================>.] - ETA: 0s - loss: 2.5044 - gender_output_loss: 0.1150 - image_quality_output_loss: 0.3271 - age_output_loss: 0.5611 - weight_output_loss: 0.3498 - bag_output_loss: 0.2889 - footwear_output_loss: 0.2991 - pose_output_loss: 0.1574 - emotion_output_loss: 0.4060 - gender_output_acc: 0.9535 - image_quality_output_acc: 0.8788 - age_output_acc: 0.7913 - weight_output_acc: 0.8725 - bag_output_acc: 0.8898 - footwear_output_acc: 0.8810 - pose_output_acc: 0.9487 - emotion_output_acc: 0.8485Epoch 33/50\n",
            "360/360 [==============================] - 43s 118ms/step - loss: 2.5064 - gender_output_loss: 0.1148 - image_quality_output_loss: 0.3271 - age_output_loss: 0.5614 - weight_output_loss: 0.3508 - bag_output_loss: 0.2895 - footwear_output_loss: 0.2989 - pose_output_loss: 0.1578 - emotion_output_loss: 0.4061 - gender_output_acc: 0.9536 - image_quality_output_acc: 0.8789 - age_output_acc: 0.7915 - weight_output_acc: 0.8723 - bag_output_acc: 0.8895 - footwear_output_acc: 0.8811 - pose_output_acc: 0.9486 - emotion_output_acc: 0.8484 - val_loss: 9.3890 - val_gender_output_loss: 0.6389 - val_image_quality_output_loss: 1.2524 - val_age_output_loss: 1.6915 - val_weight_output_loss: 1.3595 - val_bag_output_loss: 1.4483 - val_footwear_output_loss: 1.0643 - val_pose_output_loss: 0.9274 - val_emotion_output_loss: 1.0066 - val_gender_output_acc: 0.7273 - val_image_quality_output_acc: 0.5590 - val_age_output_acc: 0.3765 - val_weight_output_acc: 0.6190 - val_bag_output_acc: 0.6058 - val_footwear_output_acc: 0.6295 - val_pose_output_acc: 0.7263 - val_emotion_output_acc: 0.6920\n",
            "Epoch 34/50\n",
            "360/360 [==============================] - 43s 119ms/step - loss: 2.3587 - gender_output_loss: 0.1024 - image_quality_output_loss: 0.3322 - age_output_loss: 0.5162 - weight_output_loss: 0.3318 - bag_output_loss: 0.2650 - footwear_output_loss: 0.2820 - pose_output_loss: 0.1368 - emotion_output_loss: 0.3922 - gender_output_acc: 0.9596 - image_quality_output_acc: 0.8782 - age_output_acc: 0.8064 - weight_output_acc: 0.8785 - bag_output_acc: 0.8966 - footwear_output_acc: 0.8856 - pose_output_acc: 0.9543 - emotion_output_acc: 0.8548 - val_loss: 9.3149 - val_gender_output_loss: 0.5890 - val_image_quality_output_loss: 1.2330 - val_age_output_loss: 1.7650 - val_weight_output_loss: 1.3304 - val_bag_output_loss: 1.3829 - val_footwear_output_loss: 1.0387 - val_pose_output_loss: 0.9154 - val_emotion_output_loss: 1.0606 - val_gender_output_acc: 0.7697 - val_image_quality_output_acc: 0.5675 - val_age_output_acc: 0.3513 - val_weight_output_acc: 0.6205 - val_bag_output_acc: 0.6089 - val_footwear_output_acc: 0.6381 - val_pose_output_acc: 0.7253 - val_emotion_output_acc: 0.7026\n",
            "Epoch 35/50\n",
            "360/360 [==============================] - 43s 119ms/step - loss: 2.3539 - gender_output_loss: 0.1025 - image_quality_output_loss: 0.3345 - age_output_loss: 0.5199 - weight_output_loss: 0.3293 - bag_output_loss: 0.2620 - footwear_output_loss: 0.2770 - pose_output_loss: 0.1408 - emotion_output_loss: 0.3880 - gender_output_acc: 0.9597 - image_quality_output_acc: 0.8804 - age_output_acc: 0.8048 - weight_output_acc: 0.8805 - bag_output_acc: 0.8997 - footwear_output_acc: 0.8873 - pose_output_acc: 0.9542 - emotion_output_acc: 0.8555 - val_loss: 9.6276 - val_gender_output_loss: 0.6376 - val_image_quality_output_loss: 1.3108 - val_age_output_loss: 1.6724 - val_weight_output_loss: 1.4090 - val_bag_output_loss: 1.5230 - val_footwear_output_loss: 1.0798 - val_pose_output_loss: 0.9448 - val_emotion_output_loss: 1.0502 - val_gender_output_acc: 0.7268 - val_image_quality_output_acc: 0.5549 - val_age_output_acc: 0.3876 - val_weight_output_acc: 0.6190 - val_bag_output_acc: 0.6033 - val_footwear_output_acc: 0.6245 - val_pose_output_acc: 0.7248 - val_emotion_output_acc: 0.6875\n",
            "Epoch 36/50\n",
            "360/360 [==============================] - 43s 118ms/step - loss: 2.4353 - gender_output_loss: 0.1128 - image_quality_output_loss: 0.3381 - age_output_loss: 0.5334 - weight_output_loss: 0.3508 - bag_output_loss: 0.2641 - footwear_output_loss: 0.2934 - pose_output_loss: 0.1561 - emotion_output_loss: 0.3867 - gender_output_acc: 0.9547 - image_quality_output_acc: 0.8749 - age_output_acc: 0.8041 - weight_output_acc: 0.8707 - bag_output_acc: 0.8977 - footwear_output_acc: 0.8835 - pose_output_acc: 0.9492 - emotion_output_acc: 0.8567 - val_loss: 9.7145 - val_gender_output_loss: 0.6073 - val_image_quality_output_loss: 1.3041 - val_age_output_loss: 1.8822 - val_weight_output_loss: 1.3700 - val_bag_output_loss: 1.4173 - val_footwear_output_loss: 0.9900 - val_pose_output_loss: 0.9607 - val_emotion_output_loss: 1.1829 - val_gender_output_acc: 0.7243 - val_image_quality_output_acc: 0.5620 - val_age_output_acc: 0.3377 - val_weight_output_acc: 0.6094 - val_bag_output_acc: 0.6154 - val_footwear_output_acc: 0.6104 - val_pose_output_acc: 0.7157 - val_emotion_output_acc: 0.6951\n",
            "Epoch 37/50\n",
            "359/360 [============================>.] - ETA: 0s - loss: 2.5927 - gender_output_loss: 0.1249 - image_quality_output_loss: 0.3601 - age_output_loss: 0.5707 - weight_output_loss: 0.3664 - bag_output_loss: 0.2887 - footwear_output_loss: 0.3127 - pose_output_loss: 0.1624 - emotion_output_loss: 0.4069 - gender_output_acc: 0.9518 - image_quality_output_acc: 0.8693 - age_output_acc: 0.7913 - weight_output_acc: 0.8686 - bag_output_acc: 0.8878 - footwear_output_acc: 0.8780 - pose_output_acc: 0.9483 - emotion_output_acc: 0.8491\n",
            "360/360 [==============================] - 43s 120ms/step - loss: 2.5921 - gender_output_loss: 0.1247 - image_quality_output_loss: 0.3598 - age_output_loss: 0.5704 - weight_output_loss: 0.3670 - bag_output_loss: 0.2882 - footwear_output_loss: 0.3125 - pose_output_loss: 0.1620 - emotion_output_loss: 0.4076 - gender_output_acc: 0.9519 - image_quality_output_acc: 0.8694 - age_output_acc: 0.7912 - weight_output_acc: 0.8684 - bag_output_acc: 0.8881 - footwear_output_acc: 0.8781 - pose_output_acc: 0.9484 - emotion_output_acc: 0.8489 - val_loss: 10.4063 - val_gender_output_loss: 0.7707 - val_image_quality_output_loss: 1.3597 - val_age_output_loss: 1.7668 - val_weight_output_loss: 1.5508 - val_bag_output_loss: 1.5678 - val_footwear_output_loss: 1.4817 - val_pose_output_loss: 0.8384 - val_emotion_output_loss: 1.0704 - val_gender_output_acc: 0.7031 - val_image_quality_output_acc: 0.5701 - val_age_output_acc: 0.3816 - val_weight_output_acc: 0.6109 - val_bag_output_acc: 0.5983 - val_footwear_output_acc: 0.5983 - val_pose_output_acc: 0.7450 - val_emotion_output_acc: 0.6759\n",
            "Epoch 38/50\n",
            "360/360 [==============================] - 43s 119ms/step - loss: 2.8829 - gender_output_loss: 0.1264 - image_quality_output_loss: 0.3879 - age_output_loss: 0.6481 - weight_output_loss: 0.4097 - bag_output_loss: 0.3250 - footwear_output_loss: 0.3422 - pose_output_loss: 0.1851 - emotion_output_loss: 0.4585 - gender_output_acc: 0.9519 - image_quality_output_acc: 0.8606 - age_output_acc: 0.7633 - weight_output_acc: 0.8569 - bag_output_acc: 0.8753 - footwear_output_acc: 0.8640 - pose_output_acc: 0.9435 - emotion_output_acc: 0.8319 - val_loss: 9.8068 - val_gender_output_loss: 0.7836 - val_image_quality_output_loss: 1.3537 - val_age_output_loss: 1.6593 - val_weight_output_loss: 1.2576 - val_bag_output_loss: 1.3471 - val_footwear_output_loss: 1.4380 - val_pose_output_loss: 0.9697 - val_emotion_output_loss: 0.9976 - val_gender_output_acc: 0.7384 - val_image_quality_output_acc: 0.5444 - val_age_output_acc: 0.3977 - val_weight_output_acc: 0.6124 - val_bag_output_acc: 0.6013 - val_footwear_output_acc: 0.6169 - val_pose_output_acc: 0.7036 - val_emotion_output_acc: 0.6930\n",
            "Epoch 39/50\n",
            "360/360 [==============================] - 43s 119ms/step - loss: 3.2275 - gender_output_loss: 0.1512 - image_quality_output_loss: 0.4205 - age_output_loss: 0.7334 - weight_output_loss: 0.4876 - bag_output_loss: 0.3582 - footwear_output_loss: 0.3893 - pose_output_loss: 0.2015 - emotion_output_loss: 0.4858 - gender_output_acc: 0.9399 - image_quality_output_acc: 0.8468 - age_output_acc: 0.7395 - weight_output_acc: 0.8267 - bag_output_acc: 0.8681 - footwear_output_acc: 0.8487 - pose_output_acc: 0.9342 - emotion_output_acc: 0.8253 - val_loss: 9.8877 - val_gender_output_loss: 0.5396 - val_image_quality_output_loss: 1.2604 - val_age_output_loss: 1.6998 - val_weight_output_loss: 1.1455 - val_bag_output_loss: 1.8670 - val_footwear_output_loss: 0.9689 - val_pose_output_loss: 1.2958 - val_emotion_output_loss: 1.1108 - val_gender_output_acc: 0.7727 - val_image_quality_output_acc: 0.5610 - val_age_output_acc: 0.3911 - val_weight_output_acc: 0.6053 - val_bag_output_acc: 0.5902 - val_footwear_output_acc: 0.6184 - val_pose_output_acc: 0.7152 - val_emotion_output_acc: 0.6114\n",
            "Epoch 40/50\n",
            "360/360 [==============================] - 43s 119ms/step - loss: 3.3820 - gender_output_loss: 0.1559 - image_quality_output_loss: 0.4555 - age_output_loss: 0.7427 - weight_output_loss: 0.4905 - bag_output_loss: 0.3968 - footwear_output_loss: 0.3817 - pose_output_loss: 0.2281 - emotion_output_loss: 0.5308 - gender_output_acc: 0.9390 - image_quality_output_acc: 0.8345 - age_output_acc: 0.7371 - weight_output_acc: 0.8287 - bag_output_acc: 0.8543 - footwear_output_acc: 0.8519 - pose_output_acc: 0.9297 - emotion_output_acc: 0.8102 - val_loss: 9.2996 - val_gender_output_loss: 0.6070 - val_image_quality_output_loss: 1.2256 - val_age_output_loss: 1.8350 - val_weight_output_loss: 1.2301 - val_bag_output_loss: 1.1486 - val_footwear_output_loss: 1.2257 - val_pose_output_loss: 0.8962 - val_emotion_output_loss: 1.1315 - val_gender_output_acc: 0.7359 - val_image_quality_output_acc: 0.5635 - val_age_output_acc: 0.3281 - val_weight_output_acc: 0.6033 - val_bag_output_acc: 0.5963 - val_footwear_output_acc: 0.5917 - val_pose_output_acc: 0.7142 - val_emotion_output_acc: 0.6835\n",
            "Epoch 41/50\n",
            "360/360 [==============================] - 43s 119ms/step - loss: 3.1814 - gender_output_loss: 0.1467 - image_quality_output_loss: 0.4139 - age_output_loss: 0.7308 - weight_output_loss: 0.4672 - bag_output_loss: 0.3628 - footwear_output_loss: 0.3759 - pose_output_loss: 0.2024 - emotion_output_loss: 0.4818 - gender_output_acc: 0.9400 - image_quality_output_acc: 0.8484 - age_output_acc: 0.7426 - weight_output_acc: 0.8366 - bag_output_acc: 0.8598 - footwear_output_acc: 0.8569 - pose_output_acc: 0.9333 - emotion_output_acc: 0.8269 - val_loss: 9.4539 - val_gender_output_loss: 0.7546 - val_image_quality_output_loss: 1.2675 - val_age_output_loss: 1.6578 - val_weight_output_loss: 1.5451 - val_bag_output_loss: 1.1864 - val_footwear_output_loss: 1.1289 - val_pose_output_loss: 0.8463 - val_emotion_output_loss: 1.0673 - val_gender_output_acc: 0.7223 - val_image_quality_output_acc: 0.5660 - val_age_output_acc: 0.3740 - val_weight_output_acc: 0.6124 - val_bag_output_acc: 0.6124 - val_footwear_output_acc: 0.6316 - val_pose_output_acc: 0.7122 - val_emotion_output_acc: 0.6920\n",
            "Epoch 42/50\n",
            "360/360 [==============================] - 43s 119ms/step - loss: 2.7819 - gender_output_loss: 0.1313 - image_quality_output_loss: 0.3748 - age_output_loss: 0.6116 - weight_output_loss: 0.3998 - bag_output_loss: 0.3171 - footwear_output_loss: 0.3359 - pose_output_loss: 0.1792 - emotion_output_loss: 0.4324 - gender_output_acc: 0.9505 - image_quality_output_acc: 0.8632 - age_output_acc: 0.7798 - weight_output_acc: 0.8582 - bag_output_acc: 0.8807 - footwear_output_acc: 0.8681 - pose_output_acc: 0.9428 - emotion_output_acc: 0.8417 - val_loss: 9.3891 - val_gender_output_loss: 0.6913 - val_image_quality_output_loss: 1.2879 - val_age_output_loss: 1.6747 - val_weight_output_loss: 1.2989 - val_bag_output_loss: 1.2194 - val_footwear_output_loss: 1.0651 - val_pose_output_loss: 0.8526 - val_emotion_output_loss: 1.2991 - val_gender_output_acc: 0.7046 - val_image_quality_output_acc: 0.5539 - val_age_output_acc: 0.3438 - val_weight_output_acc: 0.5993 - val_bag_output_acc: 0.6053 - val_footwear_output_acc: 0.6300 - val_pose_output_acc: 0.7298 - val_emotion_output_acc: 0.6986\n",
            "Epoch 43/50\n",
            "360/360 [==============================] - 43s 119ms/step - loss: 2.4711 - gender_output_loss: 0.1180 - image_quality_output_loss: 0.3382 - age_output_loss: 0.5403 - weight_output_loss: 0.3540 - bag_output_loss: 0.2926 - footwear_output_loss: 0.2880 - pose_output_loss: 0.1557 - emotion_output_loss: 0.3844 - gender_output_acc: 0.9526 - image_quality_output_acc: 0.8790 - age_output_acc: 0.8021 - weight_output_acc: 0.8738 - bag_output_acc: 0.8918 - footwear_output_acc: 0.8877 - pose_output_acc: 0.9481 - emotion_output_acc: 0.8618 - val_loss: 10.1802 - val_gender_output_loss: 0.7976 - val_image_quality_output_loss: 1.3583 - val_age_output_loss: 1.7153 - val_weight_output_loss: 1.7735 - val_bag_output_loss: 1.5172 - val_footwear_output_loss: 1.0435 - val_pose_output_loss: 0.8437 - val_emotion_output_loss: 1.1311 - val_gender_output_acc: 0.7041 - val_image_quality_output_acc: 0.5630 - val_age_output_acc: 0.3281 - val_weight_output_acc: 0.6119 - val_bag_output_acc: 0.6058 - val_footwear_output_acc: 0.6497 - val_pose_output_acc: 0.7429 - val_emotion_output_acc: 0.6890\n",
            "Epoch 44/50\n",
            "360/360 [==============================] - 43s 119ms/step - loss: 2.1844 - gender_output_loss: 0.0956 - image_quality_output_loss: 0.3024 - age_output_loss: 0.4656 - weight_output_loss: 0.3101 - bag_output_loss: 0.2591 - footwear_output_loss: 0.2656 - pose_output_loss: 0.1464 - emotion_output_loss: 0.3397 - gender_output_acc: 0.9615 - image_quality_output_acc: 0.8920 - age_output_acc: 0.8293 - weight_output_acc: 0.8896 - bag_output_acc: 0.9007 - footwear_output_acc: 0.8974 - pose_output_acc: 0.9530 - emotion_output_acc: 0.8757 - val_loss: 9.6706 - val_gender_output_loss: 0.7689 - val_image_quality_output_loss: 1.3284 - val_age_output_loss: 1.7291 - val_weight_output_loss: 1.4106 - val_bag_output_loss: 1.2271 - val_footwear_output_loss: 1.0721 - val_pose_output_loss: 0.9318 - val_emotion_output_loss: 1.2025 - val_gender_output_acc: 0.7127 - val_image_quality_output_acc: 0.5675 - val_age_output_acc: 0.3528 - val_weight_output_acc: 0.6069 - val_bag_output_acc: 0.6109 - val_footwear_output_acc: 0.6411 - val_pose_output_acc: 0.7374 - val_emotion_output_acc: 0.7026\n",
            "Epoch 45/50\n",
            "360/360 [==============================] - 43s 119ms/step - loss: 1.9954 - gender_output_loss: 0.0964 - image_quality_output_loss: 0.2763 - age_output_loss: 0.4246 - weight_output_loss: 0.2733 - bag_output_loss: 0.2330 - footwear_output_loss: 0.2423 - pose_output_loss: 0.1349 - emotion_output_loss: 0.3146 - gender_output_acc: 0.9617 - image_quality_output_acc: 0.9012 - age_output_acc: 0.8470 - weight_output_acc: 0.9017 - bag_output_acc: 0.9109 - footwear_output_acc: 0.9049 - pose_output_acc: 0.9548 - emotion_output_acc: 0.8858 - val_loss: 9.7446 - val_gender_output_loss: 0.7310 - val_image_quality_output_loss: 1.3222 - val_age_output_loss: 1.7563 - val_weight_output_loss: 1.4337 - val_bag_output_loss: 1.4454 - val_footwear_output_loss: 1.0467 - val_pose_output_loss: 0.8684 - val_emotion_output_loss: 1.1409 - val_gender_output_acc: 0.6981 - val_image_quality_output_acc: 0.5691 - val_age_output_acc: 0.3448 - val_weight_output_acc: 0.6048 - val_bag_output_acc: 0.6134 - val_footwear_output_acc: 0.6447 - val_pose_output_acc: 0.7319 - val_emotion_output_acc: 0.6946\n",
            "Epoch 46/50\n",
            "360/360 [==============================] - 43s 119ms/step - loss: 2.0124 - gender_output_loss: 0.0962 - image_quality_output_loss: 0.2782 - age_output_loss: 0.4252 - weight_output_loss: 0.2768 - bag_output_loss: 0.2373 - footwear_output_loss: 0.2436 - pose_output_loss: 0.1348 - emotion_output_loss: 0.3203 - gender_output_acc: 0.9614 - image_quality_output_acc: 0.9041 - age_output_acc: 0.8490 - weight_output_acc: 0.8991 - bag_output_acc: 0.9079 - footwear_output_acc: 0.9056 - pose_output_acc: 0.9555 - emotion_output_acc: 0.8816 - val_loss: 9.8496 - val_gender_output_loss: 0.6242 - val_image_quality_output_loss: 1.3464 - val_age_output_loss: 1.7744 - val_weight_output_loss: 1.4020 - val_bag_output_loss: 1.5108 - val_footwear_output_loss: 1.0999 - val_pose_output_loss: 0.8598 - val_emotion_output_loss: 1.2321 - val_gender_output_acc: 0.7051 - val_image_quality_output_acc: 0.5655 - val_age_output_acc: 0.3327 - val_weight_output_acc: 0.6033 - val_bag_output_acc: 0.6053 - val_footwear_output_acc: 0.6331 - val_pose_output_acc: 0.7394 - val_emotion_output_acc: 0.6966\n",
            "Epoch 47/50\n",
            "360/360 [==============================] - 43s 119ms/step - loss: 2.1016 - gender_output_loss: 0.1014 - image_quality_output_loss: 0.2929 - age_output_loss: 0.4552 - weight_output_loss: 0.2849 - bag_output_loss: 0.2407 - footwear_output_loss: 0.2532 - pose_output_loss: 0.1407 - emotion_output_loss: 0.3327 - gender_output_acc: 0.9609 - image_quality_output_acc: 0.8964 - age_output_acc: 0.8365 - weight_output_acc: 0.8995 - bag_output_acc: 0.9099 - footwear_output_acc: 0.9032 - pose_output_acc: 0.9539 - emotion_output_acc: 0.8790 - val_loss: 10.1529 - val_gender_output_loss: 0.8011 - val_image_quality_output_loss: 1.4683 - val_age_output_loss: 1.6940 - val_weight_output_loss: 1.3684 - val_bag_output_loss: 1.4011 - val_footwear_output_loss: 1.1407 - val_pose_output_loss: 0.9333 - val_emotion_output_loss: 1.3461 - val_gender_output_acc: 0.7056 - val_image_quality_output_acc: 0.5691 - val_age_output_acc: 0.3730 - val_weight_output_acc: 0.6089 - val_bag_output_acc: 0.5958 - val_footwear_output_acc: 0.6361 - val_pose_output_acc: 0.7334 - val_emotion_output_acc: 0.7011\n",
            "Epoch 48/50\n",
            "360/360 [==============================] - 43s 118ms/step - loss: 2.2285 - gender_output_loss: 0.0994 - image_quality_output_loss: 0.3094 - age_output_loss: 0.4731 - weight_output_loss: 0.3274 - bag_output_loss: 0.2654 - footwear_output_loss: 0.2609 - pose_output_loss: 0.1414 - emotion_output_loss: 0.3514 - gender_output_acc: 0.9603 - image_quality_output_acc: 0.8912 - age_output_acc: 0.8315 - weight_output_acc: 0.8837 - bag_output_acc: 0.9019 - footwear_output_acc: 0.8998 - pose_output_acc: 0.9532 - emotion_output_acc: 0.8694 - val_loss: 10.8408 - val_gender_output_loss: 0.8102 - val_image_quality_output_loss: 1.3553 - val_age_output_loss: 2.0864 - val_weight_output_loss: 1.6631 - val_bag_output_loss: 1.4740 - val_footwear_output_loss: 1.2579 - val_pose_output_loss: 0.9441 - val_emotion_output_loss: 1.2497 - val_gender_output_acc: 0.7324 - val_image_quality_output_acc: 0.5701 - val_age_output_acc: 0.3438 - val_weight_output_acc: 0.6018 - val_bag_output_acc: 0.6144 - val_footwear_output_acc: 0.6321 - val_pose_output_acc: 0.7182 - val_emotion_output_acc: 0.6905\n",
            "Epoch 49/50\n",
            "360/360 [==============================] - 43s 118ms/step - loss: 2.4796 - gender_output_loss: 0.1140 - image_quality_output_loss: 0.3389 - age_output_loss: 0.5310 - weight_output_loss: 0.3577 - bag_output_loss: 0.2889 - footwear_output_loss: 0.2892 - pose_output_loss: 0.1621 - emotion_output_loss: 0.3980 - gender_output_acc: 0.9556 - image_quality_output_acc: 0.8810 - age_output_acc: 0.8146 - weight_output_acc: 0.8727 - bag_output_acc: 0.8950 - footwear_output_acc: 0.8890 - pose_output_acc: 0.9484 - emotion_output_acc: 0.8583 - val_loss: 10.6250 - val_gender_output_loss: 0.7925 - val_image_quality_output_loss: 1.4279 - val_age_output_loss: 1.9036 - val_weight_output_loss: 1.3685 - val_bag_output_loss: 1.2938 - val_footwear_output_loss: 1.3145 - val_pose_output_loss: 1.1108 - val_emotion_output_loss: 1.4134 - val_gender_output_acc: 0.7470 - val_image_quality_output_acc: 0.5595 - val_age_output_acc: 0.3301 - val_weight_output_acc: 0.5978 - val_bag_output_acc: 0.5973 - val_footwear_output_acc: 0.6361 - val_pose_output_acc: 0.7021 - val_emotion_output_acc: 0.6920\n",
            "Epoch 50/50\n",
            "360/360 [==============================] - 43s 119ms/step - loss: 2.8891 - gender_output_loss: 0.1406 - image_quality_output_loss: 0.3983 - age_output_loss: 0.6379 - weight_output_loss: 0.4256 - bag_output_loss: 0.3173 - footwear_output_loss: 0.3351 - pose_output_loss: 0.1929 - emotion_output_loss: 0.4414 - gender_output_acc: 0.9446 - image_quality_output_acc: 0.8577 - age_output_acc: 0.7804 - weight_output_acc: 0.8558 - bag_output_acc: 0.8825 - footwear_output_acc: 0.8746 - pose_output_acc: 0.9394 - emotion_output_acc: 0.8432 - val_loss: 10.7951 - val_gender_output_loss: 0.9523 - val_image_quality_output_loss: 1.5365 - val_age_output_loss: 1.9630 - val_weight_output_loss: 1.4080 - val_bag_output_loss: 1.5606 - val_footwear_output_loss: 1.0449 - val_pose_output_loss: 0.8113 - val_emotion_output_loss: 1.5184 - val_gender_output_acc: 0.7137 - val_image_quality_output_acc: 0.5388 - val_age_output_acc: 0.3029 - val_weight_output_acc: 0.6154 - val_bag_output_acc: 0.6149 - val_footwear_output_acc: 0.6260 - val_pose_output_acc: 0.7344 - val_emotion_output_acc: 0.7036\n"
          ],
          "name": "stdout"
        },
        {
          "output_type": "execute_result",
          "data": {
            "text/plain": [
              "<keras.callbacks.History at 0x7fcb32391160>"
            ]
          },
          "metadata": {
            "tags": []
          },
          "execution_count": 23
        }
      ]
    },
    {
      "cell_type": "code",
      "metadata": {
        "id": "a3xl9xDFdykE",
        "colab_type": "code",
        "colab": {}
      },
      "source": [
        "history=model.history"
      ],
      "execution_count": 0,
      "outputs": []
    },
    {
      "cell_type": "code",
      "metadata": {
        "id": "Vtz03z4od3h4",
        "colab_type": "code",
        "outputId": "ad9b67a4-5c33-4cab-d4f4-5f1a02294731",
        "colab": {
          "base_uri": "https://localhost:8080/",
          "height": 153
        }
      },
      "source": [
        "#print(history.history.keys())\n",
        "for x in history.history.keys():\n",
        "  if x.startswith('val') and x.endswith('acc'):\n",
        "    print(x, \" -- \",  history.history[x][-1])"
      ],
      "execution_count": 25,
      "outputs": [
        {
          "output_type": "stream",
          "text": [
            "val_gender_output_acc  --  0.7137096774193549\n",
            "val_image_quality_output_acc  --  0.5388104838709677\n",
            "val_age_output_acc  --  0.3029233870967742\n",
            "val_weight_output_acc  --  0.6154233870967742\n",
            "val_bag_output_acc  --  0.6149193548387096\n",
            "val_footwear_output_acc  --  0.626008064516129\n",
            "val_pose_output_acc  --  0.734375\n",
            "val_emotion_output_acc  --  0.7036290322580645\n"
          ],
          "name": "stdout"
        }
      ]
    },
    {
      "cell_type": "code",
      "metadata": {
        "id": "a8HlfuMm4PQr",
        "colab_type": "code",
        "colab": {}
      },
      "source": [
        "history=model.history"
      ],
      "execution_count": 0,
      "outputs": []
    },
    {
      "cell_type": "code",
      "metadata": {
        "id": "p1-8B4W_4Xe2",
        "colab_type": "code",
        "colab": {
          "base_uri": "https://localhost:8080/",
          "height": 54
        },
        "outputId": "f6644715-61f9-4234-e534-63df4e0379aa"
      },
      "source": [
        "val_loss=[]\n",
        "for i in range(50):\n",
        "  sum=0\n",
        "  l = ['val_gender_output_loss','val_image_quality_output_loss',  'val_age_output_loss', 'val_weight_output_loss', 'val_bag_output_loss', 'val_footwear_output_loss', 'val_pose_output_loss',\n",
        " 'val_emotion_output_loss']\n",
        "  for x in l:\n",
        "    sum += history.history[x][i]\n",
        "  val_loss.append(sum)\n",
        "print(val_loss)"
      ],
      "execution_count": 33,
      "outputs": [
        {
          "output_type": "stream",
          "text": [
            "[7.820752070796105, 7.983838562042481, 8.065040522044704, 8.325373292930664, 8.03661673684274, 8.175013593127652, 8.27337794053939, 8.641383890182741, 8.277235281082891, 8.344859555844339, 8.73744884133339, 8.82988533473784, 8.785150946147981, 8.416808411959678, 8.219519115263417, 8.351532575584226, 8.194007313059222, 8.40494528797365, 8.509732885706809, 8.99594567379644, 8.754194929715126, 8.536484134774055, 8.838442031414278, 9.007193147174773, 8.989833924078171, 9.308917973310717, 9.739890918616325, 9.317736036354496, 9.368106465185843, 8.860302216583682, 9.28463765401994, 9.511768018045734, 9.388990986731743, 9.314949158699282, 9.627595254490453, 9.714472075623851, 10.406345180926785, 9.806763008717567, 9.887691513184578, 9.299636402437764, 9.453896867652093, 9.389064354281272, 10.180195570953432, 9.670600041266411, 9.744628536124383, 9.849597465607427, 10.152870387800277, 10.840755067525372, 10.625016875805393, 10.79505731309614]\n"
          ],
          "name": "stdout"
        }
      ]
    },
    {
      "cell_type": "code",
      "metadata": {
        "id": "NhdPQc_75qhJ",
        "colab_type": "code",
        "colab": {
          "base_uri": "https://localhost:8080/",
          "height": 51
        },
        "outputId": "47d22d6c-71a9-43f4-e616-55cafdd0da90"
      },
      "source": [
        "print(len(history.history['loss']))\n",
        "print(len(val_loss))"
      ],
      "execution_count": 35,
      "outputs": [
        {
          "output_type": "stream",
          "text": [
            "50\n",
            "50\n"
          ],
          "name": "stdout"
        }
      ]
    },
    {
      "cell_type": "code",
      "metadata": {
        "id": "G40JCMhy4e3Q",
        "colab_type": "code",
        "colab": {
          "base_uri": "https://localhost:8080/",
          "height": 295
        },
        "outputId": "bd46f8d2-a34b-41aa-d141-6520ac599933"
      },
      "source": [
        "  import matplotlib.pyplot as plt\n",
        "  plt.plot(history.history['loss'])\n",
        "  plt.plot(val_loss)\n",
        "  plt.title('model loss')\n",
        "  plt.ylabel('loss')\n",
        "  plt.xlabel('epoch')\n",
        "  plt.legend(['train', 'validation'], loc='upper left')\n",
        "  plt.show()  #no reduction in validation loss"
      ],
      "execution_count": 36,
      "outputs": [
        {
          "output_type": "display_data",
          "data": {
            "image/png": "[encoded data removed]",
            "text/plain": [
              "<Figure size 432x288 with 1 Axes>"
            ]
          },
          "metadata": {
            "tags": []
          }
        }
      ]
    },
    {
      "cell_type": "code",
      "metadata": {
        "id": "e2KqC6BbeAsg",
        "colab_type": "code",
        "colab": {}
      },
      "source": [
        "import matplotlib.pyplot as plt\n",
        "def plotaccloss(acc, val_acc):\n",
        "  plt.plot(acc)\n",
        "  plt.plot(val_acc)\n",
        "  plt.title('model accuracy')\n",
        "  plt.ylabel('accuracy')\n",
        "  plt.xlabel('epoch')\n",
        "  plt.legend(['train', 'test'], loc='upper left')\n",
        "  plt.show()\n",
        "\n"
      ],
      "execution_count": 0,
      "outputs": []
    },
    {
      "cell_type": "code",
      "metadata": {
        "id": "umXFgzc9fOpr",
        "colab_type": "code",
        "outputId": "85a31284-de5e-4a6e-c4f7-f44a09db72ed",
        "colab": {
          "base_uri": "https://localhost:8080/",
          "height": 312
        }
      },
      "source": [
        "print(\"Gender\")\n",
        "plotaccloss(history.history['gender_output_acc'], history.history['val_gender_output_acc'])"
      ],
      "execution_count": 38,
      "outputs": [
        {
          "output_type": "stream",
          "text": [
            "Gender\n"
          ],
          "name": "stdout"
        },
        {
          "output_type": "display_data",
          "data": {
            "image/png": "[encoded data removed]",
            "text/plain": [
              "<Figure size 432x288 with 1 Axes>"
            ]
          },
          "metadata": {
            "tags": []
          }
        }
      ]
    },
    {
      "cell_type": "code",
      "metadata": {
        "id": "cNnV7QRbfXCE",
        "colab_type": "code",
        "outputId": "a6a9eb09-d4af-457a-a9e2-2242e6873879",
        "colab": {
          "base_uri": "https://localhost:8080/",
          "height": 312
        }
      },
      "source": [
        "print(\"Image Quality\")\n",
        "plotaccloss(history.history['image_quality_output_acc'], history.history['val_image_quality_output_acc'])"
      ],
      "execution_count": 39,
      "outputs": [
        {
          "output_type": "stream",
          "text": [
            "Image Quality\n"
          ],
          "name": "stdout"
        },
        {
          "output_type": "display_data",
          "data": {
            "image/png": "[encoded data removed]",
            "text/plain": [
              "<Figure size 432x288 with 1 Axes>"
            ]
          },
          "metadata": {
            "tags": []
          }
        }
      ]
    }
  ]
}