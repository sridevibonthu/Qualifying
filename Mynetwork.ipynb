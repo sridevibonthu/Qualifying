{
  "nbformat": 4,
  "nbformat_minor": 0,
  "metadata": {
    "colab": {
      "name": "Mynetwork.ipynb",
      "provenance": [],
      "collapsed_sections": [],
      "include_colab_link": true
    },
    "kernelspec": {
      "name": "python3",
      "display_name": "Python 3"
    },
    "accelerator": "GPU"
  },
  "cells": [
    {
      "cell_type": "markdown",
      "metadata": {
        "id": "view-in-github",
        "colab_type": "text"
      },
      "source": [
        "<a href=\"https://colab.research.google.com/github/sridevibonthu/Qualifying/blob/master/Mynetwork.ipynb\" target=\"_parent\"><img src=\"https://colab.research.google.com/assets/colab-badge.svg\" alt=\"Open In Colab\"/></a>"
      ]
    },
    {
      "cell_type": "code",
      "metadata": {
        "id": "F0FelYEaQroJ",
        "colab_type": "code",
        "outputId": "f9e852c7-4885-4743-c20f-06ede7325e6a",
        "colab": {
          "base_uri": "https://localhost:8080/",
          "height": 122
        }
      },
      "source": [
        "# mount gdrive and unzip data\n",
        "from google.colab import drive\n",
        "drive.mount('/content/gdrive')"
      ],
      "execution_count": 3,
      "outputs": [
        {
          "output_type": "stream",
          "text": [
            "Go to this URL in a browser: https://accounts.google.com/o/oauth2/auth?client_id=947318989803-6bn6qk8qdgf4n4g3pfee6491hc0brc4i.apps.googleusercontent.com&redirect_uri=urn%3aietf%3awg%3aoauth%3a2.0%3aoob&response_type=code&scope=email%20https%3a%2f%2fwww.googleapis.com%2fauth%2fdocs.test%20https%3a%2f%2fwww.googleapis.com%2fauth%2fdrive%20https%3a%2f%2fwww.googleapis.com%2fauth%2fdrive.photos.readonly%20https%3a%2f%2fwww.googleapis.com%2fauth%2fpeopleapi.readonly\n",
            "\n",
            "Enter your authorization code:\n",
            "··········\n",
            "Mounted at /content/gdrive\n"
          ],
          "name": "stdout"
        }
      ]
    },
    {
      "cell_type": "code",
      "metadata": {
        "id": "A96OD_jSQ__g",
        "colab_type": "code",
        "outputId": "a86c403a-9b11-4527-e3ec-8d4215b293d5",
        "colab": {
          "base_uri": "https://localhost:8080/",
          "height": 51
        }
      },
      "source": [
        "!unzip -q \"/content/gdrive/My Drive/Assignment5/hvc_data.zip\"\n",
        "# look for `hvc_annotations.csv` file and `resized` dir\n",
        "%ls "
      ],
      "execution_count": 6,
      "outputs": [
        {
          "output_type": "stream",
          "text": [
            "replace resized/9733.jpg? [y]es, [n]o, [A]ll, [N]one, [r]ename: N\n",
            "\u001b[0m\u001b[01;34mgdrive\u001b[0m/  hvc_annotations.csv  \u001b[01;34mresized\u001b[0m/  \u001b[01;34msample_data\u001b[0m/\n"
          ],
          "name": "stdout"
        }
      ]
    },
    {
      "cell_type": "code",
      "metadata": {
        "id": "nm8fugntRE4e",
        "colab_type": "code",
        "colab": {}
      },
      "source": [
        "%tensorflow_version 1.x\n",
        "\n",
        "import cv2\n",
        "import json\n",
        "\n",
        "import numpy as np\n",
        "import pandas as pd\n",
        "\n",
        "from functools import partial\n",
        "from pathlib import Path \n",
        "from tqdm import tqdm\n",
        "\n",
        "from google.colab.patches import cv2_imshow\n",
        "\n",
        "from sklearn.model_selection import train_test_split\n",
        "from sklearn.preprocessing import LabelEncoder, OneHotEncoder\n",
        "\n",
        "\n",
        "from keras.layers.core import Dropout\n",
        "from keras.layers.core import Flatten\n",
        "from keras.layers.core import Dense\n",
        "from keras.layers import Input\n",
        "from keras.models import Model\n",
        "from keras.optimizers import SGD\n",
        "from keras.preprocessing.image import ImageDataGenerator"
      ],
      "execution_count": 0,
      "outputs": []
    },
    {
      "cell_type": "code",
      "metadata": {
        "id": "TIyvOKF8RLv2",
        "colab_type": "code",
        "colab": {}
      },
      "source": [
        "import sys\n",
        "sys.path.append('/content/gdrive/My Drive/Assignment5')"
      ],
      "execution_count": 0,
      "outputs": []
    },
    {
      "cell_type": "code",
      "metadata": {
        "id": "cnRkZy1KRNp-",
        "colab_type": "code",
        "colab": {}
      },
      "source": [
        "import clr\n",
        "import cutout"
      ],
      "execution_count": 0,
      "outputs": []
    },
    {
      "cell_type": "code",
      "metadata": {
        "id": "qlGq1CBDRXyt",
        "colab_type": "code",
        "colab": {}
      },
      "source": [
        ""
      ],
      "execution_count": 0,
      "outputs": []
    },
    {
      "cell_type": "code",
      "metadata": {
        "id": "xOTsYGgHIjjO",
        "colab_type": "code",
        "outputId": "a31df3b9-043d-41bc-a6a3-f66dc7787e16",
        "colab": {
          "base_uri": "https://localhost:8080/",
          "height": 204
        }
      },
      "source": [
        "# load annotations\n",
        "df = pd.read_csv(\"hvc_annotations.csv\")\n",
        "del df[\"filename\"] # remove unwanted column\n",
        "df.head()"
      ],
      "execution_count": 11,
      "outputs": [
        {
          "output_type": "execute_result",
          "data": {
            "text/html": [
              "<div>\n",
              "<style scoped>\n",
              "    .dataframe tbody tr th:only-of-type {\n",
              "        vertical-align: middle;\n",
              "    }\n",
              "\n",
              "    .dataframe tbody tr th {\n",
              "        vertical-align: top;\n",
              "    }\n",
              "\n",
              "    .dataframe thead th {\n",
              "        text-align: right;\n",
              "    }\n",
              "</style>\n",
              "<table border=\"1\" class=\"dataframe\">\n",
              "  <thead>\n",
              "    <tr style=\"text-align: right;\">\n",
              "      <th></th>\n",
              "      <th>gender</th>\n",
              "      <th>imagequality</th>\n",
              "      <th>age</th>\n",
              "      <th>weight</th>\n",
              "      <th>carryingbag</th>\n",
              "      <th>footwear</th>\n",
              "      <th>emotion</th>\n",
              "      <th>bodypose</th>\n",
              "      <th>image_path</th>\n",
              "    </tr>\n",
              "  </thead>\n",
              "  <tbody>\n",
              "    <tr>\n",
              "      <th>0</th>\n",
              "      <td>male</td>\n",
              "      <td>Average</td>\n",
              "      <td>35-45</td>\n",
              "      <td>normal-healthy</td>\n",
              "      <td>Grocery/Home/Plastic Bag</td>\n",
              "      <td>Normal</td>\n",
              "      <td>Neutral</td>\n",
              "      <td>Front-Frontish</td>\n",
              "      <td>resized/1.jpg</td>\n",
              "    </tr>\n",
              "    <tr>\n",
              "      <th>1</th>\n",
              "      <td>female</td>\n",
              "      <td>Average</td>\n",
              "      <td>35-45</td>\n",
              "      <td>over-weight</td>\n",
              "      <td>None</td>\n",
              "      <td>Normal</td>\n",
              "      <td>Angry/Serious</td>\n",
              "      <td>Front-Frontish</td>\n",
              "      <td>resized/2.jpg</td>\n",
              "    </tr>\n",
              "    <tr>\n",
              "      <th>2</th>\n",
              "      <td>male</td>\n",
              "      <td>Good</td>\n",
              "      <td>45-55</td>\n",
              "      <td>normal-healthy</td>\n",
              "      <td>Grocery/Home/Plastic Bag</td>\n",
              "      <td>CantSee</td>\n",
              "      <td>Neutral</td>\n",
              "      <td>Front-Frontish</td>\n",
              "      <td>resized/3.jpg</td>\n",
              "    </tr>\n",
              "    <tr>\n",
              "      <th>3</th>\n",
              "      <td>male</td>\n",
              "      <td>Good</td>\n",
              "      <td>45-55</td>\n",
              "      <td>normal-healthy</td>\n",
              "      <td>Daily/Office/Work Bag</td>\n",
              "      <td>Normal</td>\n",
              "      <td>Neutral</td>\n",
              "      <td>Front-Frontish</td>\n",
              "      <td>resized/4.jpg</td>\n",
              "    </tr>\n",
              "    <tr>\n",
              "      <th>4</th>\n",
              "      <td>female</td>\n",
              "      <td>Good</td>\n",
              "      <td>35-45</td>\n",
              "      <td>slightly-overweight</td>\n",
              "      <td>None</td>\n",
              "      <td>CantSee</td>\n",
              "      <td>Neutral</td>\n",
              "      <td>Front-Frontish</td>\n",
              "      <td>resized/5.jpg</td>\n",
              "    </tr>\n",
              "  </tbody>\n",
              "</table>\n",
              "</div>"
            ],
            "text/plain": [
              "   gender imagequality    age  ...        emotion        bodypose     image_path\n",
              "0    male      Average  35-45  ...        Neutral  Front-Frontish  resized/1.jpg\n",
              "1  female      Average  35-45  ...  Angry/Serious  Front-Frontish  resized/2.jpg\n",
              "2    male         Good  45-55  ...        Neutral  Front-Frontish  resized/3.jpg\n",
              "3    male         Good  45-55  ...        Neutral  Front-Frontish  resized/4.jpg\n",
              "4  female         Good  35-45  ...        Neutral  Front-Frontish  resized/5.jpg\n",
              "\n",
              "[5 rows x 9 columns]"
            ]
          },
          "metadata": {
            "tags": []
          },
          "execution_count": 11
        }
      ]
    },
    {
      "cell_type": "code",
      "metadata": {
        "id": "-Di9COusRZ9d",
        "colab_type": "code",
        "outputId": "5bf1a1e5-1d6b-439f-ecc6-e7731ab4334e",
        "colab": {
          "base_uri": "https://localhost:8080/",
          "height": 917
        }
      },
      "source": [
        "# one hot encoding of labels\n",
        "\n",
        "one_hot_df = pd.concat([\n",
        "    df[[\"image_path\"]],\n",
        "    pd.get_dummies(df.gender, prefix=\"gender\"),\n",
        "    pd.get_dummies(df.imagequality, prefix=\"imagequality\"),\n",
        "    pd.get_dummies(df.age, prefix=\"age\"),\n",
        "    pd.get_dummies(df.weight, prefix=\"weight\"),\n",
        "    pd.get_dummies(df.carryingbag, prefix=\"carryingbag\"),\n",
        "    pd.get_dummies(df.footwear, prefix=\"footwear\"),\n",
        "    pd.get_dummies(df.emotion, prefix=\"emotion\"),\n",
        "    pd.get_dummies(df.bodypose, prefix=\"bodypose\"),\n",
        "], axis = 1)\n",
        "\n",
        "one_hot_df.head().T"
      ],
      "execution_count": 12,
      "outputs": [
        {
          "output_type": "execute_result",
          "data": {
            "text/html": [
              "<div>\n",
              "<style scoped>\n",
              "    .dataframe tbody tr th:only-of-type {\n",
              "        vertical-align: middle;\n",
              "    }\n",
              "\n",
              "    .dataframe tbody tr th {\n",
              "        vertical-align: top;\n",
              "    }\n",
              "\n",
              "    .dataframe thead th {\n",
              "        text-align: right;\n",
              "    }\n",
              "</style>\n",
              "<table border=\"1\" class=\"dataframe\">\n",
              "  <thead>\n",
              "    <tr style=\"text-align: right;\">\n",
              "      <th></th>\n",
              "      <th>0</th>\n",
              "      <th>1</th>\n",
              "      <th>2</th>\n",
              "      <th>3</th>\n",
              "      <th>4</th>\n",
              "    </tr>\n",
              "  </thead>\n",
              "  <tbody>\n",
              "    <tr>\n",
              "      <th>image_path</th>\n",
              "      <td>resized/1.jpg</td>\n",
              "      <td>resized/2.jpg</td>\n",
              "      <td>resized/3.jpg</td>\n",
              "      <td>resized/4.jpg</td>\n",
              "      <td>resized/5.jpg</td>\n",
              "    </tr>\n",
              "    <tr>\n",
              "      <th>gender_female</th>\n",
              "      <td>0</td>\n",
              "      <td>1</td>\n",
              "      <td>0</td>\n",
              "      <td>0</td>\n",
              "      <td>1</td>\n",
              "    </tr>\n",
              "    <tr>\n",
              "      <th>gender_male</th>\n",
              "      <td>1</td>\n",
              "      <td>0</td>\n",
              "      <td>1</td>\n",
              "      <td>1</td>\n",
              "      <td>0</td>\n",
              "    </tr>\n",
              "    <tr>\n",
              "      <th>imagequality_Average</th>\n",
              "      <td>1</td>\n",
              "      <td>1</td>\n",
              "      <td>0</td>\n",
              "      <td>0</td>\n",
              "      <td>0</td>\n",
              "    </tr>\n",
              "    <tr>\n",
              "      <th>imagequality_Bad</th>\n",
              "      <td>0</td>\n",
              "      <td>0</td>\n",
              "      <td>0</td>\n",
              "      <td>0</td>\n",
              "      <td>0</td>\n",
              "    </tr>\n",
              "    <tr>\n",
              "      <th>imagequality_Good</th>\n",
              "      <td>0</td>\n",
              "      <td>0</td>\n",
              "      <td>1</td>\n",
              "      <td>1</td>\n",
              "      <td>1</td>\n",
              "    </tr>\n",
              "    <tr>\n",
              "      <th>age_15-25</th>\n",
              "      <td>0</td>\n",
              "      <td>0</td>\n",
              "      <td>0</td>\n",
              "      <td>0</td>\n",
              "      <td>0</td>\n",
              "    </tr>\n",
              "    <tr>\n",
              "      <th>age_25-35</th>\n",
              "      <td>0</td>\n",
              "      <td>0</td>\n",
              "      <td>0</td>\n",
              "      <td>0</td>\n",
              "      <td>0</td>\n",
              "    </tr>\n",
              "    <tr>\n",
              "      <th>age_35-45</th>\n",
              "      <td>1</td>\n",
              "      <td>1</td>\n",
              "      <td>0</td>\n",
              "      <td>0</td>\n",
              "      <td>1</td>\n",
              "    </tr>\n",
              "    <tr>\n",
              "      <th>age_45-55</th>\n",
              "      <td>0</td>\n",
              "      <td>0</td>\n",
              "      <td>1</td>\n",
              "      <td>1</td>\n",
              "      <td>0</td>\n",
              "    </tr>\n",
              "    <tr>\n",
              "      <th>age_55+</th>\n",
              "      <td>0</td>\n",
              "      <td>0</td>\n",
              "      <td>0</td>\n",
              "      <td>0</td>\n",
              "      <td>0</td>\n",
              "    </tr>\n",
              "    <tr>\n",
              "      <th>weight_normal-healthy</th>\n",
              "      <td>1</td>\n",
              "      <td>0</td>\n",
              "      <td>1</td>\n",
              "      <td>1</td>\n",
              "      <td>0</td>\n",
              "    </tr>\n",
              "    <tr>\n",
              "      <th>weight_over-weight</th>\n",
              "      <td>0</td>\n",
              "      <td>1</td>\n",
              "      <td>0</td>\n",
              "      <td>0</td>\n",
              "      <td>0</td>\n",
              "    </tr>\n",
              "    <tr>\n",
              "      <th>weight_slightly-overweight</th>\n",
              "      <td>0</td>\n",
              "      <td>0</td>\n",
              "      <td>0</td>\n",
              "      <td>0</td>\n",
              "      <td>1</td>\n",
              "    </tr>\n",
              "    <tr>\n",
              "      <th>weight_underweight</th>\n",
              "      <td>0</td>\n",
              "      <td>0</td>\n",
              "      <td>0</td>\n",
              "      <td>0</td>\n",
              "      <td>0</td>\n",
              "    </tr>\n",
              "    <tr>\n",
              "      <th>carryingbag_Daily/Office/Work Bag</th>\n",
              "      <td>0</td>\n",
              "      <td>0</td>\n",
              "      <td>0</td>\n",
              "      <td>1</td>\n",
              "      <td>0</td>\n",
              "    </tr>\n",
              "    <tr>\n",
              "      <th>carryingbag_Grocery/Home/Plastic Bag</th>\n",
              "      <td>1</td>\n",
              "      <td>0</td>\n",
              "      <td>1</td>\n",
              "      <td>0</td>\n",
              "      <td>0</td>\n",
              "    </tr>\n",
              "    <tr>\n",
              "      <th>carryingbag_None</th>\n",
              "      <td>0</td>\n",
              "      <td>1</td>\n",
              "      <td>0</td>\n",
              "      <td>0</td>\n",
              "      <td>1</td>\n",
              "    </tr>\n",
              "    <tr>\n",
              "      <th>footwear_CantSee</th>\n",
              "      <td>0</td>\n",
              "      <td>0</td>\n",
              "      <td>1</td>\n",
              "      <td>0</td>\n",
              "      <td>1</td>\n",
              "    </tr>\n",
              "    <tr>\n",
              "      <th>footwear_Fancy</th>\n",
              "      <td>0</td>\n",
              "      <td>0</td>\n",
              "      <td>0</td>\n",
              "      <td>0</td>\n",
              "      <td>0</td>\n",
              "    </tr>\n",
              "    <tr>\n",
              "      <th>footwear_Normal</th>\n",
              "      <td>1</td>\n",
              "      <td>1</td>\n",
              "      <td>0</td>\n",
              "      <td>1</td>\n",
              "      <td>0</td>\n",
              "    </tr>\n",
              "    <tr>\n",
              "      <th>emotion_Angry/Serious</th>\n",
              "      <td>0</td>\n",
              "      <td>1</td>\n",
              "      <td>0</td>\n",
              "      <td>0</td>\n",
              "      <td>0</td>\n",
              "    </tr>\n",
              "    <tr>\n",
              "      <th>emotion_Happy</th>\n",
              "      <td>0</td>\n",
              "      <td>0</td>\n",
              "      <td>0</td>\n",
              "      <td>0</td>\n",
              "      <td>0</td>\n",
              "    </tr>\n",
              "    <tr>\n",
              "      <th>emotion_Neutral</th>\n",
              "      <td>1</td>\n",
              "      <td>0</td>\n",
              "      <td>1</td>\n",
              "      <td>1</td>\n",
              "      <td>1</td>\n",
              "    </tr>\n",
              "    <tr>\n",
              "      <th>emotion_Sad</th>\n",
              "      <td>0</td>\n",
              "      <td>0</td>\n",
              "      <td>0</td>\n",
              "      <td>0</td>\n",
              "      <td>0</td>\n",
              "    </tr>\n",
              "    <tr>\n",
              "      <th>bodypose_Back</th>\n",
              "      <td>0</td>\n",
              "      <td>0</td>\n",
              "      <td>0</td>\n",
              "      <td>0</td>\n",
              "      <td>0</td>\n",
              "    </tr>\n",
              "    <tr>\n",
              "      <th>bodypose_Front-Frontish</th>\n",
              "      <td>1</td>\n",
              "      <td>1</td>\n",
              "      <td>1</td>\n",
              "      <td>1</td>\n",
              "      <td>1</td>\n",
              "    </tr>\n",
              "    <tr>\n",
              "      <th>bodypose_Side</th>\n",
              "      <td>0</td>\n",
              "      <td>0</td>\n",
              "      <td>0</td>\n",
              "      <td>0</td>\n",
              "      <td>0</td>\n",
              "    </tr>\n",
              "  </tbody>\n",
              "</table>\n",
              "</div>"
            ],
            "text/plain": [
              "                                                  0  ...              4\n",
              "image_path                            resized/1.jpg  ...  resized/5.jpg\n",
              "gender_female                                     0  ...              1\n",
              "gender_male                                       1  ...              0\n",
              "imagequality_Average                              1  ...              0\n",
              "imagequality_Bad                                  0  ...              0\n",
              "imagequality_Good                                 0  ...              1\n",
              "age_15-25                                         0  ...              0\n",
              "age_25-35                                         0  ...              0\n",
              "age_35-45                                         1  ...              1\n",
              "age_45-55                                         0  ...              0\n",
              "age_55+                                           0  ...              0\n",
              "weight_normal-healthy                             1  ...              0\n",
              "weight_over-weight                                0  ...              0\n",
              "weight_slightly-overweight                        0  ...              1\n",
              "weight_underweight                                0  ...              0\n",
              "carryingbag_Daily/Office/Work Bag                 0  ...              0\n",
              "carryingbag_Grocery/Home/Plastic Bag              1  ...              0\n",
              "carryingbag_None                                  0  ...              1\n",
              "footwear_CantSee                                  0  ...              1\n",
              "footwear_Fancy                                    0  ...              0\n",
              "footwear_Normal                                   1  ...              0\n",
              "emotion_Angry/Serious                             0  ...              0\n",
              "emotion_Happy                                     0  ...              0\n",
              "emotion_Neutral                                   1  ...              1\n",
              "emotion_Sad                                       0  ...              0\n",
              "bodypose_Back                                     0  ...              0\n",
              "bodypose_Front-Frontish                           1  ...              1\n",
              "bodypose_Side                                     0  ...              0\n",
              "\n",
              "[28 rows x 5 columns]"
            ]
          },
          "metadata": {
            "tags": []
          },
          "execution_count": 12
        }
      ]
    },
    {
      "cell_type": "code",
      "metadata": {
        "id": "eetMVqx1SPXH",
        "colab_type": "code",
        "colab": {}
      },
      "source": [
        "import keras\n",
        "import numpy as np\n",
        "\n",
        "# Label columns per attribute\n",
        "_gender_cols_ = [col for col in one_hot_df.columns if col.startswith(\"gender\")]\n",
        "_imagequality_cols_ = [col for col in one_hot_df.columns if col.startswith(\"imagequality\")]\n",
        "_age_cols_ = [col for col in one_hot_df.columns if col.startswith(\"age\")]\n",
        "_weight_cols_ = [col for col in one_hot_df.columns if col.startswith(\"weight\")]\n",
        "_carryingbag_cols_ = [col for col in one_hot_df.columns if col.startswith(\"carryingbag\")]\n",
        "_footwear_cols_ = [col for col in one_hot_df.columns if col.startswith(\"footwear\")]\n",
        "_emotion_cols_ = [col for col in one_hot_df.columns if col.startswith(\"emotion\")]\n",
        "_bodypose_cols_ = [col for col in one_hot_df.columns if col.startswith(\"bodypose\")]\n",
        "\n",
        "class PersonDataGenerator(keras.utils.Sequence):\n",
        "    \"\"\"Ground truth data generator\"\"\"\n",
        "\n",
        "    \n",
        "    def __init__(self, df, batch_size=32, shuffle=True, augmentation=None):\n",
        "        self.df = df\n",
        "        self.batch_size=batch_size\n",
        "        self.shuffle = shuffle\n",
        "        self.on_epoch_end()\n",
        "        self.augmentation = augmentation\n",
        "\n",
        "    def __len__(self):\n",
        "        return int(np.floor(self.df.shape[0] / self.batch_size))\n",
        "\n",
        "    def __getitem__(self, index):\n",
        "        \"\"\"fetch batched images and targets\"\"\"\n",
        "        batch_slice = slice(index * self.batch_size, (index + 1) * self.batch_size)\n",
        "        items = self.df.iloc[batch_slice]\n",
        "        if self.augmentation is not None:\n",
        "          image = np.stack([cv2.imread(item[\"image_path\"]) for _, item in items.iterrows()])\n",
        "          target = {\n",
        "            \"gender_output\": items[_gender_cols_].values,\n",
        "            \"image_quality_output\": items[_imagequality_cols_].values,\n",
        "            \"age_output\": items[_age_cols_].values,\n",
        "            \"weight_output\": items[_weight_cols_].values,\n",
        "            \"bag_output\": items[_carryingbag_cols_].values,\n",
        "            \"pose_output\": items[_bodypose_cols_].values,\n",
        "            \"footwear_output\": items[_footwear_cols_].values,\n",
        "            \"emotion_output\": items[_emotion_cols_].values,\n",
        "          }\n",
        "        else:\n",
        "          image = np.stack([cv2.imread(item[\"image_path\"]) for _, item in items.iterrows()])\n",
        "          #self.augmentation.fit(image)\n",
        "          #image = self.augmentation.flow(image)\n",
        "          target = {\n",
        "            \"gender_output\": items[_gender_cols_].values,\n",
        "            \"image_quality_output\": items[_imagequality_cols_].values,\n",
        "            \"age_output\": items[_age_cols_].values,\n",
        "            \"weight_output\": items[_weight_cols_].values,\n",
        "            \"bag_output\": items[_carryingbag_cols_].values,\n",
        "            \"pose_output\": items[_bodypose_cols_].values,\n",
        "            \"footwear_output\": items[_footwear_cols_].values,\n",
        "            \"emotion_output\": items[_emotion_cols_].values,\n",
        "          }\n",
        "\n",
        "        return image, target\n",
        "\n",
        "    def on_epoch_end(self):\n",
        "        \"\"\"Updates indexes after each epoch\"\"\"\n",
        "        if self.shuffle == True:\n",
        "            self.df = self.df.sample(frac=1).reset_index(drop=True)\n"
      ],
      "execution_count": 0,
      "outputs": []
    },
    {
      "cell_type": "code",
      "metadata": {
        "id": "tm1f2E7OTPoY",
        "colab_type": "code",
        "outputId": "5ecf862a-a770-4681-d9e0-36c43cfa3785",
        "colab": {
          "base_uri": "https://localhost:8080/",
          "height": 34
        }
      },
      "source": [
        "from sklearn.model_selection import train_test_split\n",
        "train_df, val_df = train_test_split(one_hot_df, test_size=0.15)\n",
        "train_df.shape, val_df.shape"
      ],
      "execution_count": 38,
      "outputs": [
        {
          "output_type": "execute_result",
          "data": {
            "text/plain": [
              "((11537, 28), (2036, 28))"
            ]
          },
          "metadata": {
            "tags": []
          },
          "execution_count": 38
        }
      ]
    },
    {
      "cell_type": "code",
      "metadata": {
        "id": "T94TBx6vTWfv",
        "colab_type": "code",
        "colab": {}
      },
      "source": [
        "pixel_level=False\n",
        "# create train and validation data generators\n",
        "train_gen = PersonDataGenerator(train_df, batch_size=32, augmentation=ImageDataGenerator(horizontal_flip=True, preprocessing_function=cutout.get_random_eraser(v_l=0, v_h=1, pixel_level=pixel_level)))\n",
        "valid_gen = PersonDataGenerator(val_df, batch_size=64, shuffle=False)"
      ],
      "execution_count": 0,
      "outputs": []
    },
    {
      "cell_type": "code",
      "metadata": {
        "id": "0wlO6I5zTljv",
        "colab_type": "code",
        "outputId": "248db311-3aa3-4695-eded-40a87a525891",
        "colab": {
          "base_uri": "https://localhost:8080/",
          "height": 153
        }
      },
      "source": [
        "images, targets = next(iter(train_gen))\n",
        "num_units = { k.split(\"_output\")[0]:v.shape[1] for k, v in targets.items()}\n",
        "num_units"
      ],
      "execution_count": 40,
      "outputs": [
        {
          "output_type": "execute_result",
          "data": {
            "text/plain": [
              "{'age': 5,\n",
              " 'bag': 3,\n",
              " 'emotion': 4,\n",
              " 'footwear': 3,\n",
              " 'gender': 2,\n",
              " 'image_quality': 3,\n",
              " 'pose': 3,\n",
              " 'weight': 4}"
            ]
          },
          "metadata": {
            "tags": []
          },
          "execution_count": 40
        }
      ]
    },
    {
      "cell_type": "code",
      "metadata": {
        "id": "eSTIhcTqT0al",
        "colab_type": "code",
        "outputId": "b3fa7cd7-4822-48b0-b2aa-90cef17ef726",
        "colab": {
          "base_uri": "https://localhost:8080/",
          "height": 71
        }
      },
      "source": [
        "from keras.applications import ResNet50\n",
        "backbone = ResNet50(\n",
        "    weights=\"imagenet\", \n",
        "    include_top=False, \n",
        "    input_tensor=Input(shape=(224, 224, 3))\n",
        ")"
      ],
      "execution_count": 41,
      "outputs": [
        {
          "output_type": "stream",
          "text": [
            "/usr/local/lib/python3.6/dist-packages/keras_applications/resnet50.py:265: UserWarning: The output shape of `ResNet50(include_top=False)` has been changed since Keras 2.2.0.\n",
            "  warnings.warn('The output shape of `ResNet50(include_top=False)` '\n"
          ],
          "name": "stderr"
        }
      ]
    },
    {
      "cell_type": "code",
      "metadata": {
        "id": "H4GQsY22T6JE",
        "colab_type": "code",
        "colab": {}
      },
      "source": [
        "neck = backbone.output\n",
        "neck = Flatten(name=\"flatten\")(neck)\n",
        "neck = Dense(512, activation=\"relu\")(neck)"
      ],
      "execution_count": 0,
      "outputs": []
    },
    {
      "cell_type": "code",
      "metadata": {
        "id": "5hXxgTg4T9kF",
        "colab_type": "code",
        "colab": {}
      },
      "source": [
        "\n",
        "\n",
        "def build_tower(in_layer):\n",
        "    neck = Dropout(0.2)(in_layer)\n",
        "    neck = Dense(128, activation=\"relu\")(neck)\n",
        "    neck = Dropout(0.3)(in_layer)\n",
        "    neck = Dense(128, activation=\"relu\")(neck)\n",
        "    return neck\n",
        "\n",
        "\n",
        "def build_head(name, in_layer):\n",
        "    return Dense(\n",
        "        num_units[name], activation=\"softmax\", name=f\"{name}_output\"\n",
        "    )(in_layer)\n",
        "\n",
        "# heads\n",
        "gender = build_head(\"gender\", build_tower(neck))\n",
        "image_quality = build_head(\"image_quality\", build_tower(neck))\n",
        "age = build_head(\"age\", build_tower(neck))\n",
        "weight = build_head(\"weight\", build_tower(neck))\n",
        "bag = build_head(\"bag\", build_tower(neck))\n",
        "footwear = build_head(\"footwear\", build_tower(neck))\n",
        "emotion = build_head(\"emotion\", build_tower(neck))\n",
        "pose = build_head(\"pose\", build_tower(neck))\n",
        "\n",
        "\n",
        "model = Model(\n",
        "    inputs=backbone.input, \n",
        "    outputs=[gender, image_quality, age, weight, bag, footwear, pose, emotion]\n",
        ")"
      ],
      "execution_count": 0,
      "outputs": []
    },
    {
      "cell_type": "code",
      "metadata": {
        "id": "e116UZ5xUAf9",
        "colab_type": "code",
        "colab": {}
      },
      "source": [
        "# freeze backbone\n",
        "for layer in backbone.layers:\n",
        "\tlayer.trainable = False"
      ],
      "execution_count": 0,
      "outputs": []
    },
    {
      "cell_type": "code",
      "metadata": {
        "id": "yuf_-m0uUD6k",
        "colab_type": "code",
        "colab": {}
      },
      "source": [
        "# Prepare model model saving directory.\n",
        "import os\n",
        "model_type = \"ResNet50\"\n",
        "save_dir = os.path.join(os.getcwd(), 'saved_models')\n",
        "model_name = 'personattributes_%s_model.{epoch:03d}.h5' % model_type\n",
        "if not os.path.isdir(save_dir):\n",
        "    os.makedirs(save_dir)\n",
        "filepath = os.path.join(save_dir, model_name)"
      ],
      "execution_count": 0,
      "outputs": []
    },
    {
      "cell_type": "code",
      "metadata": {
        "id": "dAkKhNjPUI1V",
        "colab_type": "code",
        "colab": {}
      },
      "source": [
        "# Prepare callbacks for model saving and for learning rate adjustment.\n",
        "from clr import CyclicLR\n",
        "from keras.callbacks import ModelCheckpoint\n",
        "checkpoint = ModelCheckpoint(filepath=filepath,\n",
        "                             monitor='val_acc',\n",
        "                             verbose=1,\n",
        "                             save_best_only=True)\n",
        "\n",
        "clr1 = CyclicLR(base_lr=0.001, max_lr=0.006,\n",
        "                        step_size=2000., mode='triangular2')\n",
        "\n",
        "\n",
        "\n",
        "callbacks = [checkpoint, clr1]"
      ],
      "execution_count": 0,
      "outputs": []
    },
    {
      "cell_type": "code",
      "metadata": {
        "id": "c8sGYtWuULXF",
        "colab_type": "code",
        "colab": {}
      },
      "source": [
        "# losses = {\n",
        "# \t\"gender_output\": \"binary_crossentropy\",\n",
        "# \t\"image_quality_output\": \"categorical_crossentropy\",\n",
        "# \t\"age_output\": \"categorical_crossentropy\",\n",
        "# \t\"weight_output\": \"categorical_crossentropy\",\n",
        "\n",
        "# }\n",
        "# loss_weights = {\"gender_output\": 1.0, \"image_quality_output\": 1.0, \"age_output\": 1.0}\n",
        "\n",
        "\n",
        "opt = SGD(lr=0.1, momentum=0.9)\n",
        "model.compile(\n",
        "    optimizer=opt,\n",
        "    loss=\"categorical_crossentropy\", \n",
        "    # loss_weights=loss_weights, \n",
        "    metrics=[\"accuracy\"]\n",
        ")\n",
        "\n"
      ],
      "execution_count": 0,
      "outputs": []
    },
    {
      "cell_type": "code",
      "metadata": {
        "id": "Y5YCHbbSUPyk",
        "colab_type": "code",
        "outputId": "70b0ae1e-11ed-464f-e13a-201c3f4691e1",
        "colab": {
          "base_uri": "https://localhost:8080/",
          "height": 1000
        }
      },
      "source": [
        "\n",
        "\n",
        "model.fit_generator(\n",
        "    generator=train_gen,\n",
        "    validation_data=valid_gen,\n",
        "    use_multiprocessing=True,\n",
        "    workers=6, \n",
        "    epochs=24,\n",
        "    verbose=1,\n",
        "    callbacks=callbacks\n",
        ")"
      ],
      "execution_count": 49,
      "outputs": [
        {
          "output_type": "stream",
          "text": [
            "Epoch 1/24\n",
            "  4/360 [..............................] - ETA: 6:43 - loss: 15.1480 - gender_output_loss: 1.2894 - image_quality_output_loss: 1.8123 - age_output_loss: 2.8470 - weight_output_loss: 1.3729 - bag_output_loss: 1.5292 - footwear_output_loss: 2.0325 - pose_output_loss: 2.1739 - emotion_output_loss: 2.0909 - gender_output_acc: 0.4688 - image_quality_output_acc: 0.4453 - age_output_acc: 0.2109 - weight_output_acc: 0.5156 - bag_output_acc: 0.5000 - footwear_output_acc: 0.3281 - pose_output_acc: 0.4531 - emotion_output_acc: 0.4531"
          ],
          "name": "stdout"
        },
        {
          "output_type": "stream",
          "text": [
            "/usr/local/lib/python3.6/dist-packages/keras/callbacks.py:95: RuntimeWarning: Method (on_train_batch_end) is slow compared to the batch update (0.240367). Check your callbacks.\n",
            "  % (hook_name, delta_t_median), RuntimeWarning)\n"
          ],
          "name": "stderr"
        },
        {
          "output_type": "stream",
          "text": [
            "359/360 [============================>.] - ETA: 0s - loss: 8.2667 - gender_output_loss: 0.6259 - image_quality_output_loss: 1.0482 - age_output_loss: 1.5315 - weight_output_loss: 1.0913 - bag_output_loss: 0.9830 - footwear_output_loss: 1.0209 - pose_output_loss: 0.9266 - emotion_output_loss: 1.0392 - gender_output_acc: 0.6567 - image_quality_output_acc: 0.5264 - age_output_acc: 0.3638 - weight_output_acc: 0.6181 - bag_output_acc: 0.5555 - footwear_output_acc: 0.5389 - pose_output_acc: 0.6048 - emotion_output_acc: 0.6997Epoch 1/24\n",
            "360/360 [==============================] - 48s 133ms/step - loss: 8.2660 - gender_output_loss: 0.6258 - image_quality_output_loss: 1.0484 - age_output_loss: 1.5308 - weight_output_loss: 1.0910 - bag_output_loss: 0.9831 - footwear_output_loss: 1.0215 - pose_output_loss: 0.9268 - emotion_output_loss: 1.0386 - gender_output_acc: 0.6568 - image_quality_output_acc: 0.5262 - age_output_acc: 0.3644 - weight_output_acc: 0.6185 - bag_output_acc: 0.5555 - footwear_output_acc: 0.5385 - pose_output_acc: 0.6047 - emotion_output_acc: 0.6998 - val_loss: 7.8228 - val_gender_output_loss: 0.5745 - val_image_quality_output_loss: 1.0169 - val_age_output_loss: 1.4718 - val_weight_output_loss: 1.0524 - val_bag_output_loss: 0.9235 - val_footwear_output_loss: 0.9460 - val_pose_output_loss: 0.9035 - val_emotion_output_loss: 0.9341 - val_gender_output_acc: 0.7283 - val_image_quality_output_acc: 0.5413 - val_age_output_acc: 0.4047 - val_weight_output_acc: 0.6164 - val_bag_output_acc: 0.5444 - val_footwear_output_acc: 0.5927 - val_pose_output_acc: 0.6668 - val_emotion_output_acc: 0.7132\n",
            "Epoch 2/24"
          ],
          "name": "stdout"
        },
        {
          "output_type": "stream",
          "text": [
            "/usr/local/lib/python3.6/dist-packages/keras/callbacks.py:707: RuntimeWarning: Can save best model only with val_acc available, skipping.\n",
            "  'skipping.' % (self.monitor), RuntimeWarning)\n"
          ],
          "name": "stderr"
        },
        {
          "output_type": "stream",
          "text": [
            "\n",
            "359/360 [============================>.] - ETA: 0s - loss: 7.7187 - gender_output_loss: 0.6014 - image_quality_output_loss: 0.9912 - age_output_loss: 1.4598 - weight_output_loss: 1.0119 - bag_output_loss: 0.9132 - footwear_output_loss: 0.9558 - pose_output_loss: 0.8571 - emotion_output_loss: 0.9283 - gender_output_acc: 0.6451 - image_quality_output_acc: 0.5508 - age_output_acc: 0.3836 - weight_output_acc: 0.6339 - bag_output_acc: 0.5765 - footwear_output_acc: 0.5564 - pose_output_acc: 0.6387 - emotion_output_acc: 0.7085\n",
            "360/360 [==============================] - 43s 120ms/step - loss: 7.7198 - gender_output_loss: 0.6016 - image_quality_output_loss: 0.9913 - age_output_loss: 1.4597 - weight_output_loss: 1.0120 - bag_output_loss: 0.9132 - footwear_output_loss: 0.9561 - pose_output_loss: 0.8572 - emotion_output_loss: 0.9287 - gender_output_acc: 0.6449 - image_quality_output_acc: 0.5507 - age_output_acc: 0.3838 - weight_output_acc: 0.6338 - bag_output_acc: 0.5766 - footwear_output_acc: 0.5557 - pose_output_acc: 0.6385 - emotion_output_acc: 0.7082 - val_loss: 7.7644 - val_gender_output_loss: 0.6337 - val_image_quality_output_loss: 0.9922 - val_age_output_loss: 1.4365 - val_weight_output_loss: 1.0073 - val_bag_output_loss: 0.9185 - val_footwear_output_loss: 1.0030 - val_pose_output_loss: 0.8733 - val_emotion_output_loss: 0.9000 - val_gender_output_acc: 0.5595 - val_image_quality_output_acc: 0.5418 - val_age_output_acc: 0.4083 - val_weight_output_acc: 0.6164 - val_bag_output_acc: 0.5489 - val_footwear_output_acc: 0.5086 - val_pose_output_acc: 0.6462 - val_emotion_output_acc: 0.7132\n",
            "Epoch 3/24\n",
            "359/360 [============================>.] - ETA: 0s - loss: 7.6424 - gender_output_loss: 0.6031 - image_quality_output_loss: 0.9805 - age_output_loss: 1.4431 - weight_output_loss: 0.9943 - bag_output_loss: 0.9037 - footwear_output_loss: 0.9557 - pose_output_loss: 0.8523 - emotion_output_loss: 0.9096 - gender_output_acc: 0.6409 - image_quality_output_acc: 0.5549 - age_output_acc: 0.3894 - weight_output_acc: 0.6341 - bag_output_acc: 0.5751 - footwear_output_acc: 0.5513 - pose_output_acc: 0.6478 - emotion_output_acc: 0.7068Epoch 3/24\n",
            "360/360 [==============================] - 42s 117ms/step - loss: 7.6424 - gender_output_loss: 0.6029 - image_quality_output_loss: 0.9805 - age_output_loss: 1.4428 - weight_output_loss: 0.9942 - bag_output_loss: 0.9040 - footwear_output_loss: 0.9557 - pose_output_loss: 0.8527 - emotion_output_loss: 0.9097 - gender_output_acc: 0.6412 - image_quality_output_acc: 0.5549 - age_output_acc: 0.3899 - weight_output_acc: 0.6342 - bag_output_acc: 0.5749 - footwear_output_acc: 0.5511 - pose_output_acc: 0.6476 - emotion_output_acc: 0.7068 - val_loss: 7.8865 - val_gender_output_loss: 0.5952 - val_image_quality_output_loss: 0.9929 - val_age_output_loss: 1.4322 - val_weight_output_loss: 1.0085 - val_bag_output_loss: 0.9432 - val_footwear_output_loss: 0.9586 - val_pose_output_loss: 1.0390 - val_emotion_output_loss: 0.9170 - val_gender_output_acc: 0.6129 - val_image_quality_output_acc: 0.5101 - val_age_output_acc: 0.4068 - val_weight_output_acc: 0.6174 - val_bag_output_acc: 0.5484 - val_footwear_output_acc: 0.5454 - val_pose_output_acc: 0.6134 - val_emotion_output_acc: 0.7132\n",
            "Epoch 4/24\n",
            "360/360 [==============================] - 42s 118ms/step - loss: 7.6858 - gender_output_loss: 0.6210 - image_quality_output_loss: 0.9807 - age_output_loss: 1.4416 - weight_output_loss: 0.9948 - bag_output_loss: 0.9101 - footwear_output_loss: 0.9601 - pose_output_loss: 0.8688 - emotion_output_loss: 0.9088 - gender_output_acc: 0.6415 - image_quality_output_acc: 0.5562 - age_output_acc: 0.3903 - weight_output_acc: 0.6351 - bag_output_acc: 0.5764 - footwear_output_acc: 0.5503 - pose_output_acc: 0.6434 - emotion_output_acc: 0.7074 - val_loss: 7.6670 - val_gender_output_loss: 0.6073 - val_image_quality_output_loss: 0.9913 - val_age_output_loss: 1.4335 - val_weight_output_loss: 1.0054 - val_bag_output_loss: 0.9108 - val_footwear_output_loss: 0.9529 - val_pose_output_loss: 0.8615 - val_emotion_output_loss: 0.9043 - val_gender_output_acc: 0.6285 - val_image_quality_output_acc: 0.5418 - val_age_output_acc: 0.3982 - val_weight_output_acc: 0.6169 - val_bag_output_acc: 0.5595 - val_footwear_output_acc: 0.5433 - val_pose_output_acc: 0.6457 - val_emotion_output_acc: 0.7026\n",
            "Epoch 5/24\n",
            "359/360 [============================>.] - ETA: 0s - loss: 7.6272 - gender_output_loss: 0.6043 - image_quality_output_loss: 0.9802 - age_output_loss: 1.4360 - weight_output_loss: 0.9949 - bag_output_loss: 0.9016 - footwear_output_loss: 0.9539 - pose_output_loss: 0.8492 - emotion_output_loss: 0.9072 - gender_output_acc: 0.6575 - image_quality_output_acc: 0.5560 - age_output_acc: 0.3949 - weight_output_acc: 0.6346 - bag_output_acc: 0.5799 - footwear_output_acc: 0.5511 - pose_output_acc: 0.6528 - emotion_output_acc: 0.7093Epoch 5/24\n",
            "360/360 [==============================] - 43s 119ms/step - loss: 7.6269 - gender_output_loss: 0.6044 - image_quality_output_loss: 0.9806 - age_output_loss: 1.4358 - weight_output_loss: 0.9947 - bag_output_loss: 0.9017 - footwear_output_loss: 0.9541 - pose_output_loss: 0.8487 - emotion_output_loss: 0.9071 - gender_output_acc: 0.6576 - image_quality_output_acc: 0.5556 - age_output_acc: 0.3949 - weight_output_acc: 0.6345 - bag_output_acc: 0.5798 - footwear_output_acc: 0.5511 - pose_output_acc: 0.6530 - emotion_output_acc: 0.7092 - val_loss: 7.6742 - val_gender_output_loss: 0.5751 - val_image_quality_output_loss: 0.9982 - val_age_output_loss: 1.4130 - val_weight_output_loss: 1.0257 - val_bag_output_loss: 0.9360 - val_footwear_output_loss: 0.9040 - val_pose_output_loss: 0.9207 - val_emotion_output_loss: 0.9015 - val_gender_output_acc: 0.6870 - val_image_quality_output_acc: 0.5413 - val_age_output_acc: 0.4098 - val_weight_output_acc: 0.6174 - val_bag_output_acc: 0.5610 - val_footwear_output_acc: 0.6008 - val_pose_output_acc: 0.6300 - val_emotion_output_acc: 0.7137\n",
            "Epoch 6/24\n",
            "360/360 [==============================] - 42s 117ms/step - loss: 7.5158 - gender_output_loss: 0.5884 - image_quality_output_loss: 0.9755 - age_output_loss: 1.4248 - weight_output_loss: 0.9873 - bag_output_loss: 0.8946 - footwear_output_loss: 0.9204 - pose_output_loss: 0.8284 - emotion_output_loss: 0.8962 - gender_output_acc: 0.6709 - image_quality_output_acc: 0.5594 - age_output_acc: 0.3958 - weight_output_acc: 0.6372 - bag_output_acc: 0.5844 - footwear_output_acc: 0.5760 - pose_output_acc: 0.6633 - emotion_output_acc: 0.7094 - val_loss: 7.6357 - val_gender_output_loss: 0.6383 - val_image_quality_output_loss: 0.9798 - val_age_output_loss: 1.4126 - val_weight_output_loss: 1.0033 - val_bag_output_loss: 0.9199 - val_footwear_output_loss: 0.8962 - val_pose_output_loss: 0.8906 - val_emotion_output_loss: 0.8950 - val_gender_output_acc: 0.6094 - val_image_quality_output_acc: 0.5439 - val_age_output_acc: 0.4093 - val_weight_output_acc: 0.6174 - val_bag_output_acc: 0.5575 - val_footwear_output_acc: 0.6064 - val_pose_output_acc: 0.6240 - val_emotion_output_acc: 0.7137\n",
            "Epoch 7/24\n",
            "360/360 [==============================] - 43s 118ms/step - loss: 7.3541 - gender_output_loss: 0.5523 - image_quality_output_loss: 0.9671 - age_output_loss: 1.4166 - weight_output_loss: 0.9792 - bag_output_loss: 0.8798 - footwear_output_loss: 0.8762 - pose_output_loss: 0.7959 - emotion_output_loss: 0.8871 - gender_output_acc: 0.7122 - image_quality_output_acc: 0.5582 - age_output_acc: 0.3954 - weight_output_acc: 0.6397 - bag_output_acc: 0.6003 - footwear_output_acc: 0.6072 - pose_output_acc: 0.6730 - emotion_output_acc: 0.7097 - val_loss: 7.4983 - val_gender_output_loss: 0.5618 - val_image_quality_output_loss: 0.9778 - val_age_output_loss: 1.4120 - val_weight_output_loss: 1.0038 - val_bag_output_loss: 0.9081 - val_footwear_output_loss: 0.8828 - val_pose_output_loss: 0.8596 - val_emotion_output_loss: 0.8924 - val_gender_output_acc: 0.6966 - val_image_quality_output_acc: 0.5454 - val_age_output_acc: 0.4068 - val_weight_output_acc: 0.6174 - val_bag_output_acc: 0.5660 - val_footwear_output_acc: 0.6104 - val_pose_output_acc: 0.6457 - val_emotion_output_acc: 0.7132\n",
            "\n",
            "Epoch 8/24\n",
            "359/360 [============================>.] - ETA: 0s - loss: 7.1151 - gender_output_loss: 0.4820 - image_quality_output_loss: 0.9549 - age_output_loss: 1.4058 - weight_output_loss: 0.9693 - bag_output_loss: 0.8694 - footwear_output_loss: 0.8307 - pose_output_loss: 0.7292 - emotion_output_loss: 0.8738 - gender_output_acc: 0.7698 - image_quality_output_acc: 0.5675 - age_output_acc: 0.4021 - weight_output_acc: 0.6402 - bag_output_acc: 0.6048 - footwear_output_acc: 0.6321 - pose_output_acc: 0.6936 - emotion_output_acc: 0.7116Epoch 8/24\n",
            "360/360 [==============================] - 42s 118ms/step - loss: 7.1162 - gender_output_loss: 0.4818 - image_quality_output_loss: 0.9547 - age_output_loss: 1.4062 - weight_output_loss: 0.9698 - bag_output_loss: 0.8691 - footwear_output_loss: 0.8306 - pose_output_loss: 0.7291 - emotion_output_loss: 0.8749 - gender_output_acc: 0.7698 - image_quality_output_acc: 0.5675 - age_output_acc: 0.4019 - weight_output_acc: 0.6401 - bag_output_acc: 0.6049 - footwear_output_acc: 0.6322 - pose_output_acc: 0.6935 - emotion_output_acc: 0.7111 - val_loss: 7.4128 - val_gender_output_loss: 0.5496 - val_image_quality_output_loss: 0.9736 - val_age_output_loss: 1.4010 - val_weight_output_loss: 1.0034 - val_bag_output_loss: 0.9211 - val_footwear_output_loss: 0.8378 - val_pose_output_loss: 0.8314 - val_emotion_output_loss: 0.8948 - val_gender_output_acc: 0.7021 - val_image_quality_output_acc: 0.5484 - val_age_output_acc: 0.4073 - val_weight_output_acc: 0.6174 - val_bag_output_acc: 0.5529 - val_footwear_output_acc: 0.6366 - val_pose_output_acc: 0.6406 - val_emotion_output_acc: 0.7142\n",
            "Epoch 9/24\n",
            "360/360 [==============================] - 42s 118ms/step - loss: 7.1162 - gender_output_loss: 0.4818 - image_quality_output_loss: 0.9547 - age_output_loss: 1.4062 - weight_output_loss: 0.9698 - bag_output_loss: 0.8691 - footwear_output_loss: 0.8306 - pose_output_loss: 0.7291 - emotion_output_loss: 0.8749 - gender_output_acc: 0.7698 - image_quality_output_acc: 0.5675 - age_output_acc: 0.4019 - weight_output_acc: 0.6401 - bag_output_acc: 0.6049 - footwear_output_acc: 0.6322 - pose_output_acc: 0.6935 - emotion_output_acc: 0.7111 - val_loss: 7.4128 - val_gender_output_loss: 0.5496 - val_image_quality_output_loss: 0.9736 - val_age_output_loss: 1.4010 - val_weight_output_loss: 1.0034 - val_bag_output_loss: 0.9211 - val_footwear_output_loss: 0.8378 - val_pose_output_loss: 0.8314 - val_emotion_output_loss: 0.8948 - val_gender_output_acc: 0.7021 - val_image_quality_output_acc: 0.5484 - val_age_output_acc: 0.4073 - val_weight_output_acc: 0.6174 - val_bag_output_acc: 0.5529 - val_footwear_output_acc: 0.6366 - val_pose_output_acc: 0.6406 - val_emotion_output_acc: 0.7142\n",
            "360/360 [==============================] - 42s 118ms/step - loss: 6.8678 - gender_output_loss: 0.4238 - image_quality_output_loss: 0.9370 - age_output_loss: 1.3816 - weight_output_loss: 0.9597 - bag_output_loss: 0.8500 - footwear_output_loss: 0.7818 - pose_output_loss: 0.6763 - emotion_output_loss: 0.8576 - gender_output_acc: 0.8039 - image_quality_output_acc: 0.5737 - age_output_acc: 0.4030 - weight_output_acc: 0.6419 - bag_output_acc: 0.6200 - footwear_output_acc: 0.6545 - pose_output_acc: 0.7139 - emotion_output_acc: 0.7132 - val_loss: 7.2843 - val_gender_output_loss: 0.4886 - val_image_quality_output_loss: 0.9623 - val_age_output_loss: 1.3931 - val_weight_output_loss: 0.9993 - val_bag_output_loss: 0.8907 - val_footwear_output_loss: 0.8424 - val_pose_output_loss: 0.8219 - val_emotion_output_loss: 0.8860 - val_gender_output_acc: 0.7566 - val_image_quality_output_acc: 0.5509 - val_age_output_acc: 0.4138 - val_weight_output_acc: 0.6139 - val_bag_output_acc: 0.6008 - val_footwear_output_acc: 0.6225 - val_pose_output_acc: 0.6492 - val_emotion_output_acc: 0.7137\n",
            "Epoch 10/24\n",
            "360/360 [==============================] - 42s 117ms/step - loss: 6.6289 - gender_output_loss: 0.3737 - image_quality_output_loss: 0.9078 - age_output_loss: 1.3661 - weight_output_loss: 0.9462 - bag_output_loss: 0.8339 - footwear_output_loss: 0.7472 - pose_output_loss: 0.6085 - emotion_output_loss: 0.8454 - gender_output_acc: 0.8297 - image_quality_output_acc: 0.5890 - age_output_acc: 0.4123 - weight_output_acc: 0.6425 - bag_output_acc: 0.6243 - footwear_output_acc: 0.6722 - pose_output_acc: 0.7390 - emotion_output_acc: 0.7140 - val_loss: 7.3370 - val_gender_output_loss: 0.5607 - val_image_quality_output_loss: 0.9549 - val_age_output_loss: 1.3987 - val_weight_output_loss: 0.9950 - val_bag_output_loss: 0.8937 - val_footwear_output_loss: 0.8253 - val_pose_output_loss: 0.8221 - val_emotion_output_loss: 0.8865 - val_gender_output_acc: 0.7172 - val_image_quality_output_acc: 0.5514 - val_age_output_acc: 0.4073 - val_weight_output_acc: 0.6200 - val_bag_output_acc: 0.5610 - val_footwear_output_acc: 0.6482 - val_pose_output_acc: 0.6467 - val_emotion_output_acc: 0.7142\n",
            "\b\b\b\b\b\b\b\b\b\b\b\b\b\b\b\b\b\b\b\b\b\b\b\b\b\b\b\b\b\b\b\b\b\b\b\b\b\b\b\b\b\b\b\b\b\b\b\b\b\b\b\b\b\b\b\b\b\b\b\b\b\b\b\b\b\b\b\b\b\b\b\b\b\b\b\b\b\b\b\b\b\b\b\b\b\b\b\b\b\b\b\b\b\b\b\b\b\b\b\b\b\b\b\b\b\b\b\b\b\b\b\b\b\b\b\b\b\b\b\b\b\b\b\b\b\b\b\b\b\b\b\b\b\b\b\b\b\b\b\b\b\b\b\b\b\b\b\b\b\b\b\b\b\b\b\b\b\b\b\b\b\b\b\b\b\b\b\b\b\b\b\b\b\b\b\b\b\b\b\b\b\b\b\b\b\b\b\b\b\b\b\b\b\b\b\b\b\b\b\b\b\b\b\b\b\b\b\b\b\b\b\b\b\b\b\b\b\b\b\b\b\b\b\b\b\b\b\b\b\b\b\b\b\b\b\b\b\b\b\b\b\b\b\b\b\b\b\b\b\b\b\b\b\b\b\b\b\b\b\b\b\b\b\b\b\b\b\b\b\b\b\b\b\b\b\b\b\b\b\b\b\b\b\b\b\b\b\b\b\b\b\b\b\b\b\b\b\b\b\b\b\b\b\b\b\b\b\b\b\b\b\b\b\b\b\b\b\b\b\b\b\b\b\b\b\b\b\b\b\b\b\b\b\b\b\b\b\b\b\b\b\b\b\b\b\b\b\b\b\b\b\b\b\b\b\b\b\b\b\b\b\b\b\b\b\b\b\b\b\b\b\b\b\b\b\b\b\b\b\b\b\b\b\b\b\b\b\b\b\b\b\b\b\b\b\b\b\b\b\b\b\b\b\b\b\b\b\b\b\b\b\b\b\b\b\b\b\b\b\b\b\b\b\b\b\b\b\b\b\b\b\b\b\b\b\b\b\b\b\b\b\b\b\b\b\b\b\b\b\b\b\b\b\b\b\b\b\b\b\b\b\b\b\b\b\b\b\b\b\b\b\b\b\b\b\b\b\b\b\b\b\b\b\b\b\b\b\b\b\b\b\b\b\b\b\b\b\b\b\b\b\b\b\b\b\b\b\b\b\b\b\b\b\b\b\b\b\b\b\b\b\b\b\b\bEpoch 11/24\n",
            "360/360 [==============================] - 43s 118ms/step - loss: 6.3720 - gender_output_loss: 0.3343 - image_quality_output_loss: 0.8707 - age_output_loss: 1.3373 - weight_output_loss: 0.9292 - bag_output_loss: 0.8120 - footwear_output_loss: 0.7046 - pose_output_loss: 0.5536 - emotion_output_loss: 0.8304 - gender_output_acc: 0.8496 - image_quality_output_acc: 0.6010 - age_output_acc: 0.4185 - weight_output_acc: 0.6487 - bag_output_acc: 0.6403 - footwear_output_acc: 0.6875 - pose_output_acc: 0.7668 - emotion_output_acc: 0.7161 - val_loss: 7.2490 - val_gender_output_loss: 0.5196 - val_image_quality_output_loss: 0.9543 - val_age_output_loss: 1.3933 - val_weight_output_loss: 1.0009 - val_bag_output_loss: 0.8972 - val_footwear_output_loss: 0.8207 - val_pose_output_loss: 0.7823 - val_emotion_output_loss: 0.8808 - val_gender_output_acc: 0.7409 - val_image_quality_output_acc: 0.5504 - val_age_output_acc: 0.4143 - val_weight_output_acc: 0.6169 - val_bag_output_acc: 0.5892 - val_footwear_output_acc: 0.6482 - val_pose_output_acc: 0.6719 - val_emotion_output_acc: 0.7142\n",
            "Epoch 11/24\n",
            "Epoch 12/24\n",
            "359/360 [============================>.] - ETA: 0s - loss: 6.1711 - gender_output_loss: 0.3026 - image_quality_output_loss: 0.8464 - age_output_loss: 1.3163 - weight_output_loss: 0.9102 - bag_output_loss: 0.7970 - footwear_output_loss: 0.6788 - pose_output_loss: 0.5012 - emotion_output_loss: 0.8186 - gender_output_acc: 0.8675 - image_quality_output_acc: 0.6149 - age_output_acc: 0.4237 - weight_output_acc: 0.6536 - bag_output_acc: 0.6433 - footwear_output_acc: 0.7006 - pose_output_acc: 0.7940 - emotion_output_acc: 0.7176Epoch 12/24\n",
            "360/360 [==============================] - 42s 118ms/step - loss: 6.1717 - gender_output_loss: 0.3023 - image_quality_output_loss: 0.8471 - age_output_loss: 1.3166 - weight_output_loss: 0.9106 - bag_output_loss: 0.7969 - footwear_output_loss: 0.6786 - pose_output_loss: 0.5012 - emotion_output_loss: 0.8185 - gender_output_acc: 0.8677 - image_quality_output_acc: 0.6145 - age_output_acc: 0.4237 - weight_output_acc: 0.6535 - bag_output_acc: 0.6433 - footwear_output_acc: 0.7008 - pose_output_acc: 0.7940 - emotion_output_acc: 0.7175 - val_loss: 7.3613 - val_gender_output_loss: 0.5771 - val_image_quality_output_loss: 0.9579 - val_age_output_loss: 1.4059 - val_weight_output_loss: 1.0009 - val_bag_output_loss: 0.9090 - val_footwear_output_loss: 0.8373 - val_pose_output_loss: 0.7932 - val_emotion_output_loss: 0.8801 - val_gender_output_acc: 0.7243 - val_image_quality_output_acc: 0.5559 - val_age_output_acc: 0.4093 - val_weight_output_acc: 0.6179 - val_bag_output_acc: 0.5842 - val_footwear_output_acc: 0.6386 - val_pose_output_acc: 0.6653 - val_emotion_output_acc: 0.7142\n",
            "Epoch 13/24\n",
            "359/360 [============================>.] - ETA: 0s - loss: 6.0409 - gender_output_loss: 0.2916 - image_quality_output_loss: 0.8276 - age_output_loss: 1.3044 - weight_output_loss: 0.9017 - bag_output_loss: 0.7861 - footwear_output_loss: 0.6556 - pose_output_loss: 0.4617 - emotion_output_loss: 0.8123 - gender_output_acc: 0.8679 - image_quality_output_acc: 0.6272 - age_output_acc: 0.4307 - weight_output_acc: 0.6559 - bag_output_acc: 0.6536 - footwear_output_acc: 0.7142 - pose_output_acc: 0.8145 - emotion_output_acc: 0.7194\n",
            "360/360 [==============================] - 42s 118ms/step - loss: 6.0421 - gender_output_loss: 0.2915 - image_quality_output_loss: 0.8276 - age_output_loss: 1.3049 - weight_output_loss: 0.9021 - bag_output_loss: 0.7862 - footwear_output_loss: 0.6557 - pose_output_loss: 0.4620 - emotion_output_loss: 0.8121 - gender_output_acc: 0.8681 - image_quality_output_acc: 0.6271 - age_output_acc: 0.4305 - weight_output_acc: 0.6556 - bag_output_acc: 0.6534 - footwear_output_acc: 0.7143 - pose_output_acc: 0.8144 - emotion_output_acc: 0.7194 - val_loss: 7.3490 - val_gender_output_loss: 0.5649 - val_image_quality_output_loss: 0.9514 - val_age_output_loss: 1.3763 - val_weight_output_loss: 0.9989 - val_bag_output_loss: 0.8933 - val_footwear_output_loss: 0.8417 - val_pose_output_loss: 0.8185 - val_emotion_output_loss: 0.9040 - val_gender_output_acc: 0.7026 - val_image_quality_output_acc: 0.5554 - val_age_output_acc: 0.4103 - val_weight_output_acc: 0.6184 - val_bag_output_acc: 0.5756 - val_footwear_output_acc: 0.6426 - val_pose_output_acc: 0.6678 - val_emotion_output_acc: 0.7142\n",
            "Epoch 14/24\n",
            "360/360 [==============================] - 43s 118ms/step - loss: 5.9457 - gender_output_loss: 0.2797 - image_quality_output_loss: 0.8165 - age_output_loss: 1.2904 - weight_output_loss: 0.8905 - bag_output_loss: 0.7818 - footwear_output_loss: 0.6498 - pose_output_loss: 0.4272 - emotion_output_loss: 0.8098 - gender_output_acc: 0.8763 - image_quality_output_acc: 0.6328 - age_output_acc: 0.4373 - weight_output_acc: 0.6574 - bag_output_acc: 0.6539 - footwear_output_acc: 0.7159 - pose_output_acc: 0.8352 - emotion_output_acc: 0.7187 - val_loss: 7.1507 - val_gender_output_loss: 0.4976 - val_image_quality_output_loss: 0.9459 - val_age_output_loss: 1.3800 - val_weight_output_loss: 1.0107 - val_bag_output_loss: 0.8807 - val_footwear_output_loss: 0.8266 - val_pose_output_loss: 0.7346 - val_emotion_output_loss: 0.8746 - val_gender_output_acc: 0.7475 - val_image_quality_output_acc: 0.5575 - val_age_output_acc: 0.4194 - val_weight_output_acc: 0.6174 - val_bag_output_acc: 0.5993 - val_footwear_output_acc: 0.6436 - val_pose_output_acc: 0.7036 - val_emotion_output_acc: 0.7137\n",
            "Epoch 15/24\n",
            "360/360 [==============================] - 42s 117ms/step - loss: 5.8198 - gender_output_loss: 0.2666 - image_quality_output_loss: 0.8031 - age_output_loss: 1.2737 - weight_output_loss: 0.8754 - bag_output_loss: 0.7643 - footwear_output_loss: 0.6375 - pose_output_loss: 0.3989 - emotion_output_loss: 0.8002 - gender_output_acc: 0.8799 - image_quality_output_acc: 0.6462 - age_output_acc: 0.4381 - weight_output_acc: 0.6626 - bag_output_acc: 0.6651 - footwear_output_acc: 0.7148 - pose_output_acc: 0.8502 - emotion_output_acc: 0.7205 - val_loss: 7.3951 - val_gender_output_loss: 0.5484 - val_image_quality_output_loss: 0.9421 - val_age_output_loss: 1.4130 - val_weight_output_loss: 1.0534 - val_bag_output_loss: 0.9371 - val_footwear_output_loss: 0.8598 - val_pose_output_loss: 0.7643 - val_emotion_output_loss: 0.8770 - val_gender_output_acc: 0.7349 - val_image_quality_output_acc: 0.5494 - val_age_output_acc: 0.4158 - val_weight_output_acc: 0.6174 - val_bag_output_acc: 0.5630 - val_footwear_output_acc: 0.6058 - val_pose_output_acc: 0.6966 - val_emotion_output_acc: 0.7142\n",
            "Epoch 15/24\n",
            "Epoch 16/24\n",
            "360/360 [==============================] - 42s 116ms/step - loss: 5.7732 - gender_output_loss: 0.2716 - image_quality_output_loss: 0.7928 - age_output_loss: 1.2742 - weight_output_loss: 0.8645 - bag_output_loss: 0.7499 - footwear_output_loss: 0.6385 - pose_output_loss: 0.3828 - emotion_output_loss: 0.7990 - gender_output_acc: 0.8831 - image_quality_output_acc: 0.6517 - age_output_acc: 0.4424 - weight_output_acc: 0.6660 - bag_output_acc: 0.6722 - footwear_output_acc: 0.7177 - pose_output_acc: 0.8538 - emotion_output_acc: 0.7214 - val_loss: 7.4092 - val_gender_output_loss: 0.5763 - val_image_quality_output_loss: 0.9735 - val_age_output_loss: 1.4217 - val_weight_output_loss: 1.0134 - val_bag_output_loss: 0.9130 - val_footwear_output_loss: 0.8506 - val_pose_output_loss: 0.7725 - val_emotion_output_loss: 0.8881 - val_gender_output_acc: 0.7319 - val_image_quality_output_acc: 0.5469 - val_age_output_acc: 0.4047 - val_weight_output_acc: 0.6164 - val_bag_output_acc: 0.6023 - val_footwear_output_acc: 0.6462 - val_pose_output_acc: 0.7001 - val_emotion_output_acc: 0.7132\n",
            "Epoch 17/24\n",
            "360/360 [==============================] - 42s 117ms/step - loss: 5.7153 - gender_output_loss: 0.2687 - image_quality_output_loss: 0.7771 - age_output_loss: 1.2555 - weight_output_loss: 0.8564 - bag_output_loss: 0.7425 - footwear_output_loss: 0.6407 - pose_output_loss: 0.3744 - emotion_output_loss: 0.7999 - gender_output_acc: 0.8818 - image_quality_output_acc: 0.6582 - age_output_acc: 0.4489 - weight_output_acc: 0.6656 - bag_output_acc: 0.6806 - footwear_output_acc: 0.7194 - pose_output_acc: 0.8596 - emotion_output_acc: 0.7205 - val_loss: 7.1846 - val_gender_output_loss: 0.5049 - val_image_quality_output_loss: 0.9748 - val_age_output_loss: 1.3869 - val_weight_output_loss: 0.9975 - val_bag_output_loss: 0.8824 - val_footwear_output_loss: 0.8370 - val_pose_output_loss: 0.7199 - val_emotion_output_loss: 0.8813 - val_gender_output_acc: 0.7666 - val_image_quality_output_acc: 0.5328 - val_age_output_acc: 0.4002 - val_weight_output_acc: 0.6134 - val_bag_output_acc: 0.5963 - val_footwear_output_acc: 0.6356 - val_pose_output_acc: 0.7117 - val_emotion_output_acc: 0.7122\n",
            "Epoch 18/24\n",
            "360/360 [==============================] - 42s 117ms/step - loss: 5.5421 - gender_output_loss: 0.2449 - image_quality_output_loss: 0.7591 - age_output_loss: 1.2288 - weight_output_loss: 0.8279 - bag_output_loss: 0.7212 - footwear_output_loss: 0.6164 - pose_output_loss: 0.3548 - emotion_output_loss: 0.7888 - gender_output_acc: 0.8924 - image_quality_output_acc: 0.6717 - age_output_acc: 0.4638 - weight_output_acc: 0.6808 - bag_output_acc: 0.6838 - footwear_output_acc: 0.7358 - pose_output_acc: 0.8693 - emotion_output_acc: 0.7228 - val_loss: 7.4593 - val_gender_output_loss: 0.6135 - val_image_quality_output_loss: 0.9650 - val_age_output_loss: 1.4014 - val_weight_output_loss: 1.0256 - val_bag_output_loss: 0.9336 - val_footwear_output_loss: 0.8388 - val_pose_output_loss: 0.7698 - val_emotion_output_loss: 0.9116 - val_gender_output_acc: 0.7293 - val_image_quality_output_acc: 0.5504 - val_age_output_acc: 0.4183 - val_weight_output_acc: 0.6159 - val_bag_output_acc: 0.5801 - val_footwear_output_acc: 0.6366 - val_pose_output_acc: 0.6910 - val_emotion_output_acc: 0.7142\n",
            "Epoch 19/24\n",
            "360/360 [==============================] - 42s 116ms/step - loss: 5.2535 - gender_output_loss: 0.2306 - image_quality_output_loss: 0.7271 - age_output_loss: 1.1787 - weight_output_loss: 0.7913 - bag_output_loss: 0.6812 - footwear_output_loss: 0.5836 - pose_output_loss: 0.3001 - emotion_output_loss: 0.7609 - gender_output_acc: 0.8999 - image_quality_output_acc: 0.6889 - age_output_acc: 0.4868 - weight_output_acc: 0.6909 - bag_output_acc: 0.7046 - footwear_output_acc: 0.7482 - pose_output_acc: 0.8911 - emotion_output_acc: 0.7257 - val_loss: 7.3185 - val_gender_output_loss: 0.5407 - val_image_quality_output_loss: 0.9682 - val_age_output_loss: 1.3876 - val_weight_output_loss: 1.0503 - val_bag_output_loss: 0.8778 - val_footwear_output_loss: 0.8514 - val_pose_output_loss: 0.7582 - val_emotion_output_loss: 0.8842 - val_gender_output_acc: 0.7732 - val_image_quality_output_acc: 0.5544 - val_age_output_acc: 0.4098 - val_weight_output_acc: 0.6179 - val_bag_output_acc: 0.5948 - val_footwear_output_acc: 0.6633 - val_pose_output_acc: 0.7102 - val_emotion_output_acc: 0.7132\n",
            "Epoch 20/24\n",
            "360/360 [==============================] - 42s 117ms/step - loss: 5.0386 - gender_output_loss: 0.2143 - image_quality_output_loss: 0.6903 - age_output_loss: 1.1473 - weight_output_loss: 0.7595 - bag_output_loss: 0.6456 - footwear_output_loss: 0.5606 - pose_output_loss: 0.2753 - emotion_output_loss: 0.7456 - gender_output_acc: 0.9049 - image_quality_output_acc: 0.7032 - age_output_acc: 0.5009 - weight_output_acc: 0.7093 - bag_output_acc: 0.7234 - footwear_output_acc: 0.7577 - pose_output_acc: 0.9005 - emotion_output_acc: 0.7312 - val_loss: 7.4857 - val_gender_output_loss: 0.6364 - val_image_quality_output_loss: 0.9800 - val_age_output_loss: 1.3972 - val_weight_output_loss: 1.0617 - val_bag_output_loss: 0.8782 - val_footwear_output_loss: 0.8693 - val_pose_output_loss: 0.7868 - val_emotion_output_loss: 0.8761 - val_gender_output_acc: 0.7399 - val_image_quality_output_acc: 0.5514 - val_age_output_acc: 0.4128 - val_weight_output_acc: 0.6184 - val_bag_output_acc: 0.6069 - val_footwear_output_acc: 0.6381 - val_pose_output_acc: 0.7182 - val_emotion_output_acc: 0.7142\n",
            "Epoch 21/24\n",
            "360/360 [==============================] - 42s 116ms/step - loss: 4.7237 - gender_output_loss: 0.1852 - image_quality_output_loss: 0.6487 - age_output_loss: 1.0979 - weight_output_loss: 0.7125 - bag_output_loss: 0.6058 - footwear_output_loss: 0.5179 - pose_output_loss: 0.2283 - emotion_output_loss: 0.7274 - gender_output_acc: 0.9225 - image_quality_output_acc: 0.7242 - age_output_acc: 0.5194 - weight_output_acc: 0.7244 - bag_output_acc: 0.7466 - footwear_output_acc: 0.7759 - pose_output_acc: 0.9173 - emotion_output_acc: 0.7394 - val_loss: 7.4888 - val_gender_output_loss: 0.5651 - val_image_quality_output_loss: 0.9899 - val_age_output_loss: 1.4303 - val_weight_output_loss: 1.0398 - val_bag_output_loss: 0.9359 - val_footwear_output_loss: 0.8592 - val_pose_output_loss: 0.7708 - val_emotion_output_loss: 0.8978 - val_gender_output_acc: 0.7626 - val_image_quality_output_acc: 0.5570 - val_age_output_acc: 0.3992 - val_weight_output_acc: 0.6134 - val_bag_output_acc: 0.5872 - val_footwear_output_acc: 0.6431 - val_pose_output_acc: 0.7213 - val_emotion_output_acc: 0.7077\n",
            "Epoch 22/24\n",
            "360/360 [==============================] - 42s 116ms/step - loss: 4.4820 - gender_output_loss: 0.1706 - image_quality_output_loss: 0.6180 - age_output_loss: 1.0499 - weight_output_loss: 0.6818 - bag_output_loss: 0.5646 - footwear_output_loss: 0.4921 - pose_output_loss: 0.2092 - emotion_output_loss: 0.6958 - gender_output_acc: 0.9270 - image_quality_output_acc: 0.7398 - age_output_acc: 0.5489 - weight_output_acc: 0.7339 - bag_output_acc: 0.7602 - footwear_output_acc: 0.7879 - pose_output_acc: 0.9279 - emotion_output_acc: 0.7483 - val_loss: 7.6504 - val_gender_output_loss: 0.6305 - val_image_quality_output_loss: 0.9995 - val_age_output_loss: 1.4505 - val_weight_output_loss: 1.0913 - val_bag_output_loss: 0.9445 - val_footwear_output_loss: 0.8624 - val_pose_output_loss: 0.7794 - val_emotion_output_loss: 0.8923 - val_gender_output_acc: 0.7490 - val_image_quality_output_acc: 0.5524 - val_age_output_acc: 0.4118 - val_weight_output_acc: 0.6184 - val_bag_output_acc: 0.5948 - val_footwear_output_acc: 0.6507 - val_pose_output_acc: 0.7188 - val_emotion_output_acc: 0.7147\n",
            "Epoch 23/24\n",
            "359/360 [============================>.] - ETA: 0s - loss: 4.2690 - gender_output_loss: 0.1574 - image_quality_output_loss: 0.5835 - age_output_loss: 1.0102 - weight_output_loss: 0.6450 - bag_output_loss: 0.5300 - footwear_output_loss: 0.4702 - pose_output_loss: 0.1965 - emotion_output_loss: 0.6761 - gender_output_acc: 0.9323 - image_quality_output_acc: 0.7577 - age_output_acc: 0.5579 - weight_output_acc: 0.7443 - bag_output_acc: 0.7765 - footwear_output_acc: 0.7980 - pose_output_acc: 0.9330 - emotion_output_acc: 0.7553Epoch 23/24\n",
            "360/360 [==============================] - 42s 117ms/step - loss: 4.2702 - gender_output_loss: 0.1577 - image_quality_output_loss: 0.5835 - age_output_loss: 1.0105 - weight_output_loss: 0.6447 - bag_output_loss: 0.5301 - footwear_output_loss: 0.4703 - pose_output_loss: 0.1966 - emotion_output_loss: 0.6767 - gender_output_acc: 0.9324 - image_quality_output_acc: 0.7579 - age_output_acc: 0.5578 - weight_output_acc: 0.7446 - bag_output_acc: 0.7765 - footwear_output_acc: 0.7981 - pose_output_acc: 0.9328 - emotion_output_acc: 0.7548 - val_loss: 7.7110 - val_gender_output_loss: 0.6360 - val_image_quality_output_loss: 0.9903 - val_age_output_loss: 1.4369 - val_weight_output_loss: 1.0920 - val_bag_output_loss: 0.9285 - val_footwear_output_loss: 0.8985 - val_pose_output_loss: 0.8396 - val_emotion_output_loss: 0.8891 - val_gender_output_acc: 0.7611 - val_image_quality_output_acc: 0.5549 - val_age_output_acc: 0.4113 - val_weight_output_acc: 0.6174 - val_bag_output_acc: 0.5917 - val_footwear_output_acc: 0.6401 - val_pose_output_acc: 0.7218 - val_emotion_output_acc: 0.7137\n",
            "Epoch 24/24\n",
            "360/360 [==============================] - 42s 117ms/step - loss: 4.1846 - gender_output_loss: 0.1541 - image_quality_output_loss: 0.5771 - age_output_loss: 0.9906 - weight_output_loss: 0.6329 - bag_output_loss: 0.5204 - footwear_output_loss: 0.4520 - pose_output_loss: 0.1876 - emotion_output_loss: 0.6699 - gender_output_acc: 0.9359 - image_quality_output_acc: 0.7585 - age_output_acc: 0.5697 - weight_output_acc: 0.7494 - bag_output_acc: 0.7800 - footwear_output_acc: 0.8051 - pose_output_acc: 0.9346 - emotion_output_acc: 0.7554 - val_loss: 7.9176 - val_gender_output_loss: 0.7188 - val_image_quality_output_loss: 0.9983 - val_age_output_loss: 1.4763 - val_weight_output_loss: 1.1489 - val_bag_output_loss: 0.9675 - val_footwear_output_loss: 0.9089 - val_pose_output_loss: 0.7912 - val_emotion_output_loss: 0.9077 - val_gender_output_acc: 0.7440 - val_image_quality_output_acc: 0.5615 - val_age_output_acc: 0.4027 - val_weight_output_acc: 0.6164 - val_bag_output_acc: 0.5963 - val_footwear_output_acc: 0.6452 - val_pose_output_acc: 0.7273 - val_emotion_output_acc: 0.7041\n"
          ],
          "name": "stdout"
        },
        {
          "output_type": "execute_result",
          "data": {
            "text/plain": [
              "<keras.callbacks.History at 0x7f9385e2e438>"
            ]
          },
          "metadata": {
            "tags": []
          },
          "execution_count": 49
        }
      ]
    },
    {
      "cell_type": "code",
      "metadata": {
        "id": "1cU8z-vmkUbo",
        "colab_type": "code",
        "colab": {}
      },
      "source": [
        "history=model.history"
      ],
      "execution_count": 0,
      "outputs": []
    },
    {
      "cell_type": "code",
      "metadata": {
        "id": "jvoR3OVIkXSK",
        "colab_type": "code",
        "colab": {
          "base_uri": "https://localhost:8080/",
          "height": 153
        },
        "outputId": "9969fd63-5a3d-4db8-b232-fdee080103a4"
      },
      "source": [
        "#print(history.history.keys())\n",
        "for x in history.history.keys():\n",
        "  if x.startswith('val') and x.endswith('acc'):\n",
        "    print(x, \" -- \",  history.history[x][-1])"
      ],
      "execution_count": 56,
      "outputs": [
        {
          "output_type": "stream",
          "text": [
            "val_gender_output_acc  --  0.7439516129032258\n",
            "val_image_quality_output_acc  --  0.561491935483871\n",
            "val_age_output_acc  --  0.4027217741935484\n",
            "val_weight_output_acc  --  0.6164314516129032\n",
            "val_bag_output_acc  --  0.5962701612903226\n",
            "val_footwear_output_acc  --  0.6451612903225806\n",
            "val_pose_output_acc  --  0.7273185483870968\n",
            "val_emotion_output_acc  --  0.704133064516129\n"
          ],
          "name": "stdout"
        }
      ]
    },
    {
      "cell_type": "code",
      "metadata": {
        "id": "hYs-jEtYlL6y",
        "colab_type": "code",
        "colab": {
          "base_uri": "https://localhost:8080/",
          "height": 54
        },
        "outputId": "9229ba07-3f68-4fde-ae6b-92daf9f4e953"
      },
      "source": [
        "val_loss=[]\n",
        "for i in range(24):\n",
        "  sum=0\n",
        "  l = ['val_gender_output_loss','val_image_quality_output_loss',  'val_age_output_loss', 'val_weight_output_loss', 'val_bag_output_loss', 'val_footwear_output_loss', 'val_pose_output_loss',\n",
        " 'val_emotion_output_loss']\n",
        "  for x in l:\n",
        "    sum += history.history[x][i]\n",
        "  val_loss.append(sum)\n",
        "print(val_loss)"
      ],
      "execution_count": 53,
      "outputs": [
        {
          "output_type": "stream",
          "text": [
            "[7.822822791914786, 7.76443543934053, 7.886516252833029, 7.667036883292659, 7.674166737064239, 7.635651042384486, 7.498272147870834, 7.412837890848036, 7.284262038046315, 7.337024938675665, 7.249019652605057, 7.361298317870786, 7.349039598818749, 7.15071385425906, 7.395078060127075, 7.409209105276292, 7.184613381662677, 7.459289085480474, 7.318483590118347, 7.485670234887832, 7.488770798329385, 7.650404232163583, 7.710980749899341, 7.917625443589302]\n"
          ],
          "name": "stdout"
        }
      ]
    },
    {
      "cell_type": "code",
      "metadata": {
        "id": "ZM_4uT8qlUKF",
        "colab_type": "code",
        "colab": {
          "base_uri": "https://localhost:8080/",
          "height": 295
        },
        "outputId": "8496cdfd-c706-4674-98ab-95c299bed10c"
      },
      "source": [
        "  import matplotlib.pyplot as plt\n",
        "  plt.plot(history.history['loss'])\n",
        "  plt.plot(val_loss)\n",
        "  plt.title('model loss')\n",
        "  plt.ylabel('loss')\n",
        "  plt.xlabel('epoch')\n",
        "  plt.legend(['train', 'validation'], loc='upper left')\n",
        "  plt.show()  #no reduction in validation loss"
      ],
      "execution_count": 54,
      "outputs": [
        {
          "output_type": "display_data",
          "data": {
            "image/png": "[encoded data removed]",
            "text/plain": [
              "<Figure size 432x288 with 1 Axes>"
            ]
          },
          "metadata": {
            "tags": []
          }
        }
      ]
    }
  ]
}