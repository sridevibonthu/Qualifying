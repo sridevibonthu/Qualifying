{
  "nbformat": 4,
  "nbformat_minor": 0,
  "metadata": {
    "colab": {
      "name": "Resnet50 with cutout CLR callbacks mode exp range.ipynb",
      "provenance": [],
      "collapsed_sections": [],
      "include_colab_link": true
    },
    "kernelspec": {
      "name": "python3",
      "display_name": "Python 3"
    },
    "accelerator": "GPU"
  },
  "cells": [
    {
      "cell_type": "markdown",
      "metadata": {
        "id": "view-in-github",
        "colab_type": "text"
      },
      "source": [
        "<a href=\"https://colab.research.google.com/github/sridevibonthu/Qualifying/blob/master/Resnet50_with_cutout_CLR_callbacks_mode_exp_range.ipynb\" target=\"_parent\"><img src=\"https://colab.research.google.com/assets/colab-badge.svg\" alt=\"Open In Colab\"/></a>"
      ]
    },
    {
      "cell_type": "code",
      "metadata": {
        "id": "08g_jkZP6SJI",
        "colab_type": "code",
        "outputId": "325bb951-4b62-4d81-c7ff-74e622c3f6b2",
        "colab": {
          "base_uri": "https://localhost:8080/",
          "height": 122
        }
      },
      "source": [
        "# mount gdrive and unzip data\n",
        "from google.colab import drive\n",
        "drive.mount('/content/gdrive')"
      ],
      "execution_count": 2,
      "outputs": [
        {
          "output_type": "stream",
          "text": [
            "Go to this URL in a browser: https://accounts.google.com/o/oauth2/auth?client_id=947318989803-6bn6qk8qdgf4n4g3pfee6491hc0brc4i.apps.googleusercontent.com&redirect_uri=urn%3aietf%3awg%3aoauth%3a2.0%3aoob&response_type=code&scope=email%20https%3a%2f%2fwww.googleapis.com%2fauth%2fdocs.test%20https%3a%2f%2fwww.googleapis.com%2fauth%2fdrive%20https%3a%2f%2fwww.googleapis.com%2fauth%2fdrive.photos.readonly%20https%3a%2f%2fwww.googleapis.com%2fauth%2fpeopleapi.readonly\n",
            "\n",
            "Enter your authorization code:\n",
            "··········\n",
            "Mounted at /content/gdrive\n"
          ],
          "name": "stdout"
        }
      ]
    },
    {
      "cell_type": "code",
      "metadata": {
        "id": "oQ7Qqo0-6lcr",
        "colab_type": "code",
        "outputId": "ddb004d9-d357-4807-8eb2-ec6b39aec8ae",
        "colab": {
          "base_uri": "https://localhost:8080/",
          "height": 34
        }
      },
      "source": [
        "!unzip -q \"/content/gdrive/My Drive/hvc_data.zip\"\n",
        "# look for `hvc_annotations.csv` file and `resized` dir\n",
        "%ls "
      ],
      "execution_count": 3,
      "outputs": [
        {
          "output_type": "stream",
          "text": [
            "\u001b[0m\u001b[01;34mgdrive\u001b[0m/  hvc_annotations.csv  \u001b[01;34mresized\u001b[0m/  \u001b[01;34msample_data\u001b[0m/\n"
          ],
          "name": "stdout"
        }
      ]
    },
    {
      "cell_type": "code",
      "metadata": {
        "id": "9qs7JUWB61_J",
        "colab_type": "code",
        "outputId": "81d66eb5-d274-479c-c33e-4e77f23569d7",
        "colab": {
          "base_uri": "https://localhost:8080/",
          "height": 34
        }
      },
      "source": [
        "%tensorflow_version 1.x\n",
        "\n",
        "import cv2\n",
        "import json\n",
        "\n",
        "import numpy as np\n",
        "import pandas as pd\n",
        "\n",
        "from functools import partial\n",
        "from pathlib import Path \n",
        "from tqdm import tqdm\n",
        "\n",
        "from google.colab.patches import cv2_imshow\n",
        "\n",
        "from sklearn.model_selection import train_test_split\n",
        "from sklearn.preprocessing import LabelEncoder, OneHotEncoder\n",
        "\n",
        "\n",
        "from keras.applications import VGG16\n",
        "from keras.layers.core import Dropout\n",
        "from keras.layers.core import Flatten\n",
        "from keras.layers.core import Dense\n",
        "from keras.layers import Input\n",
        "from keras.models import Model\n",
        "from keras.optimizers import SGD\n",
        "from keras.preprocessing.image import ImageDataGenerator"
      ],
      "execution_count": 4,
      "outputs": [
        {
          "output_type": "stream",
          "text": [
            "Using TensorFlow backend.\n"
          ],
          "name": "stderr"
        }
      ]
    },
    {
      "cell_type": "code",
      "metadata": {
        "id": "IfEQVfT3662X",
        "colab_type": "code",
        "outputId": "e5e931ed-25b8-4b6b-d47f-c96aa8b0b2cb",
        "colab": {
          "base_uri": "https://localhost:8080/",
          "height": 204
        }
      },
      "source": [
        "# load annotations\n",
        "df = pd.read_csv(\"hvc_annotations.csv\")\n",
        "del df[\"filename\"] # remove unwanted column\n",
        "df.head()"
      ],
      "execution_count": 5,
      "outputs": [
        {
          "output_type": "execute_result",
          "data": {
            "text/html": [
              "<div>\n",
              "<style scoped>\n",
              "    .dataframe tbody tr th:only-of-type {\n",
              "        vertical-align: middle;\n",
              "    }\n",
              "\n",
              "    .dataframe tbody tr th {\n",
              "        vertical-align: top;\n",
              "    }\n",
              "\n",
              "    .dataframe thead th {\n",
              "        text-align: right;\n",
              "    }\n",
              "</style>\n",
              "<table border=\"1\" class=\"dataframe\">\n",
              "  <thead>\n",
              "    <tr style=\"text-align: right;\">\n",
              "      <th></th>\n",
              "      <th>gender</th>\n",
              "      <th>imagequality</th>\n",
              "      <th>age</th>\n",
              "      <th>weight</th>\n",
              "      <th>carryingbag</th>\n",
              "      <th>footwear</th>\n",
              "      <th>emotion</th>\n",
              "      <th>bodypose</th>\n",
              "      <th>image_path</th>\n",
              "    </tr>\n",
              "  </thead>\n",
              "  <tbody>\n",
              "    <tr>\n",
              "      <th>0</th>\n",
              "      <td>male</td>\n",
              "      <td>Average</td>\n",
              "      <td>35-45</td>\n",
              "      <td>normal-healthy</td>\n",
              "      <td>Grocery/Home/Plastic Bag</td>\n",
              "      <td>Normal</td>\n",
              "      <td>Neutral</td>\n",
              "      <td>Front-Frontish</td>\n",
              "      <td>resized/1.jpg</td>\n",
              "    </tr>\n",
              "    <tr>\n",
              "      <th>1</th>\n",
              "      <td>female</td>\n",
              "      <td>Average</td>\n",
              "      <td>35-45</td>\n",
              "      <td>over-weight</td>\n",
              "      <td>None</td>\n",
              "      <td>Normal</td>\n",
              "      <td>Angry/Serious</td>\n",
              "      <td>Front-Frontish</td>\n",
              "      <td>resized/2.jpg</td>\n",
              "    </tr>\n",
              "    <tr>\n",
              "      <th>2</th>\n",
              "      <td>male</td>\n",
              "      <td>Good</td>\n",
              "      <td>45-55</td>\n",
              "      <td>normal-healthy</td>\n",
              "      <td>Grocery/Home/Plastic Bag</td>\n",
              "      <td>CantSee</td>\n",
              "      <td>Neutral</td>\n",
              "      <td>Front-Frontish</td>\n",
              "      <td>resized/3.jpg</td>\n",
              "    </tr>\n",
              "    <tr>\n",
              "      <th>3</th>\n",
              "      <td>male</td>\n",
              "      <td>Good</td>\n",
              "      <td>45-55</td>\n",
              "      <td>normal-healthy</td>\n",
              "      <td>Daily/Office/Work Bag</td>\n",
              "      <td>Normal</td>\n",
              "      <td>Neutral</td>\n",
              "      <td>Front-Frontish</td>\n",
              "      <td>resized/4.jpg</td>\n",
              "    </tr>\n",
              "    <tr>\n",
              "      <th>4</th>\n",
              "      <td>female</td>\n",
              "      <td>Good</td>\n",
              "      <td>35-45</td>\n",
              "      <td>slightly-overweight</td>\n",
              "      <td>None</td>\n",
              "      <td>CantSee</td>\n",
              "      <td>Neutral</td>\n",
              "      <td>Front-Frontish</td>\n",
              "      <td>resized/5.jpg</td>\n",
              "    </tr>\n",
              "  </tbody>\n",
              "</table>\n",
              "</div>"
            ],
            "text/plain": [
              "   gender imagequality    age  ...        emotion        bodypose     image_path\n",
              "0    male      Average  35-45  ...        Neutral  Front-Frontish  resized/1.jpg\n",
              "1  female      Average  35-45  ...  Angry/Serious  Front-Frontish  resized/2.jpg\n",
              "2    male         Good  45-55  ...        Neutral  Front-Frontish  resized/3.jpg\n",
              "3    male         Good  45-55  ...        Neutral  Front-Frontish  resized/4.jpg\n",
              "4  female         Good  35-45  ...        Neutral  Front-Frontish  resized/5.jpg\n",
              "\n",
              "[5 rows x 9 columns]"
            ]
          },
          "metadata": {
            "tags": []
          },
          "execution_count": 5
        }
      ]
    },
    {
      "cell_type": "code",
      "metadata": {
        "id": "INQxVzUO68G3",
        "colab_type": "code",
        "outputId": "751bd910-dbf1-4a7d-e9dd-928a8c93de94",
        "colab": {
          "base_uri": "https://localhost:8080/",
          "height": 917
        }
      },
      "source": [
        "# one hot encoding of labels\n",
        "\n",
        "one_hot_df = pd.concat([\n",
        "    df[[\"image_path\"]],\n",
        "    pd.get_dummies(df.gender, prefix=\"gender\"),\n",
        "    pd.get_dummies(df.imagequality, prefix=\"imagequality\"),\n",
        "    pd.get_dummies(df.age, prefix=\"age\"),\n",
        "    pd.get_dummies(df.weight, prefix=\"weight\"),\n",
        "    pd.get_dummies(df.carryingbag, prefix=\"carryingbag\"),\n",
        "    pd.get_dummies(df.footwear, prefix=\"footwear\"),\n",
        "    pd.get_dummies(df.emotion, prefix=\"emotion\"),\n",
        "    pd.get_dummies(df.bodypose, prefix=\"bodypose\"),\n",
        "], axis = 1)\n",
        "\n",
        "one_hot_df.head().T"
      ],
      "execution_count": 6,
      "outputs": [
        {
          "output_type": "execute_result",
          "data": {
            "text/html": [
              "<div>\n",
              "<style scoped>\n",
              "    .dataframe tbody tr th:only-of-type {\n",
              "        vertical-align: middle;\n",
              "    }\n",
              "\n",
              "    .dataframe tbody tr th {\n",
              "        vertical-align: top;\n",
              "    }\n",
              "\n",
              "    .dataframe thead th {\n",
              "        text-align: right;\n",
              "    }\n",
              "</style>\n",
              "<table border=\"1\" class=\"dataframe\">\n",
              "  <thead>\n",
              "    <tr style=\"text-align: right;\">\n",
              "      <th></th>\n",
              "      <th>0</th>\n",
              "      <th>1</th>\n",
              "      <th>2</th>\n",
              "      <th>3</th>\n",
              "      <th>4</th>\n",
              "    </tr>\n",
              "  </thead>\n",
              "  <tbody>\n",
              "    <tr>\n",
              "      <th>image_path</th>\n",
              "      <td>resized/1.jpg</td>\n",
              "      <td>resized/2.jpg</td>\n",
              "      <td>resized/3.jpg</td>\n",
              "      <td>resized/4.jpg</td>\n",
              "      <td>resized/5.jpg</td>\n",
              "    </tr>\n",
              "    <tr>\n",
              "      <th>gender_female</th>\n",
              "      <td>0</td>\n",
              "      <td>1</td>\n",
              "      <td>0</td>\n",
              "      <td>0</td>\n",
              "      <td>1</td>\n",
              "    </tr>\n",
              "    <tr>\n",
              "      <th>gender_male</th>\n",
              "      <td>1</td>\n",
              "      <td>0</td>\n",
              "      <td>1</td>\n",
              "      <td>1</td>\n",
              "      <td>0</td>\n",
              "    </tr>\n",
              "    <tr>\n",
              "      <th>imagequality_Average</th>\n",
              "      <td>1</td>\n",
              "      <td>1</td>\n",
              "      <td>0</td>\n",
              "      <td>0</td>\n",
              "      <td>0</td>\n",
              "    </tr>\n",
              "    <tr>\n",
              "      <th>imagequality_Bad</th>\n",
              "      <td>0</td>\n",
              "      <td>0</td>\n",
              "      <td>0</td>\n",
              "      <td>0</td>\n",
              "      <td>0</td>\n",
              "    </tr>\n",
              "    <tr>\n",
              "      <th>imagequality_Good</th>\n",
              "      <td>0</td>\n",
              "      <td>0</td>\n",
              "      <td>1</td>\n",
              "      <td>1</td>\n",
              "      <td>1</td>\n",
              "    </tr>\n",
              "    <tr>\n",
              "      <th>age_15-25</th>\n",
              "      <td>0</td>\n",
              "      <td>0</td>\n",
              "      <td>0</td>\n",
              "      <td>0</td>\n",
              "      <td>0</td>\n",
              "    </tr>\n",
              "    <tr>\n",
              "      <th>age_25-35</th>\n",
              "      <td>0</td>\n",
              "      <td>0</td>\n",
              "      <td>0</td>\n",
              "      <td>0</td>\n",
              "      <td>0</td>\n",
              "    </tr>\n",
              "    <tr>\n",
              "      <th>age_35-45</th>\n",
              "      <td>1</td>\n",
              "      <td>1</td>\n",
              "      <td>0</td>\n",
              "      <td>0</td>\n",
              "      <td>1</td>\n",
              "    </tr>\n",
              "    <tr>\n",
              "      <th>age_45-55</th>\n",
              "      <td>0</td>\n",
              "      <td>0</td>\n",
              "      <td>1</td>\n",
              "      <td>1</td>\n",
              "      <td>0</td>\n",
              "    </tr>\n",
              "    <tr>\n",
              "      <th>age_55+</th>\n",
              "      <td>0</td>\n",
              "      <td>0</td>\n",
              "      <td>0</td>\n",
              "      <td>0</td>\n",
              "      <td>0</td>\n",
              "    </tr>\n",
              "    <tr>\n",
              "      <th>weight_normal-healthy</th>\n",
              "      <td>1</td>\n",
              "      <td>0</td>\n",
              "      <td>1</td>\n",
              "      <td>1</td>\n",
              "      <td>0</td>\n",
              "    </tr>\n",
              "    <tr>\n",
              "      <th>weight_over-weight</th>\n",
              "      <td>0</td>\n",
              "      <td>1</td>\n",
              "      <td>0</td>\n",
              "      <td>0</td>\n",
              "      <td>0</td>\n",
              "    </tr>\n",
              "    <tr>\n",
              "      <th>weight_slightly-overweight</th>\n",
              "      <td>0</td>\n",
              "      <td>0</td>\n",
              "      <td>0</td>\n",
              "      <td>0</td>\n",
              "      <td>1</td>\n",
              "    </tr>\n",
              "    <tr>\n",
              "      <th>weight_underweight</th>\n",
              "      <td>0</td>\n",
              "      <td>0</td>\n",
              "      <td>0</td>\n",
              "      <td>0</td>\n",
              "      <td>0</td>\n",
              "    </tr>\n",
              "    <tr>\n",
              "      <th>carryingbag_Daily/Office/Work Bag</th>\n",
              "      <td>0</td>\n",
              "      <td>0</td>\n",
              "      <td>0</td>\n",
              "      <td>1</td>\n",
              "      <td>0</td>\n",
              "    </tr>\n",
              "    <tr>\n",
              "      <th>carryingbag_Grocery/Home/Plastic Bag</th>\n",
              "      <td>1</td>\n",
              "      <td>0</td>\n",
              "      <td>1</td>\n",
              "      <td>0</td>\n",
              "      <td>0</td>\n",
              "    </tr>\n",
              "    <tr>\n",
              "      <th>carryingbag_None</th>\n",
              "      <td>0</td>\n",
              "      <td>1</td>\n",
              "      <td>0</td>\n",
              "      <td>0</td>\n",
              "      <td>1</td>\n",
              "    </tr>\n",
              "    <tr>\n",
              "      <th>footwear_CantSee</th>\n",
              "      <td>0</td>\n",
              "      <td>0</td>\n",
              "      <td>1</td>\n",
              "      <td>0</td>\n",
              "      <td>1</td>\n",
              "    </tr>\n",
              "    <tr>\n",
              "      <th>footwear_Fancy</th>\n",
              "      <td>0</td>\n",
              "      <td>0</td>\n",
              "      <td>0</td>\n",
              "      <td>0</td>\n",
              "      <td>0</td>\n",
              "    </tr>\n",
              "    <tr>\n",
              "      <th>footwear_Normal</th>\n",
              "      <td>1</td>\n",
              "      <td>1</td>\n",
              "      <td>0</td>\n",
              "      <td>1</td>\n",
              "      <td>0</td>\n",
              "    </tr>\n",
              "    <tr>\n",
              "      <th>emotion_Angry/Serious</th>\n",
              "      <td>0</td>\n",
              "      <td>1</td>\n",
              "      <td>0</td>\n",
              "      <td>0</td>\n",
              "      <td>0</td>\n",
              "    </tr>\n",
              "    <tr>\n",
              "      <th>emotion_Happy</th>\n",
              "      <td>0</td>\n",
              "      <td>0</td>\n",
              "      <td>0</td>\n",
              "      <td>0</td>\n",
              "      <td>0</td>\n",
              "    </tr>\n",
              "    <tr>\n",
              "      <th>emotion_Neutral</th>\n",
              "      <td>1</td>\n",
              "      <td>0</td>\n",
              "      <td>1</td>\n",
              "      <td>1</td>\n",
              "      <td>1</td>\n",
              "    </tr>\n",
              "    <tr>\n",
              "      <th>emotion_Sad</th>\n",
              "      <td>0</td>\n",
              "      <td>0</td>\n",
              "      <td>0</td>\n",
              "      <td>0</td>\n",
              "      <td>0</td>\n",
              "    </tr>\n",
              "    <tr>\n",
              "      <th>bodypose_Back</th>\n",
              "      <td>0</td>\n",
              "      <td>0</td>\n",
              "      <td>0</td>\n",
              "      <td>0</td>\n",
              "      <td>0</td>\n",
              "    </tr>\n",
              "    <tr>\n",
              "      <th>bodypose_Front-Frontish</th>\n",
              "      <td>1</td>\n",
              "      <td>1</td>\n",
              "      <td>1</td>\n",
              "      <td>1</td>\n",
              "      <td>1</td>\n",
              "    </tr>\n",
              "    <tr>\n",
              "      <th>bodypose_Side</th>\n",
              "      <td>0</td>\n",
              "      <td>0</td>\n",
              "      <td>0</td>\n",
              "      <td>0</td>\n",
              "      <td>0</td>\n",
              "    </tr>\n",
              "  </tbody>\n",
              "</table>\n",
              "</div>"
            ],
            "text/plain": [
              "                                                  0  ...              4\n",
              "image_path                            resized/1.jpg  ...  resized/5.jpg\n",
              "gender_female                                     0  ...              1\n",
              "gender_male                                       1  ...              0\n",
              "imagequality_Average                              1  ...              0\n",
              "imagequality_Bad                                  0  ...              0\n",
              "imagequality_Good                                 0  ...              1\n",
              "age_15-25                                         0  ...              0\n",
              "age_25-35                                         0  ...              0\n",
              "age_35-45                                         1  ...              1\n",
              "age_45-55                                         0  ...              0\n",
              "age_55+                                           0  ...              0\n",
              "weight_normal-healthy                             1  ...              0\n",
              "weight_over-weight                                0  ...              0\n",
              "weight_slightly-overweight                        0  ...              1\n",
              "weight_underweight                                0  ...              0\n",
              "carryingbag_Daily/Office/Work Bag                 0  ...              0\n",
              "carryingbag_Grocery/Home/Plastic Bag              1  ...              0\n",
              "carryingbag_None                                  0  ...              1\n",
              "footwear_CantSee                                  0  ...              1\n",
              "footwear_Fancy                                    0  ...              0\n",
              "footwear_Normal                                   1  ...              0\n",
              "emotion_Angry/Serious                             0  ...              0\n",
              "emotion_Happy                                     0  ...              0\n",
              "emotion_Neutral                                   1  ...              1\n",
              "emotion_Sad                                       0  ...              0\n",
              "bodypose_Back                                     0  ...              0\n",
              "bodypose_Front-Frontish                           1  ...              1\n",
              "bodypose_Side                                     0  ...              0\n",
              "\n",
              "[28 rows x 5 columns]"
            ]
          },
          "metadata": {
            "tags": []
          },
          "execution_count": 6
        }
      ]
    },
    {
      "cell_type": "code",
      "metadata": {
        "id": "F6EGaW1b6_8A",
        "colab_type": "code",
        "colab": {}
      },
      "source": [
        "import keras\n",
        "import numpy as np\n",
        "\n",
        "# Label columns per attribute\n",
        "_gender_cols_ = [col for col in one_hot_df.columns if col.startswith(\"gender\")]\n",
        "_imagequality_cols_ = [col for col in one_hot_df.columns if col.startswith(\"imagequality\")]\n",
        "_age_cols_ = [col for col in one_hot_df.columns if col.startswith(\"age\")]\n",
        "_weight_cols_ = [col for col in one_hot_df.columns if col.startswith(\"weight\")]\n",
        "_carryingbag_cols_ = [col for col in one_hot_df.columns if col.startswith(\"carryingbag\")]\n",
        "_footwear_cols_ = [col for col in one_hot_df.columns if col.startswith(\"footwear\")]\n",
        "_emotion_cols_ = [col for col in one_hot_df.columns if col.startswith(\"emotion\")]\n",
        "_bodypose_cols_ = [col for col in one_hot_df.columns if col.startswith(\"bodypose\")]\n",
        "\n",
        "class PersonDataGenerator(keras.utils.Sequence):\n",
        "    \"\"\"Ground truth data generator\"\"\"\n",
        "\n",
        "    \n",
        "    def __init__(self, df, batch_size=32, shuffle=True, augmentation=None):\n",
        "        self.df = df\n",
        "        self.batch_size=batch_size\n",
        "        self.shuffle = shuffle\n",
        "        self.on_epoch_end()\n",
        "        self.augmentation = augmentation\n",
        "\n",
        "    def __len__(self):\n",
        "        return int(np.floor(self.df.shape[0] / self.batch_size))\n",
        "\n",
        "    def __getitem__(self, index):\n",
        "        \"\"\"fetch batched images and targets\"\"\"\n",
        "        batch_slice = slice(index * self.batch_size, (index + 1) * self.batch_size)\n",
        "        items = self.df.iloc[batch_slice]\n",
        "        image = np.stack([cv2.imread(item[\"image_path\"]) for _, item in items.iterrows()])\n",
        "        target = {\n",
        "            \"gender_output\": items[_gender_cols_].values,\n",
        "            \"image_quality_output\": items[_imagequality_cols_].values,\n",
        "            \"age_output\": items[_age_cols_].values,\n",
        "            \"weight_output\": items[_weight_cols_].values,\n",
        "            \"bag_output\": items[_carryingbag_cols_].values,\n",
        "            \"pose_output\": items[_bodypose_cols_].values,\n",
        "            \"footwear_output\": items[_footwear_cols_].values,\n",
        "            \"emotion_output\": items[_emotion_cols_].values,\n",
        "        }\n",
        "        return image, target\n",
        "\n",
        "    def on_epoch_end(self):\n",
        "        \"\"\"Updates indexes after each epoch\"\"\"\n",
        "        if self.shuffle == True:\n",
        "            self.df = self.df.sample(frac=1).reset_index(drop=True)\n"
      ],
      "execution_count": 0,
      "outputs": []
    },
    {
      "cell_type": "code",
      "metadata": {
        "id": "Xs3pAgLt7Hln",
        "colab_type": "code",
        "colab": {}
      },
      "source": [
        "    def get_random_eraser(p=0.5, s_l=0.02, s_h=0.4, r_1=0.3, r_2=1/0.3, v_l=0, v_h=255, pixel_level=False):\n",
        "      def eraser(input_img):\n",
        "        img_h, img_w, img_c = input_img.shape\n",
        "        p_1 = np.random.rand()\n",
        "\n",
        "        if p_1 > p:\n",
        "            return input_img\n",
        "        while True:\n",
        "            s = np.random.uniform(s_l, s_h) * img_h * img_w\n",
        "            r = np.random.uniform(r_1, r_2)\n",
        "            w = int(np.sqrt(s / r))\n",
        "            h = int(np.sqrt(s * r))\n",
        "            left = np.random.randint(0, img_w)\n",
        "            top = np.random.randint(0, img_h)\n",
        "\n",
        "            if left + w <= img_w and top + h <= img_h:\n",
        "                break\n",
        "\n",
        "        if pixel_level:\n",
        "            c = np.random.uniform(v_l, v_h, (h, w, img_c))\n",
        "        else:\n",
        "            c = np.random.uniform(v_l, v_h)\n",
        "\n",
        "        input_img[top:top + h, left:left + w, :] = c\n",
        "\n",
        "        return input_img\n",
        "      return eraser"
      ],
      "execution_count": 0,
      "outputs": []
    },
    {
      "cell_type": "code",
      "metadata": {
        "id": "M1dXWeSc7Nv2",
        "colab_type": "code",
        "outputId": "7d7f5cac-07f8-4daa-bb3e-94afc5736f09",
        "colab": {
          "base_uri": "https://localhost:8080/",
          "height": 34
        }
      },
      "source": [
        "from sklearn.model_selection import train_test_split\n",
        "train_df, val_df = train_test_split(one_hot_df, test_size=0.15)\n",
        "train_df.shape, val_df.shape"
      ],
      "execution_count": 9,
      "outputs": [
        {
          "output_type": "execute_result",
          "data": {
            "text/plain": [
              "((11537, 28), (2036, 28))"
            ]
          },
          "metadata": {
            "tags": []
          },
          "execution_count": 9
        }
      ]
    },
    {
      "cell_type": "code",
      "metadata": {
        "id": "1dOiVw9i7Pme",
        "colab_type": "code",
        "colab": {}
      },
      "source": [
        "pixel_level=False\n",
        "# create train and validation data generators\n",
        "train_gen = PersonDataGenerator(train_df, batch_size=32, augmentation=ImageDataGenerator(horizontal_flip=True, vertical_flip=True, preprocessing_function=get_random_eraser(v_l=0, v_h=1, pixel_level=pixel_level)))\n",
        "valid_gen = PersonDataGenerator(val_df, batch_size=64, shuffle=False, augmentation=ImageDataGenerator(horizontal_flip=True, vertical_flip=True, preprocessing_function=get_random_eraser(v_l=0, v_h=1, pixel_level=pixel_level)))"
      ],
      "execution_count": 0,
      "outputs": []
    },
    {
      "cell_type": "code",
      "metadata": {
        "id": "HBiMa-C17UOG",
        "colab_type": "code",
        "outputId": "82601ddc-df63-47df-ef57-3ee224bb4719",
        "colab": {
          "base_uri": "https://localhost:8080/",
          "height": 153
        }
      },
      "source": [
        "images, targets = next(iter(train_gen))\n",
        "num_units = { k.split(\"_output\")[0]:v.shape[1] for k, v in targets.items()}\n",
        "num_units"
      ],
      "execution_count": 11,
      "outputs": [
        {
          "output_type": "execute_result",
          "data": {
            "text/plain": [
              "{'age': 5,\n",
              " 'bag': 3,\n",
              " 'emotion': 4,\n",
              " 'footwear': 3,\n",
              " 'gender': 2,\n",
              " 'image_quality': 3,\n",
              " 'pose': 3,\n",
              " 'weight': 4}"
            ]
          },
          "metadata": {
            "tags": []
          },
          "execution_count": 11
        }
      ]
    },
    {
      "cell_type": "code",
      "metadata": {
        "id": "hr-VntFR7YVl",
        "colab_type": "code",
        "outputId": "1eab55ab-2d4d-4395-f30c-478290ad4960",
        "colab": {
          "base_uri": "https://localhost:8080/",
          "height": 513
        }
      },
      "source": [
        "from keras.applications import ResNet50\n",
        "backbone = ResNet50(\n",
        "    weights=\"imagenet\", \n",
        "    include_top=False, \n",
        "    input_tensor=Input(shape=(224, 224, 3))\n",
        ")"
      ],
      "execution_count": 12,
      "outputs": [
        {
          "output_type": "stream",
          "text": [
            "WARNING:tensorflow:From /usr/local/lib/python3.6/dist-packages/keras/backend/tensorflow_backend.py:66: The name tf.get_default_graph is deprecated. Please use tf.compat.v1.get_default_graph instead.\n",
            "\n",
            "WARNING:tensorflow:From /usr/local/lib/python3.6/dist-packages/keras/backend/tensorflow_backend.py:541: The name tf.placeholder is deprecated. Please use tf.compat.v1.placeholder instead.\n",
            "\n",
            "WARNING:tensorflow:From /usr/local/lib/python3.6/dist-packages/keras/backend/tensorflow_backend.py:4479: The name tf.truncated_normal is deprecated. Please use tf.random.truncated_normal instead.\n",
            "\n",
            "WARNING:tensorflow:From /usr/local/lib/python3.6/dist-packages/keras/backend/tensorflow_backend.py:190: The name tf.get_default_session is deprecated. Please use tf.compat.v1.get_default_session instead.\n",
            "\n",
            "WARNING:tensorflow:From /usr/local/lib/python3.6/dist-packages/keras/backend/tensorflow_backend.py:197: The name tf.ConfigProto is deprecated. Please use tf.compat.v1.ConfigProto instead.\n",
            "\n",
            "WARNING:tensorflow:From /usr/local/lib/python3.6/dist-packages/keras/backend/tensorflow_backend.py:203: The name tf.Session is deprecated. Please use tf.compat.v1.Session instead.\n",
            "\n",
            "WARNING:tensorflow:From /usr/local/lib/python3.6/dist-packages/keras/backend/tensorflow_backend.py:207: The name tf.global_variables is deprecated. Please use tf.compat.v1.global_variables instead.\n",
            "\n",
            "WARNING:tensorflow:From /usr/local/lib/python3.6/dist-packages/keras/backend/tensorflow_backend.py:216: The name tf.is_variable_initialized is deprecated. Please use tf.compat.v1.is_variable_initialized instead.\n",
            "\n",
            "WARNING:tensorflow:From /usr/local/lib/python3.6/dist-packages/keras/backend/tensorflow_backend.py:223: The name tf.variables_initializer is deprecated. Please use tf.compat.v1.variables_initializer instead.\n",
            "\n",
            "WARNING:tensorflow:From /usr/local/lib/python3.6/dist-packages/keras/backend/tensorflow_backend.py:2041: The name tf.nn.fused_batch_norm is deprecated. Please use tf.compat.v1.nn.fused_batch_norm instead.\n",
            "\n",
            "WARNING:tensorflow:From /usr/local/lib/python3.6/dist-packages/keras/backend/tensorflow_backend.py:148: The name tf.placeholder_with_default is deprecated. Please use tf.compat.v1.placeholder_with_default instead.\n",
            "\n",
            "WARNING:tensorflow:From /usr/local/lib/python3.6/dist-packages/keras/backend/tensorflow_backend.py:4267: The name tf.nn.max_pool is deprecated. Please use tf.nn.max_pool2d instead.\n",
            "\n"
          ],
          "name": "stdout"
        },
        {
          "output_type": "stream",
          "text": [
            "/usr/local/lib/python3.6/dist-packages/keras_applications/resnet50.py:265: UserWarning: The output shape of `ResNet50(include_top=False)` has been changed since Keras 2.2.0.\n",
            "  warnings.warn('The output shape of `ResNet50(include_top=False)` '\n"
          ],
          "name": "stderr"
        },
        {
          "output_type": "stream",
          "text": [
            "Downloading data from https://github.com/fchollet/deep-learning-models/releases/download/v0.2/resnet50_weights_tf_dim_ordering_tf_kernels_notop.h5\n",
            "94658560/94653016 [==============================] - 8s 0us/step\n"
          ],
          "name": "stdout"
        }
      ]
    },
    {
      "cell_type": "code",
      "metadata": {
        "id": "Bwh4IUSX7f8m",
        "colab_type": "code",
        "outputId": "2879b601-dc22-4d32-8bcb-9d169785065d",
        "colab": {
          "base_uri": "https://localhost:8080/",
          "height": 71
        }
      },
      "source": [
        "neck = backbone.output\n",
        "neck = Flatten(name=\"flatten\")(neck)\n",
        "neck = Dense(512, activation=\"relu\")(neck)"
      ],
      "execution_count": 13,
      "outputs": [
        {
          "output_type": "stream",
          "text": [
            "WARNING:tensorflow:From /usr/local/lib/python3.6/dist-packages/keras/backend/tensorflow_backend.py:4432: The name tf.random_uniform is deprecated. Please use tf.random.uniform instead.\n",
            "\n"
          ],
          "name": "stdout"
        }
      ]
    },
    {
      "cell_type": "code",
      "metadata": {
        "id": "HajPlcqH7kcm",
        "colab_type": "code",
        "outputId": "7015e19e-a1de-46d6-a420-85f88093273d",
        "colab": {
          "base_uri": "https://localhost:8080/",
          "height": 88
        }
      },
      "source": [
        "\n",
        "\n",
        "def build_tower(in_layer):\n",
        "    neck = Dropout(0.2)(in_layer)\n",
        "    neck = Dense(128, activation=\"relu\")(neck)\n",
        "    neck = Dropout(0.3)(in_layer)\n",
        "    neck = Dense(128, activation=\"relu\")(neck)\n",
        "    return neck\n",
        "\n",
        "\n",
        "def build_head(name, in_layer):\n",
        "    return Dense(\n",
        "        num_units[name], activation=\"softmax\", name=f\"{name}_output\"\n",
        "    )(in_layer)\n",
        "\n",
        "# heads\n",
        "gender = build_head(\"gender\", build_tower(neck))\n",
        "image_quality = build_head(\"image_quality\", build_tower(neck))\n",
        "age = build_head(\"age\", build_tower(neck))\n",
        "weight = build_head(\"weight\", build_tower(neck))\n",
        "bag = build_head(\"bag\", build_tower(neck))\n",
        "footwear = build_head(\"footwear\", build_tower(neck))\n",
        "emotion = build_head(\"emotion\", build_tower(neck))\n",
        "pose = build_head(\"pose\", build_tower(neck))\n",
        "\n",
        "\n",
        "model = Model(\n",
        "    inputs=backbone.input, \n",
        "    outputs=[gender, image_quality, age, weight, bag, footwear, pose, emotion]\n",
        ")"
      ],
      "execution_count": 14,
      "outputs": [
        {
          "output_type": "stream",
          "text": [
            "WARNING:tensorflow:From /usr/local/lib/python3.6/dist-packages/keras/backend/tensorflow_backend.py:3733: calling dropout (from tensorflow.python.ops.nn_ops) with keep_prob is deprecated and will be removed in a future version.\n",
            "Instructions for updating:\n",
            "Please use `rate` instead of `keep_prob`. Rate should be set to `rate = 1 - keep_prob`.\n"
          ],
          "name": "stdout"
        }
      ]
    },
    {
      "cell_type": "code",
      "metadata": {
        "id": "M9VEdvqZ7oqh",
        "colab_type": "code",
        "colab": {}
      },
      "source": [
        "# freeze backbone\n",
        "for layer in backbone.layers:\n",
        "\tlayer.trainable = False"
      ],
      "execution_count": 0,
      "outputs": []
    },
    {
      "cell_type": "code",
      "metadata": {
        "id": "SlNZadH9SVbo",
        "colab_type": "code",
        "colab": {}
      },
      "source": [
        "from keras.callbacks import *\n",
        "\n",
        "class CyclicLR(Callback):\n",
        "    \"\"\"This callback implements a cyclical learning rate policy (CLR).\n",
        "    The method cycles the learning rate between two boundaries with\n",
        "    some constant frequency, as detailed in this paper (https://arxiv.org/abs/1506.01186).\n",
        "    The amplitude of the cycle can be scaled on a per-iteration or \n",
        "    per-cycle basis.\n",
        "    This class has three built-in policies, as put forth in the paper.\n",
        "    \"triangular\":\n",
        "        A basic triangular cycle w/ no amplitude scaling.\n",
        "    \"triangular2\":\n",
        "        A basic triangular cycle that scales initial amplitude by half each cycle.\n",
        "    \"exp_range\":\n",
        "        A cycle that scales initial amplitude by gamma**(cycle iterations) at each \n",
        "        cycle iteration.\n",
        "    For more detail, please see paper.\n",
        "    \n",
        "    # Example\n",
        "        ```python\n",
        "            clr = CyclicLR(base_lr=0.001, max_lr=0.006,\n",
        "                                step_size=2000., mode='triangular')\n",
        "            model.fit(X_train, Y_train, callbacks=[clr])\n",
        "        ```\n",
        "    \n",
        "    Class also supports custom scaling functions:\n",
        "        ```python\n",
        "            clr_fn = lambda x: 0.5*(1+np.sin(x*np.pi/2.))\n",
        "            clr = CyclicLR(base_lr=0.001, max_lr=0.006,\n",
        "                                step_size=2000., scale_fn=clr_fn,\n",
        "                                scale_mode='cycle')\n",
        "            model.fit(X_train, Y_train, callbacks=[clr])\n",
        "        ```    \n",
        "    # Arguments\n",
        "        base_lr: initial learning rate which is the\n",
        "            lower boundary in the cycle.\n",
        "        max_lr: upper boundary in the cycle. Functionally,\n",
        "            it defines the cycle amplitude (max_lr - base_lr).\n",
        "            The lr at any cycle is the sum of base_lr\n",
        "            and some scaling of the amplitude; therefore \n",
        "            max_lr may not actually be reached depending on\n",
        "            scaling function.\n",
        "        step_size: number of training iterations per\n",
        "            half cycle. Authors suggest setting step_size\n",
        "            2-8 x training iterations in epoch.\n",
        "        mode: one of {triangular, triangular2, exp_range}.\n",
        "            Default 'triangular'.\n",
        "            Values correspond to policies detailed above.\n",
        "            If scale_fn is not None, this argument is ignored.\n",
        "        gamma: constant in 'exp_range' scaling function:\n",
        "            gamma**(cycle iterations)\n",
        "        scale_fn: Custom scaling policy defined by a single\n",
        "            argument lambda function, where \n",
        "            0 <= scale_fn(x) <= 1 for all x >= 0.\n",
        "            mode paramater is ignored \n",
        "        scale_mode: {'cycle', 'iterations'}.\n",
        "            Defines whether scale_fn is evaluated on \n",
        "            cycle number or cycle iterations (training\n",
        "            iterations since start of cycle). Default is 'cycle'.\n",
        "    \"\"\"\n",
        "\n",
        "    def __init__(self, base_lr=0.001, max_lr=0.006, step_size=2000., mode='triangular',\n",
        "                 gamma=1., scale_fn=None, scale_mode='cycle'):\n",
        "        super(CyclicLR, self).__init__()\n",
        "\n",
        "        self.base_lr = base_lr\n",
        "        self.max_lr = max_lr\n",
        "        self.step_size = step_size\n",
        "        self.mode = mode\n",
        "        self.gamma = gamma\n",
        "        if scale_fn == None:\n",
        "            if self.mode == 'triangular':\n",
        "                self.scale_fn = lambda x: 1.\n",
        "                self.scale_mode = 'cycle'\n",
        "            elif self.mode == 'triangular2':\n",
        "                self.scale_fn = lambda x: 1/(2.**(x-1))\n",
        "                self.scale_mode = 'cycle'\n",
        "            elif self.mode == 'exp_range':\n",
        "                self.scale_fn = lambda x: gamma**(x)\n",
        "                self.scale_mode = 'iterations'\n",
        "        else:\n",
        "            self.scale_fn = scale_fn\n",
        "            self.scale_mode = scale_mode\n",
        "        self.clr_iterations = 0.\n",
        "        self.trn_iterations = 0.\n",
        "        self.history = {}\n",
        "\n",
        "        self._reset()\n",
        "\n",
        "    def _reset(self, new_base_lr=None, new_max_lr=None,\n",
        "               new_step_size=None):\n",
        "        \"\"\"Resets cycle iterations.\n",
        "        Optional boundary/step size adjustment.\n",
        "        \"\"\"\n",
        "        if new_base_lr != None:\n",
        "            self.base_lr = new_base_lr\n",
        "        if new_max_lr != None:\n",
        "            self.max_lr = new_max_lr\n",
        "        if new_step_size != None:\n",
        "            self.step_size = new_step_size\n",
        "        self.clr_iterations = 0.\n",
        "        \n",
        "    def clr(self):\n",
        "        cycle = np.floor(1+self.clr_iterations/(2*self.step_size))\n",
        "        x = np.abs(self.clr_iterations/self.step_size - 2*cycle + 1)\n",
        "        if self.scale_mode == 'cycle':\n",
        "            return self.base_lr + (self.max_lr-self.base_lr)*np.maximum(0, (1-x))*self.scale_fn(cycle)\n",
        "        else:\n",
        "            return self.base_lr + (self.max_lr-self.base_lr)*np.maximum(0, (1-x))*self.scale_fn(self.clr_iterations)\n",
        "        \n",
        "    def on_train_begin(self, logs={}):\n",
        "        logs = logs or {}\n",
        "\n",
        "        if self.clr_iterations == 0:\n",
        "            K.set_value(self.model.optimizer.lr, self.base_lr)\n",
        "        else:\n",
        "            K.set_value(self.model.optimizer.lr, self.clr())        \n",
        "            \n",
        "    def on_batch_end(self, epoch, logs=None):\n",
        "        \n",
        "        logs = logs or {}\n",
        "        self.trn_iterations += 1\n",
        "        self.clr_iterations += 1\n",
        "\n",
        "        self.history.setdefault('lr', []).append(K.get_value(self.model.optimizer.lr))\n",
        "        self.history.setdefault('iterations', []).append(self.trn_iterations)\n",
        "\n",
        "        for k, v in logs.items():\n",
        "            self.history.setdefault(k, []).append(v)\n",
        "        \n",
        "        K.set_value(self.model.optimizer.lr, self.clr())"
      ],
      "execution_count": 0,
      "outputs": []
    },
    {
      "cell_type": "code",
      "metadata": {
        "id": "fwVqkaQg94Pq",
        "colab_type": "code",
        "colab": {}
      },
      "source": [
        "# Prepare model model saving directory.\n",
        "model_type = \"ResNet50\"\n",
        "save_dir = os.path.join(os.getcwd(), 'saved_models')\n",
        "model_name = 'personattributes_%s_model.{epoch:03d}.h5' % model_type\n",
        "if not os.path.isdir(save_dir):\n",
        "    os.makedirs(save_dir)\n",
        "filepath = os.path.join(save_dir, model_name)"
      ],
      "execution_count": 0,
      "outputs": []
    },
    {
      "cell_type": "code",
      "metadata": {
        "id": "wbJ8CqpE-Orx",
        "colab_type": "code",
        "colab": {}
      },
      "source": [
        "# Prepare callbacks for model saving and for learning rate adjustment.\n",
        "checkpoint = ModelCheckpoint(filepath=filepath,\n",
        "                             monitor='val_acc',\n",
        "                             verbose=1,\n",
        "                             save_best_only=True)\n",
        "\n",
        "clr = CyclicLR(base_lr=0.001, max_lr=0.006,\n",
        "                        step_size=2000., mode='exp_range', gamma=0.99994)\n",
        "\n",
        "\n",
        "\n",
        "callbacks = [checkpoint, clr]"
      ],
      "execution_count": 0,
      "outputs": []
    },
    {
      "cell_type": "code",
      "metadata": {
        "id": "ntJKHa437p83",
        "colab_type": "code",
        "colab": {
          "base_uri": "https://localhost:8080/",
          "height": 105
        },
        "outputId": "be8981ea-18a5-4219-d696-79c472fd7bca"
      },
      "source": [
        "# losses = {\n",
        "# \t\"gender_output\": \"binary_crossentropy\",\n",
        "# \t\"image_quality_output\": \"categorical_crossentropy\",\n",
        "# \t\"age_output\": \"categorical_crossentropy\",\n",
        "# \t\"weight_output\": \"categorical_crossentropy\",\n",
        "\n",
        "# }\n",
        "# loss_weights = {\"gender_output\": 1.0, \"image_quality_output\": 1.0, \"age_output\": 1.0}\n",
        "\n",
        "\n",
        "opt = SGD(lr=0.1, momentum=0.9)\n",
        "model.compile(\n",
        "    optimizer=opt,\n",
        "    loss=\"categorical_crossentropy\", \n",
        "    # loss_weights=loss_weights, \n",
        "    metrics=[\"accuracy\"]\n",
        ")"
      ],
      "execution_count": 19,
      "outputs": [
        {
          "output_type": "stream",
          "text": [
            "WARNING:tensorflow:From /usr/local/lib/python3.6/dist-packages/keras/optimizers.py:793: The name tf.train.Optimizer is deprecated. Please use tf.compat.v1.train.Optimizer instead.\n",
            "\n",
            "WARNING:tensorflow:From /usr/local/lib/python3.6/dist-packages/keras/backend/tensorflow_backend.py:3576: The name tf.log is deprecated. Please use tf.math.log instead.\n",
            "\n"
          ],
          "name": "stdout"
        }
      ]
    },
    {
      "cell_type": "code",
      "metadata": {
        "id": "wTjwnU6bSd_a",
        "colab_type": "code",
        "outputId": "bffeda96-c84f-43cd-ec1d-6db03459ab24",
        "colab": {
          "base_uri": "https://localhost:8080/",
          "height": 1000
        }
      },
      "source": [
        "\n",
        "\n",
        "model.fit_generator(\n",
        "    generator=train_gen,\n",
        "    validation_data=valid_gen,\n",
        "    use_multiprocessing=True,\n",
        "    workers=6, \n",
        "    epochs=24,\n",
        "    verbose=1,\n",
        "    callbacks=callbacks\n",
        ")"
      ],
      "execution_count": 20,
      "outputs": [
        {
          "output_type": "stream",
          "text": [
            "WARNING:tensorflow:From /usr/local/lib/python3.6/dist-packages/tensorflow_core/python/ops/math_grad.py:1424: where (from tensorflow.python.ops.array_ops) is deprecated and will be removed in a future version.\n",
            "Instructions for updating:\n",
            "Use tf.where in 2.0, which has the same broadcast rule as np.where\n",
            "WARNING:tensorflow:From /usr/local/lib/python3.6/dist-packages/keras/backend/tensorflow_backend.py:1033: The name tf.assign_add is deprecated. Please use tf.compat.v1.assign_add instead.\n",
            "\n",
            "WARNING:tensorflow:From /usr/local/lib/python3.6/dist-packages/keras/backend/tensorflow_backend.py:1020: The name tf.assign is deprecated. Please use tf.compat.v1.assign instead.\n",
            "\n",
            "Epoch 1/24\n",
            "359/360 [============================>.] - ETA: 0s - loss: 8.3440 - gender_output_loss: 0.6305 - image_quality_output_loss: 1.0594 - age_output_loss: 1.5537 - weight_output_loss: 1.1137 - bag_output_loss: 0.9897 - footwear_output_loss: 0.9976 - pose_output_loss: 0.9384 - emotion_output_loss: 1.0611 - gender_output_acc: 0.6553 - image_quality_output_acc: 0.5198 - age_output_acc: 0.3613 - weight_output_acc: 0.6169 - bag_output_acc: 0.5465 - footwear_output_acc: 0.5416 - pose_output_acc: 0.6120 - emotion_output_acc: 0.6944\n",
            "\n",
            "360/360 [==============================] - 94s 262ms/step - loss: 8.3429 - gender_output_loss: 0.6302 - image_quality_output_loss: 1.0600 - age_output_loss: 1.5537 - weight_output_loss: 1.1136 - bag_output_loss: 0.9893 - footwear_output_loss: 0.9975 - pose_output_loss: 0.9382 - emotion_output_loss: 1.0605 - gender_output_acc: 0.6556 - image_quality_output_acc: 0.5197 - age_output_acc: 0.3612 - weight_output_acc: 0.6171 - bag_output_acc: 0.5467 - footwear_output_acc: 0.5418 - pose_output_acc: 0.6120 - emotion_output_acc: 0.6946 - val_loss: 7.7946 - val_gender_output_loss: 0.6361 - val_image_quality_output_loss: 0.9864 - val_age_output_loss: 1.4480 - val_weight_output_loss: 1.0512 - val_bag_output_loss: 0.9396 - val_footwear_output_loss: 0.9222 - val_pose_output_loss: 0.8252 - val_emotion_output_loss: 0.9859 - val_gender_output_acc: 0.6492 - val_image_quality_output_acc: 0.5428 - val_age_output_acc: 0.3992 - val_weight_output_acc: 0.6048 - val_bag_output_acc: 0.5640 - val_footwear_output_acc: 0.5917 - val_pose_output_acc: 0.6431 - val_emotion_output_acc: 0.7198\n",
            "Epoch 2/24\n"
          ],
          "name": "stdout"
        },
        {
          "output_type": "stream",
          "text": [
            "/usr/local/lib/python3.6/dist-packages/keras/callbacks.py:707: RuntimeWarning: Can save best model only with val_acc available, skipping.\n",
            "  'skipping.' % (self.monitor), RuntimeWarning)\n"
          ],
          "name": "stderr"
        },
        {
          "output_type": "stream",
          "text": [
            "360/360 [==============================] - 84s 233ms/step - loss: 7.7720 - gender_output_loss: 0.6397 - image_quality_output_loss: 0.9837 - age_output_loss: 1.4575 - weight_output_loss: 1.0079 - bag_output_loss: 0.9219 - footwear_output_loss: 0.9630 - pose_output_loss: 0.8721 - emotion_output_loss: 0.9262 - gender_output_acc: 0.6275 - image_quality_output_acc: 0.5550 - age_output_acc: 0.3902 - weight_output_acc: 0.6318 - bag_output_acc: 0.5643 - footwear_output_acc: 0.5418 - pose_output_acc: 0.6386 - emotion_output_acc: 0.7087 - val_loss: 7.6473 - val_gender_output_loss: 0.6163 - val_image_quality_output_loss: 0.9891 - val_age_output_loss: 1.4189 - val_weight_output_loss: 0.9923 - val_bag_output_loss: 0.9177 - val_footwear_output_loss: 0.9333 - val_pose_output_loss: 0.8734 - val_emotion_output_loss: 0.9063 - val_gender_output_acc: 0.6280 - val_image_quality_output_acc: 0.5413 - val_age_output_acc: 0.4022 - val_weight_output_acc: 0.6371 - val_bag_output_acc: 0.5635 - val_footwear_output_acc: 0.5691 - val_pose_output_acc: 0.6280 - val_emotion_output_acc: 0.7193\n",
            "Epoch 3/24\n",
            "360/360 [==============================] - 84s 233ms/step - loss: 7.7222 - gender_output_loss: 0.6328 - image_quality_output_loss: 0.9748 - age_output_loss: 1.4438 - weight_output_loss: 0.9932 - bag_output_loss: 0.9137 - footwear_output_loss: 0.9873 - pose_output_loss: 0.8640 - emotion_output_loss: 0.9126 - gender_output_acc: 0.6221 - image_quality_output_acc: 0.5608 - age_output_acc: 0.3935 - weight_output_acc: 0.6326 - bag_output_acc: 0.5695 - footwear_output_acc: 0.5203 - pose_output_acc: 0.6489 - emotion_output_acc: 0.7080 - val_loss: 7.7010 - val_gender_output_loss: 0.6503 - val_image_quality_output_loss: 0.9876 - val_age_output_loss: 1.4117 - val_weight_output_loss: 0.9874 - val_bag_output_loss: 0.9084 - val_footwear_output_loss: 1.0052 - val_pose_output_loss: 0.8567 - val_emotion_output_loss: 0.8938 - val_gender_output_acc: 0.5675 - val_image_quality_output_acc: 0.5494 - val_age_output_acc: 0.4042 - val_weight_output_acc: 0.6371 - val_bag_output_acc: 0.5640 - val_footwear_output_acc: 0.4929 - val_pose_output_acc: 0.6532 - val_emotion_output_acc: 0.7198\n",
            "Epoch 4/24\n",
            "360/360 [==============================] - 84s 234ms/step - loss: 7.7587 - gender_output_loss: 0.6474 - image_quality_output_loss: 0.9765 - age_output_loss: 1.4406 - weight_output_loss: 0.9969 - bag_output_loss: 0.9157 - footwear_output_loss: 0.9873 - pose_output_loss: 0.8783 - emotion_output_loss: 0.9160 - gender_output_acc: 0.6033 - image_quality_output_acc: 0.5597 - age_output_acc: 0.3946 - weight_output_acc: 0.6336 - bag_output_acc: 0.5650 - footwear_output_acc: 0.5236 - pose_output_acc: 0.6452 - emotion_output_acc: 0.7082 - val_loss: 7.7992 - val_gender_output_loss: 0.6777 - val_image_quality_output_loss: 0.9865 - val_age_output_loss: 1.4201 - val_weight_output_loss: 0.9957 - val_bag_output_loss: 0.9200 - val_footwear_output_loss: 0.9552 - val_pose_output_loss: 0.9296 - val_emotion_output_loss: 0.9143 - val_gender_output_acc: 0.5590 - val_image_quality_output_acc: 0.5343 - val_age_output_acc: 0.3921 - val_weight_output_acc: 0.6371 - val_bag_output_acc: 0.5640 - val_footwear_output_acc: 0.5731 - val_pose_output_acc: 0.6109 - val_emotion_output_acc: 0.7162\n",
            "Epoch 5/24\n",
            "360/360 [==============================] - 84s 234ms/step - loss: 7.7623 - gender_output_loss: 0.6628 - image_quality_output_loss: 0.9820 - age_output_loss: 1.4360 - weight_output_loss: 0.9892 - bag_output_loss: 0.9166 - footwear_output_loss: 0.9966 - pose_output_loss: 0.8725 - emotion_output_loss: 0.9065 - gender_output_acc: 0.5938 - image_quality_output_acc: 0.5595 - age_output_acc: 0.3990 - weight_output_acc: 0.6342 - bag_output_acc: 0.5657 - footwear_output_acc: 0.5089 - pose_output_acc: 0.6477 - emotion_output_acc: 0.7089 - val_loss: 7.7604 - val_gender_output_loss: 0.6693 - val_image_quality_output_loss: 0.9940 - val_age_output_loss: 1.4153 - val_weight_output_loss: 0.9879 - val_bag_output_loss: 0.9136 - val_footwear_output_loss: 0.9848 - val_pose_output_loss: 0.9017 - val_emotion_output_loss: 0.8939 - val_gender_output_acc: 0.5680 - val_image_quality_output_acc: 0.5494 - val_age_output_acc: 0.4042 - val_weight_output_acc: 0.6326 - val_bag_output_acc: 0.5640 - val_footwear_output_acc: 0.5181 - val_pose_output_acc: 0.6250 - val_emotion_output_acc: 0.7157\n",
            "Epoch 6/24\n",
            "360/360 [==============================] - 84s 233ms/step - loss: 7.7427 - gender_output_loss: 0.6529 - image_quality_output_loss: 0.9726 - age_output_loss: 1.4382 - weight_output_loss: 0.9923 - bag_output_loss: 0.9138 - footwear_output_loss: 1.0046 - pose_output_loss: 0.8610 - emotion_output_loss: 0.9073 - gender_output_acc: 0.5937 - image_quality_output_acc: 0.5630 - age_output_acc: 0.3983 - weight_output_acc: 0.6341 - bag_output_acc: 0.5658 - footwear_output_acc: 0.4955 - pose_output_acc: 0.6536 - emotion_output_acc: 0.7086 - val_loss: 7.7167 - val_gender_output_loss: 0.6487 - val_image_quality_output_loss: 0.9896 - val_age_output_loss: 1.4133 - val_weight_output_loss: 0.9882 - val_bag_output_loss: 0.9099 - val_footwear_output_loss: 0.9822 - val_pose_output_loss: 0.8894 - val_emotion_output_loss: 0.8955 - val_gender_output_acc: 0.5801 - val_image_quality_output_acc: 0.5494 - val_age_output_acc: 0.4037 - val_weight_output_acc: 0.6371 - val_bag_output_acc: 0.5650 - val_footwear_output_acc: 0.5539 - val_pose_output_acc: 0.6310 - val_emotion_output_acc: 0.7198\n",
            "Epoch 7/24\n",
            "360/360 [==============================] - 84s 233ms/step - loss: 7.6328 - gender_output_loss: 0.6265 - image_quality_output_loss: 0.9680 - age_output_loss: 1.4320 - weight_output_loss: 0.9941 - bag_output_loss: 0.9041 - footwear_output_loss: 0.9703 - pose_output_loss: 0.8376 - emotion_output_loss: 0.9001 - gender_output_acc: 0.6031 - image_quality_output_acc: 0.5659 - age_output_acc: 0.3977 - weight_output_acc: 0.6345 - bag_output_acc: 0.5708 - footwear_output_acc: 0.5369 - pose_output_acc: 0.6648 - emotion_output_acc: 0.7090 - val_loss: 7.6618 - val_gender_output_loss: 0.6244 - val_image_quality_output_loss: 0.9871 - val_age_output_loss: 1.4093 - val_weight_output_loss: 0.9837 - val_bag_output_loss: 0.9127 - val_footwear_output_loss: 0.9447 - val_pose_output_loss: 0.9168 - val_emotion_output_loss: 0.8830 - val_gender_output_acc: 0.6250 - val_image_quality_output_acc: 0.5464 - val_age_output_acc: 0.4098 - val_weight_output_acc: 0.6366 - val_bag_output_acc: 0.5650 - val_footwear_output_acc: 0.5771 - val_pose_output_acc: 0.6200 - val_emotion_output_acc: 0.7188\n",
            "Epoch 8/24\n",
            "360/360 [==============================] - 84s 234ms/step - loss: 7.5184 - gender_output_loss: 0.6228 - image_quality_output_loss: 0.9546 - age_output_loss: 1.4214 - weight_output_loss: 0.9826 - bag_output_loss: 0.8954 - footwear_output_loss: 0.9331 - pose_output_loss: 0.8129 - emotion_output_loss: 0.8954 - gender_output_acc: 0.6327 - image_quality_output_acc: 0.5697 - age_output_acc: 0.4006 - weight_output_acc: 0.6354 - bag_output_acc: 0.5751 - footwear_output_acc: 0.5696 - pose_output_acc: 0.6739 - emotion_output_acc: 0.7094 - val_loss: 7.6279 - val_gender_output_loss: 0.6388 - val_image_quality_output_loss: 0.9803 - val_age_output_loss: 1.4153 - val_weight_output_loss: 0.9841 - val_bag_output_loss: 0.9149 - val_footwear_output_loss: 0.9112 - val_pose_output_loss: 0.9052 - val_emotion_output_loss: 0.8781 - val_gender_output_acc: 0.6028 - val_image_quality_output_acc: 0.5504 - val_age_output_acc: 0.4042 - val_weight_output_acc: 0.6371 - val_bag_output_acc: 0.5650 - val_footwear_output_acc: 0.5892 - val_pose_output_acc: 0.6235 - val_emotion_output_acc: 0.7198\n",
            "Epoch 9/24\n",
            "360/360 [==============================] - 84s 234ms/step - loss: 7.3396 - gender_output_loss: 0.5876 - image_quality_output_loss: 0.9399 - age_output_loss: 1.4078 - weight_output_loss: 0.9741 - bag_output_loss: 0.8865 - footwear_output_loss: 0.8817 - pose_output_loss: 0.7845 - emotion_output_loss: 0.8775 - gender_output_acc: 0.6740 - image_quality_output_acc: 0.5759 - age_output_acc: 0.4017 - weight_output_acc: 0.6372 - bag_output_acc: 0.5846 - footwear_output_acc: 0.5966 - pose_output_acc: 0.6826 - emotion_output_acc: 0.7128 - val_loss: 7.4714 - val_gender_output_loss: 0.5811 - val_image_quality_output_loss: 0.9728 - val_age_output_loss: 1.4020 - val_weight_output_loss: 0.9809 - val_bag_output_loss: 0.9038 - val_footwear_output_loss: 0.8578 - val_pose_output_loss: 0.8946 - val_emotion_output_loss: 0.8784 - val_gender_output_acc: 0.6840 - val_image_quality_output_acc: 0.5529 - val_age_output_acc: 0.4007 - val_weight_output_acc: 0.6371 - val_bag_output_acc: 0.5736 - val_footwear_output_acc: 0.6391 - val_pose_output_acc: 0.6250 - val_emotion_output_acc: 0.7203\n",
            "Epoch 10/24\n",
            "360/360 [==============================] - 84s 234ms/step - loss: 7.0964 - gender_output_loss: 0.5121 - image_quality_output_loss: 0.9240 - age_output_loss: 1.3957 - weight_output_loss: 0.9729 - bag_output_loss: 0.8663 - footwear_output_loss: 0.8248 - pose_output_loss: 0.7374 - emotion_output_loss: 0.8634 - gender_output_acc: 0.7370 - image_quality_output_acc: 0.5760 - age_output_acc: 0.4023 - weight_output_acc: 0.6365 - bag_output_acc: 0.6036 - footwear_output_acc: 0.6334 - pose_output_acc: 0.6965 - emotion_output_acc: 0.7134 - val_loss: 7.4254 - val_gender_output_loss: 0.5381 - val_image_quality_output_loss: 0.9641 - val_age_output_loss: 1.3889 - val_weight_output_loss: 0.9775 - val_bag_output_loss: 0.8945 - val_footwear_output_loss: 0.8628 - val_pose_output_loss: 0.9145 - val_emotion_output_loss: 0.8853 - val_gender_output_acc: 0.7061 - val_image_quality_output_acc: 0.5519 - val_age_output_acc: 0.4073 - val_weight_output_acc: 0.6371 - val_bag_output_acc: 0.5746 - val_footwear_output_acc: 0.6406 - val_pose_output_acc: 0.6159 - val_emotion_output_acc: 0.7198\n",
            "Epoch 11/24\n",
            "360/360 [==============================] - 84s 232ms/step - loss: 6.8540 - gender_output_loss: 0.4478 - image_quality_output_loss: 0.9067 - age_output_loss: 1.3704 - weight_output_loss: 0.9597 - bag_output_loss: 0.8499 - footwear_output_loss: 0.7855 - pose_output_loss: 0.6792 - emotion_output_loss: 0.8548 - gender_output_acc: 0.7791 - image_quality_output_acc: 0.5802 - age_output_acc: 0.4108 - weight_output_acc: 0.6389 - bag_output_acc: 0.6160 - footwear_output_acc: 0.6461 - pose_output_acc: 0.7158 - emotion_output_acc: 0.7148 - val_loss: 7.3543 - val_gender_output_loss: 0.5410 - val_image_quality_output_loss: 0.9678 - val_age_output_loss: 1.3887 - val_weight_output_loss: 0.9813 - val_bag_output_loss: 0.9086 - val_footwear_output_loss: 0.8400 - val_pose_output_loss: 0.8470 - val_emotion_output_loss: 0.8798 - val_gender_output_acc: 0.7142 - val_image_quality_output_acc: 0.5554 - val_age_output_acc: 0.4153 - val_weight_output_acc: 0.6381 - val_bag_output_acc: 0.5796 - val_footwear_output_acc: 0.6568 - val_pose_output_acc: 0.6230 - val_emotion_output_acc: 0.7198\n",
            "Epoch 12/24\n",
            "360/360 [==============================] - 84s 234ms/step - loss: 6.6453 - gender_output_loss: 0.3988 - image_quality_output_loss: 0.8853 - age_output_loss: 1.3592 - weight_output_loss: 0.9541 - bag_output_loss: 0.8337 - footwear_output_loss: 0.7419 - pose_output_loss: 0.6282 - emotion_output_loss: 0.8439 - gender_output_acc: 0.8107 - image_quality_output_acc: 0.5928 - age_output_acc: 0.4114 - weight_output_acc: 0.6415 - bag_output_acc: 0.6205 - footwear_output_acc: 0.6678 - pose_output_acc: 0.7405 - emotion_output_acc: 0.7168 - val_loss: 7.3828 - val_gender_output_loss: 0.5856 - val_image_quality_output_loss: 0.9703 - val_age_output_loss: 1.4005 - val_weight_output_loss: 0.9835 - val_bag_output_loss: 0.9065 - val_footwear_output_loss: 0.8552 - val_pose_output_loss: 0.8086 - val_emotion_output_loss: 0.8725 - val_gender_output_acc: 0.7001 - val_image_quality_output_acc: 0.5504 - val_age_output_acc: 0.3972 - val_weight_output_acc: 0.6280 - val_bag_output_acc: 0.5701 - val_footwear_output_acc: 0.6477 - val_pose_output_acc: 0.6421 - val_emotion_output_acc: 0.7198\n",
            "Epoch 13/24\n",
            "360/360 [==============================] - 84s 234ms/step - loss: 6.5745 - gender_output_loss: 0.3883 - image_quality_output_loss: 0.8759 - age_output_loss: 1.3540 - weight_output_loss: 0.9516 - bag_output_loss: 0.8271 - footwear_output_loss: 0.7418 - pose_output_loss: 0.5938 - emotion_output_loss: 0.8419 - gender_output_acc: 0.8133 - image_quality_output_acc: 0.5956 - age_output_acc: 0.4124 - weight_output_acc: 0.6391 - bag_output_acc: 0.6281 - footwear_output_acc: 0.6690 - pose_output_acc: 0.7591 - emotion_output_acc: 0.7172 - val_loss: 7.3876 - val_gender_output_loss: 0.5336 - val_image_quality_output_loss: 0.9648 - val_age_output_loss: 1.3877 - val_weight_output_loss: 0.9801 - val_bag_output_loss: 0.8994 - val_footwear_output_loss: 0.8277 - val_pose_output_loss: 0.9141 - val_emotion_output_loss: 0.8802 - val_gender_output_acc: 0.7072 - val_image_quality_output_acc: 0.5519 - val_age_output_acc: 0.4128 - val_weight_output_acc: 0.6371 - val_bag_output_acc: 0.5701 - val_footwear_output_acc: 0.6593 - val_pose_output_acc: 0.6290 - val_emotion_output_acc: 0.7198\n",
            "Epoch 14/24\n",
            "360/360 [==============================] - 84s 234ms/step - loss: 6.5192 - gender_output_loss: 0.3752 - image_quality_output_loss: 0.8725 - age_output_loss: 1.3551 - weight_output_loss: 0.9544 - bag_output_loss: 0.8265 - footwear_output_loss: 0.7213 - pose_output_loss: 0.5746 - emotion_output_loss: 0.8396 - gender_output_acc: 0.8222 - image_quality_output_acc: 0.5963 - age_output_acc: 0.4104 - weight_output_acc: 0.6394 - bag_output_acc: 0.6324 - footwear_output_acc: 0.6827 - pose_output_acc: 0.7689 - emotion_output_acc: 0.7166 - val_loss: 7.2449 - val_gender_output_loss: 0.4917 - val_image_quality_output_loss: 0.9622 - val_age_output_loss: 1.3848 - val_weight_output_loss: 0.9737 - val_bag_output_loss: 0.9028 - val_footwear_output_loss: 0.8647 - val_pose_output_loss: 0.7828 - val_emotion_output_loss: 0.8823 - val_gender_output_acc: 0.7490 - val_image_quality_output_acc: 0.5575 - val_age_output_acc: 0.4153 - val_weight_output_acc: 0.6371 - val_bag_output_acc: 0.5847 - val_footwear_output_acc: 0.6341 - val_pose_output_acc: 0.6699 - val_emotion_output_acc: 0.7198\n",
            "Epoch 15/24\n",
            "360/360 [==============================] - 84s 233ms/step - loss: 6.4689 - gender_output_loss: 0.3691 - image_quality_output_loss: 0.8630 - age_output_loss: 1.3508 - weight_output_loss: 0.9480 - bag_output_loss: 0.8261 - footwear_output_loss: 0.7147 - pose_output_loss: 0.5536 - emotion_output_loss: 0.8436 - gender_output_acc: 0.8299 - image_quality_output_acc: 0.6022 - age_output_acc: 0.4144 - weight_output_acc: 0.6408 - bag_output_acc: 0.6304 - footwear_output_acc: 0.6850 - pose_output_acc: 0.7809 - emotion_output_acc: 0.7149 - val_loss: 7.3964 - val_gender_output_loss: 0.5164 - val_image_quality_output_loss: 0.9653 - val_age_output_loss: 1.3881 - val_weight_output_loss: 0.9776 - val_bag_output_loss: 0.9024 - val_footwear_output_loss: 0.8295 - val_pose_output_loss: 0.9355 - val_emotion_output_loss: 0.8815 - val_gender_output_acc: 0.7142 - val_image_quality_output_acc: 0.5529 - val_age_output_acc: 0.4062 - val_weight_output_acc: 0.6366 - val_bag_output_acc: 0.5711 - val_footwear_output_acc: 0.6527 - val_pose_output_acc: 0.6326 - val_emotion_output_acc: 0.7198\n",
            "Epoch 16/24\n",
            "360/360 [==============================] - 84s 234ms/step - loss: 6.3997 - gender_output_loss: 0.3525 - image_quality_output_loss: 0.8581 - age_output_loss: 1.3351 - weight_output_loss: 0.9485 - bag_output_loss: 0.8171 - footwear_output_loss: 0.7171 - pose_output_loss: 0.5355 - emotion_output_loss: 0.8358 - gender_output_acc: 0.8378 - image_quality_output_acc: 0.6019 - age_output_acc: 0.4204 - weight_output_acc: 0.6444 - bag_output_acc: 0.6369 - footwear_output_acc: 0.6858 - pose_output_acc: 0.7849 - emotion_output_acc: 0.7159 - val_loss: 7.2911 - val_gender_output_loss: 0.5426 - val_image_quality_output_loss: 0.9630 - val_age_output_loss: 1.3807 - val_weight_output_loss: 0.9855 - val_bag_output_loss: 0.9090 - val_footwear_output_loss: 0.8642 - val_pose_output_loss: 0.7770 - val_emotion_output_loss: 0.8692 - val_gender_output_acc: 0.7248 - val_image_quality_output_acc: 0.5554 - val_age_output_acc: 0.4047 - val_weight_output_acc: 0.6361 - val_bag_output_acc: 0.5852 - val_footwear_output_acc: 0.6406 - val_pose_output_acc: 0.6966 - val_emotion_output_acc: 0.7198\n",
            "Epoch 17/24\n",
            "360/360 [==============================] - 84s 234ms/step - loss: 6.3066 - gender_output_loss: 0.3334 - image_quality_output_loss: 0.8540 - age_output_loss: 1.3333 - weight_output_loss: 0.9380 - bag_output_loss: 0.8058 - footwear_output_loss: 0.6998 - pose_output_loss: 0.5066 - emotion_output_loss: 0.8357 - gender_output_acc: 0.8487 - image_quality_output_acc: 0.6085 - age_output_acc: 0.4255 - weight_output_acc: 0.6438 - bag_output_acc: 0.6440 - footwear_output_acc: 0.6914 - pose_output_acc: 0.7969 - emotion_output_acc: 0.7174 - val_loss: 7.3079 - val_gender_output_loss: 0.5228 - val_image_quality_output_loss: 0.9650 - val_age_output_loss: 1.3866 - val_weight_output_loss: 0.9873 - val_bag_output_loss: 0.8998 - val_footwear_output_loss: 0.9208 - val_pose_output_loss: 0.7532 - val_emotion_output_loss: 0.8724 - val_gender_output_acc: 0.7137 - val_image_quality_output_acc: 0.5469 - val_age_output_acc: 0.4022 - val_weight_output_acc: 0.6376 - val_bag_output_acc: 0.5711 - val_footwear_output_acc: 0.6542 - val_pose_output_acc: 0.6890 - val_emotion_output_acc: 0.7198\n",
            "Epoch 18/24\n",
            "360/360 [==============================] - 84s 232ms/step - loss: 6.1325 - gender_output_loss: 0.3147 - image_quality_output_loss: 0.8259 - age_output_loss: 1.3079 - weight_output_loss: 0.9268 - bag_output_loss: 0.7904 - footwear_output_loss: 0.6782 - pose_output_loss: 0.4642 - emotion_output_loss: 0.8243 - gender_output_acc: 0.8563 - image_quality_output_acc: 0.6221 - age_output_acc: 0.4308 - weight_output_acc: 0.6464 - bag_output_acc: 0.6510 - footwear_output_acc: 0.7063 - pose_output_acc: 0.8197 - emotion_output_acc: 0.7193 - val_loss: 7.4457 - val_gender_output_loss: 0.6283 - val_image_quality_output_loss: 0.9662 - val_age_output_loss: 1.3782 - val_weight_output_loss: 0.9808 - val_bag_output_loss: 0.9138 - val_footwear_output_loss: 0.8928 - val_pose_output_loss: 0.8093 - val_emotion_output_loss: 0.8761 - val_gender_output_acc: 0.6845 - val_image_quality_output_acc: 0.5489 - val_age_output_acc: 0.4093 - val_weight_output_acc: 0.6381 - val_bag_output_acc: 0.5776 - val_footwear_output_acc: 0.6401 - val_pose_output_acc: 0.6809 - val_emotion_output_acc: 0.7198\n",
            "Epoch 19/24\n",
            "360/360 [==============================] - 84s 233ms/step - loss: 5.9064 - gender_output_loss: 0.2800 - image_quality_output_loss: 0.7965 - age_output_loss: 1.2770 - weight_output_loss: 0.9103 - bag_output_loss: 0.7659 - footwear_output_loss: 0.6493 - pose_output_loss: 0.4114 - emotion_output_loss: 0.8161 - gender_output_acc: 0.8755 - image_quality_output_acc: 0.6367 - age_output_acc: 0.4514 - weight_output_acc: 0.6532 - bag_output_acc: 0.6571 - footwear_output_acc: 0.7164 - pose_output_acc: 0.8412 - emotion_output_acc: 0.7203 - val_loss: 7.3301 - val_gender_output_loss: 0.5216 - val_image_quality_output_loss: 0.9766 - val_age_output_loss: 1.3731 - val_weight_output_loss: 0.9845 - val_bag_output_loss: 0.8975 - val_footwear_output_loss: 0.8815 - val_pose_output_loss: 0.8101 - val_emotion_output_loss: 0.8852 - val_gender_output_acc: 0.7384 - val_image_quality_output_acc: 0.5554 - val_age_output_acc: 0.4078 - val_weight_output_acc: 0.6361 - val_bag_output_acc: 0.5827 - val_footwear_output_acc: 0.6492 - val_pose_output_acc: 0.6900 - val_emotion_output_acc: 0.7198\n",
            "Epoch 20/24\n",
            "360/360 [==============================] - 84s 233ms/step - loss: 5.6894 - gender_output_loss: 0.2528 - image_quality_output_loss: 0.7587 - age_output_loss: 1.2484 - weight_output_loss: 0.8897 - bag_output_loss: 0.7478 - footwear_output_loss: 0.6187 - pose_output_loss: 0.3699 - emotion_output_loss: 0.8033 - gender_output_acc: 0.8870 - image_quality_output_acc: 0.6537 - age_output_acc: 0.4565 - weight_output_acc: 0.6618 - bag_output_acc: 0.6727 - footwear_output_acc: 0.7283 - pose_output_acc: 0.8565 - emotion_output_acc: 0.7201 - val_loss: 7.6772 - val_gender_output_loss: 0.7146 - val_image_quality_output_loss: 0.9771 - val_age_output_loss: 1.4059 - val_weight_output_loss: 0.9966 - val_bag_output_loss: 0.9115 - val_footwear_output_loss: 0.9033 - val_pose_output_loss: 0.8852 - val_emotion_output_loss: 0.8830 - val_gender_output_acc: 0.7344 - val_image_quality_output_acc: 0.5549 - val_age_output_acc: 0.3765 - val_weight_output_acc: 0.6290 - val_bag_output_acc: 0.5892 - val_footwear_output_acc: 0.6346 - val_pose_output_acc: 0.6694 - val_emotion_output_acc: 0.7188\n",
            "Epoch 21/24\n",
            "360/360 [==============================] - 84s 233ms/step - loss: 5.4644 - gender_output_loss: 0.2251 - image_quality_output_loss: 0.7219 - age_output_loss: 1.2145 - weight_output_loss: 0.8709 - bag_output_loss: 0.7127 - footwear_output_loss: 0.5944 - pose_output_loss: 0.3374 - emotion_output_loss: 0.7875 - gender_output_acc: 0.9012 - image_quality_output_acc: 0.6767 - age_output_acc: 0.4718 - weight_output_acc: 0.6669 - bag_output_acc: 0.6944 - footwear_output_acc: 0.7409 - pose_output_acc: 0.8698 - emotion_output_acc: 0.7243 - val_loss: 7.6155 - val_gender_output_loss: 0.7700 - val_image_quality_output_loss: 0.9778 - val_age_output_loss: 1.3737 - val_weight_output_loss: 0.9845 - val_bag_output_loss: 0.9076 - val_footwear_output_loss: 0.8955 - val_pose_output_loss: 0.8367 - val_emotion_output_loss: 0.8697 - val_gender_output_acc: 0.7228 - val_image_quality_output_acc: 0.5570 - val_age_output_acc: 0.4158 - val_weight_output_acc: 0.6205 - val_bag_output_acc: 0.5847 - val_footwear_output_acc: 0.6613 - val_pose_output_acc: 0.7026 - val_emotion_output_acc: 0.7198\n",
            "Epoch 22/24\n",
            "360/360 [==============================] - 84s 234ms/step - loss: 5.2469 - gender_output_loss: 0.2119 - image_quality_output_loss: 0.7001 - age_output_loss: 1.1751 - weight_output_loss: 0.8375 - bag_output_loss: 0.6872 - footwear_output_loss: 0.5669 - pose_output_loss: 0.3022 - emotion_output_loss: 0.7660 - gender_output_acc: 0.9064 - image_quality_output_acc: 0.6884 - age_output_acc: 0.4865 - weight_output_acc: 0.6768 - bag_output_acc: 0.6986 - footwear_output_acc: 0.7540 - pose_output_acc: 0.8820 - emotion_output_acc: 0.7293 - val_loss: 7.6352 - val_gender_output_loss: 0.6899 - val_image_quality_output_loss: 0.9853 - val_age_output_loss: 1.3960 - val_weight_output_loss: 1.0059 - val_bag_output_loss: 0.9433 - val_footwear_output_loss: 0.9603 - val_pose_output_loss: 0.7809 - val_emotion_output_loss: 0.8736 - val_gender_output_acc: 0.6910 - val_image_quality_output_acc: 0.5544 - val_age_output_acc: 0.3639 - val_weight_output_acc: 0.6371 - val_bag_output_acc: 0.5806 - val_footwear_output_acc: 0.6618 - val_pose_output_acc: 0.7198 - val_emotion_output_acc: 0.7198\n",
            "Epoch 23/24\n",
            "360/360 [==============================] - 84s 234ms/step - loss: 5.0841 - gender_output_loss: 0.2012 - image_quality_output_loss: 0.6752 - age_output_loss: 1.1469 - weight_output_loss: 0.8116 - bag_output_loss: 0.6610 - footwear_output_loss: 0.5534 - pose_output_loss: 0.2804 - emotion_output_loss: 0.7543 - gender_output_acc: 0.9119 - image_quality_output_acc: 0.7051 - age_output_acc: 0.4998 - weight_output_acc: 0.6806 - bag_output_acc: 0.7128 - footwear_output_acc: 0.7586 - pose_output_acc: 0.8923 - emotion_output_acc: 0.7306 - val_loss: 7.6208 - val_gender_output_loss: 0.6397 - val_image_quality_output_loss: 1.0054 - val_age_output_loss: 1.3848 - val_weight_output_loss: 1.0120 - val_bag_output_loss: 0.9148 - val_footwear_output_loss: 0.9788 - val_pose_output_loss: 0.8134 - val_emotion_output_loss: 0.8719 - val_gender_output_acc: 0.7193 - val_image_quality_output_acc: 0.5529 - val_age_output_acc: 0.3977 - val_weight_output_acc: 0.6371 - val_bag_output_acc: 0.5781 - val_footwear_output_acc: 0.6497 - val_pose_output_acc: 0.7177 - val_emotion_output_acc: 0.7213\n",
            "Epoch 24/24\n",
            "360/360 [==============================] - 84s 233ms/step - loss: 5.0406 - gender_output_loss: 0.2012 - image_quality_output_loss: 0.6637 - age_output_loss: 1.1314 - weight_output_loss: 0.8120 - bag_output_loss: 0.6532 - footwear_output_loss: 0.5484 - pose_output_loss: 0.2772 - emotion_output_loss: 0.7535 - gender_output_acc: 0.9108 - image_quality_output_acc: 0.7047 - age_output_acc: 0.5067 - weight_output_acc: 0.6863 - bag_output_acc: 0.7158 - footwear_output_acc: 0.7594 - pose_output_acc: 0.8957 - emotion_output_acc: 0.7307 - val_loss: 7.5274 - val_gender_output_loss: 0.5393 - val_image_quality_output_loss: 0.9936 - val_age_output_loss: 1.3996 - val_weight_output_loss: 1.0167 - val_bag_output_loss: 0.9085 - val_footwear_output_loss: 0.9564 - val_pose_output_loss: 0.8365 - val_emotion_output_loss: 0.8769 - val_gender_output_acc: 0.7283 - val_image_quality_output_acc: 0.5559 - val_age_output_acc: 0.3997 - val_weight_output_acc: 0.6386 - val_bag_output_acc: 0.5912 - val_footwear_output_acc: 0.6588 - val_pose_output_acc: 0.7117 - val_emotion_output_acc: 0.7208\n"
          ],
          "name": "stdout"
        },
        {
          "output_type": "execute_result",
          "data": {
            "text/plain": [
              "<keras.callbacks.History at 0x7fc8f6f1e5f8>"
            ]
          },
          "metadata": {
            "tags": []
          },
          "execution_count": 20
        }
      ]
    },
    {
      "cell_type": "code",
      "metadata": {
        "id": "a3xl9xDFdykE",
        "colab_type": "code",
        "colab": {}
      },
      "source": [
        "history=model.history"
      ],
      "execution_count": 0,
      "outputs": []
    },
    {
      "cell_type": "code",
      "metadata": {
        "id": "Vtz03z4od3h4",
        "colab_type": "code",
        "outputId": "d1cdbc17-8c02-4151-91c9-b08e08a52fa3",
        "colab": {
          "base_uri": "https://localhost:8080/",
          "height": 153
        }
      },
      "source": [
        "#print(history.history.keys())\n",
        "for x in history.history.keys():\n",
        "  if x.startswith('val') and x.endswith('acc'):\n",
        "    print(x, \" -- \",  history.history[x][-1])"
      ],
      "execution_count": 28,
      "outputs": [
        {
          "output_type": "stream",
          "text": [
            "val_gender_output_acc  --  0.7283266129032258\n",
            "val_image_quality_output_acc  --  0.5559475806451613\n",
            "val_age_output_acc  --  0.3996975806451613\n",
            "val_weight_output_acc  --  0.6386088709677419\n",
            "val_bag_output_acc  --  0.5912298387096774\n",
            "val_footwear_output_acc  --  0.6587701612903226\n",
            "val_pose_output_acc  --  0.7116935483870968\n",
            "val_emotion_output_acc  --  0.7207661290322581\n"
          ],
          "name": "stdout"
        }
      ]
    },
    {
      "cell_type": "code",
      "metadata": {
        "id": "ezPG8TbPPPn9",
        "colab_type": "code",
        "outputId": "224eec6f-d469-41de-87fd-ee0b701d6dc8",
        "colab": {
          "base_uri": "https://localhost:8080/",
          "height": 312
        }
      },
      "source": [
        "import matplotlib.pyplot as plt\n",
        "plt.xlabel('Training Iterations')\n",
        "plt.ylabel('Learning Rate')\n",
        "plt.title(\"CLR - Custom Sinusoidal Cycle-Policy\")\n",
        "plt.plot(clr.history['iterations'], clr.history['lr'])"
      ],
      "execution_count": 23,
      "outputs": [
        {
          "output_type": "execute_result",
          "data": {
            "text/plain": [
              "[<matplotlib.lines.Line2D at 0x7fc8f69fad30>]"
            ]
          },
          "metadata": {
            "tags": []
          },
          "execution_count": 23
        },
        {
          "output_type": "display_data",
          "data": {
            "image/png": "[encoded data removed]",
            "text/plain": [
              "<Figure size 432x288 with 1 Axes>"
            ]
          },
          "metadata": {
            "tags": []
          }
        }
      ]
    },
    {
      "cell_type": "code",
      "metadata": {
        "id": "a8HlfuMm4PQr",
        "colab_type": "code",
        "colab": {}
      },
      "source": [
        "history=model.history"
      ],
      "execution_count": 0,
      "outputs": []
    },
    {
      "cell_type": "code",
      "metadata": {
        "id": "p1-8B4W_4Xe2",
        "colab_type": "code",
        "outputId": "ad242838-0ef0-438c-af01-50f0d6a08ab0",
        "colab": {
          "base_uri": "https://localhost:8080/",
          "height": 54
        }
      },
      "source": [
        "val_loss=[]\n",
        "for i in range(24):\n",
        "  sum=0\n",
        "  l = ['val_gender_output_loss','val_image_quality_output_loss',  'val_age_output_loss', 'val_weight_output_loss', 'val_bag_output_loss', 'val_footwear_output_loss', 'val_pose_output_loss',\n",
        " 'val_emotion_output_loss']\n",
        "  for x in l:\n",
        "    sum += history.history[x][i]\n",
        "  val_loss.append(sum)\n",
        "print(val_loss)"
      ],
      "execution_count": 25,
      "outputs": [
        {
          "output_type": "stream",
          "text": [
            "[7.794559321095867, 7.647320311877035, 7.700994853050478, 7.799219598693232, 7.760443589379712, 7.716741856067411, 7.661763646910268, 7.627851757311052, 7.471378112992933, 7.425445693154488, 7.354263125888764, 7.382753267403571, 7.387588516358407, 7.244906452394301, 7.3963802274196375, 7.291118469930465, 7.307858207533437, 7.44569595879124, 7.330118485035435, 7.677168831709892, 7.615530685071022, 7.635191784751032, 7.620813691808331, 7.527428246313526]\n"
          ],
          "name": "stdout"
        }
      ]
    },
    {
      "cell_type": "code",
      "metadata": {
        "id": "NhdPQc_75qhJ",
        "colab_type": "code",
        "outputId": "ae09f669-90c4-4849-af4b-86075bd7cdc9",
        "colab": {
          "base_uri": "https://localhost:8080/",
          "height": 51
        }
      },
      "source": [
        "print(len(history.history['loss']))\n",
        "print(len(val_loss))"
      ],
      "execution_count": 0,
      "outputs": [
        {
          "output_type": "stream",
          "text": [
            "24\n",
            "24\n"
          ],
          "name": "stdout"
        }
      ]
    },
    {
      "cell_type": "code",
      "metadata": {
        "id": "dhw07EIPbEV6",
        "colab_type": "code",
        "colab": {
          "base_uri": "https://localhost:8080/",
          "height": 306
        },
        "outputId": "e249de5f-71ba-4edf-834f-f47c820e509c"
      },
      "source": [
        "model.evaluate_generator(train_gen)"
      ],
      "execution_count": 33,
      "outputs": [
        {
          "output_type": "execute_result",
          "data": {
            "text/plain": [
              "[6.9700973047150505,\n",
              " 0.46353089035385187,\n",
              " 0.9396145222915544,\n",
              " 1.343895740641488,\n",
              " 0.9623109050922923,\n",
              " 0.8268480388654603,\n",
              " 0.8394645276996825,\n",
              " 0.7228941804832882,\n",
              " 0.871538507607248,\n",
              " 0.7646701388888889,\n",
              " 0.5719618055555555,\n",
              " 0.4265625,\n",
              " 0.6414930555555556,\n",
              " 0.6360243055555556,\n",
              " 0.6728298611111111,\n",
              " 0.7341145833333333,\n",
              " 0.7131076388888888]"
            ]
          },
          "metadata": {
            "tags": []
          },
          "execution_count": 33
        }
      ]
    },
    {
      "cell_type": "code",
      "metadata": {
        "id": "eEjzshOrb85z",
        "colab_type": "code",
        "colab": {
          "base_uri": "https://localhost:8080/",
          "height": 306
        },
        "outputId": "73b744e4-7f70-42e9-8650-59d47f588e02"
      },
      "source": [
        "model.evaluate_generator(valid_gen)"
      ],
      "execution_count": 34,
      "outputs": [
        {
          "output_type": "execute_result",
          "data": {
            "text/plain": [
              "[7.527428227086221,\n",
              " 0.5392926277652863,\n",
              " 0.9936240238528098,\n",
              " 1.3995546179433023,\n",
              " 1.0166801233445444,\n",
              " 0.908474620311491,\n",
              " 0.9563606765962416,\n",
              " 0.8365102044997677,\n",
              " 0.8769313520000827,\n",
              " 0.7283266129032258,\n",
              " 0.5559475806451613,\n",
              " 0.3996975806451613,\n",
              " 0.6386088709677419,\n",
              " 0.5912298387096774,\n",
              " 0.6587701612903226,\n",
              " 0.7116935483870968,\n",
              " 0.7207661290322581]"
            ]
          },
          "metadata": {
            "tags": []
          },
          "execution_count": 34
        }
      ]
    },
    {
      "cell_type": "code",
      "metadata": {
        "id": "G40JCMhy4e3Q",
        "colab_type": "code",
        "outputId": "31a08bda-95bb-41dd-faaf-ce5c96b21d0b",
        "colab": {
          "base_uri": "https://localhost:8080/",
          "height": 295
        }
      },
      "source": [
        "  import matplotlib.pyplot as plt\n",
        "  plt.plot(history.history['loss'])\n",
        "  plt.plot(val_loss)\n",
        "  plt.title('model loss')\n",
        "  plt.ylabel('loss')\n",
        "  plt.xlabel('epoch')\n",
        "  plt.legend(['train', 'validation'], loc='upper left')\n",
        "  plt.show()  #no reduction in validation loss"
      ],
      "execution_count": 26,
      "outputs": [
        {
          "output_type": "display_data",
          "data": {
            "image/png": "[encoded data removed]",
            "text/plain": [
              "<Figure size 432x288 with 1 Axes>"
            ]
          },
          "metadata": {
            "tags": []
          }
        }
      ]
    },
    {
      "cell_type": "code",
      "metadata": {
        "id": "e2KqC6BbeAsg",
        "colab_type": "code",
        "colab": {}
      },
      "source": [
        "import matplotlib.pyplot as plt\n",
        "def plotaccloss(acc, val_acc):\n",
        "  plt.plot(acc)\n",
        "  plt.plot(val_acc)\n",
        "  plt.title('model accuracy')\n",
        "  plt.ylabel('accuracy')\n",
        "  plt.xlabel('epoch')\n",
        "  plt.legend(['train', 'test'], loc='upper left')\n",
        "  plt.show()\n",
        "\n"
      ],
      "execution_count": 0,
      "outputs": []
    },
    {
      "cell_type": "code",
      "metadata": {
        "id": "umXFgzc9fOpr",
        "colab_type": "code",
        "outputId": "4fefb4ef-7045-4299-deb2-9fc808192a7a",
        "colab": {
          "base_uri": "https://localhost:8080/",
          "height": 312
        }
      },
      "source": [
        "print(\"Gender\")\n",
        "plotaccloss(history.history['gender_output_acc'], history.history['val_gender_output_acc'])"
      ],
      "execution_count": 30,
      "outputs": [
        {
          "output_type": "stream",
          "text": [
            "Gender\n"
          ],
          "name": "stdout"
        },
        {
          "output_type": "display_data",
          "data": {
            "image/png": "[encoded data removed]",
            "text/plain": [
              "<Figure size 432x288 with 1 Axes>"
            ]
          },
          "metadata": {
            "tags": []
          }
        }
      ]
    },
    {
      "cell_type": "code",
      "metadata": {
        "id": "cNnV7QRbfXCE",
        "colab_type": "code",
        "outputId": "e5164d0f-9a7e-4dd1-c287-6c7df0724b83",
        "colab": {
          "base_uri": "https://localhost:8080/",
          "height": 312
        }
      },
      "source": [
        "print(\"Image Quality\")\n",
        "plotaccloss(history.history['image_quality_output_acc'], history.history['val_image_quality_output_acc'])"
      ],
      "execution_count": 31,
      "outputs": [
        {
          "output_type": "stream",
          "text": [
            "Image Quality\n"
          ],
          "name": "stdout"
        },
        {
          "output_type": "display_data",
          "data": {
            "image/png": "[encoded data removed]",
            "text/plain": [
              "<Figure size 432x288 with 1 Axes>"
            ]
          },
          "metadata": {
            "tags": []
          }
        }
      ]
    }
  ]
}